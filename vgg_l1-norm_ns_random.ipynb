{
 "cells": [
  {
   "cell_type": "code",
   "execution_count": 1,
   "metadata": {},
   "outputs": [
    {
     "name": "stdout",
     "output_type": "stream",
     "text": [
      "Namespace(baseline_checkpoint='exp_VGG16/baseline/checkpoint/last.pth', img_size=32, layer_keep=0.01, model_name='VGG16', saved_dir='exp_VGG16/l1-norm_ns_random', sp_checkpoint='exp_VGG16/sp/checkpoint/last.pth')\n",
      "Files already downloaded and verified\n",
      "\n",
      "let's test the baseline model:\n",
      "\n",
      " test_loss   correct     total       Acc\n"
     ]
    },
    {
     "name": "stderr",
     "output_type": "stream",
     "text": [
      "     0.294  9.37e+03     1e+04      93.7: 100%|██████████| 79/79 [00:01<00:00, 52.32it/s]\n"
     ]
    },
    {
     "name": "stdout",
     "output_type": "stream",
     "text": [
      "\n",
      "let's test the sp model:\n",
      "\n",
      " test_loss   correct     total       Acc\n"
     ]
    },
    {
     "name": "stderr",
     "output_type": "stream",
     "text": [
      "     0.277  9.39e+03     1e+04      93.9: 100%|██████████| 79/79 [00:01<00:00, 73.36it/s]\n"
     ]
    }
   ],
   "source": [
    "import torch\n",
    "import torch.nn as nn\n",
    "import torch.optim as optim\n",
    "import torch.nn.functional as F\n",
    "\n",
    "import torchvision\n",
    "import torchvision.transforms as transforms\n",
    "\n",
    "from tqdm import tqdm\n",
    "\n",
    "import os\n",
    "import argparse\n",
    "import numpy as np\n",
    "from copy import deepcopy\n",
    "\n",
    "from models import *\n",
    "from models.resnet import *\n",
    "from utils.datasets import * \n",
    "from utils.utils import * \n",
    "import test\n",
    "\n",
    "from terminaltables import AsciiTable\n",
    "\n",
    "if __name__ == '__main__':\n",
    "    parser = argparse.ArgumentParser()\n",
    "    parser.add_argument('--model-name', type=str, default='VGG16', help='model name')\n",
    "    parser.add_argument('--baseline-checkpoint', type=str, default='exp_VGG16/baseline/checkpoint/last.pth', help='baseline-checkpoint path')\n",
    "    parser.add_argument('--sp-checkpoint', type=str, default='exp_VGG16/sp/checkpoint/last.pth', help='sp-checkpoint path')\n",
    "    parser.add_argument('--saved-dir', type=str, default='exp_VGG16/l1-norm_ns_random', help='sensitivity saved directory')\n",
    "    parser.add_argument('--layer-keep', type=float, default=0.01, help='channel keep percent per layer')\n",
    "    parser.add_argument('--img-size', type=int, default=32, help='inference size (pixels)')\n",
    "\n",
    "    opt = parser.parse_args(args=[])\n",
    "#     opt = parser.parse_args()\n",
    "    \n",
    "    print(opt)\n",
    "    \n",
    "    device = torch.device(\"cuda\" if torch.cuda.is_available() else \"cpu\")\n",
    "    \n",
    "    # get baseline model\n",
    "    baseline_checkpoint = opt.baseline_checkpoint\n",
    "    model_name = opt.model_name\n",
    "    assert os.path.isfile(baseline_checkpoint), 'Error: no %s file found!'%baseline_checkpoint\n",
    "    if baseline_checkpoint.endswith('.pth'): # only load weights from file\n",
    "        baseline_model = globals()[opt.model_name]()\n",
    "        baseline_model.load_state_dict(torch.load(baseline_checkpoint)['model'])\n",
    "        baseline_model = baseline_model.to(device)\n",
    "    else:\n",
    "        assert False, \"baseline_checkpoint is not end with '.pth'\"\n",
    "    \n",
    "    # get sp model\n",
    "    sp_checkpoint = opt.sp_checkpoint\n",
    "    model_name = opt.model_name\n",
    "    assert os.path.isfile(sp_checkpoint), 'Error: no %s file found!'%sp_checkpoint\n",
    "    if sp_checkpoint.endswith('.pth'): # only load weights from file\n",
    "        sp_model = globals()[opt.model_name]()\n",
    "        sp_model.load_state_dict(torch.load(sp_checkpoint)['model'])\n",
    "        sp_model = sp_model.to(device)\n",
    "    else:\n",
    "        assert False, \"sp_checkpoint is not end with '.pth'\"\n",
    "    \n",
    "    # test dataset\n",
    "    batch_size = 128\n",
    "    nw = min([os.cpu_count(), batch_size if batch_size > 1 else 0, 8])  # number of workers\n",
    "    testloader = cifar10_test_dataset(batch_size=batch_size, nw=nw)\n",
    "    \n",
    "    eval_model = lambda model:test.test(model=model, testloader=testloader)\n",
    "    obtain_num_parameters = lambda model:sum([param.nelement() for param in model.parameters()])\n",
    "\n",
    "    print(\"\\nlet's test the baseline model:\")\n",
    "    baseline_model_metric = eval_model(baseline_model)\n",
    "    baseline_nparameters = obtain_num_parameters(baseline_model)\n",
    "    \n",
    "    print(\"\\nlet's test the sp model:\")\n",
    "    sp_model_metric = eval_model(sp_model)\n",
    "    sp_nparameters = obtain_num_parameters(sp_model)\n",
    "    "
   ]
  },
  {
   "cell_type": "code",
   "execution_count": 2,
   "metadata": {},
   "outputs": [
    {
     "name": "stdout",
     "output_type": "stream",
     "text": [
      "\n",
      "module_idx:  0, percent:  0\n",
      "\n",
      " test_loss   correct     total       Acc\n"
     ]
    },
    {
     "name": "stderr",
     "output_type": "stream",
     "text": [
      "     0.294  9.37e+03     1e+04      93.7: 100%|██████████| 79/79 [00:01<00:00, 72.99it/s]"
     ]
    },
    {
     "name": "stdout",
     "output_type": "stream",
     "text": [
      "\n",
      "module_idx:  0, percent:0.05\n",
      "\n",
      " test_loss   correct     total       Acc\n"
     ]
    },
    {
     "name": "stderr",
     "output_type": "stream",
     "text": [
      "\n",
      "     0.294  9.37e+03     1e+04      93.7: 100%|██████████| 79/79 [00:01<00:00, 73.02it/s]\n"
     ]
    },
    {
     "name": "stdout",
     "output_type": "stream",
     "text": [
      "\n",
      "module_idx:  0, percent:0.1\n",
      "\n",
      " test_loss   correct     total       Acc\n"
     ]
    },
    {
     "name": "stderr",
     "output_type": "stream",
     "text": [
      "     0.294  9.37e+03     1e+04      93.7: 100%|██████████| 79/79 [00:01<00:00, 73.07it/s]\n"
     ]
    },
    {
     "name": "stdout",
     "output_type": "stream",
     "text": [
      "\n",
      "module_idx:  0, percent:0.15\n",
      "\n",
      " test_loss   correct     total       Acc\n"
     ]
    },
    {
     "name": "stderr",
     "output_type": "stream",
     "text": [
      "     0.294  9.37e+03     1e+04      93.7: 100%|██████████| 79/79 [00:01<00:00, 73.91it/s]\n"
     ]
    },
    {
     "name": "stdout",
     "output_type": "stream",
     "text": [
      "\n",
      "module_idx:  0, percent:0.2\n",
      "\n",
      " test_loss   correct     total       Acc\n"
     ]
    },
    {
     "name": "stderr",
     "output_type": "stream",
     "text": [
      "     0.294  9.37e+03     1e+04      93.7: 100%|██████████| 79/79 [00:01<00:00, 74.95it/s]\n"
     ]
    },
    {
     "name": "stdout",
     "output_type": "stream",
     "text": [
      "\n",
      "module_idx:  0, percent:0.25\n",
      "\n",
      " test_loss   correct     total       Acc\n"
     ]
    },
    {
     "name": "stderr",
     "output_type": "stream",
     "text": [
      "     0.294  9.37e+03     1e+04      93.7: 100%|██████████| 79/79 [00:01<00:00, 74.00it/s]\n"
     ]
    },
    {
     "name": "stdout",
     "output_type": "stream",
     "text": [
      "\n",
      "module_idx:  0, percent:0.3\n",
      "\n",
      " test_loss   correct     total       Acc\n"
     ]
    },
    {
     "name": "stderr",
     "output_type": "stream",
     "text": [
      "     0.294  9.37e+03     1e+04      93.7: 100%|██████████| 79/79 [00:01<00:00, 77.05it/s]\n"
     ]
    },
    {
     "name": "stdout",
     "output_type": "stream",
     "text": [
      "\n",
      "module_idx:  0, percent:0.35\n",
      "\n",
      " test_loss   correct     total       Acc\n"
     ]
    },
    {
     "name": "stderr",
     "output_type": "stream",
     "text": [
      "     0.294  9.37e+03     1e+04      93.7: 100%|██████████| 79/79 [00:01<00:00, 72.42it/s]\n"
     ]
    },
    {
     "name": "stdout",
     "output_type": "stream",
     "text": [
      "\n",
      "module_idx:  0, percent:0.4\n",
      "\n",
      " test_loss   correct     total       Acc\n"
     ]
    },
    {
     "name": "stderr",
     "output_type": "stream",
     "text": [
      "     0.294  9.37e+03     1e+04      93.7: 100%|██████████| 79/79 [00:01<00:00, 73.01it/s]\n"
     ]
    },
    {
     "name": "stdout",
     "output_type": "stream",
     "text": [
      "\n",
      "module_idx:  0, percent:0.45\n",
      "\n",
      " test_loss   correct     total       Acc\n"
     ]
    },
    {
     "name": "stderr",
     "output_type": "stream",
     "text": [
      "     0.294  9.37e+03     1e+04      93.7: 100%|██████████| 79/79 [00:01<00:00, 72.27it/s]\n"
     ]
    },
    {
     "name": "stdout",
     "output_type": "stream",
     "text": [
      "\n",
      "module_idx:  0, percent:0.5\n",
      "\n",
      " test_loss   correct     total       Acc\n"
     ]
    },
    {
     "name": "stderr",
     "output_type": "stream",
     "text": [
      "     0.294  9.37e+03     1e+04      93.7: 100%|██████████| 79/79 [00:01<00:00, 74.60it/s]\n"
     ]
    },
    {
     "name": "stdout",
     "output_type": "stream",
     "text": [
      "\n",
      "module_idx:  0, percent:0.55\n",
      "\n",
      " test_loss   correct     total       Acc\n"
     ]
    },
    {
     "name": "stderr",
     "output_type": "stream",
     "text": [
      "     0.294  9.37e+03     1e+04      93.7: 100%|██████████| 79/79 [00:01<00:00, 73.01it/s]\n"
     ]
    },
    {
     "name": "stdout",
     "output_type": "stream",
     "text": [
      "\n",
      "module_idx:  0, percent:0.6\n",
      "\n",
      " test_loss   correct     total       Acc\n"
     ]
    },
    {
     "name": "stderr",
     "output_type": "stream",
     "text": [
      "     0.294  9.37e+03     1e+04      93.7: 100%|██████████| 79/79 [00:01<00:00, 73.22it/s]\n"
     ]
    },
    {
     "name": "stdout",
     "output_type": "stream",
     "text": [
      "\n",
      "module_idx:  0, percent:0.65\n",
      "\n",
      " test_loss   correct     total       Acc\n"
     ]
    },
    {
     "name": "stderr",
     "output_type": "stream",
     "text": [
      "     0.324  9.33e+03     1e+04      93.3: 100%|██████████| 79/79 [00:01<00:00, 72.53it/s]\n"
     ]
    },
    {
     "name": "stdout",
     "output_type": "stream",
     "text": [
      "\n",
      "module_idx:  0, percent:0.7\n",
      "\n",
      " test_loss   correct     total       Acc\n"
     ]
    },
    {
     "name": "stderr",
     "output_type": "stream",
     "text": [
      "     0.329   9.3e+03     1e+04        93: 100%|██████████| 79/79 [00:01<00:00, 71.67it/s]\n"
     ]
    },
    {
     "name": "stdout",
     "output_type": "stream",
     "text": [
      "\n",
      "module_idx:  0, percent:0.75\n",
      "\n",
      " test_loss   correct     total       Acc\n"
     ]
    },
    {
     "name": "stderr",
     "output_type": "stream",
     "text": [
      "     0.355  9.27e+03     1e+04      92.7: 100%|██████████| 79/79 [00:01<00:00, 72.49it/s]\n"
     ]
    },
    {
     "name": "stdout",
     "output_type": "stream",
     "text": [
      "\n",
      "module_idx:  0, percent:0.8\n",
      "\n",
      " test_loss   correct     total       Acc\n"
     ]
    },
    {
     "name": "stderr",
     "output_type": "stream",
     "text": [
      "     0.386  9.21e+03     1e+04      92.1: 100%|██████████| 79/79 [00:01<00:00, 71.72it/s]\n"
     ]
    },
    {
     "name": "stdout",
     "output_type": "stream",
     "text": [
      "\n",
      "module_idx:  0, percent:0.85\n",
      "\n",
      " test_loss   correct     total       Acc\n"
     ]
    },
    {
     "name": "stderr",
     "output_type": "stream",
     "text": [
      "     0.468  9.05e+03     1e+04      90.5: 100%|██████████| 79/79 [00:01<00:00, 71.78it/s]\n"
     ]
    },
    {
     "name": "stdout",
     "output_type": "stream",
     "text": [
      "\n",
      "module_idx:  0, percent:0.9\n",
      "\n",
      " test_loss   correct     total       Acc\n"
     ]
    },
    {
     "name": "stderr",
     "output_type": "stream",
     "text": [
      "      1.14  7.83e+03     1e+04      78.3: 100%|██████████| 79/79 [00:01<00:00, 72.19it/s]\n"
     ]
    },
    {
     "name": "stdout",
     "output_type": "stream",
     "text": [
      "\n",
      "module_idx:  0, percent:0.95\n",
      "\n",
      " test_loss   correct     total       Acc\n"
     ]
    },
    {
     "name": "stderr",
     "output_type": "stream",
     "text": [
      "      2.11  5.91e+03     1e+04      59.1: 100%|██████████| 79/79 [00:01<00:00, 75.38it/s]\n"
     ]
    },
    {
     "name": "stdout",
     "output_type": "stream",
     "text": [
      "\n",
      "module_idx:  1, percent:  0\n",
      "\n",
      " test_loss   correct     total       Acc\n"
     ]
    },
    {
     "name": "stderr",
     "output_type": "stream",
     "text": [
      "     0.294  9.37e+03     1e+04      93.7: 100%|██████████| 79/79 [00:01<00:00, 72.82it/s]\n"
     ]
    },
    {
     "name": "stdout",
     "output_type": "stream",
     "text": [
      "\n",
      "module_idx:  1, percent:0.05\n",
      "\n",
      " test_loss   correct     total       Acc\n"
     ]
    },
    {
     "name": "stderr",
     "output_type": "stream",
     "text": [
      "     0.297  9.36e+03     1e+04      93.7: 100%|██████████| 79/79 [00:01<00:00, 74.72it/s]\n"
     ]
    },
    {
     "name": "stdout",
     "output_type": "stream",
     "text": [
      "\n",
      "module_idx:  1, percent:0.1\n",
      "\n",
      " test_loss   correct     total       Acc\n"
     ]
    },
    {
     "name": "stderr",
     "output_type": "stream",
     "text": [
      "     0.309  9.35e+03     1e+04      93.5: 100%|██████████| 79/79 [00:01<00:00, 72.25it/s]\n"
     ]
    },
    {
     "name": "stdout",
     "output_type": "stream",
     "text": [
      "\n",
      "module_idx:  1, percent:0.15\n",
      "\n",
      " test_loss   correct     total       Acc\n"
     ]
    },
    {
     "name": "stderr",
     "output_type": "stream",
     "text": [
      "     0.333   9.3e+03     1e+04        93: 100%|██████████| 79/79 [00:01<00:00, 73.14it/s]\n"
     ]
    },
    {
     "name": "stdout",
     "output_type": "stream",
     "text": [
      "\n",
      "module_idx:  1, percent:0.2\n",
      "\n",
      " test_loss   correct     total       Acc\n"
     ]
    },
    {
     "name": "stderr",
     "output_type": "stream",
     "text": [
      "     0.357  9.25e+03     1e+04      92.5: 100%|██████████| 79/79 [00:01<00:00, 73.91it/s]\n"
     ]
    },
    {
     "name": "stdout",
     "output_type": "stream",
     "text": [
      "\n",
      "module_idx:  1, percent:0.25\n",
      "\n",
      " test_loss   correct     total       Acc\n"
     ]
    },
    {
     "name": "stderr",
     "output_type": "stream",
     "text": [
      "     0.401  9.18e+03     1e+04      91.8: 100%|██████████| 79/79 [00:01<00:00, 74.36it/s]\n"
     ]
    },
    {
     "name": "stdout",
     "output_type": "stream",
     "text": [
      "\n",
      "module_idx:  1, percent:0.3\n",
      "\n",
      " test_loss   correct     total       Acc\n"
     ]
    },
    {
     "name": "stderr",
     "output_type": "stream",
     "text": [
      "     0.525  8.95e+03     1e+04      89.5: 100%|██████████| 79/79 [00:01<00:00, 72.73it/s]\n"
     ]
    },
    {
     "name": "stdout",
     "output_type": "stream",
     "text": [
      "\n",
      "module_idx:  1, percent:0.35\n",
      "\n",
      " test_loss   correct     total       Acc\n"
     ]
    },
    {
     "name": "stderr",
     "output_type": "stream",
     "text": [
      "     0.639  8.69e+03     1e+04      86.9: 100%|██████████| 79/79 [00:01<00:00, 72.55it/s]\n"
     ]
    },
    {
     "name": "stdout",
     "output_type": "stream",
     "text": [
      "\n",
      "module_idx:  1, percent:0.4\n",
      "\n",
      " test_loss   correct     total       Acc\n"
     ]
    },
    {
     "name": "stderr",
     "output_type": "stream",
     "text": [
      "     0.654  8.65e+03     1e+04      86.5: 100%|██████████| 79/79 [00:01<00:00, 72.17it/s]\n"
     ]
    },
    {
     "name": "stdout",
     "output_type": "stream",
     "text": [
      "\n",
      "module_idx:  1, percent:0.45\n",
      "\n",
      " test_loss   correct     total       Acc\n"
     ]
    },
    {
     "name": "stderr",
     "output_type": "stream",
     "text": [
      "     0.715  8.53e+03     1e+04      85.3: 100%|██████████| 79/79 [00:01<00:00, 71.69it/s]\n"
     ]
    },
    {
     "name": "stdout",
     "output_type": "stream",
     "text": [
      "\n",
      "module_idx:  1, percent:0.5\n",
      "\n",
      " test_loss   correct     total       Acc\n"
     ]
    },
    {
     "name": "stderr",
     "output_type": "stream",
     "text": [
      "      1.07  7.87e+03     1e+04      78.7: 100%|██████████| 79/79 [00:01<00:00, 74.76it/s]\n"
     ]
    },
    {
     "name": "stdout",
     "output_type": "stream",
     "text": [
      "\n",
      "module_idx:  1, percent:0.55\n",
      "\n",
      " test_loss   correct     total       Acc\n"
     ]
    },
    {
     "name": "stderr",
     "output_type": "stream",
     "text": [
      "      1.56  7.03e+03     1e+04      70.3: 100%|██████████| 79/79 [00:01<00:00, 76.70it/s]\n"
     ]
    },
    {
     "name": "stdout",
     "output_type": "stream",
     "text": [
      "\n",
      "module_idx:  1, percent:0.6\n",
      "\n",
      " test_loss   correct     total       Acc\n"
     ]
    },
    {
     "name": "stderr",
     "output_type": "stream",
     "text": [
      "       1.7  6.82e+03     1e+04      68.2: 100%|██████████| 79/79 [00:01<00:00, 72.14it/s]\n"
     ]
    },
    {
     "name": "stdout",
     "output_type": "stream",
     "text": [
      "\n",
      "module_idx:  1, percent:0.65\n",
      "\n",
      " test_loss   correct     total       Acc\n"
     ]
    },
    {
     "name": "stderr",
     "output_type": "stream",
     "text": [
      "      2.87  5.29e+03     1e+04      52.9: 100%|██████████| 79/79 [00:01<00:00, 72.79it/s]\n"
     ]
    },
    {
     "name": "stdout",
     "output_type": "stream",
     "text": [
      "\n",
      "module_idx:  1, percent:0.7\n",
      "\n",
      " test_loss   correct     total       Acc\n"
     ]
    },
    {
     "name": "stderr",
     "output_type": "stream",
     "text": [
      "      3.46  4.51e+03     1e+04      45.1: 100%|██████████| 79/79 [00:01<00:00, 73.95it/s]"
     ]
    },
    {
     "name": "stdout",
     "output_type": "stream",
     "text": [
      "\n",
      "module_idx:  1, percent:0.75\n",
      "\n",
      " test_loss   correct     total       Acc\n"
     ]
    },
    {
     "name": "stderr",
     "output_type": "stream",
     "text": [
      "\n",
      "      4.26   3.3e+03     1e+04        33: 100%|██████████| 79/79 [00:01<00:00, 74.24it/s]\n"
     ]
    },
    {
     "name": "stdout",
     "output_type": "stream",
     "text": [
      "\n",
      "module_idx:  1, percent:0.8\n",
      "\n",
      " test_loss   correct     total       Acc\n"
     ]
    },
    {
     "name": "stderr",
     "output_type": "stream",
     "text": [
      "      4.55  2.42e+03     1e+04      24.2: 100%|██████████| 79/79 [00:01<00:00, 71.66it/s]\n"
     ]
    },
    {
     "name": "stdout",
     "output_type": "stream",
     "text": [
      "\n",
      "module_idx:  1, percent:0.85\n",
      "\n",
      " test_loss   correct     total       Acc\n"
     ]
    },
    {
     "name": "stderr",
     "output_type": "stream",
     "text": [
      "      4.43  1.94e+03     1e+04      19.4: 100%|██████████| 79/79 [00:01<00:00, 76.58it/s]\n"
     ]
    },
    {
     "name": "stdout",
     "output_type": "stream",
     "text": [
      "\n",
      "module_idx:  1, percent:0.9\n",
      "\n",
      " test_loss   correct     total       Acc\n"
     ]
    },
    {
     "name": "stderr",
     "output_type": "stream",
     "text": [
      "      3.86  1.49e+03     1e+04      14.9: 100%|██████████| 79/79 [00:01<00:00, 74.64it/s]\n"
     ]
    },
    {
     "name": "stdout",
     "output_type": "stream",
     "text": [
      "\n",
      "module_idx:  1, percent:0.95\n",
      "\n",
      " test_loss   correct     total       Acc\n"
     ]
    },
    {
     "name": "stderr",
     "output_type": "stream",
     "text": [
      "      4.07  1.42e+03     1e+04      14.2: 100%|██████████| 79/79 [00:01<00:00, 72.74it/s]\n"
     ]
    },
    {
     "name": "stdout",
     "output_type": "stream",
     "text": [
      "\n",
      "module_idx:  2, percent:  0\n",
      "\n",
      " test_loss   correct     total       Acc\n"
     ]
    },
    {
     "name": "stderr",
     "output_type": "stream",
     "text": [
      "     0.294  9.37e+03     1e+04      93.7: 100%|██████████| 79/79 [00:01<00:00, 72.10it/s]\n"
     ]
    },
    {
     "name": "stdout",
     "output_type": "stream",
     "text": [
      "\n",
      "module_idx:  2, percent:0.05\n",
      "\n",
      " test_loss   correct     total       Acc\n"
     ]
    },
    {
     "name": "stderr",
     "output_type": "stream",
     "text": [
      "     0.296  9.38e+03     1e+04      93.8: 100%|██████████| 79/79 [00:01<00:00, 71.01it/s]\n"
     ]
    },
    {
     "name": "stdout",
     "output_type": "stream",
     "text": [
      "\n",
      "module_idx:  2, percent:0.1\n",
      "\n",
      " test_loss   correct     total       Acc\n"
     ]
    },
    {
     "name": "stderr",
     "output_type": "stream",
     "text": [
      "     0.304  9.37e+03     1e+04      93.7: 100%|██████████| 79/79 [00:01<00:00, 73.14it/s]\n"
     ]
    },
    {
     "name": "stdout",
     "output_type": "stream",
     "text": [
      "\n",
      "module_idx:  2, percent:0.15\n",
      "\n",
      " test_loss   correct     total       Acc\n"
     ]
    },
    {
     "name": "stderr",
     "output_type": "stream",
     "text": [
      "     0.314  9.36e+03     1e+04      93.5: 100%|██████████| 79/79 [00:01<00:00, 72.21it/s]\n"
     ]
    },
    {
     "name": "stdout",
     "output_type": "stream",
     "text": [
      "\n",
      "module_idx:  2, percent:0.2\n",
      "\n",
      " test_loss   correct     total       Acc\n"
     ]
    },
    {
     "name": "stderr",
     "output_type": "stream",
     "text": [
      "     0.325  9.34e+03     1e+04      93.4: 100%|██████████| 79/79 [00:01<00:00, 74.01it/s]\n"
     ]
    },
    {
     "name": "stdout",
     "output_type": "stream",
     "text": [
      "\n",
      "module_idx:  2, percent:0.25\n",
      "\n",
      " test_loss   correct     total       Acc\n"
     ]
    },
    {
     "name": "stderr",
     "output_type": "stream",
     "text": [
      "     0.408  9.17e+03     1e+04      91.7: 100%|██████████| 79/79 [00:01<00:00, 75.55it/s]\n"
     ]
    },
    {
     "name": "stdout",
     "output_type": "stream",
     "text": [
      "\n",
      "module_idx:  2, percent:0.3\n",
      "\n",
      " test_loss   correct     total       Acc\n"
     ]
    },
    {
     "name": "stderr",
     "output_type": "stream",
     "text": [
      "     0.437  9.10e+03     1e+04        91: 100%|██████████| 79/79 [00:01<00:00, 73.85it/s]\n"
     ]
    },
    {
     "name": "stdout",
     "output_type": "stream",
     "text": [
      "\n",
      "module_idx:  2, percent:0.35\n",
      "\n",
      " test_loss   correct     total       Acc\n"
     ]
    },
    {
     "name": "stderr",
     "output_type": "stream",
     "text": [
      "     0.541  8.94e+03     1e+04      89.4: 100%|██████████| 79/79 [00:01<00:00, 72.13it/s]\n"
     ]
    },
    {
     "name": "stdout",
     "output_type": "stream",
     "text": [
      "\n",
      "module_idx:  2, percent:0.4\n",
      "\n",
      " test_loss   correct     total       Acc\n"
     ]
    },
    {
     "name": "stderr",
     "output_type": "stream",
     "text": [
      "     0.672   8.7e+03     1e+04        87: 100%|██████████| 79/79 [00:01<00:00, 72.84it/s]\n"
     ]
    },
    {
     "name": "stdout",
     "output_type": "stream",
     "text": [
      "\n",
      "module_idx:  2, percent:0.45\n",
      "\n",
      " test_loss   correct     total       Acc\n"
     ]
    },
    {
     "name": "stderr",
     "output_type": "stream",
     "text": [
      "     0.811  8.43e+03     1e+04      84.3: 100%|██████████| 79/79 [00:01<00:00, 74.22it/s]\n"
     ]
    },
    {
     "name": "stdout",
     "output_type": "stream",
     "text": [
      "\n",
      "module_idx:  2, percent:0.5\n",
      "\n",
      " test_loss   correct     total       Acc\n"
     ]
    },
    {
     "name": "stderr",
     "output_type": "stream",
     "text": [
      "     0.985  8.11e+03     1e+04      81.1: 100%|██████████| 79/79 [00:01<00:00, 73.07it/s]\n"
     ]
    },
    {
     "name": "stdout",
     "output_type": "stream",
     "text": [
      "\n",
      "module_idx:  2, percent:0.55\n",
      "\n",
      " test_loss   correct     total       Acc\n"
     ]
    },
    {
     "name": "stderr",
     "output_type": "stream",
     "text": [
      "      1.45  7.29e+03     1e+04      72.9: 100%|██████████| 79/79 [00:01<00:00, 67.95it/s]\n"
     ]
    },
    {
     "name": "stdout",
     "output_type": "stream",
     "text": [
      "\n",
      "module_idx:  2, percent:0.6\n",
      "\n",
      " test_loss   correct     total       Acc\n"
     ]
    },
    {
     "name": "stderr",
     "output_type": "stream",
     "text": [
      "      2.25  6.09e+03     1e+04      60.9: 100%|██████████| 79/79 [00:01<00:00, 72.54it/s]\n"
     ]
    },
    {
     "name": "stdout",
     "output_type": "stream",
     "text": [
      "\n",
      "module_idx:  2, percent:0.65\n",
      "\n",
      " test_loss   correct     total       Acc\n"
     ]
    },
    {
     "name": "stderr",
     "output_type": "stream",
     "text": [
      "      3.89  3.95e+03     1e+04      39.5: 100%|██████████| 79/79 [00:01<00:00, 73.07it/s]\n"
     ]
    },
    {
     "name": "stdout",
     "output_type": "stream",
     "text": [
      "\n",
      "module_idx:  2, percent:0.7\n",
      "\n",
      " test_loss   correct     total       Acc\n"
     ]
    },
    {
     "name": "stderr",
     "output_type": "stream",
     "text": [
      "      3.97  3.73e+03     1e+04      37.3: 100%|██████████| 79/79 [00:01<00:00, 75.40it/s]\n"
     ]
    },
    {
     "name": "stdout",
     "output_type": "stream",
     "text": [
      "\n",
      "module_idx:  2, percent:0.75\n",
      "\n",
      " test_loss   correct     total       Acc\n"
     ]
    },
    {
     "name": "stderr",
     "output_type": "stream",
     "text": [
      "      4.95  2.59e+03     1e+04      25.9: 100%|██████████| 79/79 [00:01<00:00, 71.87it/s]\n"
     ]
    },
    {
     "name": "stdout",
     "output_type": "stream",
     "text": [
      "\n",
      "module_idx:  2, percent:0.8\n",
      "\n",
      " test_loss   correct     total       Acc\n"
     ]
    },
    {
     "name": "stderr",
     "output_type": "stream",
     "text": [
      "      5.67  1.79e+03     1e+04      17.9: 100%|██████████| 79/79 [00:01<00:00, 75.22it/s]\n"
     ]
    },
    {
     "name": "stdout",
     "output_type": "stream",
     "text": [
      "\n",
      "module_idx:  2, percent:0.85\n",
      "\n",
      " test_loss   correct     total       Acc\n"
     ]
    },
    {
     "name": "stderr",
     "output_type": "stream",
     "text": [
      "      5.67  1.31e+03     1e+04      13.1: 100%|██████████| 79/79 [00:01<00:00, 75.30it/s]\n"
     ]
    },
    {
     "name": "stdout",
     "output_type": "stream",
     "text": [
      "\n",
      "module_idx:  2, percent:0.9\n",
      "\n",
      " test_loss   correct     total       Acc\n"
     ]
    },
    {
     "name": "stderr",
     "output_type": "stream",
     "text": [
      "      5.09  1.09e+03     1e+04      10.9: 100%|██████████| 79/79 [00:01<00:00, 72.20it/s]\n"
     ]
    },
    {
     "name": "stdout",
     "output_type": "stream",
     "text": [
      "\n",
      "module_idx:  2, percent:0.95\n",
      "\n",
      " test_loss   correct     total       Acc\n"
     ]
    },
    {
     "name": "stderr",
     "output_type": "stream",
     "text": [
      "      4.82  1.11e+03     1e+04      11.1: 100%|██████████| 79/79 [00:01<00:00, 72.61it/s]\n"
     ]
    },
    {
     "name": "stdout",
     "output_type": "stream",
     "text": [
      "\n",
      "module_idx:  3, percent:  0\n",
      "\n",
      " test_loss   correct     total       Acc\n"
     ]
    },
    {
     "name": "stderr",
     "output_type": "stream",
     "text": [
      "     0.294  9.37e+03     1e+04      93.7: 100%|██████████| 79/79 [00:01<00:00, 73.95it/s]\n"
     ]
    },
    {
     "name": "stdout",
     "output_type": "stream",
     "text": [
      "\n",
      "module_idx:  3, percent:0.05\n",
      "\n",
      " test_loss   correct     total       Acc\n"
     ]
    },
    {
     "name": "stderr",
     "output_type": "stream",
     "text": [
      "     0.315  9.34e+03     1e+04      93.4: 100%|██████████| 79/79 [00:01<00:00, 71.15it/s]\n"
     ]
    },
    {
     "name": "stdout",
     "output_type": "stream",
     "text": [
      "\n",
      "module_idx:  3, percent:0.1\n",
      "\n",
      " test_loss   correct     total       Acc\n"
     ]
    },
    {
     "name": "stderr",
     "output_type": "stream",
     "text": [
      "     0.334   9.3e+03     1e+04        93: 100%|██████████| 79/79 [00:01<00:00, 71.54it/s]\n"
     ]
    },
    {
     "name": "stdout",
     "output_type": "stream",
     "text": [
      "\n",
      "module_idx:  3, percent:0.15\n",
      "\n",
      " test_loss   correct     total       Acc\n"
     ]
    },
    {
     "name": "stderr",
     "output_type": "stream",
     "text": [
      "     0.358  9.27e+03     1e+04      92.7: 100%|██████████| 79/79 [00:01<00:00, 72.00it/s]\n"
     ]
    },
    {
     "name": "stdout",
     "output_type": "stream",
     "text": [
      "\n",
      "module_idx:  3, percent:0.2\n",
      "\n",
      " test_loss   correct     total       Acc\n"
     ]
    },
    {
     "name": "stderr",
     "output_type": "stream",
     "text": [
      "     0.432  9.11e+03     1e+04      91.1: 100%|██████████| 79/79 [00:01<00:00, 71.22it/s]\n"
     ]
    },
    {
     "name": "stdout",
     "output_type": "stream",
     "text": [
      "\n",
      "module_idx:  3, percent:0.25\n",
      "\n",
      " test_loss   correct     total       Acc\n"
     ]
    },
    {
     "name": "stderr",
     "output_type": "stream",
     "text": [
      "     0.493  8.96e+03     1e+04      89.7: 100%|██████████| 79/79 [00:01<00:00, 72.39it/s]\n"
     ]
    },
    {
     "name": "stdout",
     "output_type": "stream",
     "text": [
      "\n",
      "module_idx:  3, percent:0.3\n",
      "\n",
      " test_loss   correct     total       Acc\n"
     ]
    },
    {
     "name": "stderr",
     "output_type": "stream",
     "text": [
      "     0.665  8.65e+03     1e+04      86.5: 100%|██████████| 79/79 [00:01<00:00, 72.34it/s]\n"
     ]
    },
    {
     "name": "stdout",
     "output_type": "stream",
     "text": [
      "\n",
      "module_idx:  3, percent:0.35\n",
      "\n",
      " test_loss   correct     total       Acc\n"
     ]
    },
    {
     "name": "stderr",
     "output_type": "stream",
     "text": [
      "     0.724   8.5e+03     1e+04        85: 100%|██████████| 79/79 [00:01<00:00, 71.83it/s]\n"
     ]
    },
    {
     "name": "stdout",
     "output_type": "stream",
     "text": [
      "\n",
      "module_idx:  3, percent:0.4\n",
      "\n",
      " test_loss   correct     total       Acc\n"
     ]
    },
    {
     "name": "stderr",
     "output_type": "stream",
     "text": [
      "     0.839  8.33e+03     1e+04      83.3: 100%|██████████| 79/79 [00:01<00:00, 72.43it/s]\n"
     ]
    },
    {
     "name": "stdout",
     "output_type": "stream",
     "text": [
      "\n",
      "module_idx:  3, percent:0.45\n",
      "\n",
      " test_loss   correct     total       Acc\n"
     ]
    },
    {
     "name": "stderr",
     "output_type": "stream",
     "text": [
      "         1  7.89e+03     1e+04      78.9: 100%|██████████| 79/79 [00:01<00:00, 74.16it/s]\n"
     ]
    },
    {
     "name": "stdout",
     "output_type": "stream",
     "text": [
      "\n",
      "module_idx:  3, percent:0.5\n",
      "\n",
      " test_loss   correct     total       Acc\n"
     ]
    },
    {
     "name": "stderr",
     "output_type": "stream",
     "text": [
      "      1.81  6.31e+03     1e+04      63.1: 100%|██████████| 79/79 [00:01<00:00, 72.37it/s]\n"
     ]
    },
    {
     "name": "stdout",
     "output_type": "stream",
     "text": [
      "\n",
      "module_idx:  3, percent:0.55\n",
      "\n",
      " test_loss   correct     total       Acc\n"
     ]
    },
    {
     "name": "stderr",
     "output_type": "stream",
     "text": [
      "      2.94   4.6e+03     1e+04        46: 100%|██████████| 79/79 [00:01<00:00, 73.48it/s]\n"
     ]
    },
    {
     "name": "stdout",
     "output_type": "stream",
     "text": [
      "\n",
      "module_idx:  3, percent:0.6\n",
      "\n",
      " test_loss   correct     total       Acc\n"
     ]
    },
    {
     "name": "stderr",
     "output_type": "stream",
     "text": [
      "      3.93  3.35e+03     1e+04      33.5: 100%|██████████| 79/79 [00:01<00:00, 74.30it/s]\n"
     ]
    },
    {
     "name": "stdout",
     "output_type": "stream",
     "text": [
      "\n",
      "module_idx:  3, percent:0.65\n",
      "\n",
      " test_loss   correct     total       Acc\n"
     ]
    },
    {
     "name": "stderr",
     "output_type": "stream",
     "text": [
      "      4.29  2.81e+03     1e+04      28.1: 100%|██████████| 79/79 [00:01<00:00, 77.60it/s]\n"
     ]
    },
    {
     "name": "stdout",
     "output_type": "stream",
     "text": [
      "\n",
      "module_idx:  3, percent:0.7\n",
      "\n",
      " test_loss   correct     total       Acc\n"
     ]
    },
    {
     "name": "stderr",
     "output_type": "stream",
     "text": [
      "      4.66  2.17e+03     1e+04      21.7: 100%|██████████| 79/79 [00:01<00:00, 75.09it/s]\n"
     ]
    },
    {
     "name": "stdout",
     "output_type": "stream",
     "text": [
      "\n",
      "module_idx:  3, percent:0.75\n",
      "\n",
      " test_loss   correct     total       Acc\n"
     ]
    },
    {
     "name": "stderr",
     "output_type": "stream",
     "text": [
      "      5.76  1.39e+03     1e+04      13.9: 100%|██████████| 79/79 [00:01<00:00, 72.81it/s]\n"
     ]
    },
    {
     "name": "stdout",
     "output_type": "stream",
     "text": [
      "\n",
      "module_idx:  3, percent:0.8\n",
      "\n",
      " test_loss   correct     total       Acc\n"
     ]
    },
    {
     "name": "stderr",
     "output_type": "stream",
     "text": [
      "      5.93  1.15e+03     1e+04      11.5: 100%|██████████| 79/79 [00:01<00:00, 71.69it/s]\n"
     ]
    },
    {
     "name": "stdout",
     "output_type": "stream",
     "text": [
      "\n",
      "module_idx:  3, percent:0.85\n",
      "\n",
      " test_loss   correct     total       Acc\n"
     ]
    },
    {
     "name": "stderr",
     "output_type": "stream",
     "text": [
      "      6.92     1e+03     1e+04        10: 100%|██████████| 79/79 [00:01<00:00, 70.23it/s]\n"
     ]
    },
    {
     "name": "stdout",
     "output_type": "stream",
     "text": [
      "\n",
      "module_idx:  3, percent:0.9\n",
      "\n",
      " test_loss   correct     total       Acc\n"
     ]
    },
    {
     "name": "stderr",
     "output_type": "stream",
     "text": [
      "      6.35     1e+03     1e+04        10: 100%|██████████| 79/79 [00:01<00:00, 72.58it/s]\n"
     ]
    },
    {
     "name": "stdout",
     "output_type": "stream",
     "text": [
      "\n",
      "module_idx:  3, percent:0.95\n",
      "\n",
      " test_loss   correct     total       Acc\n"
     ]
    },
    {
     "name": "stderr",
     "output_type": "stream",
     "text": [
      "      5.27     1e+03     1e+04        10: 100%|██████████| 79/79 [00:01<00:00, 72.10it/s]\n"
     ]
    },
    {
     "name": "stdout",
     "output_type": "stream",
     "text": [
      "\n",
      "module_idx:  4, percent:  0\n",
      "\n",
      " test_loss   correct     total       Acc\n"
     ]
    },
    {
     "name": "stderr",
     "output_type": "stream",
     "text": [
      "     0.294  9.37e+03     1e+04      93.7: 100%|██████████| 79/79 [00:01<00:00, 71.60it/s]\n"
     ]
    },
    {
     "name": "stdout",
     "output_type": "stream",
     "text": [
      "\n",
      "module_idx:  4, percent:0.05\n",
      "\n",
      " test_loss   correct     total       Acc\n"
     ]
    },
    {
     "name": "stderr",
     "output_type": "stream",
     "text": [
      "       0.3  9.38e+03     1e+04      93.8: 100%|██████████| 79/79 [00:01<00:00, 70.77it/s]\n"
     ]
    },
    {
     "name": "stdout",
     "output_type": "stream",
     "text": [
      "\n",
      "module_idx:  4, percent:0.1\n",
      "\n",
      " test_loss   correct     total       Acc\n"
     ]
    },
    {
     "name": "stderr",
     "output_type": "stream",
     "text": [
      "     0.327  9.29e+03     1e+04      92.9: 100%|██████████| 79/79 [00:01<00:00, 71.53it/s]\n"
     ]
    },
    {
     "name": "stdout",
     "output_type": "stream",
     "text": [
      "\n",
      "module_idx:  4, percent:0.15\n",
      "\n",
      " test_loss   correct     total       Acc\n"
     ]
    },
    {
     "name": "stderr",
     "output_type": "stream",
     "text": [
      "     0.351  9.24e+03     1e+04      92.4: 100%|██████████| 79/79 [00:01<00:00, 72.42it/s]\n"
     ]
    },
    {
     "name": "stdout",
     "output_type": "stream",
     "text": [
      "\n",
      "module_idx:  4, percent:0.2\n",
      "\n",
      " test_loss   correct     total       Acc\n"
     ]
    },
    {
     "name": "stderr",
     "output_type": "stream",
     "text": [
      "     0.425  9.08e+03     1e+04      90.8: 100%|██████████| 79/79 [00:01<00:00, 71.03it/s]\n"
     ]
    },
    {
     "name": "stdout",
     "output_type": "stream",
     "text": [
      "\n",
      "module_idx:  4, percent:0.25\n",
      "\n",
      " test_loss   correct     total       Acc\n"
     ]
    },
    {
     "name": "stderr",
     "output_type": "stream",
     "text": [
      "     0.742  8.51e+03     1e+04      85.1: 100%|██████████| 79/79 [00:01<00:00, 71.29it/s]\n"
     ]
    },
    {
     "name": "stdout",
     "output_type": "stream",
     "text": [
      "\n",
      "module_idx:  4, percent:0.3\n",
      "\n",
      " test_loss   correct     total       Acc\n"
     ]
    },
    {
     "name": "stderr",
     "output_type": "stream",
     "text": [
      "      1.11  7.84e+03     1e+04      78.4: 100%|██████████| 79/79 [00:01<00:00, 71.41it/s]\n"
     ]
    },
    {
     "name": "stdout",
     "output_type": "stream",
     "text": [
      "\n",
      "module_idx:  4, percent:0.35\n",
      "\n",
      " test_loss   correct     total       Acc\n"
     ]
    },
    {
     "name": "stderr",
     "output_type": "stream",
     "text": [
      "      1.58  6.79e+03     1e+04      67.9: 100%|██████████| 79/79 [00:01<00:00, 72.40it/s]\n"
     ]
    },
    {
     "name": "stdout",
     "output_type": "stream",
     "text": [
      "\n",
      "module_idx:  4, percent:0.4\n",
      "\n",
      " test_loss   correct     total       Acc\n"
     ]
    },
    {
     "name": "stderr",
     "output_type": "stream",
     "text": [
      "      2.12  5.74e+03     1e+04      57.4: 100%|██████████| 79/79 [00:01<00:00, 71.56it/s]\n"
     ]
    },
    {
     "name": "stdout",
     "output_type": "stream",
     "text": [
      "\n",
      "module_idx:  4, percent:0.45\n",
      "\n",
      " test_loss   correct     total       Acc\n"
     ]
    },
    {
     "name": "stderr",
     "output_type": "stream",
     "text": [
      "      2.78  4.59e+03     1e+04      45.9: 100%|██████████| 79/79 [00:01<00:00, 72.21it/s]\n"
     ]
    },
    {
     "name": "stdout",
     "output_type": "stream",
     "text": [
      "\n",
      "module_idx:  4, percent:0.5\n",
      "\n",
      " test_loss   correct     total       Acc\n"
     ]
    },
    {
     "name": "stderr",
     "output_type": "stream",
     "text": [
      "      3.25  3.14e+03     1e+04      31.4: 100%|██████████| 79/79 [00:01<00:00, 71.87it/s]\n"
     ]
    },
    {
     "name": "stdout",
     "output_type": "stream",
     "text": [
      "\n",
      "module_idx:  4, percent:0.55\n",
      "\n",
      " test_loss   correct     total       Acc\n"
     ]
    },
    {
     "name": "stderr",
     "output_type": "stream",
     "text": [
      "      3.63  2.26e+03     1e+04      22.6: 100%|██████████| 79/79 [00:01<00:00, 70.77it/s]\n"
     ]
    },
    {
     "name": "stdout",
     "output_type": "stream",
     "text": [
      "\n",
      "module_idx:  4, percent:0.6\n",
      "\n",
      " test_loss   correct     total       Acc\n"
     ]
    },
    {
     "name": "stderr",
     "output_type": "stream",
     "text": [
      "      3.78  1.95e+03     1e+04      19.5: 100%|██████████| 79/79 [00:01<00:00, 72.96it/s]\n"
     ]
    },
    {
     "name": "stdout",
     "output_type": "stream",
     "text": [
      "\n",
      "module_idx:  4, percent:0.65\n",
      "\n",
      " test_loss   correct     total       Acc\n"
     ]
    },
    {
     "name": "stderr",
     "output_type": "stream",
     "text": [
      "      3.98  1.37e+03     1e+04      13.7: 100%|██████████| 79/79 [00:01<00:00, 71.45it/s]\n"
     ]
    },
    {
     "name": "stdout",
     "output_type": "stream",
     "text": [
      "\n",
      "module_idx:  4, percent:0.7\n",
      "\n",
      " test_loss   correct     total       Acc\n"
     ]
    },
    {
     "name": "stderr",
     "output_type": "stream",
     "text": [
      "      3.78  1.26e+03     1e+04      12.6: 100%|██████████| 79/79 [00:01<00:00, 71.91it/s]\n"
     ]
    },
    {
     "name": "stdout",
     "output_type": "stream",
     "text": [
      "\n",
      "module_idx:  4, percent:0.75\n",
      "\n",
      " test_loss   correct     total       Acc\n"
     ]
    },
    {
     "name": "stderr",
     "output_type": "stream",
     "text": [
      "      3.68  1.22e+03     1e+04      12.2: 100%|██████████| 79/79 [00:01<00:00, 70.75it/s]\n"
     ]
    },
    {
     "name": "stdout",
     "output_type": "stream",
     "text": [
      "\n",
      "module_idx:  4, percent:0.8\n",
      "\n",
      " test_loss   correct     total       Acc\n"
     ]
    },
    {
     "name": "stderr",
     "output_type": "stream",
     "text": [
      "      3.55  1.32e+03     1e+04      13.2: 100%|██████████| 79/79 [00:01<00:00, 73.45it/s]\n"
     ]
    },
    {
     "name": "stdout",
     "output_type": "stream",
     "text": [
      "\n",
      "module_idx:  4, percent:0.85\n",
      "\n",
      " test_loss   correct     total       Acc\n"
     ]
    },
    {
     "name": "stderr",
     "output_type": "stream",
     "text": [
      "      4.61     1e+03     1e+04        10: 100%|██████████| 79/79 [00:01<00:00, 73.96it/s]\n"
     ]
    },
    {
     "name": "stdout",
     "output_type": "stream",
     "text": [
      "\n",
      "module_idx:  4, percent:0.9\n",
      "\n",
      " test_loss   correct     total       Acc\n"
     ]
    },
    {
     "name": "stderr",
     "output_type": "stream",
     "text": [
      "      4.37     1e+03     1e+04        10: 100%|██████████| 79/79 [00:01<00:00, 73.48it/s]\n"
     ]
    },
    {
     "name": "stdout",
     "output_type": "stream",
     "text": [
      "\n",
      "module_idx:  4, percent:0.95\n",
      "\n",
      " test_loss   correct     total       Acc\n"
     ]
    },
    {
     "name": "stderr",
     "output_type": "stream",
     "text": [
      "      4.42       999     1e+04      9.99: 100%|██████████| 79/79 [00:01<00:00, 73.79it/s]\n"
     ]
    },
    {
     "name": "stdout",
     "output_type": "stream",
     "text": [
      "\n",
      "module_idx:  5, percent:  0\n",
      "\n",
      " test_loss   correct     total       Acc\n"
     ]
    },
    {
     "name": "stderr",
     "output_type": "stream",
     "text": [
      "     0.294  9.37e+03     1e+04      93.7: 100%|██████████| 79/79 [00:01<00:00, 72.71it/s]\n"
     ]
    },
    {
     "name": "stdout",
     "output_type": "stream",
     "text": [
      "\n",
      "module_idx:  5, percent:0.05\n",
      "\n",
      " test_loss   correct     total       Acc\n"
     ]
    },
    {
     "name": "stderr",
     "output_type": "stream",
     "text": [
      "     0.312  9.34e+03     1e+04      93.4: 100%|██████████| 79/79 [00:01<00:00, 72.84it/s]\n"
     ]
    },
    {
     "name": "stdout",
     "output_type": "stream",
     "text": [
      "\n",
      "module_idx:  5, percent:0.1\n",
      "\n",
      " test_loss   correct     total       Acc\n"
     ]
    },
    {
     "name": "stderr",
     "output_type": "stream",
     "text": [
      "     0.326  9.32e+03     1e+04      93.2: 100%|██████████| 79/79 [00:01<00:00, 74.40it/s]\n"
     ]
    },
    {
     "name": "stdout",
     "output_type": "stream",
     "text": [
      "\n",
      "module_idx:  5, percent:0.15\n",
      "\n",
      " test_loss   correct     total       Acc\n"
     ]
    },
    {
     "name": "stderr",
     "output_type": "stream",
     "text": [
      "     0.339  9.25e+03     1e+04      92.5: 100%|██████████| 79/79 [00:01<00:00, 75.10it/s]\n"
     ]
    },
    {
     "name": "stdout",
     "output_type": "stream",
     "text": [
      "\n",
      "module_idx:  5, percent:0.2\n",
      "\n",
      " test_loss   correct     total       Acc\n"
     ]
    },
    {
     "name": "stderr",
     "output_type": "stream",
     "text": [
      "     0.338  9.25e+03     1e+04      92.5: 100%|██████████| 79/79 [00:01<00:00, 73.84it/s]\n"
     ]
    },
    {
     "name": "stdout",
     "output_type": "stream",
     "text": [
      "\n",
      "module_idx:  5, percent:0.25\n",
      "\n",
      " test_loss   correct     total       Acc\n"
     ]
    },
    {
     "name": "stderr",
     "output_type": "stream",
     "text": [
      "     0.401  9.12e+03     1e+04      91.2: 100%|██████████| 79/79 [00:01<00:00, 71.47it/s]\n"
     ]
    },
    {
     "name": "stdout",
     "output_type": "stream",
     "text": [
      "\n",
      "module_idx:  5, percent:0.3\n",
      "\n",
      " test_loss   correct     total       Acc\n"
     ]
    },
    {
     "name": "stderr",
     "output_type": "stream",
     "text": [
      "     0.451  8.97e+03     1e+04      89.7: 100%|██████████| 79/79 [00:01<00:00, 72.84it/s]\n"
     ]
    },
    {
     "name": "stdout",
     "output_type": "stream",
     "text": [
      "\n",
      "module_idx:  5, percent:0.35\n",
      "\n",
      " test_loss   correct     total       Acc\n"
     ]
    },
    {
     "name": "stderr",
     "output_type": "stream",
     "text": [
      "     0.474  8.86e+03     1e+04      88.6: 100%|██████████| 79/79 [00:01<00:00, 74.53it/s]\n"
     ]
    },
    {
     "name": "stdout",
     "output_type": "stream",
     "text": [
      "\n",
      "module_idx:  5, percent:0.4\n",
      "\n",
      " test_loss   correct     total       Acc\n"
     ]
    },
    {
     "name": "stderr",
     "output_type": "stream",
     "text": [
      "     0.599   8.5e+03     1e+04        85: 100%|██████████| 79/79 [00:01<00:00, 72.29it/s]\n"
     ]
    },
    {
     "name": "stdout",
     "output_type": "stream",
     "text": [
      "\n",
      "module_idx:  5, percent:0.45\n",
      "\n",
      " test_loss   correct     total       Acc\n"
     ]
    },
    {
     "name": "stderr",
     "output_type": "stream",
     "text": [
      "     0.655  8.27e+03     1e+04      82.7: 100%|██████████| 79/79 [00:01<00:00, 74.36it/s]\n"
     ]
    },
    {
     "name": "stdout",
     "output_type": "stream",
     "text": [
      "\n",
      "module_idx:  5, percent:0.5\n",
      "\n",
      " test_loss   correct     total       Acc\n"
     ]
    },
    {
     "name": "stderr",
     "output_type": "stream",
     "text": [
      "      0.76  8.01e+03     1e+04      80.1: 100%|██████████| 79/79 [00:01<00:00, 72.96it/s]\n"
     ]
    },
    {
     "name": "stdout",
     "output_type": "stream",
     "text": [
      "\n",
      "module_idx:  5, percent:0.55\n",
      "\n",
      " test_loss   correct     total       Acc\n"
     ]
    },
    {
     "name": "stderr",
     "output_type": "stream",
     "text": [
      "      1.46  6.15e+03     1e+04      61.5: 100%|██████████| 79/79 [00:01<00:00, 71.84it/s]\n"
     ]
    },
    {
     "name": "stdout",
     "output_type": "stream",
     "text": [
      "\n",
      "module_idx:  5, percent:0.6\n",
      "\n",
      " test_loss   correct     total       Acc\n"
     ]
    },
    {
     "name": "stderr",
     "output_type": "stream",
     "text": [
      "      1.57  5.84e+03     1e+04      58.4: 100%|██████████| 79/79 [00:01<00:00, 73.19it/s]\n"
     ]
    },
    {
     "name": "stdout",
     "output_type": "stream",
     "text": [
      "\n",
      "module_idx:  5, percent:0.65\n",
      "\n",
      " test_loss   correct     total       Acc\n"
     ]
    },
    {
     "name": "stderr",
     "output_type": "stream",
     "text": [
      "      2.76  3.84e+03     1e+04      38.4: 100%|██████████| 79/79 [00:01<00:00, 72.76it/s]\n"
     ]
    },
    {
     "name": "stdout",
     "output_type": "stream",
     "text": [
      "\n",
      "module_idx:  5, percent:0.7\n",
      "\n",
      " test_loss   correct     total       Acc\n"
     ]
    },
    {
     "name": "stderr",
     "output_type": "stream",
     "text": [
      "      3.01  3.47e+03     1e+04      34.7: 100%|██████████| 79/79 [00:01<00:00, 72.50it/s]\n"
     ]
    },
    {
     "name": "stdout",
     "output_type": "stream",
     "text": [
      "\n",
      "module_idx:  5, percent:0.75\n",
      "\n",
      " test_loss   correct     total       Acc\n"
     ]
    },
    {
     "name": "stderr",
     "output_type": "stream",
     "text": [
      "      3.25  3.14e+03     1e+04      31.4: 100%|██████████| 79/79 [00:01<00:00, 75.12it/s]\n"
     ]
    },
    {
     "name": "stdout",
     "output_type": "stream",
     "text": [
      "\n",
      "module_idx:  5, percent:0.8\n",
      "\n",
      " test_loss   correct     total       Acc\n"
     ]
    },
    {
     "name": "stderr",
     "output_type": "stream",
     "text": [
      "      3.68   2.7e+03     1e+04        27: 100%|██████████| 79/79 [00:01<00:00, 72.86it/s]\n"
     ]
    },
    {
     "name": "stdout",
     "output_type": "stream",
     "text": [
      "\n",
      "module_idx:  5, percent:0.85\n",
      "\n",
      " test_loss   correct     total       Acc\n"
     ]
    },
    {
     "name": "stderr",
     "output_type": "stream",
     "text": [
      "       4.9  1.23e+03     1e+04      12.3: 100%|██████████| 79/79 [00:01<00:00, 72.23it/s]\n"
     ]
    },
    {
     "name": "stdout",
     "output_type": "stream",
     "text": [
      "\n",
      "module_idx:  5, percent:0.9\n",
      "\n",
      " test_loss   correct     total       Acc\n"
     ]
    },
    {
     "name": "stderr",
     "output_type": "stream",
     "text": [
      "      4.45  1.49e+03     1e+04      14.9: 100%|██████████| 79/79 [00:01<00:00, 73.20it/s]\n"
     ]
    },
    {
     "name": "stdout",
     "output_type": "stream",
     "text": [
      "\n",
      "module_idx:  5, percent:0.95\n",
      "\n",
      " test_loss   correct     total       Acc\n"
     ]
    },
    {
     "name": "stderr",
     "output_type": "stream",
     "text": [
      "      5.86  1.02e+03     1e+04      10.2: 100%|██████████| 79/79 [00:01<00:00, 71.28it/s]\n"
     ]
    },
    {
     "name": "stdout",
     "output_type": "stream",
     "text": [
      "\n",
      "module_idx:  6, percent:  0\n",
      "\n",
      " test_loss   correct     total       Acc\n"
     ]
    },
    {
     "name": "stderr",
     "output_type": "stream",
     "text": [
      "     0.294  9.37e+03     1e+04      93.7: 100%|██████████| 79/79 [00:01<00:00, 72.42it/s]\n"
     ]
    },
    {
     "name": "stdout",
     "output_type": "stream",
     "text": [
      "\n",
      "module_idx:  6, percent:0.05\n",
      "\n",
      " test_loss   correct     total       Acc\n"
     ]
    },
    {
     "name": "stderr",
     "output_type": "stream",
     "text": [
      "     0.298  9.37e+03     1e+04      93.7: 100%|██████████| 79/79 [00:01<00:00, 76.39it/s]\n"
     ]
    },
    {
     "name": "stdout",
     "output_type": "stream",
     "text": [
      "\n",
      "module_idx:  6, percent:0.1\n",
      "\n",
      " test_loss   correct     total       Acc\n"
     ]
    },
    {
     "name": "stderr",
     "output_type": "stream",
     "text": [
      "     0.302  9.36e+03     1e+04      93.6: 100%|██████████| 79/79 [00:01<00:00, 71.60it/s]\n"
     ]
    },
    {
     "name": "stdout",
     "output_type": "stream",
     "text": [
      "\n",
      "module_idx:  6, percent:0.15\n",
      "\n",
      " test_loss   correct     total       Acc\n"
     ]
    },
    {
     "name": "stderr",
     "output_type": "stream",
     "text": [
      "     0.312  9.36e+03     1e+04      93.6: 100%|██████████| 79/79 [00:01<00:00, 73.20it/s]\n"
     ]
    },
    {
     "name": "stdout",
     "output_type": "stream",
     "text": [
      "\n",
      "module_idx:  6, percent:0.2\n",
      "\n",
      " test_loss   correct     total       Acc\n"
     ]
    },
    {
     "name": "stderr",
     "output_type": "stream",
     "text": [
      "     0.324  9.33e+03     1e+04      93.3: 100%|██████████| 79/79 [00:01<00:00, 76.23it/s]\n"
     ]
    },
    {
     "name": "stdout",
     "output_type": "stream",
     "text": [
      "\n",
      "module_idx:  6, percent:0.25\n",
      "\n",
      " test_loss   correct     total       Acc\n"
     ]
    },
    {
     "name": "stderr",
     "output_type": "stream",
     "text": [
      "     0.334   9.3e+03     1e+04        93: 100%|██████████| 79/79 [00:01<00:00, 71.15it/s]\n"
     ]
    },
    {
     "name": "stdout",
     "output_type": "stream",
     "text": [
      "\n",
      "module_idx:  6, percent:0.3\n",
      "\n",
      " test_loss   correct     total       Acc\n"
     ]
    },
    {
     "name": "stderr",
     "output_type": "stream",
     "text": [
      "     0.362  9.25e+03     1e+04      92.5: 100%|██████████| 79/79 [00:01<00:00, 72.46it/s]\n"
     ]
    },
    {
     "name": "stdout",
     "output_type": "stream",
     "text": [
      "\n",
      "module_idx:  6, percent:0.35\n",
      "\n",
      " test_loss   correct     total       Acc\n"
     ]
    },
    {
     "name": "stderr",
     "output_type": "stream",
     "text": [
      "     0.379  9.19e+03     1e+04      91.9: 100%|██████████| 79/79 [00:01<00:00, 74.83it/s]\n"
     ]
    },
    {
     "name": "stdout",
     "output_type": "stream",
     "text": [
      "\n",
      "module_idx:  6, percent:0.4\n",
      "\n",
      " test_loss   correct     total       Acc\n"
     ]
    },
    {
     "name": "stderr",
     "output_type": "stream",
     "text": [
      "     0.427  9.08e+03     1e+04      90.8: 100%|██████████| 79/79 [00:01<00:00, 72.13it/s]\n"
     ]
    },
    {
     "name": "stdout",
     "output_type": "stream",
     "text": [
      "\n",
      "module_idx:  6, percent:0.45\n",
      "\n",
      " test_loss   correct     total       Acc\n"
     ]
    },
    {
     "name": "stderr",
     "output_type": "stream",
     "text": [
      "     0.513  8.86e+03     1e+04      88.6: 100%|██████████| 79/79 [00:01<00:00, 72.62it/s]\n"
     ]
    },
    {
     "name": "stdout",
     "output_type": "stream",
     "text": [
      "\n",
      "module_idx:  6, percent:0.5\n",
      "\n",
      " test_loss   correct     total       Acc\n"
     ]
    },
    {
     "name": "stderr",
     "output_type": "stream",
     "text": [
      "     0.638  8.59e+03     1e+04      85.9: 100%|██████████| 79/79 [00:01<00:00, 71.73it/s]\n"
     ]
    },
    {
     "name": "stdout",
     "output_type": "stream",
     "text": [
      "\n",
      "module_idx:  6, percent:0.55\n",
      "\n",
      " test_loss   correct     total       Acc\n"
     ]
    },
    {
     "name": "stderr",
     "output_type": "stream",
     "text": [
      "     0.891  7.99e+03     1e+04      79.9: 100%|██████████| 79/79 [00:01<00:00, 71.48it/s]\n"
     ]
    },
    {
     "name": "stdout",
     "output_type": "stream",
     "text": [
      "\n",
      "module_idx:  6, percent:0.6\n",
      "\n",
      " test_loss   correct     total       Acc\n"
     ]
    },
    {
     "name": "stderr",
     "output_type": "stream",
     "text": [
      "      1.22   7.4e+03     1e+04        74: 100%|██████████| 79/79 [00:01<00:00, 71.57it/s]\n"
     ]
    },
    {
     "name": "stdout",
     "output_type": "stream",
     "text": [
      "\n",
      "module_idx:  6, percent:0.65\n",
      "\n",
      " test_loss   correct     total       Acc\n"
     ]
    },
    {
     "name": "stderr",
     "output_type": "stream",
     "text": [
      "       1.6  6.87e+03     1e+04      68.7: 100%|██████████| 79/79 [00:01<00:00, 74.80it/s]\n"
     ]
    },
    {
     "name": "stdout",
     "output_type": "stream",
     "text": [
      "\n",
      "module_idx:  6, percent:0.7\n",
      "\n",
      " test_loss   correct     total       Acc\n"
     ]
    },
    {
     "name": "stderr",
     "output_type": "stream",
     "text": [
      "      1.76  6.59e+03     1e+04      65.9: 100%|██████████| 79/79 [00:01<00:00, 73.92it/s]\n"
     ]
    },
    {
     "name": "stdout",
     "output_type": "stream",
     "text": [
      "\n",
      "module_idx:  6, percent:0.75\n",
      "\n",
      " test_loss   correct     total       Acc\n"
     ]
    },
    {
     "name": "stderr",
     "output_type": "stream",
     "text": [
      "       1.8  6.39e+03     1e+04      63.9: 100%|██████████| 79/79 [00:01<00:00, 76.34it/s]\n"
     ]
    },
    {
     "name": "stdout",
     "output_type": "stream",
     "text": [
      "\n",
      "module_idx:  6, percent:0.8\n",
      "\n",
      " test_loss   correct     total       Acc\n"
     ]
    },
    {
     "name": "stderr",
     "output_type": "stream",
     "text": [
      "      2.05  5.92e+03     1e+04      59.2: 100%|██████████| 79/79 [00:01<00:00, 74.03it/s]\n"
     ]
    },
    {
     "name": "stdout",
     "output_type": "stream",
     "text": [
      "\n",
      "module_idx:  6, percent:0.85\n",
      "\n",
      " test_loss   correct     total       Acc\n"
     ]
    },
    {
     "name": "stderr",
     "output_type": "stream",
     "text": [
      "      2.15  5.49e+03     1e+04      54.9: 100%|██████████| 79/79 [00:01<00:00, 73.73it/s]\n"
     ]
    },
    {
     "name": "stdout",
     "output_type": "stream",
     "text": [
      "\n",
      "module_idx:  6, percent:0.9\n",
      "\n",
      " test_loss   correct     total       Acc\n"
     ]
    },
    {
     "name": "stderr",
     "output_type": "stream",
     "text": [
      "      2.42  4.86e+03     1e+04      48.6: 100%|██████████| 79/79 [00:01<00:00, 75.54it/s]\n"
     ]
    },
    {
     "name": "stdout",
     "output_type": "stream",
     "text": [
      "\n",
      "module_idx:  6, percent:0.95\n",
      "\n",
      " test_loss   correct     total       Acc\n"
     ]
    },
    {
     "name": "stderr",
     "output_type": "stream",
     "text": [
      "      4.12  2.44e+03     1e+04      24.4: 100%|██████████| 79/79 [00:01<00:00, 75.50it/s]\n"
     ]
    },
    {
     "name": "stdout",
     "output_type": "stream",
     "text": [
      "\n",
      "module_idx:  7, percent:  0\n",
      "\n",
      " test_loss   correct     total       Acc\n"
     ]
    },
    {
     "name": "stderr",
     "output_type": "stream",
     "text": [
      "     0.294  9.37e+03     1e+04      93.7: 100%|██████████| 79/79 [00:01<00:00, 72.26it/s]\n"
     ]
    },
    {
     "name": "stdout",
     "output_type": "stream",
     "text": [
      "\n",
      "module_idx:  7, percent:0.05\n",
      "\n",
      " test_loss   correct     total       Acc\n"
     ]
    },
    {
     "name": "stderr",
     "output_type": "stream",
     "text": [
      "     0.294  9.37e+03     1e+04      93.7: 100%|██████████| 79/79 [00:01<00:00, 71.05it/s]\n"
     ]
    },
    {
     "name": "stdout",
     "output_type": "stream",
     "text": [
      "\n",
      "module_idx:  7, percent:0.1\n",
      "\n",
      " test_loss   correct     total       Acc\n"
     ]
    },
    {
     "name": "stderr",
     "output_type": "stream",
     "text": [
      "     0.295  9.37e+03     1e+04      93.7: 100%|██████████| 79/79 [00:01<00:00, 72.33it/s]\n"
     ]
    },
    {
     "name": "stdout",
     "output_type": "stream",
     "text": [
      "\n",
      "module_idx:  7, percent:0.15\n",
      "\n",
      " test_loss   correct     total       Acc\n"
     ]
    },
    {
     "name": "stderr",
     "output_type": "stream",
     "text": [
      "     0.296  9.37e+03     1e+04      93.7: 100%|██████████| 79/79 [00:01<00:00, 71.20it/s]\n"
     ]
    },
    {
     "name": "stdout",
     "output_type": "stream",
     "text": [
      "\n",
      "module_idx:  7, percent:0.2\n",
      "\n",
      " test_loss   correct     total       Acc\n"
     ]
    },
    {
     "name": "stderr",
     "output_type": "stream",
     "text": [
      "     0.297  9.37e+03     1e+04      93.7: 100%|██████████| 79/79 [00:01<00:00, 71.53it/s]\n"
     ]
    },
    {
     "name": "stdout",
     "output_type": "stream",
     "text": [
      "\n",
      "module_idx:  7, percent:0.25\n",
      "\n",
      " test_loss   correct     total       Acc\n"
     ]
    },
    {
     "name": "stderr",
     "output_type": "stream",
     "text": [
      "     0.298  9.37e+03     1e+04      93.7: 100%|██████████| 79/79 [00:01<00:00, 71.07it/s]\n"
     ]
    },
    {
     "name": "stdout",
     "output_type": "stream",
     "text": [
      "\n",
      "module_idx:  7, percent:0.3\n",
      "\n",
      " test_loss   correct     total       Acc\n"
     ]
    },
    {
     "name": "stderr",
     "output_type": "stream",
     "text": [
      "       0.3  9.37e+03     1e+04      93.7: 100%|██████████| 79/79 [00:01<00:00, 75.95it/s]\n"
     ]
    },
    {
     "name": "stdout",
     "output_type": "stream",
     "text": [
      "\n",
      "module_idx:  7, percent:0.35\n",
      "\n",
      " test_loss   correct     total       Acc\n"
     ]
    },
    {
     "name": "stderr",
     "output_type": "stream",
     "text": [
      "     0.301  9.37e+03     1e+04      93.7: 100%|██████████| 79/79 [00:01<00:00, 73.10it/s]\n"
     ]
    },
    {
     "name": "stdout",
     "output_type": "stream",
     "text": [
      "\n",
      "module_idx:  7, percent:0.4\n",
      "\n",
      " test_loss   correct     total       Acc\n"
     ]
    },
    {
     "name": "stderr",
     "output_type": "stream",
     "text": [
      "     0.302  9.36e+03     1e+04      93.6: 100%|██████████| 79/79 [00:01<00:00, 74.21it/s]\n"
     ]
    },
    {
     "name": "stdout",
     "output_type": "stream",
     "text": [
      "\n",
      "module_idx:  7, percent:0.45\n",
      "\n",
      " test_loss   correct     total       Acc\n"
     ]
    },
    {
     "name": "stderr",
     "output_type": "stream",
     "text": [
      "     0.301  9.37e+03     1e+04      93.7: 100%|██████████| 79/79 [00:01<00:00, 74.32it/s]\n"
     ]
    },
    {
     "name": "stdout",
     "output_type": "stream",
     "text": [
      "\n",
      "module_idx:  7, percent:0.5\n",
      "\n",
      " test_loss   correct     total       Acc\n"
     ]
    },
    {
     "name": "stderr",
     "output_type": "stream",
     "text": [
      "     0.302  9.35e+03     1e+04      93.5: 100%|██████████| 79/79 [00:01<00:00, 72.98it/s]\n"
     ]
    },
    {
     "name": "stdout",
     "output_type": "stream",
     "text": [
      "\n",
      "module_idx:  7, percent:0.55\n",
      "\n",
      " test_loss   correct     total       Acc\n"
     ]
    },
    {
     "name": "stderr",
     "output_type": "stream",
     "text": [
      "     0.305  9.34e+03     1e+04      93.3: 100%|██████████| 79/79 [00:01<00:00, 75.86it/s]\n"
     ]
    },
    {
     "name": "stdout",
     "output_type": "stream",
     "text": [
      "\n",
      "module_idx:  7, percent:0.6\n",
      "\n",
      " test_loss   correct     total       Acc\n"
     ]
    },
    {
     "name": "stderr",
     "output_type": "stream",
     "text": [
      "     0.307  9.33e+03     1e+04      93.3: 100%|██████████| 79/79 [00:01<00:00, 76.66it/s]\n"
     ]
    },
    {
     "name": "stdout",
     "output_type": "stream",
     "text": [
      "\n",
      "module_idx:  7, percent:0.65\n",
      "\n",
      " test_loss   correct     total       Acc\n"
     ]
    },
    {
     "name": "stderr",
     "output_type": "stream",
     "text": [
      "     0.316  9.29e+03     1e+04      92.9: 100%|██████████| 79/79 [00:01<00:00, 76.10it/s]\n"
     ]
    },
    {
     "name": "stdout",
     "output_type": "stream",
     "text": [
      "\n",
      "module_idx:  7, percent:0.7\n",
      "\n",
      " test_loss   correct     total       Acc\n"
     ]
    },
    {
     "name": "stderr",
     "output_type": "stream",
     "text": [
      "     0.332  9.21e+03     1e+04      92.1: 100%|██████████| 79/79 [00:01<00:00, 74.28it/s]\n"
     ]
    },
    {
     "name": "stdout",
     "output_type": "stream",
     "text": [
      "\n",
      "module_idx:  7, percent:0.75\n",
      "\n",
      " test_loss   correct     total       Acc\n"
     ]
    },
    {
     "name": "stderr",
     "output_type": "stream",
     "text": [
      "     0.358   9.1e+03     1e+04        91: 100%|██████████| 79/79 [00:01<00:00, 73.99it/s]\n"
     ]
    },
    {
     "name": "stdout",
     "output_type": "stream",
     "text": [
      "\n",
      "module_idx:  7, percent:0.8\n",
      "\n",
      " test_loss   correct     total       Acc\n"
     ]
    },
    {
     "name": "stderr",
     "output_type": "stream",
     "text": [
      "     0.433  8.88e+03     1e+04      88.8: 100%|██████████| 79/79 [00:01<00:00, 72.35it/s]\n"
     ]
    },
    {
     "name": "stdout",
     "output_type": "stream",
     "text": [
      "\n",
      "module_idx:  7, percent:0.85\n",
      "\n",
      " test_loss   correct     total       Acc\n"
     ]
    },
    {
     "name": "stderr",
     "output_type": "stream",
     "text": [
      "     0.553  8.46e+03     1e+04      84.6: 100%|██████████| 79/79 [00:01<00:00, 74.28it/s]\n"
     ]
    },
    {
     "name": "stdout",
     "output_type": "stream",
     "text": [
      "\n",
      "module_idx:  7, percent:0.9\n",
      "\n",
      " test_loss   correct     total       Acc\n"
     ]
    },
    {
     "name": "stderr",
     "output_type": "stream",
     "text": [
      "      0.86  7.38e+03     1e+04      73.8: 100%|██████████| 79/79 [00:01<00:00, 73.20it/s]\n"
     ]
    },
    {
     "name": "stdout",
     "output_type": "stream",
     "text": [
      "\n",
      "module_idx:  7, percent:0.95\n",
      "\n",
      " test_loss   correct     total       Acc\n"
     ]
    },
    {
     "name": "stderr",
     "output_type": "stream",
     "text": [
      "      1.72  4.55e+03     1e+04      45.5: 100%|██████████| 79/79 [00:01<00:00, 72.72it/s]\n"
     ]
    },
    {
     "name": "stdout",
     "output_type": "stream",
     "text": [
      "\n",
      "module_idx:  8, percent:  0\n",
      "\n",
      " test_loss   correct     total       Acc\n"
     ]
    },
    {
     "name": "stderr",
     "output_type": "stream",
     "text": [
      "     0.294  9.37e+03     1e+04      93.7: 100%|██████████| 79/79 [00:01<00:00, 70.68it/s]\n"
     ]
    },
    {
     "name": "stdout",
     "output_type": "stream",
     "text": [
      "\n",
      "module_idx:  8, percent:0.05\n",
      "\n",
      " test_loss   correct     total       Acc\n"
     ]
    },
    {
     "name": "stderr",
     "output_type": "stream",
     "text": [
      "     0.294  9.37e+03     1e+04      93.7: 100%|██████████| 79/79 [00:01<00:00, 72.89it/s]\n"
     ]
    },
    {
     "name": "stdout",
     "output_type": "stream",
     "text": [
      "\n",
      "module_idx:  8, percent:0.1\n",
      "\n",
      " test_loss   correct     total       Acc\n"
     ]
    },
    {
     "name": "stderr",
     "output_type": "stream",
     "text": [
      "     0.294  9.37e+03     1e+04      93.7: 100%|██████████| 79/79 [00:01<00:00, 74.78it/s]\n"
     ]
    },
    {
     "name": "stdout",
     "output_type": "stream",
     "text": [
      "\n",
      "module_idx:  8, percent:0.15\n",
      "\n",
      " test_loss   correct     total       Acc\n"
     ]
    },
    {
     "name": "stderr",
     "output_type": "stream",
     "text": [
      "     0.294  9.37e+03     1e+04      93.7: 100%|██████████| 79/79 [00:01<00:00, 73.09it/s]\n"
     ]
    },
    {
     "name": "stdout",
     "output_type": "stream",
     "text": [
      "\n",
      "module_idx:  8, percent:0.2\n",
      "\n",
      " test_loss   correct     total       Acc\n"
     ]
    },
    {
     "name": "stderr",
     "output_type": "stream",
     "text": [
      "     0.294  9.37e+03     1e+04      93.7: 100%|██████████| 79/79 [00:01<00:00, 76.36it/s]\n"
     ]
    },
    {
     "name": "stdout",
     "output_type": "stream",
     "text": [
      "\n",
      "module_idx:  8, percent:0.25\n",
      "\n",
      " test_loss   correct     total       Acc\n"
     ]
    },
    {
     "name": "stderr",
     "output_type": "stream",
     "text": [
      "     0.294  9.37e+03     1e+04      93.7: 100%|██████████| 79/79 [00:01<00:00, 71.07it/s]\n"
     ]
    },
    {
     "name": "stdout",
     "output_type": "stream",
     "text": [
      "\n",
      "module_idx:  8, percent:0.3\n",
      "\n",
      " test_loss   correct     total       Acc\n"
     ]
    },
    {
     "name": "stderr",
     "output_type": "stream",
     "text": [
      "     0.294  9.37e+03     1e+04      93.7: 100%|██████████| 79/79 [00:01<00:00, 70.77it/s]\n"
     ]
    },
    {
     "name": "stdout",
     "output_type": "stream",
     "text": [
      "\n",
      "module_idx:  8, percent:0.35\n",
      "\n",
      " test_loss   correct     total       Acc\n"
     ]
    },
    {
     "name": "stderr",
     "output_type": "stream",
     "text": [
      "     0.294  9.37e+03     1e+04      93.7: 100%|██████████| 79/79 [00:01<00:00, 71.32it/s]\n"
     ]
    },
    {
     "name": "stdout",
     "output_type": "stream",
     "text": [
      "\n",
      "module_idx:  8, percent:0.4\n",
      "\n",
      " test_loss   correct     total       Acc\n"
     ]
    },
    {
     "name": "stderr",
     "output_type": "stream",
     "text": [
      "     0.294  9.38e+03     1e+04      93.8: 100%|██████████| 79/79 [00:01<00:00, 71.69it/s]\n"
     ]
    },
    {
     "name": "stdout",
     "output_type": "stream",
     "text": [
      "\n",
      "module_idx:  8, percent:0.45\n",
      "\n",
      " test_loss   correct     total       Acc\n"
     ]
    },
    {
     "name": "stderr",
     "output_type": "stream",
     "text": [
      "     0.293  9.37e+03     1e+04      93.7: 100%|██████████| 79/79 [00:01<00:00, 71.98it/s]\n"
     ]
    },
    {
     "name": "stdout",
     "output_type": "stream",
     "text": [
      "\n",
      "module_idx:  8, percent:0.5\n",
      "\n",
      " test_loss   correct     total       Acc\n"
     ]
    },
    {
     "name": "stderr",
     "output_type": "stream",
     "text": [
      "     0.292  9.38e+03     1e+04      93.8: 100%|██████████| 79/79 [00:01<00:00, 72.35it/s]\n"
     ]
    },
    {
     "name": "stdout",
     "output_type": "stream",
     "text": [
      "\n",
      "module_idx:  8, percent:0.55\n",
      "\n",
      " test_loss   correct     total       Acc\n"
     ]
    },
    {
     "name": "stderr",
     "output_type": "stream",
     "text": [
      "     0.291  9.38e+03     1e+04      93.8: 100%|██████████| 79/79 [00:01<00:00, 72.67it/s]\n"
     ]
    },
    {
     "name": "stdout",
     "output_type": "stream",
     "text": [
      "\n",
      "module_idx:  8, percent:0.6\n",
      "\n",
      " test_loss   correct     total       Acc\n"
     ]
    },
    {
     "name": "stderr",
     "output_type": "stream",
     "text": [
      "      0.29  9.38e+03     1e+04      93.8: 100%|██████████| 79/79 [00:01<00:00, 72.54it/s]\n"
     ]
    },
    {
     "name": "stdout",
     "output_type": "stream",
     "text": [
      "\n",
      "module_idx:  8, percent:0.65\n",
      "\n",
      " test_loss   correct     total       Acc\n"
     ]
    },
    {
     "name": "stderr",
     "output_type": "stream",
     "text": [
      "     0.287  9.39e+03     1e+04      93.9: 100%|██████████| 79/79 [00:01<00:00, 71.36it/s]\n"
     ]
    },
    {
     "name": "stdout",
     "output_type": "stream",
     "text": [
      "\n",
      "module_idx:  8, percent:0.7\n",
      "\n",
      " test_loss   correct     total       Acc\n"
     ]
    },
    {
     "name": "stderr",
     "output_type": "stream",
     "text": [
      "     0.286  9.39e+03     1e+04      93.9: 100%|██████████| 79/79 [00:01<00:00, 70.33it/s]\n"
     ]
    },
    {
     "name": "stdout",
     "output_type": "stream",
     "text": [
      "\n",
      "module_idx:  8, percent:0.75\n",
      "\n",
      " test_loss   correct     total       Acc\n"
     ]
    },
    {
     "name": "stderr",
     "output_type": "stream",
     "text": [
      "     0.281  9.39e+03     1e+04      93.9: 100%|██████████| 79/79 [00:01<00:00, 71.52it/s]\n"
     ]
    },
    {
     "name": "stdout",
     "output_type": "stream",
     "text": [
      "\n",
      "module_idx:  8, percent:0.8\n",
      "\n",
      " test_loss   correct     total       Acc\n"
     ]
    },
    {
     "name": "stderr",
     "output_type": "stream",
     "text": [
      "     0.275  9.38e+03     1e+04      93.8: 100%|██████████| 79/79 [00:01<00:00, 71.94it/s]\n"
     ]
    },
    {
     "name": "stdout",
     "output_type": "stream",
     "text": [
      "\n",
      "module_idx:  8, percent:0.85\n",
      "\n",
      " test_loss   correct     total       Acc\n"
     ]
    },
    {
     "name": "stderr",
     "output_type": "stream",
     "text": [
      "     0.267  9.36e+03     1e+04      93.6: 100%|██████████| 79/79 [00:01<00:00, 74.57it/s]\n"
     ]
    },
    {
     "name": "stdout",
     "output_type": "stream",
     "text": [
      "\n",
      "module_idx:  8, percent:0.9\n",
      "\n",
      " test_loss   correct     total       Acc\n"
     ]
    },
    {
     "name": "stderr",
     "output_type": "stream",
     "text": [
      "     0.268  9.31e+03     1e+04      93.1: 100%|██████████| 79/79 [00:01<00:00, 69.91it/s]\n"
     ]
    },
    {
     "name": "stdout",
     "output_type": "stream",
     "text": [
      "\n",
      "module_idx:  8, percent:0.95\n",
      "\n",
      " test_loss   correct     total       Acc\n"
     ]
    },
    {
     "name": "stderr",
     "output_type": "stream",
     "text": [
      "     0.312  9.12e+03     1e+04      91.2: 100%|██████████| 79/79 [00:01<00:00, 70.92it/s]\n"
     ]
    },
    {
     "name": "stdout",
     "output_type": "stream",
     "text": [
      "\n",
      "module_idx:  9, percent:  0\n",
      "\n",
      " test_loss   correct     total       Acc\n"
     ]
    },
    {
     "name": "stderr",
     "output_type": "stream",
     "text": [
      "     0.294  9.37e+03     1e+04      93.7: 100%|██████████| 79/79 [00:01<00:00, 73.50it/s]\n"
     ]
    },
    {
     "name": "stdout",
     "output_type": "stream",
     "text": [
      "\n",
      "module_idx:  9, percent:0.05\n",
      "\n",
      " test_loss   correct     total       Acc\n"
     ]
    },
    {
     "name": "stderr",
     "output_type": "stream",
     "text": [
      "     0.294  9.37e+03     1e+04      93.7: 100%|██████████| 79/79 [00:01<00:00, 71.90it/s]\n"
     ]
    },
    {
     "name": "stdout",
     "output_type": "stream",
     "text": [
      "\n",
      "module_idx:  9, percent:0.1\n",
      "\n",
      " test_loss   correct     total       Acc\n"
     ]
    },
    {
     "name": "stderr",
     "output_type": "stream",
     "text": [
      "     0.294  9.37e+03     1e+04      93.7: 100%|██████████| 79/79 [00:01<00:00, 70.94it/s]\n"
     ]
    },
    {
     "name": "stdout",
     "output_type": "stream",
     "text": [
      "\n",
      "module_idx:  9, percent:0.15\n",
      "\n",
      " test_loss   correct     total       Acc\n"
     ]
    },
    {
     "name": "stderr",
     "output_type": "stream",
     "text": [
      "     0.294  9.37e+03     1e+04      93.7: 100%|██████████| 79/79 [00:01<00:00, 70.87it/s]\n"
     ]
    },
    {
     "name": "stdout",
     "output_type": "stream",
     "text": [
      "\n",
      "module_idx:  9, percent:0.2\n",
      "\n",
      " test_loss   correct     total       Acc\n"
     ]
    },
    {
     "name": "stderr",
     "output_type": "stream",
     "text": [
      "     0.294  9.37e+03     1e+04      93.7: 100%|██████████| 79/79 [00:01<00:00, 73.14it/s]\n"
     ]
    },
    {
     "name": "stdout",
     "output_type": "stream",
     "text": [
      "\n",
      "module_idx:  9, percent:0.25\n",
      "\n",
      " test_loss   correct     total       Acc\n"
     ]
    },
    {
     "name": "stderr",
     "output_type": "stream",
     "text": [
      "     0.295  9.37e+03     1e+04      93.7: 100%|██████████| 79/79 [00:01<00:00, 70.95it/s]\n"
     ]
    },
    {
     "name": "stdout",
     "output_type": "stream",
     "text": [
      "\n",
      "module_idx:  9, percent:0.3\n",
      "\n",
      " test_loss   correct     total       Acc\n"
     ]
    },
    {
     "name": "stderr",
     "output_type": "stream",
     "text": [
      "     0.295  9.38e+03     1e+04      93.8: 100%|██████████| 79/79 [00:01<00:00, 72.51it/s]\n"
     ]
    },
    {
     "name": "stdout",
     "output_type": "stream",
     "text": [
      "\n",
      "module_idx:  9, percent:0.35\n",
      "\n",
      " test_loss   correct     total       Acc\n"
     ]
    },
    {
     "name": "stderr",
     "output_type": "stream",
     "text": [
      "     0.295  9.38e+03     1e+04      93.8: 100%|██████████| 79/79 [00:01<00:00, 73.15it/s]\n"
     ]
    },
    {
     "name": "stdout",
     "output_type": "stream",
     "text": [
      "\n",
      "module_idx:  9, percent:0.4\n",
      "\n",
      " test_loss   correct     total       Acc\n"
     ]
    },
    {
     "name": "stderr",
     "output_type": "stream",
     "text": [
      "     0.295  9.38e+03     1e+04      93.8: 100%|██████████| 79/79 [00:01<00:00, 72.35it/s]\n"
     ]
    },
    {
     "name": "stdout",
     "output_type": "stream",
     "text": [
      "\n",
      "module_idx:  9, percent:0.45\n",
      "\n",
      " test_loss   correct     total       Acc\n"
     ]
    },
    {
     "name": "stderr",
     "output_type": "stream",
     "text": [
      "     0.298  9.38e+03     1e+04      93.8: 100%|██████████| 79/79 [00:01<00:00, 71.75it/s]\n"
     ]
    },
    {
     "name": "stdout",
     "output_type": "stream",
     "text": [
      "\n",
      "module_idx:  9, percent:0.5\n",
      "\n",
      " test_loss   correct     total       Acc\n"
     ]
    },
    {
     "name": "stderr",
     "output_type": "stream",
     "text": [
      "     0.297  9.38e+03     1e+04      93.8: 100%|██████████| 79/79 [00:01<00:00, 69.93it/s]\n"
     ]
    },
    {
     "name": "stdout",
     "output_type": "stream",
     "text": [
      "\n",
      "module_idx:  9, percent:0.55\n",
      "\n",
      " test_loss   correct     total       Acc\n"
     ]
    },
    {
     "name": "stderr",
     "output_type": "stream",
     "text": [
      "     0.294  9.38e+03     1e+04      93.8: 100%|██████████| 79/79 [00:01<00:00, 71.00it/s]\n"
     ]
    },
    {
     "name": "stdout",
     "output_type": "stream",
     "text": [
      "\n",
      "module_idx:  9, percent:0.6\n",
      "\n",
      " test_loss   correct     total       Acc\n"
     ]
    },
    {
     "name": "stderr",
     "output_type": "stream",
     "text": [
      "     0.292  9.38e+03     1e+04      93.8: 100%|██████████| 79/79 [00:01<00:00, 71.52it/s]\n"
     ]
    },
    {
     "name": "stdout",
     "output_type": "stream",
     "text": [
      "\n",
      "module_idx:  9, percent:0.65\n",
      "\n",
      " test_loss   correct     total       Acc\n"
     ]
    },
    {
     "name": "stderr",
     "output_type": "stream",
     "text": [
      "     0.287  9.39e+03     1e+04      93.9: 100%|██████████| 79/79 [00:01<00:00, 72.67it/s]\n"
     ]
    },
    {
     "name": "stdout",
     "output_type": "stream",
     "text": [
      "\n",
      "module_idx:  9, percent:0.7\n",
      "\n",
      " test_loss   correct     total       Acc\n"
     ]
    },
    {
     "name": "stderr",
     "output_type": "stream",
     "text": [
      "     0.279  9.39e+03     1e+04      93.9: 100%|██████████| 79/79 [00:01<00:00, 72.66it/s]\n"
     ]
    },
    {
     "name": "stdout",
     "output_type": "stream",
     "text": [
      "\n",
      "module_idx:  9, percent:0.75\n",
      "\n",
      " test_loss   correct     total       Acc\n"
     ]
    },
    {
     "name": "stderr",
     "output_type": "stream",
     "text": [
      "      0.27  9.38e+03     1e+04      93.8: 100%|██████████| 79/79 [00:01<00:00, 74.13it/s]\n"
     ]
    },
    {
     "name": "stdout",
     "output_type": "stream",
     "text": [
      "\n",
      "module_idx:  9, percent:0.8\n",
      "\n",
      " test_loss   correct     total       Acc\n"
     ]
    },
    {
     "name": "stderr",
     "output_type": "stream",
     "text": [
      "     0.261  9.39e+03     1e+04      93.9: 100%|██████████| 79/79 [00:01<00:00, 71.08it/s]\n"
     ]
    },
    {
     "name": "stdout",
     "output_type": "stream",
     "text": [
      "\n",
      "module_idx:  9, percent:0.85\n",
      "\n",
      " test_loss   correct     total       Acc\n"
     ]
    },
    {
     "name": "stderr",
     "output_type": "stream",
     "text": [
      "     0.248  9.38e+03     1e+04      93.8: 100%|██████████| 79/79 [00:01<00:00, 72.35it/s]\n"
     ]
    },
    {
     "name": "stdout",
     "output_type": "stream",
     "text": [
      "\n",
      "module_idx:  9, percent:0.9\n",
      "\n",
      " test_loss   correct     total       Acc\n"
     ]
    },
    {
     "name": "stderr",
     "output_type": "stream",
     "text": [
      "     0.246  9.34e+03     1e+04      93.4: 100%|██████████| 79/79 [00:01<00:00, 71.42it/s]\n"
     ]
    },
    {
     "name": "stdout",
     "output_type": "stream",
     "text": [
      "\n",
      "module_idx:  9, percent:0.95\n",
      "\n",
      " test_loss   correct     total       Acc\n"
     ]
    },
    {
     "name": "stderr",
     "output_type": "stream",
     "text": [
      "     0.313  9.23e+03     1e+04      92.3: 100%|██████████| 79/79 [00:01<00:00, 69.82it/s]\n"
     ]
    },
    {
     "name": "stdout",
     "output_type": "stream",
     "text": [
      "\n",
      "module_idx: 10, percent:  0\n",
      "\n",
      " test_loss   correct     total       Acc\n"
     ]
    },
    {
     "name": "stderr",
     "output_type": "stream",
     "text": [
      "     0.294  9.37e+03     1e+04      93.7: 100%|██████████| 79/79 [00:01<00:00, 72.92it/s]\n"
     ]
    },
    {
     "name": "stdout",
     "output_type": "stream",
     "text": [
      "\n",
      "module_idx: 10, percent:0.05\n",
      "\n",
      " test_loss   correct     total       Acc\n"
     ]
    },
    {
     "name": "stderr",
     "output_type": "stream",
     "text": [
      "     0.294  9.37e+03     1e+04      93.7: 100%|██████████| 79/79 [00:01<00:00, 74.19it/s]\n"
     ]
    },
    {
     "name": "stdout",
     "output_type": "stream",
     "text": [
      "\n",
      "module_idx: 10, percent:0.1\n",
      "\n",
      " test_loss   correct     total       Acc\n"
     ]
    },
    {
     "name": "stderr",
     "output_type": "stream",
     "text": [
      "     0.293  9.37e+03     1e+04      93.7: 100%|██████████| 79/79 [00:01<00:00, 71.38it/s]\n"
     ]
    },
    {
     "name": "stdout",
     "output_type": "stream",
     "text": [
      "\n",
      "module_idx: 10, percent:0.15\n",
      "\n",
      " test_loss   correct     total       Acc\n"
     ]
    },
    {
     "name": "stderr",
     "output_type": "stream",
     "text": [
      "     0.293  9.37e+03     1e+04      93.7: 100%|██████████| 79/79 [00:01<00:00, 72.90it/s]\n"
     ]
    },
    {
     "name": "stdout",
     "output_type": "stream",
     "text": [
      "\n",
      "module_idx: 10, percent:0.2\n",
      "\n",
      " test_loss   correct     total       Acc\n"
     ]
    },
    {
     "name": "stderr",
     "output_type": "stream",
     "text": [
      "     0.293  9.37e+03     1e+04      93.7: 100%|██████████| 79/79 [00:01<00:00, 72.20it/s]\n"
     ]
    },
    {
     "name": "stdout",
     "output_type": "stream",
     "text": [
      "\n",
      "module_idx: 10, percent:0.25\n",
      "\n",
      " test_loss   correct     total       Acc\n"
     ]
    },
    {
     "name": "stderr",
     "output_type": "stream",
     "text": [
      "     0.292  9.37e+03     1e+04      93.7: 100%|██████████| 79/79 [00:01<00:00, 71.53it/s]\n"
     ]
    },
    {
     "name": "stdout",
     "output_type": "stream",
     "text": [
      "\n",
      "module_idx: 10, percent:0.3\n",
      "\n",
      " test_loss   correct     total       Acc\n"
     ]
    },
    {
     "name": "stderr",
     "output_type": "stream",
     "text": [
      "     0.292  9.37e+03     1e+04      93.7: 100%|██████████| 79/79 [00:01<00:00, 72.42it/s]\n"
     ]
    },
    {
     "name": "stdout",
     "output_type": "stream",
     "text": [
      "\n",
      "module_idx: 10, percent:0.35\n",
      "\n",
      " test_loss   correct     total       Acc\n"
     ]
    },
    {
     "name": "stderr",
     "output_type": "stream",
     "text": [
      "     0.291  9.37e+03     1e+04      93.7: 100%|██████████| 79/79 [00:01<00:00, 76.26it/s]\n"
     ]
    },
    {
     "name": "stdout",
     "output_type": "stream",
     "text": [
      "\n",
      "module_idx: 10, percent:0.4\n",
      "\n",
      " test_loss   correct     total       Acc\n"
     ]
    },
    {
     "name": "stderr",
     "output_type": "stream",
     "text": [
      "     0.289  9.37e+03     1e+04      93.7: 100%|██████████| 79/79 [00:01<00:00, 75.19it/s]\n"
     ]
    },
    {
     "name": "stdout",
     "output_type": "stream",
     "text": [
      "\n",
      "module_idx: 10, percent:0.45\n",
      "\n",
      " test_loss   correct     total       Acc\n"
     ]
    },
    {
     "name": "stderr",
     "output_type": "stream",
     "text": [
      "     0.285  9.37e+03     1e+04      93.7: 100%|██████████| 79/79 [00:01<00:00, 72.34it/s]\n"
     ]
    },
    {
     "name": "stdout",
     "output_type": "stream",
     "text": [
      "\n",
      "module_idx: 10, percent:0.5\n",
      "\n",
      " test_loss   correct     total       Acc\n"
     ]
    },
    {
     "name": "stderr",
     "output_type": "stream",
     "text": [
      "     0.281  9.37e+03     1e+04      93.7: 100%|██████████| 79/79 [00:01<00:00, 75.75it/s]\n"
     ]
    },
    {
     "name": "stdout",
     "output_type": "stream",
     "text": [
      "\n",
      "module_idx: 10, percent:0.55\n",
      "\n",
      " test_loss   correct     total       Acc\n"
     ]
    },
    {
     "name": "stderr",
     "output_type": "stream",
     "text": [
      "     0.277  9.37e+03     1e+04      93.7: 100%|██████████| 79/79 [00:01<00:00, 73.19it/s]\n"
     ]
    },
    {
     "name": "stdout",
     "output_type": "stream",
     "text": [
      "\n",
      "module_idx: 10, percent:0.6\n",
      "\n",
      " test_loss   correct     total       Acc\n"
     ]
    },
    {
     "name": "stderr",
     "output_type": "stream",
     "text": [
      "     0.271  9.37e+03     1e+04      93.7: 100%|██████████| 79/79 [00:01<00:00, 72.53it/s]\n"
     ]
    },
    {
     "name": "stdout",
     "output_type": "stream",
     "text": [
      "\n",
      "module_idx: 10, percent:0.65\n",
      "\n",
      " test_loss   correct     total       Acc\n"
     ]
    },
    {
     "name": "stderr",
     "output_type": "stream",
     "text": [
      "     0.263  9.38e+03     1e+04      93.8: 100%|██████████| 79/79 [00:01<00:00, 76.74it/s]\n"
     ]
    },
    {
     "name": "stdout",
     "output_type": "stream",
     "text": [
      "\n",
      "module_idx: 10, percent:0.7\n",
      "\n",
      " test_loss   correct     total       Acc\n"
     ]
    },
    {
     "name": "stderr",
     "output_type": "stream",
     "text": [
      "     0.255  9.38e+03     1e+04      93.8: 100%|██████████| 79/79 [00:01<00:00, 74.13it/s]\n"
     ]
    },
    {
     "name": "stdout",
     "output_type": "stream",
     "text": [
      "\n",
      "module_idx: 10, percent:0.75\n",
      "\n",
      " test_loss   correct     total       Acc\n"
     ]
    },
    {
     "name": "stderr",
     "output_type": "stream",
     "text": [
      "     0.251  9.39e+03     1e+04      93.9: 100%|██████████| 79/79 [00:01<00:00, 72.91it/s]\n"
     ]
    },
    {
     "name": "stdout",
     "output_type": "stream",
     "text": [
      "\n",
      "module_idx: 10, percent:0.8\n",
      "\n",
      " test_loss   correct     total       Acc\n"
     ]
    },
    {
     "name": "stderr",
     "output_type": "stream",
     "text": [
      "     0.241  9.39e+03     1e+04      93.9: 100%|██████████| 79/79 [00:01<00:00, 72.19it/s]\n"
     ]
    },
    {
     "name": "stdout",
     "output_type": "stream",
     "text": [
      "\n",
      "module_idx: 10, percent:0.85\n",
      "\n",
      " test_loss   correct     total       Acc\n"
     ]
    },
    {
     "name": "stderr",
     "output_type": "stream",
     "text": [
      "     0.238  9.37e+03     1e+04      93.7: 100%|██████████| 79/79 [00:01<00:00, 72.18it/s]\n"
     ]
    },
    {
     "name": "stdout",
     "output_type": "stream",
     "text": [
      "\n",
      "module_idx: 10, percent:0.9\n",
      "\n",
      " test_loss   correct     total       Acc\n"
     ]
    },
    {
     "name": "stderr",
     "output_type": "stream",
     "text": [
      "     0.267  9.32e+03     1e+04      93.2: 100%|██████████| 79/79 [00:01<00:00, 71.84it/s]\n"
     ]
    },
    {
     "name": "stdout",
     "output_type": "stream",
     "text": [
      "\n",
      "module_idx: 10, percent:0.95\n",
      "\n",
      " test_loss   correct     total       Acc\n"
     ]
    },
    {
     "name": "stderr",
     "output_type": "stream",
     "text": [
      "     0.445  9.13e+03     1e+04      91.3: 100%|██████████| 79/79 [00:01<00:00, 71.12it/s]\n"
     ]
    },
    {
     "name": "stdout",
     "output_type": "stream",
     "text": [
      "\n",
      "module_idx: 11, percent:  0\n",
      "\n",
      " test_loss   correct     total       Acc\n"
     ]
    },
    {
     "name": "stderr",
     "output_type": "stream",
     "text": [
      "     0.294  9.37e+03     1e+04      93.7: 100%|██████████| 79/79 [00:01<00:00, 70.09it/s]\n"
     ]
    },
    {
     "name": "stdout",
     "output_type": "stream",
     "text": [
      "\n",
      "module_idx: 11, percent:0.05\n",
      "\n",
      " test_loss   correct     total       Acc\n"
     ]
    },
    {
     "name": "stderr",
     "output_type": "stream",
     "text": [
      "     0.293  9.37e+03     1e+04      93.7: 100%|██████████| 79/79 [00:01<00:00, 72.23it/s]\n"
     ]
    },
    {
     "name": "stdout",
     "output_type": "stream",
     "text": [
      "\n",
      "module_idx: 11, percent:0.1\n",
      "\n",
      " test_loss   correct     total       Acc\n"
     ]
    },
    {
     "name": "stderr",
     "output_type": "stream",
     "text": [
      "     0.292  9.37e+03     1e+04      93.7: 100%|██████████| 79/79 [00:01<00:00, 72.32it/s]\n"
     ]
    },
    {
     "name": "stdout",
     "output_type": "stream",
     "text": [
      "\n",
      "module_idx: 11, percent:0.15\n",
      "\n",
      " test_loss   correct     total       Acc\n"
     ]
    },
    {
     "name": "stderr",
     "output_type": "stream",
     "text": [
      "      0.29  9.37e+03     1e+04      93.7: 100%|██████████| 79/79 [00:01<00:00, 71.43it/s]\n"
     ]
    },
    {
     "name": "stdout",
     "output_type": "stream",
     "text": [
      "\n",
      "module_idx: 11, percent:0.2\n",
      "\n",
      " test_loss   correct     total       Acc\n"
     ]
    },
    {
     "name": "stderr",
     "output_type": "stream",
     "text": [
      "     0.287  9.37e+03     1e+04      93.7: 100%|██████████| 79/79 [00:01<00:00, 72.17it/s]\n"
     ]
    },
    {
     "name": "stdout",
     "output_type": "stream",
     "text": [
      "\n",
      "module_idx: 11, percent:0.25\n",
      "\n",
      " test_loss   correct     total       Acc\n"
     ]
    },
    {
     "name": "stderr",
     "output_type": "stream",
     "text": [
      "     0.284  9.37e+03     1e+04      93.7: 100%|██████████| 79/79 [00:01<00:00, 72.28it/s]\n"
     ]
    },
    {
     "name": "stdout",
     "output_type": "stream",
     "text": [
      "\n",
      "module_idx: 11, percent:0.3\n",
      "\n",
      " test_loss   correct     total       Acc\n"
     ]
    },
    {
     "name": "stderr",
     "output_type": "stream",
     "text": [
      "      0.28  9.37e+03     1e+04      93.7: 100%|██████████| 79/79 [00:01<00:00, 72.39it/s]\n"
     ]
    },
    {
     "name": "stdout",
     "output_type": "stream",
     "text": [
      "\n",
      "module_idx: 11, percent:0.35\n",
      "\n",
      " test_loss   correct     total       Acc\n"
     ]
    },
    {
     "name": "stderr",
     "output_type": "stream",
     "text": [
      "     0.276  9.38e+03     1e+04      93.8: 100%|██████████| 79/79 [00:01<00:00, 70.54it/s]\n"
     ]
    },
    {
     "name": "stdout",
     "output_type": "stream",
     "text": [
      "\n",
      "module_idx: 11, percent:0.4\n",
      "\n",
      " test_loss   correct     total       Acc\n"
     ]
    },
    {
     "name": "stderr",
     "output_type": "stream",
     "text": [
      "     0.271  9.38e+03     1e+04      93.8: 100%|██████████| 79/79 [00:01<00:00, 73.64it/s]\n"
     ]
    },
    {
     "name": "stdout",
     "output_type": "stream",
     "text": [
      "\n",
      "module_idx: 11, percent:0.45\n",
      "\n",
      " test_loss   correct     total       Acc\n"
     ]
    },
    {
     "name": "stderr",
     "output_type": "stream",
     "text": [
      "     0.266  9.38e+03     1e+04      93.8: 100%|██████████| 79/79 [00:01<00:00, 70.58it/s]\n"
     ]
    },
    {
     "name": "stdout",
     "output_type": "stream",
     "text": [
      "\n",
      "module_idx: 11, percent:0.5\n",
      "\n",
      " test_loss   correct     total       Acc\n"
     ]
    },
    {
     "name": "stderr",
     "output_type": "stream",
     "text": [
      "      0.26  9.38e+03     1e+04      93.8: 100%|██████████| 79/79 [00:01<00:00, 70.00it/s]\n"
     ]
    },
    {
     "name": "stdout",
     "output_type": "stream",
     "text": [
      "\n",
      "module_idx: 11, percent:0.55\n",
      "\n",
      " test_loss   correct     total       Acc\n"
     ]
    },
    {
     "name": "stderr",
     "output_type": "stream",
     "text": [
      "     0.254  9.37e+03     1e+04      93.7: 100%|██████████| 79/79 [00:01<00:00, 71.70it/s]\n"
     ]
    },
    {
     "name": "stdout",
     "output_type": "stream",
     "text": [
      "\n",
      "module_idx: 11, percent:0.6\n",
      "\n",
      " test_loss   correct     total       Acc\n"
     ]
    },
    {
     "name": "stderr",
     "output_type": "stream",
     "text": [
      "     0.248  9.37e+03     1e+04      93.7: 100%|██████████| 79/79 [00:01<00:00, 71.99it/s]\n"
     ]
    },
    {
     "name": "stdout",
     "output_type": "stream",
     "text": [
      "\n",
      "module_idx: 11, percent:0.65\n",
      "\n",
      " test_loss   correct     total       Acc\n"
     ]
    },
    {
     "name": "stderr",
     "output_type": "stream",
     "text": [
      "     0.242  9.37e+03     1e+04      93.7: 100%|██████████| 79/79 [00:01<00:00, 73.91it/s]\n"
     ]
    },
    {
     "name": "stdout",
     "output_type": "stream",
     "text": [
      "\n",
      "module_idx: 11, percent:0.7\n",
      "\n",
      " test_loss   correct     total       Acc\n"
     ]
    },
    {
     "name": "stderr",
     "output_type": "stream",
     "text": [
      "     0.234  9.37e+03     1e+04      93.7: 100%|██████████| 79/79 [00:01<00:00, 71.94it/s]\n"
     ]
    },
    {
     "name": "stdout",
     "output_type": "stream",
     "text": [
      "\n",
      "module_idx: 11, percent:0.75\n",
      "\n",
      " test_loss   correct     total       Acc\n"
     ]
    },
    {
     "name": "stderr",
     "output_type": "stream",
     "text": [
      "     0.239  9.38e+03     1e+04      93.8: 100%|██████████| 79/79 [00:01<00:00, 72.00it/s]\n"
     ]
    },
    {
     "name": "stdout",
     "output_type": "stream",
     "text": [
      "\n",
      "module_idx: 11, percent:0.8\n",
      "\n",
      " test_loss   correct     total       Acc\n"
     ]
    },
    {
     "name": "stderr",
     "output_type": "stream",
     "text": [
      "     0.248  9.37e+03     1e+04      93.7: 100%|██████████| 79/79 [00:01<00:00, 71.56it/s]\n"
     ]
    },
    {
     "name": "stdout",
     "output_type": "stream",
     "text": [
      "\n",
      "module_idx: 11, percent:0.85\n",
      "\n",
      " test_loss   correct     total       Acc\n"
     ]
    },
    {
     "name": "stderr",
     "output_type": "stream",
     "text": [
      "     0.293  9.37e+03     1e+04      93.7: 100%|██████████| 79/79 [00:01<00:00, 72.14it/s]\n"
     ]
    },
    {
     "name": "stdout",
     "output_type": "stream",
     "text": [
      "\n",
      "module_idx: 11, percent:0.9\n",
      "\n",
      " test_loss   correct     total       Acc\n"
     ]
    },
    {
     "name": "stderr",
     "output_type": "stream",
     "text": [
      "     0.389  9.36e+03     1e+04      93.6: 100%|██████████| 79/79 [00:01<00:00, 72.22it/s]\n"
     ]
    },
    {
     "name": "stdout",
     "output_type": "stream",
     "text": [
      "\n",
      "module_idx: 11, percent:0.95\n",
      "\n",
      " test_loss   correct     total       Acc\n"
     ]
    },
    {
     "name": "stderr",
     "output_type": "stream",
     "text": [
      "     0.803  9.34e+03     1e+04      93.4: 100%|██████████| 79/79 [00:01<00:00, 72.12it/s]\n"
     ]
    },
    {
     "name": "stdout",
     "output_type": "stream",
     "text": [
      "\n",
      "module_idx: 12, percent:  0\n",
      "\n",
      " test_loss   correct     total       Acc\n"
     ]
    },
    {
     "name": "stderr",
     "output_type": "stream",
     "text": [
      "     0.294  9.37e+03     1e+04      93.7: 100%|██████████| 79/79 [00:01<00:00, 74.98it/s]\n"
     ]
    },
    {
     "name": "stdout",
     "output_type": "stream",
     "text": [
      "\n",
      "module_idx: 12, percent:0.05\n",
      "\n",
      " test_loss   correct     total       Acc\n"
     ]
    },
    {
     "name": "stderr",
     "output_type": "stream",
     "text": [
      "     0.294  9.37e+03     1e+04      93.7: 100%|██████████| 79/79 [00:01<00:00, 74.65it/s]\n"
     ]
    },
    {
     "name": "stdout",
     "output_type": "stream",
     "text": [
      "\n",
      "module_idx: 12, percent:0.1\n",
      "\n",
      " test_loss   correct     total       Acc\n"
     ]
    },
    {
     "name": "stderr",
     "output_type": "stream",
     "text": [
      "     0.294  9.37e+03     1e+04      93.7: 100%|██████████| 79/79 [00:01<00:00, 71.32it/s]\n"
     ]
    },
    {
     "name": "stdout",
     "output_type": "stream",
     "text": [
      "\n",
      "module_idx: 12, percent:0.15\n",
      "\n",
      " test_loss   correct     total       Acc\n"
     ]
    },
    {
     "name": "stderr",
     "output_type": "stream",
     "text": [
      "     0.294  9.37e+03     1e+04      93.7: 100%|██████████| 79/79 [00:01<00:00, 72.48it/s]\n"
     ]
    },
    {
     "name": "stdout",
     "output_type": "stream",
     "text": [
      "\n",
      "module_idx: 12, percent:0.2\n",
      "\n",
      " test_loss   correct     total       Acc\n"
     ]
    },
    {
     "name": "stderr",
     "output_type": "stream",
     "text": [
      "     0.293  9.37e+03     1e+04      93.7: 100%|██████████| 79/79 [00:01<00:00, 70.94it/s]\n"
     ]
    },
    {
     "name": "stdout",
     "output_type": "stream",
     "text": [
      "\n",
      "module_idx: 12, percent:0.25\n",
      "\n",
      " test_loss   correct     total       Acc\n"
     ]
    },
    {
     "name": "stderr",
     "output_type": "stream",
     "text": [
      "     0.291  9.37e+03     1e+04      93.7: 100%|██████████| 79/79 [00:01<00:00, 70.25it/s]\n"
     ]
    },
    {
     "name": "stdout",
     "output_type": "stream",
     "text": [
      "\n",
      "module_idx: 12, percent:0.3\n",
      "\n",
      " test_loss   correct     total       Acc\n"
     ]
    },
    {
     "name": "stderr",
     "output_type": "stream",
     "text": [
      "     0.288  9.38e+03     1e+04      93.8: 100%|██████████| 79/79 [00:01<00:00, 71.11it/s]\n"
     ]
    },
    {
     "name": "stdout",
     "output_type": "stream",
     "text": [
      "\n",
      "module_idx: 12, percent:0.35\n",
      "\n",
      " test_loss   correct     total       Acc\n"
     ]
    },
    {
     "name": "stderr",
     "output_type": "stream",
     "text": [
      "     0.284  9.37e+03     1e+04      93.7: 100%|██████████| 79/79 [00:01<00:00, 70.51it/s]\n"
     ]
    },
    {
     "name": "stdout",
     "output_type": "stream",
     "text": [
      "\n",
      "module_idx: 12, percent:0.4\n",
      "\n",
      " test_loss   correct     total       Acc\n"
     ]
    },
    {
     "name": "stderr",
     "output_type": "stream",
     "text": [
      "      0.28  9.37e+03     1e+04      93.7: 100%|██████████| 79/79 [00:01<00:00, 72.37it/s]\n"
     ]
    },
    {
     "name": "stdout",
     "output_type": "stream",
     "text": [
      "\n",
      "module_idx: 12, percent:0.45\n",
      "\n",
      " test_loss   correct     total       Acc\n"
     ]
    },
    {
     "name": "stderr",
     "output_type": "stream",
     "text": [
      "     0.273  9.37e+03     1e+04      93.7: 100%|██████████| 79/79 [00:01<00:00, 74.66it/s]\n"
     ]
    },
    {
     "name": "stdout",
     "output_type": "stream",
     "text": [
      "\n",
      "module_idx: 12, percent:0.5\n",
      "\n",
      " test_loss   correct     total       Acc\n"
     ]
    },
    {
     "name": "stderr",
     "output_type": "stream",
     "text": [
      "     0.266  9.37e+03     1e+04      93.7: 100%|██████████| 79/79 [00:01<00:00, 75.19it/s]\n"
     ]
    },
    {
     "name": "stdout",
     "output_type": "stream",
     "text": [
      "\n",
      "module_idx: 12, percent:0.55\n",
      "\n",
      " test_loss   correct     total       Acc\n"
     ]
    },
    {
     "name": "stderr",
     "output_type": "stream",
     "text": [
      "     0.259  9.37e+03     1e+04      93.7: 100%|██████████| 79/79 [00:01<00:00, 72.77it/s]\n"
     ]
    },
    {
     "name": "stdout",
     "output_type": "stream",
     "text": [
      "\n",
      "module_idx: 12, percent:0.6\n",
      "\n",
      " test_loss   correct     total       Acc\n"
     ]
    },
    {
     "name": "stderr",
     "output_type": "stream",
     "text": [
      "      0.25  9.37e+03     1e+04      93.7: 100%|██████████| 79/79 [00:01<00:00, 76.70it/s]\n"
     ]
    },
    {
     "name": "stdout",
     "output_type": "stream",
     "text": [
      "\n",
      "module_idx: 12, percent:0.65\n",
      "\n",
      " test_loss   correct     total       Acc\n"
     ]
    },
    {
     "name": "stderr",
     "output_type": "stream",
     "text": [
      "     0.243  9.37e+03     1e+04      93.7: 100%|██████████| 79/79 [00:01<00:00, 71.83it/s]\n"
     ]
    },
    {
     "name": "stdout",
     "output_type": "stream",
     "text": [
      "\n",
      "module_idx: 12, percent:0.7\n",
      "\n",
      " test_loss   correct     total       Acc\n"
     ]
    },
    {
     "name": "stderr",
     "output_type": "stream",
     "text": [
      "     0.236  9.36e+03     1e+04      93.7: 100%|██████████| 79/79 [00:01<00:00, 75.38it/s]\n"
     ]
    },
    {
     "name": "stdout",
     "output_type": "stream",
     "text": [
      "\n",
      "module_idx: 12, percent:0.75\n",
      "\n",
      " test_loss   correct     total       Acc\n"
     ]
    },
    {
     "name": "stderr",
     "output_type": "stream",
     "text": [
      "     0.233  9.37e+03     1e+04      93.7: 100%|██████████| 79/79 [00:01<00:00, 74.69it/s]\n"
     ]
    },
    {
     "name": "stdout",
     "output_type": "stream",
     "text": [
      "\n",
      "module_idx: 12, percent:0.8\n",
      "\n",
      " test_loss   correct     total       Acc\n"
     ]
    },
    {
     "name": "stderr",
     "output_type": "stream",
     "text": [
      "     0.242  9.36e+03     1e+04      93.6: 100%|██████████| 79/79 [00:01<00:00, 72.47it/s]\n"
     ]
    },
    {
     "name": "stdout",
     "output_type": "stream",
     "text": [
      "\n",
      "module_idx: 12, percent:0.85\n",
      "\n",
      " test_loss   correct     total       Acc\n"
     ]
    },
    {
     "name": "stderr",
     "output_type": "stream",
     "text": [
      "     0.286  9.35e+03     1e+04      93.5: 100%|██████████| 79/79 [00:01<00:00, 71.49it/s]\n"
     ]
    },
    {
     "name": "stdout",
     "output_type": "stream",
     "text": [
      "\n",
      "module_idx: 12, percent:0.9\n",
      "\n",
      " test_loss   correct     total       Acc\n"
     ]
    },
    {
     "name": "stderr",
     "output_type": "stream",
     "text": [
      "     0.413  9.33e+03     1e+04      93.3: 100%|██████████| 79/79 [00:01<00:00, 71.11it/s]\n"
     ]
    },
    {
     "name": "stdout",
     "output_type": "stream",
     "text": [
      "\n",
      "module_idx: 12, percent:0.95\n",
      "\n",
      " test_loss   correct     total       Acc\n"
     ]
    },
    {
     "name": "stderr",
     "output_type": "stream",
     "text": [
      "     0.682  9.31e+03     1e+04      93.1: 100%|██████████| 79/79 [00:01<00:00, 72.74it/s]\n"
     ]
    },
    {
     "name": "stdout",
     "output_type": "stream",
     "text": [
      "module_idx   percent      real       Acc      loss\n",
      "         0         0         0     93.72    23.208\n",
      "         0      0.05  0.046875     93.72    23.208\n",
      "         0       0.1   0.09375     93.72    23.208\n",
      "         0      0.15   0.14062     93.72    23.208\n",
      "         0       0.2    0.1875     93.72    23.208\n",
      "         0      0.25      0.25     93.72    23.208\n",
      "         0       0.3   0.29688     93.72    23.208\n",
      "         0      0.35   0.34375     93.72    23.208\n",
      "         0       0.4   0.39062     93.72    23.208\n",
      "         0      0.45    0.4375     93.72    23.208\n",
      "         0       0.5       0.5     93.72    23.208\n",
      "         0      0.55   0.54688     93.72    23.208\n",
      "         0       0.6   0.59375     93.72    23.208\n",
      "         0      0.65   0.64062     93.32    25.624\n",
      "         0       0.7    0.6875     93.01    26.021\n",
      "         0      0.75      0.75      92.7    28.054\n",
      "         0       0.8   0.79688     92.12    30.522\n",
      "         0      0.85   0.84375     90.52    36.972\n",
      "         0       0.9   0.89062     78.31    89.991\n",
      "         0      0.95    0.9375     59.13    166.77\n",
      "         1         0         0     93.72    23.208\n",
      "         1      0.05  0.046875     93.65    23.468\n",
      "         1       0.1   0.09375      93.5    24.427\n",
      "         1      0.15   0.14062     92.97    26.288\n",
      "         1       0.2    0.1875     92.54    28.192\n",
      "         1      0.25      0.25     91.85     31.67\n",
      "         1       0.3   0.29688     89.47    41.494\n",
      "         1      0.35   0.34375     86.88    50.494\n",
      "         1       0.4   0.39062     86.52    51.704\n",
      "         1      0.45    0.4375     85.28    56.521\n",
      "         1       0.5       0.5     78.66    84.743\n",
      "         1      0.55   0.54688      70.3     123.3\n",
      "         1       0.6   0.59375     68.22    134.39\n",
      "         1      0.65   0.64062     52.87    226.55\n",
      "         1       0.7    0.6875     45.12    273.09\n",
      "         1      0.75      0.75     32.95    336.38\n",
      "         1       0.8   0.79688     24.22    359.62\n",
      "         1      0.85   0.84375     19.43    350.05\n",
      "         1       0.9   0.89062     14.91    304.75\n",
      "         1      0.95    0.9375     14.23    321.72\n",
      "         2         0         0     93.72    23.208\n",
      "         2      0.05  0.046875     93.79    23.395\n",
      "         2       0.1   0.09375     93.67    24.007\n",
      "         2      0.15   0.14844     93.55    24.801\n",
      "         2       0.2   0.19531     93.36    25.707\n",
      "         2      0.25      0.25     91.71    32.216\n",
      "         2       0.3   0.29688     91.05    34.543\n",
      "         2      0.35   0.34375     89.39    42.734\n",
      "         2       0.4   0.39844     86.97    53.112\n",
      "         2      0.45   0.44531      84.3    64.078\n",
      "         2       0.5       0.5      81.1     77.84\n",
      "         2      0.55   0.54688     72.94     114.8\n",
      "         2       0.6   0.59375      60.9    177.74\n",
      "         2      0.65   0.64844     39.53    307.53\n",
      "         2       0.7   0.69531     37.29    313.93\n",
      "         2      0.75      0.75     25.92     390.7\n",
      "         2       0.8   0.79688     17.92    448.07\n",
      "         2      0.85   0.84375     13.12    448.02\n",
      "         2       0.9   0.89844     10.88    401.95\n",
      "         2      0.95   0.94531     11.07    380.46\n",
      "         3         0         0     93.72    23.208\n",
      "         3      0.05  0.046875      93.4    24.887\n",
      "         3       0.1   0.09375     93.02    26.378\n",
      "         3      0.15   0.14844     92.68    28.297\n",
      "         3       0.2   0.19531     91.06    34.137\n",
      "         3      0.25      0.25     89.65    38.913\n",
      "         3       0.3   0.29688     86.48    52.561\n",
      "         3      0.35   0.34375     84.98    57.231\n",
      "         3       0.4   0.39844     83.28    66.283\n",
      "         3      0.45   0.44531     78.88    79.243\n",
      "         3       0.5       0.5     63.14    143.02\n",
      "         3      0.55   0.54688     46.02    231.97\n",
      "         3       0.6   0.59375     33.54    310.35\n",
      "         3      0.65   0.64844     28.08    339.01\n",
      "         3       0.7   0.69531     21.69    368.51\n",
      "         3      0.75      0.75     13.92    454.99\n",
      "         3       0.8   0.79688     11.52    468.43\n",
      "         3      0.85   0.84375     10.03    547.04\n",
      "         3       0.9   0.89844        10    501.95\n",
      "         3      0.95   0.94531        10    416.28\n",
      "         4         0         0     93.72    23.208\n",
      "         4      0.05  0.046875     93.75    23.723\n",
      "         4       0.1  0.097656     92.89     25.82\n",
      "         4      0.15   0.14844     92.43    27.742\n",
      "         4       0.2   0.19922     90.79    33.594\n",
      "         4      0.25      0.25     85.06    58.627\n",
      "         4       0.3   0.29688     78.41    88.071\n",
      "         4      0.35   0.34766     67.89    124.91\n",
      "         4       0.4   0.39844     57.37    167.16\n",
      "         4      0.45   0.44922     45.94     219.3\n",
      "         4       0.5       0.5     31.39    256.61\n",
      "         4      0.55   0.54688     22.56    286.54\n",
      "         4       0.6   0.59766     19.47       299\n",
      "         4      0.65   0.64844     13.66     314.3\n",
      "         4       0.7   0.69922     12.57    298.79\n",
      "         4      0.75      0.75     12.18    290.65\n",
      "         4       0.8   0.79688     13.16    280.57\n",
      "         4      0.85   0.84766        10    363.98\n",
      "         4       0.9   0.89844     10.01    345.37\n",
      "         4      0.95   0.94922      9.99    348.92\n",
      "         5         0         0     93.72    23.208\n",
      "         5      0.05  0.046875      93.4    24.658\n",
      "         5       0.1  0.097656     93.15    25.733\n",
      "         5      0.15   0.14844      92.5    26.793\n",
      "         5       0.2   0.19922     92.46    26.679\n",
      "         5      0.25      0.25     91.15    31.695\n",
      "         5       0.3   0.29688     89.69    35.659\n",
      "         5      0.35   0.34766     88.59    37.459\n",
      "         5       0.4   0.39844     85.03    47.311\n",
      "         5      0.45   0.44922     82.71    51.712\n",
      "         5       0.5       0.5     80.12    60.055\n",
      "         5      0.55   0.54688     61.54    115.12\n",
      "         5       0.6   0.59766     58.37    124.31\n",
      "         5      0.65   0.64844     38.36    217.91\n",
      "         5       0.7   0.69922     34.73    238.09\n",
      "         5      0.75      0.75     31.44    256.59\n",
      "         5       0.8   0.79688     27.04    290.33\n",
      "         5      0.85   0.84766     12.33    387.25\n",
      "         5       0.9   0.89844     14.92    351.41\n",
      "         5      0.95   0.94922     10.21     462.9\n",
      "         6         0         0     93.72    23.208\n",
      "         6      0.05  0.046875     93.73     23.57\n",
      "         6       0.1  0.097656     93.64    23.883\n",
      "         6      0.15   0.14844      93.6    24.685\n",
      "         6       0.2   0.19922     93.33    25.578\n",
      "         6      0.25      0.25     92.98    26.372\n",
      "         6       0.3   0.29688     92.49    28.589\n",
      "         6      0.35   0.34766      91.9    29.963\n",
      "         6       0.4   0.39844     90.84    33.752\n",
      "         6      0.45   0.44922     88.64    40.498\n",
      "         6       0.5       0.5     85.86    50.426\n",
      "         6      0.55   0.54688     79.94    70.399\n",
      "         6       0.6   0.59766     74.01    96.627\n",
      "         6      0.65   0.64844     68.69     126.2\n",
      "         6       0.7   0.69922     65.93    138.81\n",
      "         6      0.75      0.75     63.88    142.17\n",
      "         6       0.8   0.79688     59.18    161.92\n",
      "         6      0.85   0.84766     54.87    169.95\n",
      "         6       0.9   0.89844     48.65    191.15\n",
      "         6      0.95   0.94922      24.4     325.4\n",
      "         7         0         0     93.72    23.208\n",
      "         7      0.05  0.048828     93.72    23.251\n",
      "         7       0.1  0.099609     93.72    23.298\n",
      "         7      0.15   0.14844     93.74    23.389\n",
      "         7       0.2   0.19922     93.73    23.494\n",
      "         7      0.25      0.25     93.69    23.555\n",
      "         7       0.3   0.29883     93.71    23.685\n",
      "         7      0.35   0.34961     93.71    23.749\n",
      "         7       0.4   0.39844     93.64    23.836\n",
      "         7      0.45   0.44922      93.7    23.801\n",
      "         7       0.5       0.5     93.51    23.868\n",
      "         7      0.55   0.54883     93.35    24.122\n",
      "         7       0.6   0.59961     93.34    24.223\n",
      "         7      0.65   0.64844     92.86    25.002\n",
      "         7       0.7   0.69922     92.06    26.202\n",
      "         7      0.75      0.75     90.99     28.26\n",
      "         7       0.8   0.79883     88.77    34.183\n",
      "         7      0.85   0.84961     84.61    43.651\n",
      "         7       0.9   0.89844     73.84    67.946\n",
      "         7      0.95   0.94922     45.48    135.81\n",
      "         8         0         0     93.72    23.208\n",
      "         8      0.05  0.048828     93.72    23.211\n",
      "         8       0.1  0.099609     93.72    23.217\n",
      "         8      0.15   0.14844     93.72    23.219\n",
      "         8       0.2   0.19922     93.72    23.235\n",
      "         8      0.25      0.25     93.72    23.235\n",
      "         8       0.3   0.29883     93.73    23.236\n",
      "         8      0.35   0.34961     93.73    23.232\n",
      "         8       0.4   0.39844     93.76    23.194\n",
      "         8      0.45   0.44922     93.73    23.151\n",
      "         8       0.5       0.5     93.76    23.087\n",
      "         8      0.55   0.54883      93.8    22.983\n",
      "         8       0.6   0.59961     93.85    22.889\n",
      "         8      0.65   0.64844     93.89    22.702\n",
      "         8       0.7   0.69922     93.88    22.576\n",
      "         8      0.75      0.75     93.89    22.236\n",
      "         8       0.8   0.79883     93.78    21.725\n",
      "         8      0.85   0.84961     93.58    21.127\n",
      "         8       0.9   0.89844     93.13    21.165\n",
      "         8      0.95   0.94922     91.16    24.647\n",
      "         9         0         0     93.72    23.208\n",
      "         9      0.05  0.048828     93.72    23.207\n",
      "         9       0.1  0.099609     93.72    23.211\n",
      "         9      0.15   0.14844     93.72    23.203\n",
      "         9       0.2   0.19922     93.71    23.254\n",
      "         9      0.25      0.25     93.73    23.294\n",
      "         9       0.3   0.29883     93.76    23.314\n",
      "         9      0.35   0.34961     93.77    23.284\n",
      "         9       0.4   0.39844     93.76    23.282\n",
      "         9      0.45   0.44922     93.78    23.516\n",
      "         9       0.5       0.5      93.8    23.448\n",
      "         9      0.55   0.54883     93.81    23.264\n",
      "         9       0.6   0.59961     93.79    23.054\n",
      "         9      0.65   0.64844     93.87    22.637\n",
      "         9       0.7   0.69922     93.87    22.044\n",
      "         9      0.75      0.75     93.78    21.366\n",
      "         9       0.8   0.79883     93.86    20.637\n",
      "         9      0.85   0.84961     93.79    19.609\n",
      "         9       0.9   0.89844     93.36    19.412\n",
      "         9      0.95   0.94922     92.33      24.7\n",
      "        10         0         0     93.72    23.208\n",
      "        10      0.05  0.048828     93.72    23.195\n",
      "        10       0.1  0.099609     93.72    23.169\n",
      "        10      0.15   0.14844     93.72    23.112\n",
      "        10       0.2   0.19922     93.71    23.127\n",
      "        10      0.25      0.25      93.7    23.065\n",
      "        10       0.3   0.29883     93.72    23.043\n",
      "        10      0.35   0.34961     93.72    23.012\n",
      "        10       0.4   0.39844      93.7    22.821\n",
      "        10      0.45   0.44922      93.7    22.482\n",
      "        10       0.5       0.5     93.71    22.171\n",
      "        10      0.55   0.54883     93.69    21.851\n",
      "        10       0.6   0.59961     93.74    21.401\n",
      "        10      0.65   0.64844     93.77    20.816\n",
      "        10       0.7   0.69922     93.81    20.184\n",
      "        10      0.75      0.75     93.88    19.811\n",
      "        10       0.8   0.79883      93.9    19.038\n",
      "        10      0.85   0.84961     93.66    18.832\n",
      "        10       0.9   0.89844      93.2    21.067\n",
      "        10      0.95   0.94922      91.3    35.181\n",
      "        11         0         0     93.72    23.208\n",
      "        11      0.05  0.048828     93.72    23.148\n",
      "        11       0.1  0.099609     93.72     23.04\n",
      "        11      0.15   0.14844     93.72    22.882\n",
      "        11       0.2   0.19922     93.72    22.678\n",
      "        11      0.25      0.25     93.73    22.415\n",
      "        11       0.3   0.29883     93.73    22.132\n",
      "        11      0.35   0.34961     93.75    21.776\n",
      "        11       0.4   0.39844     93.76     21.38\n",
      "        11      0.45   0.44922     93.81    20.989\n",
      "        11       0.5       0.5     93.77    20.522\n",
      "        11      0.55   0.54883     93.74    20.103\n",
      "        11       0.6   0.59961     93.72    19.561\n",
      "        11      0.65   0.64844     93.71    19.122\n",
      "        11       0.7   0.69922     93.73    18.498\n",
      "        11      0.75      0.75     93.78    18.884\n",
      "        11       0.8   0.79883     93.74    19.586\n",
      "        11      0.85   0.84961     93.72    23.136\n",
      "        11       0.9   0.89844     93.56    30.736\n",
      "        11      0.95   0.94922     93.41    63.452\n",
      "        12         0         0     93.72    23.208\n",
      "        12      0.05  0.048828     93.72    23.208\n",
      "        12       0.1  0.099609     93.72    23.208\n",
      "        12      0.15   0.14844     93.72    23.189\n",
      "        12       0.2   0.19922     93.72    23.117\n",
      "        12      0.25      0.25     93.73    22.955\n",
      "        12       0.3   0.29883     93.75    22.742\n",
      "        12      0.35   0.34961     93.72    22.439\n",
      "        12       0.4   0.39844     93.73    22.089\n",
      "        12      0.45   0.44922     93.73    21.596\n",
      "        12       0.5       0.5     93.73    21.042\n",
      "        12      0.55   0.54883     93.74    20.444\n",
      "        12       0.6   0.59961     93.74     19.78\n",
      "        12      0.65   0.64844     93.72     19.21\n",
      "        12       0.7   0.69922     93.65    18.628\n",
      "        12      0.75      0.75      93.7    18.384\n",
      "        12       0.8   0.79883     93.61    19.102\n",
      "        12      0.85   0.84961     93.54    22.632\n",
      "        12       0.9   0.89844     93.31    32.654\n",
      "        12      0.95   0.94922     93.06    53.886\n",
      "\n",
      "module_idx:  0, percent:  0\n",
      "\n",
      " test_loss   correct     total       Acc\n"
     ]
    },
    {
     "name": "stderr",
     "output_type": "stream",
     "text": [
      "     0.277  9.39e+03     1e+04      93.9: 100%|██████████| 79/79 [00:01<00:00, 72.69it/s]"
     ]
    },
    {
     "name": "stdout",
     "output_type": "stream",
     "text": [
      "\n",
      "module_idx:  0, percent:0.05\n",
      "\n",
      " test_loss   correct     total       Acc\n"
     ]
    },
    {
     "name": "stderr",
     "output_type": "stream",
     "text": [
      "\n",
      "     0.277  9.39e+03     1e+04      93.9: 100%|██████████| 79/79 [00:01<00:00, 71.98it/s]\n"
     ]
    },
    {
     "name": "stdout",
     "output_type": "stream",
     "text": [
      "\n",
      "module_idx:  0, percent:0.1\n",
      "\n",
      " test_loss   correct     total       Acc\n"
     ]
    },
    {
     "name": "stderr",
     "output_type": "stream",
     "text": [
      "     0.277  9.39e+03     1e+04      93.9: 100%|██████████| 79/79 [00:01<00:00, 71.73it/s]\n"
     ]
    },
    {
     "name": "stdout",
     "output_type": "stream",
     "text": [
      "\n",
      "module_idx:  0, percent:0.15\n",
      "\n",
      " test_loss   correct     total       Acc\n"
     ]
    },
    {
     "name": "stderr",
     "output_type": "stream",
     "text": [
      "     0.277  9.39e+03     1e+04      93.9: 100%|██████████| 79/79 [00:01<00:00, 75.29it/s]\n"
     ]
    },
    {
     "name": "stdout",
     "output_type": "stream",
     "text": [
      "\n",
      "module_idx:  0, percent:0.2\n",
      "\n",
      " test_loss   correct     total       Acc\n"
     ]
    },
    {
     "name": "stderr",
     "output_type": "stream",
     "text": [
      "     0.277  9.39e+03     1e+04      93.9: 100%|██████████| 79/79 [00:01<00:00, 72.63it/s]\n"
     ]
    },
    {
     "name": "stdout",
     "output_type": "stream",
     "text": [
      "\n",
      "module_idx:  0, percent:0.25\n",
      "\n",
      " test_loss   correct     total       Acc\n"
     ]
    },
    {
     "name": "stderr",
     "output_type": "stream",
     "text": [
      "     0.277  9.39e+03     1e+04      93.9: 100%|██████████| 79/79 [00:01<00:00, 72.38it/s]"
     ]
    },
    {
     "name": "stdout",
     "output_type": "stream",
     "text": [
      "\n",
      "module_idx:  0, percent:0.3\n",
      "\n",
      " test_loss   correct     total       Acc\n"
     ]
    },
    {
     "name": "stderr",
     "output_type": "stream",
     "text": [
      "\n",
      "     0.277  9.39e+03     1e+04      93.9: 100%|██████████| 79/79 [00:01<00:00, 72.59it/s]\n"
     ]
    },
    {
     "name": "stdout",
     "output_type": "stream",
     "text": [
      "\n",
      "module_idx:  0, percent:0.35\n",
      "\n",
      " test_loss   correct     total       Acc\n"
     ]
    },
    {
     "name": "stderr",
     "output_type": "stream",
     "text": [
      "     0.277  9.39e+03     1e+04      93.9: 100%|██████████| 79/79 [00:01<00:00, 72.75it/s]\n"
     ]
    },
    {
     "name": "stdout",
     "output_type": "stream",
     "text": [
      "\n",
      "module_idx:  0, percent:0.4\n",
      "\n",
      " test_loss   correct     total       Acc\n"
     ]
    },
    {
     "name": "stderr",
     "output_type": "stream",
     "text": [
      "     0.277  9.39e+03     1e+04      93.9: 100%|██████████| 79/79 [00:01<00:00, 73.38it/s]"
     ]
    },
    {
     "name": "stdout",
     "output_type": "stream",
     "text": [
      "\n",
      "module_idx:  0, percent:0.45\n",
      "\n",
      " test_loss   correct     total       Acc\n"
     ]
    },
    {
     "name": "stderr",
     "output_type": "stream",
     "text": [
      "\n",
      "     0.277  9.39e+03     1e+04      93.9: 100%|██████████| 79/79 [00:01<00:00, 73.32it/s]\n"
     ]
    },
    {
     "name": "stdout",
     "output_type": "stream",
     "text": [
      "\n",
      "module_idx:  0, percent:0.5\n",
      "\n",
      " test_loss   correct     total       Acc\n"
     ]
    },
    {
     "name": "stderr",
     "output_type": "stream",
     "text": [
      "     0.277  9.39e+03     1e+04      93.9: 100%|██████████| 79/79 [00:01<00:00, 71.76it/s]"
     ]
    },
    {
     "name": "stdout",
     "output_type": "stream",
     "text": [
      "\n",
      "module_idx:  0, percent:0.55\n",
      "\n",
      " test_loss   correct     total       Acc\n"
     ]
    },
    {
     "name": "stderr",
     "output_type": "stream",
     "text": [
      "\n",
      "     0.277  9.39e+03     1e+04      93.9: 100%|██████████| 79/79 [00:01<00:00, 72.18it/s]"
     ]
    },
    {
     "name": "stdout",
     "output_type": "stream",
     "text": [
      "\n",
      "module_idx:  0, percent:0.6\n",
      "\n",
      " test_loss   correct     total       Acc\n"
     ]
    },
    {
     "name": "stderr",
     "output_type": "stream",
     "text": [
      "\n",
      "     0.277  9.39e+03     1e+04      93.9: 100%|██████████| 79/79 [00:01<00:00, 73.17it/s]\n"
     ]
    },
    {
     "name": "stdout",
     "output_type": "stream",
     "text": [
      "\n",
      "module_idx:  0, percent:0.65\n",
      "\n",
      " test_loss   correct     total       Acc\n"
     ]
    },
    {
     "name": "stderr",
     "output_type": "stream",
     "text": [
      "     0.277  9.39e+03     1e+04      93.9: 100%|██████████| 79/79 [00:01<00:00, 72.60it/s]"
     ]
    },
    {
     "name": "stdout",
     "output_type": "stream",
     "text": [
      "\n",
      "module_idx:  0, percent:0.7\n",
      "\n",
      " test_loss   correct     total       Acc\n"
     ]
    },
    {
     "name": "stderr",
     "output_type": "stream",
     "text": [
      "\n",
      "     0.277   9.4e+03     1e+04        94: 100%|██████████| 79/79 [00:01<00:00, 70.07it/s]"
     ]
    },
    {
     "name": "stdout",
     "output_type": "stream",
     "text": [
      "\n",
      "module_idx:  0, percent:0.75\n",
      "\n",
      " test_loss   correct     total       Acc\n"
     ]
    },
    {
     "name": "stderr",
     "output_type": "stream",
     "text": [
      "\n",
      "     0.378  9.22e+03     1e+04      92.2: 100%|██████████| 79/79 [00:01<00:00, 72.18it/s]"
     ]
    },
    {
     "name": "stdout",
     "output_type": "stream",
     "text": [
      "\n",
      "module_idx:  0, percent:0.8\n",
      "\n",
      " test_loss   correct     total       Acc\n"
     ]
    },
    {
     "name": "stderr",
     "output_type": "stream",
     "text": [
      "\n",
      "     0.509  8.88e+03     1e+04      88.8: 100%|██████████| 79/79 [00:01<00:00, 72.75it/s]"
     ]
    },
    {
     "name": "stdout",
     "output_type": "stream",
     "text": [
      "\n",
      "module_idx:  0, percent:0.85\n",
      "\n",
      " test_loss   correct     total       Acc\n"
     ]
    },
    {
     "name": "stderr",
     "output_type": "stream",
     "text": [
      "\n",
      "      1.59  6.95e+03     1e+04      69.5: 100%|██████████| 79/79 [00:01<00:00, 71.28it/s]"
     ]
    },
    {
     "name": "stdout",
     "output_type": "stream",
     "text": [
      "\n",
      "module_idx:  0, percent:0.9\n",
      "\n",
      " test_loss   correct     total       Acc\n"
     ]
    },
    {
     "name": "stderr",
     "output_type": "stream",
     "text": [
      "\n",
      "      3.78  3.87e+03     1e+04      38.7: 100%|██████████| 79/79 [00:01<00:00, 73.95it/s]\n"
     ]
    },
    {
     "name": "stdout",
     "output_type": "stream",
     "text": [
      "\n",
      "module_idx:  0, percent:0.95\n",
      "\n",
      " test_loss   correct     total       Acc\n"
     ]
    },
    {
     "name": "stderr",
     "output_type": "stream",
     "text": [
      "      4.99  1.45e+03     1e+04      14.5: 100%|██████████| 79/79 [00:01<00:00, 73.90it/s]"
     ]
    },
    {
     "name": "stdout",
     "output_type": "stream",
     "text": [
      "\n",
      "module_idx:  1, percent:  0\n",
      "\n",
      " test_loss   correct     total       Acc\n"
     ]
    },
    {
     "name": "stderr",
     "output_type": "stream",
     "text": [
      "\n",
      "     0.277  9.39e+03     1e+04      93.9: 100%|██████████| 79/79 [00:01<00:00, 71.76it/s]"
     ]
    },
    {
     "name": "stdout",
     "output_type": "stream",
     "text": [
      "\n",
      "module_idx:  1, percent:0.05\n",
      "\n",
      " test_loss   correct     total       Acc\n"
     ]
    },
    {
     "name": "stderr",
     "output_type": "stream",
     "text": [
      "\n",
      "      0.28  9.38e+03     1e+04      93.8: 100%|██████████| 79/79 [00:01<00:00, 73.22it/s]"
     ]
    },
    {
     "name": "stdout",
     "output_type": "stream",
     "text": [
      "\n",
      "module_idx:  1, percent:0.1\n",
      "\n",
      " test_loss   correct     total       Acc\n"
     ]
    },
    {
     "name": "stderr",
     "output_type": "stream",
     "text": [
      "\n",
      "     0.285  9.38e+03     1e+04      93.8: 100%|██████████| 79/79 [00:01<00:00, 72.99it/s]"
     ]
    },
    {
     "name": "stdout",
     "output_type": "stream",
     "text": [
      "\n",
      "module_idx:  1, percent:0.15\n",
      "\n",
      " test_loss   correct     total       Acc\n"
     ]
    },
    {
     "name": "stderr",
     "output_type": "stream",
     "text": [
      "\n",
      "      0.29  9.36e+03     1e+04      93.6: 100%|██████████| 79/79 [00:01<00:00, 71.90it/s]"
     ]
    },
    {
     "name": "stdout",
     "output_type": "stream",
     "text": [
      "\n",
      "module_idx:  1, percent:0.2\n",
      "\n",
      " test_loss   correct     total       Acc\n"
     ]
    },
    {
     "name": "stderr",
     "output_type": "stream",
     "text": [
      "\n",
      "      0.33  9.26e+03     1e+04      92.6: 100%|██████████| 79/79 [00:01<00:00, 71.88it/s]\n"
     ]
    },
    {
     "name": "stdout",
     "output_type": "stream",
     "text": [
      "\n",
      "module_idx:  1, percent:0.25\n",
      "\n",
      " test_loss   correct     total       Acc\n"
     ]
    },
    {
     "name": "stderr",
     "output_type": "stream",
     "text": [
      "     0.415  9.06e+03     1e+04      90.6: 100%|██████████| 79/79 [00:01<00:00, 71.26it/s]"
     ]
    },
    {
     "name": "stdout",
     "output_type": "stream",
     "text": [
      "\n",
      "module_idx:  1, percent:0.3\n",
      "\n",
      " test_loss   correct     total       Acc\n"
     ]
    },
    {
     "name": "stderr",
     "output_type": "stream",
     "text": [
      "\n",
      "      0.69  8.44e+03     1e+04      84.4: 100%|██████████| 79/79 [00:01<00:00, 72.54it/s]\n"
     ]
    },
    {
     "name": "stdout",
     "output_type": "stream",
     "text": [
      "\n",
      "module_idx:  1, percent:0.35\n",
      "\n",
      " test_loss   correct     total       Acc\n"
     ]
    },
    {
     "name": "stderr",
     "output_type": "stream",
     "text": [
      "     0.986  7.74e+03     1e+04      77.3: 100%|██████████| 79/79 [00:01<00:00, 73.53it/s]"
     ]
    },
    {
     "name": "stdout",
     "output_type": "stream",
     "text": [
      "\n",
      "module_idx:  1, percent:0.4\n",
      "\n",
      " test_loss   correct     total       Acc\n"
     ]
    },
    {
     "name": "stderr",
     "output_type": "stream",
     "text": [
      "\n",
      "      1.58  6.48e+03     1e+04      64.8: 100%|██████████| 79/79 [00:01<00:00, 71.35it/s]\n"
     ]
    },
    {
     "name": "stdout",
     "output_type": "stream",
     "text": [
      "\n",
      "module_idx:  1, percent:0.45\n",
      "\n",
      " test_loss   correct     total       Acc\n"
     ]
    },
    {
     "name": "stderr",
     "output_type": "stream",
     "text": [
      "      2.13  5.38e+03     1e+04      53.8: 100%|██████████| 79/79 [00:01<00:00, 71.98it/s]"
     ]
    },
    {
     "name": "stdout",
     "output_type": "stream",
     "text": [
      "\n",
      "module_idx:  1, percent:0.5\n",
      "\n",
      " test_loss   correct     total       Acc\n"
     ]
    },
    {
     "name": "stderr",
     "output_type": "stream",
     "text": [
      "\n",
      "      2.27   5.2e+03     1e+04        52: 100%|██████████| 79/79 [00:01<00:00, 76.62it/s]"
     ]
    },
    {
     "name": "stdout",
     "output_type": "stream",
     "text": [
      "\n",
      "module_idx:  1, percent:0.55\n",
      "\n",
      " test_loss   correct     total       Acc\n"
     ]
    },
    {
     "name": "stderr",
     "output_type": "stream",
     "text": [
      "\n",
      "      3.25  3.38e+03     1e+04      33.9: 100%|██████████| 79/79 [00:01<00:00, 71.52it/s]\n"
     ]
    },
    {
     "name": "stdout",
     "output_type": "stream",
     "text": [
      "\n",
      "module_idx:  1, percent:0.6\n",
      "\n",
      " test_loss   correct     total       Acc\n"
     ]
    },
    {
     "name": "stderr",
     "output_type": "stream",
     "text": [
      "      3.15  3.29e+03     1e+04      32.9: 100%|██████████| 79/79 [00:01<00:00, 72.14it/s]"
     ]
    },
    {
     "name": "stdout",
     "output_type": "stream",
     "text": [
      "\n",
      "module_idx:  1, percent:0.65\n",
      "\n",
      " test_loss   correct     total       Acc\n"
     ]
    },
    {
     "name": "stderr",
     "output_type": "stream",
     "text": [
      "\n",
      "      3.13  3.11e+03     1e+04      31.1: 100%|██████████| 79/79 [00:01<00:00, 73.44it/s]\n"
     ]
    },
    {
     "name": "stdout",
     "output_type": "stream",
     "text": [
      "\n",
      "module_idx:  1, percent:0.7\n",
      "\n",
      " test_loss   correct     total       Acc\n"
     ]
    },
    {
     "name": "stderr",
     "output_type": "stream",
     "text": [
      "      2.85  3.24e+03     1e+04      32.5: 100%|██████████| 79/79 [00:01<00:00, 70.27it/s]"
     ]
    },
    {
     "name": "stdout",
     "output_type": "stream",
     "text": [
      "\n",
      "module_idx:  1, percent:0.75\n",
      "\n",
      " test_loss   correct     total       Acc\n"
     ]
    },
    {
     "name": "stderr",
     "output_type": "stream",
     "text": [
      "\n",
      "      3.16  2.69e+03     1e+04      26.9: 100%|██████████| 79/79 [00:01<00:00, 73.84it/s]"
     ]
    },
    {
     "name": "stdout",
     "output_type": "stream",
     "text": [
      "\n",
      "module_idx:  1, percent:0.8\n",
      "\n",
      " test_loss   correct     total       Acc\n"
     ]
    },
    {
     "name": "stderr",
     "output_type": "stream",
     "text": [
      "\n",
      "      4.32  1.78e+03     1e+04      17.8: 100%|██████████| 79/79 [00:01<00:00, 75.35it/s]"
     ]
    },
    {
     "name": "stdout",
     "output_type": "stream",
     "text": [
      "\n",
      "module_idx:  1, percent:0.85\n",
      "\n",
      " test_loss   correct     total       Acc\n"
     ]
    },
    {
     "name": "stderr",
     "output_type": "stream",
     "text": [
      "\n",
      "      4.28  1.43e+03     1e+04      14.3: 100%|██████████| 79/79 [00:01<00:00, 73.12it/s]"
     ]
    },
    {
     "name": "stdout",
     "output_type": "stream",
     "text": [
      "\n",
      "module_idx:  1, percent:0.9\n",
      "\n",
      " test_loss   correct     total       Acc\n"
     ]
    },
    {
     "name": "stderr",
     "output_type": "stream",
     "text": [
      "\n",
      "      6.19     1e+03     1e+04        10: 100%|██████████| 79/79 [00:01<00:00, 71.97it/s]\n"
     ]
    },
    {
     "name": "stdout",
     "output_type": "stream",
     "text": [
      "\n",
      "module_idx:  1, percent:0.95\n",
      "\n",
      " test_loss   correct     total       Acc\n"
     ]
    },
    {
     "name": "stderr",
     "output_type": "stream",
     "text": [
      "      6.18     1e+03     1e+04        10: 100%|██████████| 79/79 [00:01<00:00, 71.84it/s]"
     ]
    },
    {
     "name": "stdout",
     "output_type": "stream",
     "text": [
      "\n",
      "module_idx:  2, percent:  0\n",
      "\n",
      " test_loss   correct     total       Acc\n"
     ]
    },
    {
     "name": "stderr",
     "output_type": "stream",
     "text": [
      "\n",
      "     0.277  9.39e+03     1e+04      93.9: 100%|██████████| 79/79 [00:01<00:00, 73.70it/s]"
     ]
    },
    {
     "name": "stdout",
     "output_type": "stream",
     "text": [
      "\n",
      "module_idx:  2, percent:0.05\n",
      "\n",
      " test_loss   correct     total       Acc\n"
     ]
    },
    {
     "name": "stderr",
     "output_type": "stream",
     "text": [
      "\n",
      "     0.277  9.39e+03     1e+04      93.9: 100%|██████████| 79/79 [00:01<00:00, 72.20it/s]"
     ]
    },
    {
     "name": "stdout",
     "output_type": "stream",
     "text": [
      "\n",
      "module_idx:  2, percent:0.1\n",
      "\n",
      " test_loss   correct     total       Acc\n"
     ]
    },
    {
     "name": "stderr",
     "output_type": "stream",
     "text": [
      "\n",
      "     0.277  9.39e+03     1e+04      93.9: 100%|██████████| 79/79 [00:01<00:00, 72.68it/s]\n"
     ]
    },
    {
     "name": "stdout",
     "output_type": "stream",
     "text": [
      "\n",
      "module_idx:  2, percent:0.15\n",
      "\n",
      " test_loss   correct     total       Acc\n"
     ]
    },
    {
     "name": "stderr",
     "output_type": "stream",
     "text": [
      "     0.279  9.39e+03     1e+04      93.9: 100%|██████████| 79/79 [00:01<00:00, 72.19it/s]"
     ]
    },
    {
     "name": "stdout",
     "output_type": "stream",
     "text": [
      "\n",
      "module_idx:  2, percent:0.2\n",
      "\n",
      " test_loss   correct     total       Acc\n"
     ]
    },
    {
     "name": "stderr",
     "output_type": "stream",
     "text": [
      "\n",
      "     0.295  9.36e+03     1e+04      93.6: 100%|██████████| 79/79 [00:01<00:00, 72.34it/s]"
     ]
    },
    {
     "name": "stdout",
     "output_type": "stream",
     "text": [
      "\n",
      "module_idx:  2, percent:0.25\n",
      "\n",
      " test_loss   correct     total       Acc\n"
     ]
    },
    {
     "name": "stderr",
     "output_type": "stream",
     "text": [
      "\n",
      "     0.315  9.32e+03     1e+04      93.2: 100%|██████████| 79/79 [00:01<00:00, 72.31it/s]"
     ]
    },
    {
     "name": "stdout",
     "output_type": "stream",
     "text": [
      "\n",
      "module_idx:  2, percent:0.3\n",
      "\n",
      " test_loss   correct     total       Acc\n"
     ]
    },
    {
     "name": "stderr",
     "output_type": "stream",
     "text": [
      "\n",
      "     0.375   9.2e+03     1e+04        92: 100%|██████████| 79/79 [00:01<00:00, 71.54it/s]\n"
     ]
    },
    {
     "name": "stdout",
     "output_type": "stream",
     "text": [
      "\n",
      "module_idx:  2, percent:0.35\n",
      "\n",
      " test_loss   correct     total       Acc\n"
     ]
    },
    {
     "name": "stderr",
     "output_type": "stream",
     "text": [
      "     0.435   9.1e+03     1e+04        91: 100%|██████████| 79/79 [00:01<00:00, 73.52it/s]\n"
     ]
    },
    {
     "name": "stdout",
     "output_type": "stream",
     "text": [
      "\n",
      "module_idx:  2, percent:0.4\n",
      "\n",
      " test_loss   correct     total       Acc\n"
     ]
    },
    {
     "name": "stderr",
     "output_type": "stream",
     "text": [
      "     0.509  8.95e+03     1e+04      89.5: 100%|██████████| 79/79 [00:01<00:00, 72.98it/s]"
     ]
    },
    {
     "name": "stdout",
     "output_type": "stream",
     "text": [
      "\n",
      "module_idx:  2, percent:0.45\n",
      "\n",
      " test_loss   correct     total       Acc\n"
     ]
    },
    {
     "name": "stderr",
     "output_type": "stream",
     "text": [
      "\n",
      "     0.615   8.7e+03     1e+04        87: 100%|██████████| 79/79 [00:01<00:00, 74.55it/s]\n"
     ]
    },
    {
     "name": "stdout",
     "output_type": "stream",
     "text": [
      "\n",
      "module_idx:  2, percent:0.5\n",
      "\n",
      " test_loss   correct     total       Acc\n"
     ]
    },
    {
     "name": "stderr",
     "output_type": "stream",
     "text": [
      "      0.67  8.56e+03     1e+04      85.6: 100%|██████████| 79/79 [00:01<00:00, 71.71it/s]"
     ]
    },
    {
     "name": "stdout",
     "output_type": "stream",
     "text": [
      "\n",
      "module_idx:  2, percent:0.55\n",
      "\n",
      " test_loss   correct     total       Acc\n"
     ]
    },
    {
     "name": "stderr",
     "output_type": "stream",
     "text": [
      "\n",
      "     0.799  8.31e+03     1e+04      83.1: 100%|██████████| 79/79 [00:01<00:00, 75.10it/s]"
     ]
    },
    {
     "name": "stdout",
     "output_type": "stream",
     "text": [
      "\n",
      "module_idx:  2, percent:0.6\n",
      "\n",
      " test_loss   correct     total       Acc\n"
     ]
    },
    {
     "name": "stderr",
     "output_type": "stream",
     "text": [
      "\n",
      "      1.44  7.18e+03     1e+04      71.8: 100%|██████████| 79/79 [00:01<00:00, 71.15it/s]\n"
     ]
    },
    {
     "name": "stdout",
     "output_type": "stream",
     "text": [
      "\n",
      "module_idx:  2, percent:0.65\n",
      "\n",
      " test_loss   correct     total       Acc\n"
     ]
    },
    {
     "name": "stderr",
     "output_type": "stream",
     "text": [
      "      2.68  5.21e+03     1e+04      52.1: 100%|██████████| 79/79 [00:01<00:00, 73.32it/s]"
     ]
    },
    {
     "name": "stdout",
     "output_type": "stream",
     "text": [
      "\n",
      "module_idx:  2, percent:0.7\n",
      "\n",
      " test_loss   correct     total       Acc\n"
     ]
    },
    {
     "name": "stderr",
     "output_type": "stream",
     "text": [
      "\n",
      "      4.64  2.95e+03     1e+04      29.5: 100%|██████████| 79/79 [00:01<00:00, 74.01it/s]"
     ]
    },
    {
     "name": "stdout",
     "output_type": "stream",
     "text": [
      "\n",
      "module_idx:  2, percent:0.75\n",
      "\n",
      " test_loss   correct     total       Acc\n"
     ]
    },
    {
     "name": "stderr",
     "output_type": "stream",
     "text": [
      "\n",
      "      6.68  1.38e+03     1e+04      13.8: 100%|██████████| 79/79 [00:01<00:00, 74.85it/s]\n"
     ]
    },
    {
     "name": "stdout",
     "output_type": "stream",
     "text": [
      "\n",
      "module_idx:  2, percent:0.8\n",
      "\n",
      " test_loss   correct     total       Acc\n"
     ]
    },
    {
     "name": "stderr",
     "output_type": "stream",
     "text": [
      "      7.02  1.08e+03     1e+04      10.8: 100%|██████████| 79/79 [00:01<00:00, 75.21it/s]"
     ]
    },
    {
     "name": "stdout",
     "output_type": "stream",
     "text": [
      "\n",
      "module_idx:  2, percent:0.85\n",
      "\n",
      " test_loss   correct     total       Acc\n"
     ]
    },
    {
     "name": "stderr",
     "output_type": "stream",
     "text": [
      "\n",
      "      6.23  1.04e+03     1e+04      10.4: 100%|██████████| 79/79 [00:01<00:00, 76.17it/s]\n"
     ]
    },
    {
     "name": "stdout",
     "output_type": "stream",
     "text": [
      "\n",
      "module_idx:  2, percent:0.9\n",
      "\n",
      " test_loss   correct     total       Acc\n"
     ]
    },
    {
     "name": "stderr",
     "output_type": "stream",
     "text": [
      "      5.08       949     1e+04      9.49: 100%|██████████| 79/79 [00:01<00:00, 75.55it/s]"
     ]
    },
    {
     "name": "stdout",
     "output_type": "stream",
     "text": [
      "\n",
      "module_idx:  2, percent:0.95\n",
      "\n",
      " test_loss   correct     total       Acc\n"
     ]
    },
    {
     "name": "stderr",
     "output_type": "stream",
     "text": [
      "\n",
      "      4.07  1.08e+03     1e+04      10.8: 100%|██████████| 79/79 [00:01<00:00, 72.60it/s]"
     ]
    },
    {
     "name": "stdout",
     "output_type": "stream",
     "text": [
      "\n",
      "module_idx:  3, percent:  0\n",
      "\n",
      " test_loss   correct     total       Acc\n"
     ]
    },
    {
     "name": "stderr",
     "output_type": "stream",
     "text": [
      "\n",
      "     0.277  9.39e+03     1e+04      93.9: 100%|██████████| 79/79 [00:01<00:00, 74.75it/s]\n"
     ]
    },
    {
     "name": "stdout",
     "output_type": "stream",
     "text": [
      "\n",
      "module_idx:  3, percent:0.05\n",
      "\n",
      " test_loss   correct     total       Acc\n"
     ]
    },
    {
     "name": "stderr",
     "output_type": "stream",
     "text": [
      "     0.309  9.33e+03     1e+04      93.3: 100%|██████████| 79/79 [00:01<00:00, 74.08it/s]\n"
     ]
    },
    {
     "name": "stdout",
     "output_type": "stream",
     "text": [
      "\n",
      "module_idx:  3, percent:0.1\n",
      "\n",
      " test_loss   correct     total       Acc\n"
     ]
    },
    {
     "name": "stderr",
     "output_type": "stream",
     "text": [
      "     0.351  9.23e+03     1e+04      92.3: 100%|██████████| 79/79 [00:01<00:00, 74.21it/s]"
     ]
    },
    {
     "name": "stdout",
     "output_type": "stream",
     "text": [
      "\n",
      "module_idx:  3, percent:0.15\n",
      "\n",
      " test_loss   correct     total       Acc\n"
     ]
    },
    {
     "name": "stderr",
     "output_type": "stream",
     "text": [
      "\n",
      "     0.392  9.12e+03     1e+04      91.2: 100%|██████████| 79/79 [00:01<00:00, 66.65it/s]\n"
     ]
    },
    {
     "name": "stdout",
     "output_type": "stream",
     "text": [
      "\n",
      "module_idx:  3, percent:0.2\n",
      "\n",
      " test_loss   correct     total       Acc\n"
     ]
    },
    {
     "name": "stderr",
     "output_type": "stream",
     "text": [
      "     0.421  9.04e+03     1e+04      90.4: 100%|██████████| 79/79 [00:01<00:00, 73.30it/s]\n"
     ]
    },
    {
     "name": "stdout",
     "output_type": "stream",
     "text": [
      "\n",
      "module_idx:  3, percent:0.25\n",
      "\n",
      " test_loss   correct     total       Acc\n"
     ]
    },
    {
     "name": "stderr",
     "output_type": "stream",
     "text": [
      "     0.494  8.86e+03     1e+04      88.6: 100%|██████████| 79/79 [00:01<00:00, 72.97it/s]\n"
     ]
    },
    {
     "name": "stdout",
     "output_type": "stream",
     "text": [
      "\n",
      "module_idx:  3, percent:0.3\n",
      "\n",
      " test_loss   correct     total       Acc\n"
     ]
    },
    {
     "name": "stderr",
     "output_type": "stream",
     "text": [
      "     0.529  8.73e+03     1e+04      87.3: 100%|██████████| 79/79 [00:01<00:00, 70.15it/s]"
     ]
    },
    {
     "name": "stdout",
     "output_type": "stream",
     "text": [
      "\n",
      "module_idx:  3, percent:0.35\n",
      "\n",
      " test_loss   correct     total       Acc\n"
     ]
    },
    {
     "name": "stderr",
     "output_type": "stream",
     "text": [
      "\n",
      "      0.54  8.65e+03     1e+04      86.5: 100%|██████████| 79/79 [00:01<00:00, 71.66it/s]\n"
     ]
    },
    {
     "name": "stdout",
     "output_type": "stream",
     "text": [
      "\n",
      "module_idx:  3, percent:0.4\n",
      "\n",
      " test_loss   correct     total       Acc\n"
     ]
    },
    {
     "name": "stderr",
     "output_type": "stream",
     "text": [
      "     0.717   8.2e+03     1e+04        82: 100%|██████████| 79/79 [00:01<00:00, 70.64it/s]\n"
     ]
    },
    {
     "name": "stdout",
     "output_type": "stream",
     "text": [
      "\n",
      "module_idx:  3, percent:0.45\n",
      "\n",
      " test_loss   correct     total       Acc\n"
     ]
    },
    {
     "name": "stderr",
     "output_type": "stream",
     "text": [
      "     0.839  7.88e+03     1e+04      78.8: 100%|██████████| 79/79 [00:01<00:00, 70.86it/s]\n"
     ]
    },
    {
     "name": "stdout",
     "output_type": "stream",
     "text": [
      "\n",
      "module_idx:  3, percent:0.5\n",
      "\n",
      " test_loss   correct     total       Acc\n"
     ]
    },
    {
     "name": "stderr",
     "output_type": "stream",
     "text": [
      "       1.3  6.77e+03     1e+04      67.7: 100%|██████████| 79/79 [00:01<00:00, 71.67it/s]"
     ]
    },
    {
     "name": "stdout",
     "output_type": "stream",
     "text": [
      "\n",
      "module_idx:  3, percent:0.55\n",
      "\n",
      " test_loss   correct     total       Acc\n"
     ]
    },
    {
     "name": "stderr",
     "output_type": "stream",
     "text": [
      "\n",
      "      1.55  5.88e+03     1e+04      58.8: 100%|██████████| 79/79 [00:01<00:00, 72.60it/s]"
     ]
    },
    {
     "name": "stdout",
     "output_type": "stream",
     "text": [
      "\n",
      "module_idx:  3, percent:0.6\n",
      "\n",
      " test_loss   correct     total       Acc\n"
     ]
    },
    {
     "name": "stderr",
     "output_type": "stream",
     "text": [
      "\n",
      "      2.55  4.05e+03     1e+04      40.5: 100%|██████████| 79/79 [00:01<00:00, 73.17it/s]"
     ]
    },
    {
     "name": "stdout",
     "output_type": "stream",
     "text": [
      "\n",
      "module_idx:  3, percent:0.65\n",
      "\n",
      " test_loss   correct     total       Acc\n"
     ]
    },
    {
     "name": "stderr",
     "output_type": "stream",
     "text": [
      "\n",
      "      3.03   2.8e+03     1e+04        28: 100%|██████████| 79/79 [00:01<00:00, 71.01it/s]\n"
     ]
    },
    {
     "name": "stdout",
     "output_type": "stream",
     "text": [
      "\n",
      "module_idx:  3, percent:0.7\n",
      "\n",
      " test_loss   correct     total       Acc\n"
     ]
    },
    {
     "name": "stderr",
     "output_type": "stream",
     "text": [
      "      3.32  1.96e+03     1e+04      19.6: 100%|██████████| 79/79 [00:01<00:00, 72.30it/s]\n"
     ]
    },
    {
     "name": "stdout",
     "output_type": "stream",
     "text": [
      "\n",
      "module_idx:  3, percent:0.75\n",
      "\n",
      " test_loss   correct     total       Acc\n"
     ]
    },
    {
     "name": "stderr",
     "output_type": "stream",
     "text": [
      "      3.15  1.39e+03     1e+04      13.9: 100%|██████████| 79/79 [00:01<00:00, 71.52it/s]"
     ]
    },
    {
     "name": "stdout",
     "output_type": "stream",
     "text": [
      "\n",
      "module_idx:  3, percent:0.8\n",
      "\n",
      " test_loss   correct     total       Acc\n"
     ]
    },
    {
     "name": "stderr",
     "output_type": "stream",
     "text": [
      "\n",
      "      3.22  1.16e+03     1e+04      11.6: 100%|██████████| 79/79 [00:01<00:00, 74.97it/s]\n"
     ]
    },
    {
     "name": "stdout",
     "output_type": "stream",
     "text": [
      "\n",
      "module_idx:  3, percent:0.85\n",
      "\n",
      " test_loss   correct     total       Acc\n"
     ]
    },
    {
     "name": "stderr",
     "output_type": "stream",
     "text": [
      "      3.14  1.02e+03     1e+04      10.2: 100%|██████████| 79/79 [00:01<00:00, 74.89it/s]"
     ]
    },
    {
     "name": "stdout",
     "output_type": "stream",
     "text": [
      "\n",
      "module_idx:  3, percent:0.9\n",
      "\n",
      " test_loss   correct     total       Acc\n"
     ]
    },
    {
     "name": "stderr",
     "output_type": "stream",
     "text": [
      "\n",
      "      2.96  1.02e+03     1e+04      10.2: 100%|██████████| 79/79 [00:01<00:00, 73.23it/s]"
     ]
    },
    {
     "name": "stdout",
     "output_type": "stream",
     "text": [
      "\n",
      "module_idx:  3, percent:0.95\n",
      "\n",
      " test_loss   correct     total       Acc\n"
     ]
    },
    {
     "name": "stderr",
     "output_type": "stream",
     "text": [
      "\n",
      "       2.9  1.06e+03     1e+04      10.6: 100%|██████████| 79/79 [00:01<00:00, 71.17it/s]\n"
     ]
    },
    {
     "name": "stdout",
     "output_type": "stream",
     "text": [
      "\n",
      "module_idx:  4, percent:  0\n",
      "\n",
      " test_loss   correct     total       Acc\n"
     ]
    },
    {
     "name": "stderr",
     "output_type": "stream",
     "text": [
      "     0.277  9.39e+03     1e+04      93.9: 100%|██████████| 79/79 [00:01<00:00, 73.47it/s]\n"
     ]
    },
    {
     "name": "stdout",
     "output_type": "stream",
     "text": [
      "\n",
      "module_idx:  4, percent:0.05\n",
      "\n",
      " test_loss   correct     total       Acc\n"
     ]
    },
    {
     "name": "stderr",
     "output_type": "stream",
     "text": [
      "     0.277  9.39e+03     1e+04      93.9: 100%|██████████| 79/79 [00:01<00:00, 73.72it/s]\n"
     ]
    },
    {
     "name": "stdout",
     "output_type": "stream",
     "text": [
      "\n",
      "module_idx:  4, percent:0.1\n",
      "\n",
      " test_loss   correct     total       Acc\n"
     ]
    },
    {
     "name": "stderr",
     "output_type": "stream",
     "text": [
      "     0.278  9.38e+03     1e+04      93.8: 100%|██████████| 79/79 [00:01<00:00, 72.40it/s]\n"
     ]
    },
    {
     "name": "stdout",
     "output_type": "stream",
     "text": [
      "\n",
      "module_idx:  4, percent:0.15\n",
      "\n",
      " test_loss   correct     total       Acc\n"
     ]
    },
    {
     "name": "stderr",
     "output_type": "stream",
     "text": [
      "     0.284  9.37e+03     1e+04      93.7: 100%|██████████| 79/79 [00:01<00:00, 71.11it/s]\n"
     ]
    },
    {
     "name": "stdout",
     "output_type": "stream",
     "text": [
      "\n",
      "module_idx:  4, percent:0.2\n",
      "\n",
      " test_loss   correct     total       Acc\n"
     ]
    },
    {
     "name": "stderr",
     "output_type": "stream",
     "text": [
      "     0.311  9.33e+03     1e+04      93.3: 100%|██████████| 79/79 [00:01<00:00, 73.89it/s]\n"
     ]
    },
    {
     "name": "stdout",
     "output_type": "stream",
     "text": [
      "\n",
      "module_idx:  4, percent:0.25\n",
      "\n",
      " test_loss   correct     total       Acc\n"
     ]
    },
    {
     "name": "stderr",
     "output_type": "stream",
     "text": [
      "      0.34  9.24e+03     1e+04      92.5: 100%|██████████| 79/79 [00:01<00:00, 71.05it/s]"
     ]
    },
    {
     "name": "stdout",
     "output_type": "stream",
     "text": [
      "\n",
      "module_idx:  4, percent:0.3\n",
      "\n",
      " test_loss   correct     total       Acc\n"
     ]
    },
    {
     "name": "stderr",
     "output_type": "stream",
     "text": [
      "\n",
      "     0.375  9.17e+03     1e+04      91.7: 100%|██████████| 79/79 [00:01<00:00, 71.63it/s]"
     ]
    },
    {
     "name": "stdout",
     "output_type": "stream",
     "text": [
      "\n",
      "module_idx:  4, percent:0.35\n",
      "\n",
      " test_loss   correct     total       Acc\n"
     ]
    },
    {
     "name": "stderr",
     "output_type": "stream",
     "text": [
      "\n",
      "     0.406  9.10e+03     1e+04        91: 100%|██████████| 79/79 [00:01<00:00, 72.84it/s]\n"
     ]
    },
    {
     "name": "stdout",
     "output_type": "stream",
     "text": [
      "\n",
      "module_idx:  4, percent:0.4\n",
      "\n",
      " test_loss   correct     total       Acc\n"
     ]
    },
    {
     "name": "stderr",
     "output_type": "stream",
     "text": [
      "     0.461  8.97e+03     1e+04      89.7: 100%|██████████| 79/79 [00:01<00:00, 74.93it/s]"
     ]
    },
    {
     "name": "stdout",
     "output_type": "stream",
     "text": [
      "\n",
      "module_idx:  4, percent:0.45\n",
      "\n",
      " test_loss   correct     total       Acc\n"
     ]
    },
    {
     "name": "stderr",
     "output_type": "stream",
     "text": [
      "\n",
      "     0.562  8.76e+03     1e+04      87.6: 100%|██████████| 79/79 [00:01<00:00, 74.53it/s]\n"
     ]
    },
    {
     "name": "stdout",
     "output_type": "stream",
     "text": [
      "\n",
      "module_idx:  4, percent:0.5\n",
      "\n",
      " test_loss   correct     total       Acc\n"
     ]
    },
    {
     "name": "stderr",
     "output_type": "stream",
     "text": [
      "     0.783  8.26e+03     1e+04      82.6: 100%|██████████| 79/79 [00:01<00:00, 73.36it/s]"
     ]
    },
    {
     "name": "stdout",
     "output_type": "stream",
     "text": [
      "\n",
      "module_idx:  4, percent:0.55\n",
      "\n",
      " test_loss   correct     total       Acc\n"
     ]
    },
    {
     "name": "stderr",
     "output_type": "stream",
     "text": [
      "\n",
      "     0.999  7.81e+03     1e+04      78.1: 100%|██████████| 79/79 [00:01<00:00, 71.87it/s]\n"
     ]
    },
    {
     "name": "stdout",
     "output_type": "stream",
     "text": [
      "\n",
      "module_idx:  4, percent:0.6\n",
      "\n",
      " test_loss   correct     total       Acc\n"
     ]
    },
    {
     "name": "stderr",
     "output_type": "stream",
     "text": [
      "      1.23  7.34e+03     1e+04      73.4: 100%|██████████| 79/79 [00:01<00:00, 73.13it/s]\n"
     ]
    },
    {
     "name": "stdout",
     "output_type": "stream",
     "text": [
      "\n",
      "module_idx:  4, percent:0.65\n",
      "\n",
      " test_loss   correct     total       Acc\n"
     ]
    },
    {
     "name": "stderr",
     "output_type": "stream",
     "text": [
      "      1.52  6.72e+03     1e+04      67.2: 100%|██████████| 79/79 [00:01<00:00, 72.55it/s]\n"
     ]
    },
    {
     "name": "stdout",
     "output_type": "stream",
     "text": [
      "\n",
      "module_idx:  4, percent:0.7\n",
      "\n",
      " test_loss   correct     total       Acc\n"
     ]
    },
    {
     "name": "stderr",
     "output_type": "stream",
     "text": [
      "      2.01  5.73e+03     1e+04      57.3: 100%|██████████| 79/79 [00:01<00:00, 73.69it/s]"
     ]
    },
    {
     "name": "stdout",
     "output_type": "stream",
     "text": [
      "\n",
      "module_idx:  4, percent:0.75\n",
      "\n",
      " test_loss   correct     total       Acc\n"
     ]
    },
    {
     "name": "stderr",
     "output_type": "stream",
     "text": [
      "\n",
      "      2.74  4.52e+03     1e+04      45.2: 100%|██████████| 79/79 [00:01<00:00, 72.56it/s]\n"
     ]
    },
    {
     "name": "stdout",
     "output_type": "stream",
     "text": [
      "\n",
      "module_idx:  4, percent:0.8\n",
      "\n",
      " test_loss   correct     total       Acc\n"
     ]
    },
    {
     "name": "stderr",
     "output_type": "stream",
     "text": [
      "      3.27  3.48e+03     1e+04      34.8: 100%|██████████| 79/79 [00:01<00:00, 71.41it/s]"
     ]
    },
    {
     "name": "stdout",
     "output_type": "stream",
     "text": [
      "\n",
      "module_idx:  4, percent:0.85\n",
      "\n",
      " test_loss   correct     total       Acc\n"
     ]
    },
    {
     "name": "stderr",
     "output_type": "stream",
     "text": [
      "\n",
      "      3.63  2.75e+03     1e+04      27.5: 100%|██████████| 79/79 [00:01<00:00, 73.12it/s]"
     ]
    },
    {
     "name": "stdout",
     "output_type": "stream",
     "text": [
      "\n",
      "module_idx:  4, percent:0.9\n",
      "\n",
      " test_loss   correct     total       Acc\n"
     ]
    },
    {
     "name": "stderr",
     "output_type": "stream",
     "text": [
      "\n",
      "      3.66  2.04e+03     1e+04      20.4: 100%|██████████| 79/79 [00:01<00:00, 75.98it/s]\n"
     ]
    },
    {
     "name": "stdout",
     "output_type": "stream",
     "text": [
      "\n",
      "module_idx:  4, percent:0.95\n",
      "\n",
      " test_loss   correct     total       Acc\n"
     ]
    },
    {
     "name": "stderr",
     "output_type": "stream",
     "text": [
      "      4.02  1.36e+03     1e+04      13.6: 100%|██████████| 79/79 [00:01<00:00, 72.11it/s]\n"
     ]
    },
    {
     "name": "stdout",
     "output_type": "stream",
     "text": [
      "\n",
      "module_idx:  5, percent:  0\n",
      "\n",
      " test_loss   correct     total       Acc\n"
     ]
    },
    {
     "name": "stderr",
     "output_type": "stream",
     "text": [
      "     0.277  9.39e+03     1e+04      93.9: 100%|██████████| 79/79 [00:01<00:00, 72.78it/s]"
     ]
    },
    {
     "name": "stdout",
     "output_type": "stream",
     "text": [
      "\n",
      "module_idx:  5, percent:0.05\n",
      "\n",
      " test_loss   correct     total       Acc\n"
     ]
    },
    {
     "name": "stderr",
     "output_type": "stream",
     "text": [
      "\n",
      "     0.277  9.39e+03     1e+04      93.9: 100%|██████████| 79/79 [00:01<00:00, 70.32it/s]"
     ]
    },
    {
     "name": "stdout",
     "output_type": "stream",
     "text": [
      "\n",
      "module_idx:  5, percent:0.1\n",
      "\n",
      " test_loss   correct     total       Acc\n"
     ]
    },
    {
     "name": "stderr",
     "output_type": "stream",
     "text": [
      "\n",
      "     0.277  9.39e+03     1e+04      93.9: 100%|██████████| 79/79 [00:01<00:00, 73.61it/s]"
     ]
    },
    {
     "name": "stdout",
     "output_type": "stream",
     "text": [
      "\n",
      "module_idx:  5, percent:0.15\n",
      "\n",
      " test_loss   correct     total       Acc\n"
     ]
    },
    {
     "name": "stderr",
     "output_type": "stream",
     "text": [
      "\n",
      "     0.277  9.39e+03     1e+04      93.9: 100%|██████████| 79/79 [00:01<00:00, 72.65it/s]\n"
     ]
    },
    {
     "name": "stdout",
     "output_type": "stream",
     "text": [
      "\n",
      "module_idx:  5, percent:0.2\n",
      "\n",
      " test_loss   correct     total       Acc\n"
     ]
    },
    {
     "name": "stderr",
     "output_type": "stream",
     "text": [
      "     0.277  9.39e+03     1e+04      93.9: 100%|██████████| 79/79 [00:01<00:00, 72.00it/s]"
     ]
    },
    {
     "name": "stdout",
     "output_type": "stream",
     "text": [
      "\n",
      "module_idx:  5, percent:0.25\n",
      "\n",
      " test_loss   correct     total       Acc\n"
     ]
    },
    {
     "name": "stderr",
     "output_type": "stream",
     "text": [
      "\n",
      "     0.282  9.38e+03     1e+04      93.8: 100%|██████████| 79/79 [00:01<00:00, 71.09it/s]\n"
     ]
    },
    {
     "name": "stdout",
     "output_type": "stream",
     "text": [
      "\n",
      "module_idx:  5, percent:0.3\n",
      "\n",
      " test_loss   correct     total       Acc\n"
     ]
    },
    {
     "name": "stderr",
     "output_type": "stream",
     "text": [
      "     0.299  9.33e+03     1e+04      93.3: 100%|██████████| 79/79 [00:01<00:00, 73.47it/s]"
     ]
    },
    {
     "name": "stdout",
     "output_type": "stream",
     "text": [
      "\n",
      "module_idx:  5, percent:0.35\n",
      "\n",
      " test_loss   correct     total       Acc\n"
     ]
    },
    {
     "name": "stderr",
     "output_type": "stream",
     "text": [
      "\n",
      "     0.311   9.3e+03     1e+04        93: 100%|██████████| 79/79 [00:01<00:00, 72.03it/s]\n"
     ]
    },
    {
     "name": "stdout",
     "output_type": "stream",
     "text": [
      "\n",
      "module_idx:  5, percent:0.4\n",
      "\n",
      " test_loss   correct     total       Acc\n"
     ]
    },
    {
     "name": "stderr",
     "output_type": "stream",
     "text": [
      "     0.347  9.21e+03     1e+04      92.1: 100%|██████████| 79/79 [00:01<00:00, 73.78it/s]"
     ]
    },
    {
     "name": "stdout",
     "output_type": "stream",
     "text": [
      "\n",
      "module_idx:  5, percent:0.45\n",
      "\n",
      " test_loss   correct     total       Acc\n"
     ]
    },
    {
     "name": "stderr",
     "output_type": "stream",
     "text": [
      "\n",
      "     0.382  9.07e+03     1e+04      90.7: 100%|██████████| 79/79 [00:01<00:00, 72.35it/s]\n"
     ]
    },
    {
     "name": "stdout",
     "output_type": "stream",
     "text": [
      "\n",
      "module_idx:  5, percent:0.5\n",
      "\n",
      " test_loss   correct     total       Acc\n"
     ]
    },
    {
     "name": "stderr",
     "output_type": "stream",
     "text": [
      "     0.458  8.89e+03     1e+04      88.9: 100%|██████████| 79/79 [00:01<00:00, 72.98it/s]\n"
     ]
    },
    {
     "name": "stdout",
     "output_type": "stream",
     "text": [
      "\n",
      "module_idx:  5, percent:0.55\n",
      "\n",
      " test_loss   correct     total       Acc\n"
     ]
    },
    {
     "name": "stderr",
     "output_type": "stream",
     "text": [
      "     0.496  8.76e+03     1e+04      87.6: 100%|██████████| 79/79 [00:01<00:00, 72.71it/s]\n"
     ]
    },
    {
     "name": "stdout",
     "output_type": "stream",
     "text": [
      "\n",
      "module_idx:  5, percent:0.6\n",
      "\n",
      " test_loss   correct     total       Acc\n"
     ]
    },
    {
     "name": "stderr",
     "output_type": "stream",
     "text": [
      "      0.65  8.29e+03     1e+04      82.9: 100%|██████████| 79/79 [00:01<00:00, 71.38it/s]\n"
     ]
    },
    {
     "name": "stdout",
     "output_type": "stream",
     "text": [
      "\n",
      "module_idx:  5, percent:0.65\n",
      "\n",
      " test_loss   correct     total       Acc\n"
     ]
    },
    {
     "name": "stderr",
     "output_type": "stream",
     "text": [
      "      0.71  8.11e+03     1e+04      81.1: 100%|██████████| 79/79 [00:01<00:00, 72.74it/s]"
     ]
    },
    {
     "name": "stdout",
     "output_type": "stream",
     "text": [
      "\n",
      "module_idx:  5, percent:0.7\n",
      "\n",
      " test_loss   correct     total       Acc\n"
     ]
    },
    {
     "name": "stderr",
     "output_type": "stream",
     "text": [
      "\n",
      "     0.845  7.74e+03     1e+04      77.4: 100%|██████████| 79/79 [00:01<00:00, 72.89it/s]"
     ]
    },
    {
     "name": "stdout",
     "output_type": "stream",
     "text": [
      "\n",
      "module_idx:  5, percent:0.75\n",
      "\n",
      " test_loss   correct     total       Acc\n"
     ]
    },
    {
     "name": "stderr",
     "output_type": "stream",
     "text": [
      "\n",
      "      1.19   6.9e+03     1e+04        69: 100%|██████████| 79/79 [00:01<00:00, 73.18it/s]\n"
     ]
    },
    {
     "name": "stdout",
     "output_type": "stream",
     "text": [
      "\n",
      "module_idx:  5, percent:0.8\n",
      "\n",
      " test_loss   correct     total       Acc\n"
     ]
    },
    {
     "name": "stderr",
     "output_type": "stream",
     "text": [
      "      1.42  6.16e+03     1e+04      61.6: 100%|██████████| 79/79 [00:01<00:00, 73.25it/s]"
     ]
    },
    {
     "name": "stdout",
     "output_type": "stream",
     "text": [
      "\n",
      "module_idx:  5, percent:0.85\n",
      "\n",
      " test_loss   correct     total       Acc\n"
     ]
    },
    {
     "name": "stderr",
     "output_type": "stream",
     "text": [
      "\n",
      "      2.05  4.66e+03     1e+04      46.6: 100%|██████████| 79/79 [00:01<00:00, 71.65it/s]"
     ]
    },
    {
     "name": "stdout",
     "output_type": "stream",
     "text": [
      "\n",
      "module_idx:  5, percent:0.9\n",
      "\n",
      " test_loss   correct     total       Acc\n"
     ]
    },
    {
     "name": "stderr",
     "output_type": "stream",
     "text": [
      "\n",
      "      2.75  3.22e+03     1e+04      32.2: 100%|██████████| 79/79 [00:01<00:00, 72.29it/s]\n"
     ]
    },
    {
     "name": "stdout",
     "output_type": "stream",
     "text": [
      "\n",
      "module_idx:  5, percent:0.95\n",
      "\n",
      " test_loss   correct     total       Acc\n"
     ]
    },
    {
     "name": "stderr",
     "output_type": "stream",
     "text": [
      "      3.45  2.21e+03     1e+04      22.1: 100%|██████████| 79/79 [00:01<00:00, 75.66it/s]\n"
     ]
    },
    {
     "name": "stdout",
     "output_type": "stream",
     "text": [
      "\n",
      "module_idx:  6, percent:  0\n",
      "\n",
      " test_loss   correct     total       Acc\n"
     ]
    },
    {
     "name": "stderr",
     "output_type": "stream",
     "text": [
      "     0.277  9.39e+03     1e+04      93.9: 100%|██████████| 79/79 [00:01<00:00, 72.10it/s]\n"
     ]
    },
    {
     "name": "stdout",
     "output_type": "stream",
     "text": [
      "\n",
      "module_idx:  6, percent:0.05\n",
      "\n",
      " test_loss   correct     total       Acc\n"
     ]
    },
    {
     "name": "stderr",
     "output_type": "stream",
     "text": [
      "     0.277  9.39e+03     1e+04      93.9: 100%|██████████| 79/79 [00:01<00:00, 71.85it/s]\n"
     ]
    },
    {
     "name": "stdout",
     "output_type": "stream",
     "text": [
      "\n",
      "module_idx:  6, percent:0.1\n",
      "\n",
      " test_loss   correct     total       Acc\n"
     ]
    },
    {
     "name": "stderr",
     "output_type": "stream",
     "text": [
      "     0.277  9.39e+03     1e+04      93.9: 100%|██████████| 79/79 [00:01<00:00, 71.84it/s]\n"
     ]
    },
    {
     "name": "stdout",
     "output_type": "stream",
     "text": [
      "\n",
      "module_idx:  6, percent:0.15\n",
      "\n",
      " test_loss   correct     total       Acc\n"
     ]
    },
    {
     "name": "stderr",
     "output_type": "stream",
     "text": [
      "     0.277  9.39e+03     1e+04      93.9: 100%|██████████| 79/79 [00:01<00:00, 72.31it/s]"
     ]
    },
    {
     "name": "stdout",
     "output_type": "stream",
     "text": [
      "\n",
      "module_idx:  6, percent:0.2\n",
      "\n",
      " test_loss   correct     total       Acc\n"
     ]
    },
    {
     "name": "stderr",
     "output_type": "stream",
     "text": [
      "\n",
      "     0.277  9.39e+03     1e+04      93.9: 100%|██████████| 79/79 [00:01<00:00, 76.11it/s]\n"
     ]
    },
    {
     "name": "stdout",
     "output_type": "stream",
     "text": [
      "\n",
      "module_idx:  6, percent:0.25\n",
      "\n",
      " test_loss   correct     total       Acc\n"
     ]
    },
    {
     "name": "stderr",
     "output_type": "stream",
     "text": [
      "     0.277  9.39e+03     1e+04      93.9: 100%|██████████| 79/79 [00:01<00:00, 75.07it/s]"
     ]
    },
    {
     "name": "stdout",
     "output_type": "stream",
     "text": [
      "\n",
      "module_idx:  6, percent:0.3\n",
      "\n",
      " test_loss   correct     total       Acc\n"
     ]
    },
    {
     "name": "stderr",
     "output_type": "stream",
     "text": [
      "\n",
      "     0.277  9.39e+03     1e+04      93.9: 100%|██████████| 79/79 [00:01<00:00, 73.29it/s]"
     ]
    },
    {
     "name": "stdout",
     "output_type": "stream",
     "text": [
      "\n",
      "module_idx:  6, percent:0.35\n",
      "\n",
      " test_loss   correct     total       Acc\n"
     ]
    },
    {
     "name": "stderr",
     "output_type": "stream",
     "text": [
      "\n",
      "     0.277  9.39e+03     1e+04      93.9: 100%|██████████| 79/79 [00:01<00:00, 74.08it/s]"
     ]
    },
    {
     "name": "stdout",
     "output_type": "stream",
     "text": [
      "\n",
      "module_idx:  6, percent:0.4\n",
      "\n",
      " test_loss   correct     total       Acc\n"
     ]
    },
    {
     "name": "stderr",
     "output_type": "stream",
     "text": [
      "\n",
      "     0.277  9.39e+03     1e+04      93.9: 100%|██████████| 79/79 [00:01<00:00, 74.20it/s]"
     ]
    },
    {
     "name": "stdout",
     "output_type": "stream",
     "text": [
      "\n",
      "module_idx:  6, percent:0.45\n",
      "\n",
      " test_loss   correct     total       Acc\n"
     ]
    },
    {
     "name": "stderr",
     "output_type": "stream",
     "text": [
      "\n",
      "     0.277  9.39e+03     1e+04      93.9: 100%|██████████| 79/79 [00:01<00:00, 73.28it/s]"
     ]
    },
    {
     "name": "stdout",
     "output_type": "stream",
     "text": [
      "\n",
      "module_idx:  6, percent:0.5\n",
      "\n",
      " test_loss   correct     total       Acc\n"
     ]
    },
    {
     "name": "stderr",
     "output_type": "stream",
     "text": [
      "\n",
      "     0.277  9.39e+03     1e+04      93.9: 100%|██████████| 79/79 [00:01<00:00, 74.11it/s]\n"
     ]
    },
    {
     "name": "stdout",
     "output_type": "stream",
     "text": [
      "\n",
      "module_idx:  6, percent:0.55\n",
      "\n",
      " test_loss   correct     total       Acc\n"
     ]
    },
    {
     "name": "stderr",
     "output_type": "stream",
     "text": [
      "     0.282  9.39e+03     1e+04      93.9: 100%|██████████| 79/79 [00:01<00:00, 74.35it/s]\n"
     ]
    },
    {
     "name": "stdout",
     "output_type": "stream",
     "text": [
      "\n",
      "module_idx:  6, percent:0.6\n",
      "\n",
      " test_loss   correct     total       Acc\n"
     ]
    },
    {
     "name": "stderr",
     "output_type": "stream",
     "text": [
      "     0.302  9.31e+03     1e+04      93.1: 100%|██████████| 79/79 [00:01<00:00, 74.27it/s]"
     ]
    },
    {
     "name": "stdout",
     "output_type": "stream",
     "text": [
      "\n",
      "module_idx:  6, percent:0.65\n",
      "\n",
      " test_loss   correct     total       Acc\n"
     ]
    },
    {
     "name": "stderr",
     "output_type": "stream",
     "text": [
      "\n",
      "     0.311  9.25e+03     1e+04      92.5: 100%|██████████| 79/79 [00:01<00:00, 75.66it/s]"
     ]
    },
    {
     "name": "stdout",
     "output_type": "stream",
     "text": [
      "\n",
      "module_idx:  6, percent:0.7\n",
      "\n",
      " test_loss   correct     total       Acc\n"
     ]
    },
    {
     "name": "stderr",
     "output_type": "stream",
     "text": [
      "\n",
      "     0.372  9.05e+03     1e+04      90.5: 100%|██████████| 79/79 [00:01<00:00, 71.67it/s]\n"
     ]
    },
    {
     "name": "stdout",
     "output_type": "stream",
     "text": [
      "\n",
      "module_idx:  6, percent:0.75\n",
      "\n",
      " test_loss   correct     total       Acc\n"
     ]
    },
    {
     "name": "stderr",
     "output_type": "stream",
     "text": [
      "     0.487   8.7e+03     1e+04        87: 100%|██████████| 79/79 [00:01<00:00, 73.69it/s]\n"
     ]
    },
    {
     "name": "stdout",
     "output_type": "stream",
     "text": [
      "\n",
      "module_idx:  6, percent:0.8\n",
      "\n",
      " test_loss   correct     total       Acc\n"
     ]
    },
    {
     "name": "stderr",
     "output_type": "stream",
     "text": [
      "     0.828  7.64e+03     1e+04      76.4: 100%|██████████| 79/79 [00:01<00:00, 76.64it/s]"
     ]
    },
    {
     "name": "stdout",
     "output_type": "stream",
     "text": [
      "\n",
      "module_idx:  6, percent:0.85\n",
      "\n",
      " test_loss   correct     total       Acc\n"
     ]
    },
    {
     "name": "stderr",
     "output_type": "stream",
     "text": [
      "\n",
      "      1.51   5.7e+03     1e+04        57: 100%|██████████| 79/79 [00:01<00:00, 73.46it/s]\n"
     ]
    },
    {
     "name": "stdout",
     "output_type": "stream",
     "text": [
      "\n",
      "module_idx:  6, percent:0.9\n",
      "\n",
      " test_loss   correct     total       Acc\n"
     ]
    },
    {
     "name": "stderr",
     "output_type": "stream",
     "text": [
      "      1.84  4.46e+03     1e+04      44.6: 100%|██████████| 79/79 [00:01<00:00, 71.98it/s]\n"
     ]
    },
    {
     "name": "stdout",
     "output_type": "stream",
     "text": [
      "\n",
      "module_idx:  6, percent:0.95\n",
      "\n",
      " test_loss   correct     total       Acc\n"
     ]
    },
    {
     "name": "stderr",
     "output_type": "stream",
     "text": [
      "      2.18  3.22e+03     1e+04      32.2: 100%|██████████| 79/79 [00:01<00:00, 73.54it/s]\n"
     ]
    },
    {
     "name": "stdout",
     "output_type": "stream",
     "text": [
      "\n",
      "module_idx:  7, percent:  0\n",
      "\n",
      " test_loss   correct     total       Acc\n"
     ]
    },
    {
     "name": "stderr",
     "output_type": "stream",
     "text": [
      "     0.277  9.39e+03     1e+04      93.9: 100%|██████████| 79/79 [00:01<00:00, 71.67it/s]"
     ]
    },
    {
     "name": "stdout",
     "output_type": "stream",
     "text": [
      "\n",
      "module_idx:  7, percent:0.05\n",
      "\n",
      " test_loss   correct     total       Acc\n"
     ]
    },
    {
     "name": "stderr",
     "output_type": "stream",
     "text": [
      "\n",
      "     0.277  9.39e+03     1e+04      93.9: 100%|██████████| 79/79 [00:01<00:00, 70.85it/s]\n"
     ]
    },
    {
     "name": "stdout",
     "output_type": "stream",
     "text": [
      "\n",
      "module_idx:  7, percent:0.1\n",
      "\n",
      " test_loss   correct     total       Acc\n"
     ]
    },
    {
     "name": "stderr",
     "output_type": "stream",
     "text": [
      "     0.277  9.39e+03     1e+04      93.9: 100%|██████████| 79/79 [00:01<00:00, 71.35it/s]"
     ]
    },
    {
     "name": "stdout",
     "output_type": "stream",
     "text": [
      "\n",
      "module_idx:  7, percent:0.15\n",
      "\n",
      " test_loss   correct     total       Acc\n"
     ]
    },
    {
     "name": "stderr",
     "output_type": "stream",
     "text": [
      "\n",
      "     0.277  9.39e+03     1e+04      93.9: 100%|██████████| 79/79 [00:01<00:00, 72.03it/s]\n"
     ]
    },
    {
     "name": "stdout",
     "output_type": "stream",
     "text": [
      "\n",
      "module_idx:  7, percent:0.2\n",
      "\n",
      " test_loss   correct     total       Acc\n"
     ]
    },
    {
     "name": "stderr",
     "output_type": "stream",
     "text": [
      "     0.277  9.39e+03     1e+04      93.9: 100%|██████████| 79/79 [00:01<00:00, 72.67it/s]"
     ]
    },
    {
     "name": "stdout",
     "output_type": "stream",
     "text": [
      "\n",
      "module_idx:  7, percent:0.25\n",
      "\n",
      " test_loss   correct     total       Acc\n"
     ]
    },
    {
     "name": "stderr",
     "output_type": "stream",
     "text": [
      "\n",
      "     0.277  9.39e+03     1e+04      93.9: 100%|██████████| 79/79 [00:01<00:00, 71.20it/s]\n"
     ]
    },
    {
     "name": "stdout",
     "output_type": "stream",
     "text": [
      "\n",
      "module_idx:  7, percent:0.3\n",
      "\n",
      " test_loss   correct     total       Acc\n"
     ]
    },
    {
     "name": "stderr",
     "output_type": "stream",
     "text": [
      "     0.277  9.39e+03     1e+04      93.9: 100%|██████████| 79/79 [00:01<00:00, 74.19it/s]\n"
     ]
    },
    {
     "name": "stdout",
     "output_type": "stream",
     "text": [
      "\n",
      "module_idx:  7, percent:0.35\n",
      "\n",
      " test_loss   correct     total       Acc\n"
     ]
    },
    {
     "name": "stderr",
     "output_type": "stream",
     "text": [
      "     0.277  9.39e+03     1e+04      93.9: 100%|██████████| 79/79 [00:01<00:00, 74.65it/s]\n"
     ]
    },
    {
     "name": "stdout",
     "output_type": "stream",
     "text": [
      "\n",
      "module_idx:  7, percent:0.4\n",
      "\n",
      " test_loss   correct     total       Acc\n"
     ]
    },
    {
     "name": "stderr",
     "output_type": "stream",
     "text": [
      "     0.277  9.39e+03     1e+04      93.9: 100%|██████████| 79/79 [00:01<00:00, 72.15it/s]\n"
     ]
    },
    {
     "name": "stdout",
     "output_type": "stream",
     "text": [
      "\n",
      "module_idx:  7, percent:0.45\n",
      "\n",
      " test_loss   correct     total       Acc\n"
     ]
    },
    {
     "name": "stderr",
     "output_type": "stream",
     "text": [
      "     0.277  9.39e+03     1e+04      93.9: 100%|██████████| 79/79 [00:01<00:00, 74.52it/s]"
     ]
    },
    {
     "name": "stdout",
     "output_type": "stream",
     "text": [
      "\n",
      "module_idx:  7, percent:0.5\n",
      "\n",
      " test_loss   correct     total       Acc\n"
     ]
    },
    {
     "name": "stderr",
     "output_type": "stream",
     "text": [
      "\n",
      "     0.277  9.39e+03     1e+04      93.9: 100%|██████████| 79/79 [00:01<00:00, 73.47it/s]"
     ]
    },
    {
     "name": "stdout",
     "output_type": "stream",
     "text": [
      "\n",
      "module_idx:  7, percent:0.55\n",
      "\n",
      " test_loss   correct     total       Acc\n"
     ]
    },
    {
     "name": "stderr",
     "output_type": "stream",
     "text": [
      "\n",
      "     0.277  9.39e+03     1e+04      93.9: 100%|██████████| 79/79 [00:01<00:00, 73.13it/s]\n"
     ]
    },
    {
     "name": "stdout",
     "output_type": "stream",
     "text": [
      "\n",
      "module_idx:  7, percent:0.6\n",
      "\n",
      " test_loss   correct     total       Acc\n"
     ]
    },
    {
     "name": "stderr",
     "output_type": "stream",
     "text": [
      "     0.277  9.39e+03     1e+04      93.9: 100%|██████████| 79/79 [00:01<00:00, 70.54it/s]\n"
     ]
    },
    {
     "name": "stdout",
     "output_type": "stream",
     "text": [
      "\n",
      "module_idx:  7, percent:0.65\n",
      "\n",
      " test_loss   correct     total       Acc\n"
     ]
    },
    {
     "name": "stderr",
     "output_type": "stream",
     "text": [
      "     0.277  9.39e+03     1e+04      93.9: 100%|██████████| 79/79 [00:01<00:00, 73.46it/s]"
     ]
    },
    {
     "name": "stdout",
     "output_type": "stream",
     "text": [
      "\n",
      "module_idx:  7, percent:0.7\n",
      "\n",
      " test_loss   correct     total       Acc\n"
     ]
    },
    {
     "name": "stderr",
     "output_type": "stream",
     "text": [
      "\n",
      "     0.277  9.39e+03     1e+04      93.9: 100%|██████████| 79/79 [00:01<00:00, 72.36it/s]"
     ]
    },
    {
     "name": "stdout",
     "output_type": "stream",
     "text": [
      "\n",
      "module_idx:  7, percent:0.75\n",
      "\n",
      " test_loss   correct     total       Acc\n"
     ]
    },
    {
     "name": "stderr",
     "output_type": "stream",
     "text": [
      "\n",
      "     0.277  9.39e+03     1e+04      93.9: 100%|██████████| 79/79 [00:01<00:00, 72.81it/s]\n"
     ]
    },
    {
     "name": "stdout",
     "output_type": "stream",
     "text": [
      "\n",
      "module_idx:  7, percent:0.8\n",
      "\n",
      " test_loss   correct     total       Acc\n"
     ]
    },
    {
     "name": "stderr",
     "output_type": "stream",
     "text": [
      "     0.277  9.39e+03     1e+04      93.9: 100%|██████████| 79/79 [00:01<00:00, 75.73it/s]\n"
     ]
    },
    {
     "name": "stdout",
     "output_type": "stream",
     "text": [
      "\n",
      "module_idx:  7, percent:0.85\n",
      "\n",
      " test_loss   correct     total       Acc\n"
     ]
    },
    {
     "name": "stderr",
     "output_type": "stream",
     "text": [
      "     0.278  9.39e+03     1e+04      93.9: 100%|██████████| 79/79 [00:01<00:00, 75.30it/s]\n"
     ]
    },
    {
     "name": "stdout",
     "output_type": "stream",
     "text": [
      "\n",
      "module_idx:  7, percent:0.9\n",
      "\n",
      " test_loss   correct     total       Acc\n"
     ]
    },
    {
     "name": "stderr",
     "output_type": "stream",
     "text": [
      "     0.287  9.35e+03     1e+04      93.5: 100%|██████████| 79/79 [00:01<00:00, 72.77it/s]\n"
     ]
    },
    {
     "name": "stdout",
     "output_type": "stream",
     "text": [
      "\n",
      "module_idx:  7, percent:0.95\n",
      "\n",
      " test_loss   correct     total       Acc\n"
     ]
    },
    {
     "name": "stderr",
     "output_type": "stream",
     "text": [
      "      0.34   9.1e+03     1e+04        91: 100%|██████████| 79/79 [00:01<00:00, 72.09it/s]"
     ]
    },
    {
     "name": "stdout",
     "output_type": "stream",
     "text": [
      "\n",
      "module_idx:  8, percent:  0\n",
      "\n",
      " test_loss   correct     total       Acc\n"
     ]
    },
    {
     "name": "stderr",
     "output_type": "stream",
     "text": [
      "\n",
      "     0.277  9.39e+03     1e+04      93.9: 100%|██████████| 79/79 [00:01<00:00, 73.60it/s]\n"
     ]
    },
    {
     "name": "stdout",
     "output_type": "stream",
     "text": [
      "\n",
      "module_idx:  8, percent:0.05\n",
      "\n",
      " test_loss   correct     total       Acc\n"
     ]
    },
    {
     "name": "stderr",
     "output_type": "stream",
     "text": [
      "     0.277  9.39e+03     1e+04      93.9: 100%|██████████| 79/79 [00:01<00:00, 73.45it/s]"
     ]
    },
    {
     "name": "stdout",
     "output_type": "stream",
     "text": [
      "\n",
      "module_idx:  8, percent:0.1\n",
      "\n",
      " test_loss   correct     total       Acc\n"
     ]
    },
    {
     "name": "stderr",
     "output_type": "stream",
     "text": [
      "\n",
      "     0.277  9.39e+03     1e+04      93.9: 100%|██████████| 79/79 [00:01<00:00, 74.59it/s]"
     ]
    },
    {
     "name": "stdout",
     "output_type": "stream",
     "text": [
      "\n",
      "module_idx:  8, percent:0.15\n",
      "\n",
      " test_loss   correct     total       Acc\n"
     ]
    },
    {
     "name": "stderr",
     "output_type": "stream",
     "text": [
      "\n",
      "     0.277  9.39e+03     1e+04      93.9: 100%|██████████| 79/79 [00:01<00:00, 71.20it/s]\n"
     ]
    },
    {
     "name": "stdout",
     "output_type": "stream",
     "text": [
      "\n",
      "module_idx:  8, percent:0.2\n",
      "\n",
      " test_loss   correct     total       Acc\n"
     ]
    },
    {
     "name": "stderr",
     "output_type": "stream",
     "text": [
      "     0.277  9.39e+03     1e+04      93.9: 100%|██████████| 79/79 [00:01<00:00, 72.29it/s]\n"
     ]
    },
    {
     "name": "stdout",
     "output_type": "stream",
     "text": [
      "\n",
      "module_idx:  8, percent:0.25\n",
      "\n",
      " test_loss   correct     total       Acc\n"
     ]
    },
    {
     "name": "stderr",
     "output_type": "stream",
     "text": [
      "     0.277  9.39e+03     1e+04      93.9: 100%|██████████| 79/79 [00:01<00:00, 72.43it/s]\n"
     ]
    },
    {
     "name": "stdout",
     "output_type": "stream",
     "text": [
      "\n",
      "module_idx:  8, percent:0.3\n",
      "\n",
      " test_loss   correct     total       Acc\n"
     ]
    },
    {
     "name": "stderr",
     "output_type": "stream",
     "text": [
      "     0.277  9.39e+03     1e+04      93.9: 100%|██████████| 79/79 [00:01<00:00, 72.91it/s]"
     ]
    },
    {
     "name": "stdout",
     "output_type": "stream",
     "text": [
      "\n",
      "module_idx:  8, percent:0.35\n",
      "\n",
      " test_loss   correct     total       Acc\n"
     ]
    },
    {
     "name": "stderr",
     "output_type": "stream",
     "text": [
      "\n",
      "     0.277  9.39e+03     1e+04      93.9: 100%|██████████| 79/79 [00:01<00:00, 73.63it/s]\n"
     ]
    },
    {
     "name": "stdout",
     "output_type": "stream",
     "text": [
      "\n",
      "module_idx:  8, percent:0.4\n",
      "\n",
      " test_loss   correct     total       Acc\n"
     ]
    },
    {
     "name": "stderr",
     "output_type": "stream",
     "text": [
      "     0.277  9.39e+03     1e+04      93.9: 100%|██████████| 79/79 [00:01<00:00, 71.93it/s]"
     ]
    },
    {
     "name": "stdout",
     "output_type": "stream",
     "text": [
      "\n",
      "module_idx:  8, percent:0.45\n",
      "\n",
      " test_loss   correct     total       Acc\n"
     ]
    },
    {
     "name": "stderr",
     "output_type": "stream",
     "text": [
      "\n",
      "     0.277  9.39e+03     1e+04      93.9: 100%|██████████| 79/79 [00:01<00:00, 73.14it/s]\n"
     ]
    },
    {
     "name": "stdout",
     "output_type": "stream",
     "text": [
      "\n",
      "module_idx:  8, percent:0.5\n",
      "\n",
      " test_loss   correct     total       Acc\n"
     ]
    },
    {
     "name": "stderr",
     "output_type": "stream",
     "text": [
      "     0.277  9.39e+03     1e+04      93.9: 100%|██████████| 79/79 [00:01<00:00, 74.84it/s]\n"
     ]
    },
    {
     "name": "stdout",
     "output_type": "stream",
     "text": [
      "\n",
      "module_idx:  8, percent:0.55\n",
      "\n",
      " test_loss   correct     total       Acc\n"
     ]
    },
    {
     "name": "stderr",
     "output_type": "stream",
     "text": [
      "     0.277  9.39e+03     1e+04      93.9: 100%|██████████| 79/79 [00:01<00:00, 74.06it/s]"
     ]
    },
    {
     "name": "stdout",
     "output_type": "stream",
     "text": [
      "\n",
      "module_idx:  8, percent:0.6\n",
      "\n",
      " test_loss   correct     total       Acc\n"
     ]
    },
    {
     "name": "stderr",
     "output_type": "stream",
     "text": [
      "\n",
      "     0.277  9.39e+03     1e+04      93.9: 100%|██████████| 79/79 [00:01<00:00, 73.07it/s]"
     ]
    },
    {
     "name": "stdout",
     "output_type": "stream",
     "text": [
      "\n",
      "module_idx:  8, percent:0.65\n",
      "\n",
      " test_loss   correct     total       Acc\n"
     ]
    },
    {
     "name": "stderr",
     "output_type": "stream",
     "text": [
      "\n",
      "     0.277  9.39e+03     1e+04      93.9: 100%|██████████| 79/79 [00:01<00:00, 73.94it/s]\n"
     ]
    },
    {
     "name": "stdout",
     "output_type": "stream",
     "text": [
      "\n",
      "module_idx:  8, percent:0.7\n",
      "\n",
      " test_loss   correct     total       Acc\n"
     ]
    },
    {
     "name": "stderr",
     "output_type": "stream",
     "text": [
      "     0.277  9.39e+03     1e+04      93.9: 100%|██████████| 79/79 [00:01<00:00, 74.48it/s]"
     ]
    },
    {
     "name": "stdout",
     "output_type": "stream",
     "text": [
      "\n",
      "module_idx:  8, percent:0.75\n",
      "\n",
      " test_loss   correct     total       Acc\n"
     ]
    },
    {
     "name": "stderr",
     "output_type": "stream",
     "text": [
      "\n",
      "     0.277  9.39e+03     1e+04      93.9: 100%|██████████| 79/79 [00:01<00:00, 76.80it/s]\n"
     ]
    },
    {
     "name": "stdout",
     "output_type": "stream",
     "text": [
      "\n",
      "module_idx:  8, percent:0.8\n",
      "\n",
      " test_loss   correct     total       Acc\n"
     ]
    },
    {
     "name": "stderr",
     "output_type": "stream",
     "text": [
      "     0.277  9.39e+03     1e+04      93.9: 100%|██████████| 79/79 [00:01<00:00, 72.91it/s]"
     ]
    },
    {
     "name": "stdout",
     "output_type": "stream",
     "text": [
      "\n",
      "module_idx:  8, percent:0.85\n",
      "\n",
      " test_loss   correct     total       Acc\n"
     ]
    },
    {
     "name": "stderr",
     "output_type": "stream",
     "text": [
      "\n",
      "     0.277  9.39e+03     1e+04      93.9: 100%|██████████| 79/79 [00:01<00:00, 72.85it/s]"
     ]
    },
    {
     "name": "stdout",
     "output_type": "stream",
     "text": [
      "\n",
      "module_idx:  8, percent:0.9\n",
      "\n",
      " test_loss   correct     total       Acc\n"
     ]
    },
    {
     "name": "stderr",
     "output_type": "stream",
     "text": [
      "\n",
      "     0.277  9.39e+03     1e+04      93.9: 100%|██████████| 79/79 [00:01<00:00, 74.22it/s]\n"
     ]
    },
    {
     "name": "stdout",
     "output_type": "stream",
     "text": [
      "\n",
      "module_idx:  8, percent:0.95\n",
      "\n",
      " test_loss   correct     total       Acc\n"
     ]
    },
    {
     "name": "stderr",
     "output_type": "stream",
     "text": [
      "     0.277  9.39e+03     1e+04      93.9: 100%|██████████| 79/79 [00:01<00:00, 73.36it/s]"
     ]
    },
    {
     "name": "stdout",
     "output_type": "stream",
     "text": [
      "\n",
      "module_idx:  9, percent:  0\n",
      "\n",
      " test_loss   correct     total       Acc\n"
     ]
    },
    {
     "name": "stderr",
     "output_type": "stream",
     "text": [
      "\n",
      "     0.277  9.39e+03     1e+04      93.9: 100%|██████████| 79/79 [00:01<00:00, 70.90it/s]"
     ]
    },
    {
     "name": "stdout",
     "output_type": "stream",
     "text": [
      "\n",
      "module_idx:  9, percent:0.05\n",
      "\n",
      " test_loss   correct     total       Acc\n"
     ]
    },
    {
     "name": "stderr",
     "output_type": "stream",
     "text": [
      "\n",
      "     0.277  9.39e+03     1e+04      93.9: 100%|██████████| 79/79 [00:01<00:00, 73.57it/s]\n"
     ]
    },
    {
     "name": "stdout",
     "output_type": "stream",
     "text": [
      "\n",
      "module_idx:  9, percent:0.1\n",
      "\n",
      " test_loss   correct     total       Acc\n"
     ]
    },
    {
     "name": "stderr",
     "output_type": "stream",
     "text": [
      "     0.277  9.39e+03     1e+04      93.9: 100%|██████████| 79/79 [00:01<00:00, 70.75it/s]\n"
     ]
    },
    {
     "name": "stdout",
     "output_type": "stream",
     "text": [
      "\n",
      "module_idx:  9, percent:0.15\n",
      "\n",
      " test_loss   correct     total       Acc\n"
     ]
    },
    {
     "name": "stderr",
     "output_type": "stream",
     "text": [
      "     0.277  9.39e+03     1e+04      93.9: 100%|██████████| 79/79 [00:01<00:00, 72.84it/s]"
     ]
    },
    {
     "name": "stdout",
     "output_type": "stream",
     "text": [
      "\n",
      "module_idx:  9, percent:0.2\n",
      "\n",
      " test_loss   correct     total       Acc\n"
     ]
    },
    {
     "name": "stderr",
     "output_type": "stream",
     "text": [
      "\n",
      "     0.277  9.39e+03     1e+04      93.9: 100%|██████████| 79/79 [00:01<00:00, 72.37it/s]"
     ]
    },
    {
     "name": "stdout",
     "output_type": "stream",
     "text": [
      "\n",
      "module_idx:  9, percent:0.25\n",
      "\n",
      " test_loss   correct     total       Acc\n"
     ]
    },
    {
     "name": "stderr",
     "output_type": "stream",
     "text": [
      "\n",
      "     0.277  9.39e+03     1e+04      93.9: 100%|██████████| 79/79 [00:01<00:00, 71.60it/s]"
     ]
    },
    {
     "name": "stdout",
     "output_type": "stream",
     "text": [
      "\n",
      "module_idx:  9, percent:0.3\n",
      "\n",
      " test_loss   correct     total       Acc\n"
     ]
    },
    {
     "name": "stderr",
     "output_type": "stream",
     "text": [
      "\n",
      "     0.277  9.39e+03     1e+04      93.9: 100%|██████████| 79/79 [00:01<00:00, 74.34it/s]\n"
     ]
    },
    {
     "name": "stdout",
     "output_type": "stream",
     "text": [
      "\n",
      "module_idx:  9, percent:0.35\n",
      "\n",
      " test_loss   correct     total       Acc\n"
     ]
    },
    {
     "name": "stderr",
     "output_type": "stream",
     "text": [
      "     0.277  9.39e+03     1e+04      93.9: 100%|██████████| 79/79 [00:01<00:00, 73.55it/s]"
     ]
    },
    {
     "name": "stdout",
     "output_type": "stream",
     "text": [
      "\n",
      "module_idx:  9, percent:0.4\n",
      "\n",
      " test_loss   correct     total       Acc\n"
     ]
    },
    {
     "name": "stderr",
     "output_type": "stream",
     "text": [
      "\n",
      "     0.277  9.39e+03     1e+04      93.9: 100%|██████████| 79/79 [00:01<00:00, 71.06it/s]"
     ]
    },
    {
     "name": "stdout",
     "output_type": "stream",
     "text": [
      "\n",
      "module_idx:  9, percent:0.45\n",
      "\n",
      " test_loss   correct     total       Acc\n"
     ]
    },
    {
     "name": "stderr",
     "output_type": "stream",
     "text": [
      "\n",
      "     0.277  9.39e+03     1e+04      93.9: 100%|██████████| 79/79 [00:01<00:00, 71.21it/s]"
     ]
    },
    {
     "name": "stdout",
     "output_type": "stream",
     "text": [
      "\n",
      "module_idx:  9, percent:0.5\n",
      "\n",
      " test_loss   correct     total       Acc\n"
     ]
    },
    {
     "name": "stderr",
     "output_type": "stream",
     "text": [
      "\n",
      "     0.277  9.39e+03     1e+04      93.9: 100%|██████████| 79/79 [00:01<00:00, 72.56it/s]\n"
     ]
    },
    {
     "name": "stdout",
     "output_type": "stream",
     "text": [
      "\n",
      "module_idx:  9, percent:0.55\n",
      "\n",
      " test_loss   correct     total       Acc\n"
     ]
    },
    {
     "name": "stderr",
     "output_type": "stream",
     "text": [
      "     0.277  9.39e+03     1e+04      93.9: 100%|██████████| 79/79 [00:01<00:00, 73.45it/s]"
     ]
    },
    {
     "name": "stdout",
     "output_type": "stream",
     "text": [
      "\n",
      "module_idx:  9, percent:0.6\n",
      "\n",
      " test_loss   correct     total       Acc\n"
     ]
    },
    {
     "name": "stderr",
     "output_type": "stream",
     "text": [
      "\n",
      "     0.277  9.39e+03     1e+04      93.9: 100%|██████████| 79/79 [00:01<00:00, 71.16it/s]\n"
     ]
    },
    {
     "name": "stdout",
     "output_type": "stream",
     "text": [
      "\n",
      "module_idx:  9, percent:0.65\n",
      "\n",
      " test_loss   correct     total       Acc\n"
     ]
    },
    {
     "name": "stderr",
     "output_type": "stream",
     "text": [
      "     0.277  9.39e+03     1e+04      93.9: 100%|██████████| 79/79 [00:01<00:00, 74.76it/s]"
     ]
    },
    {
     "name": "stdout",
     "output_type": "stream",
     "text": [
      "\n",
      "module_idx:  9, percent:0.7\n",
      "\n",
      " test_loss   correct     total       Acc\n"
     ]
    },
    {
     "name": "stderr",
     "output_type": "stream",
     "text": [
      "\n",
      "     0.277  9.39e+03     1e+04      93.9: 100%|██████████| 79/79 [00:01<00:00, 71.88it/s]"
     ]
    },
    {
     "name": "stdout",
     "output_type": "stream",
     "text": [
      "\n",
      "module_idx:  9, percent:0.75\n",
      "\n",
      " test_loss   correct     total       Acc\n"
     ]
    },
    {
     "name": "stderr",
     "output_type": "stream",
     "text": [
      "\n",
      "     0.277  9.39e+03     1e+04      93.9: 100%|██████████| 79/79 [00:01<00:00, 71.98it/s]"
     ]
    },
    {
     "name": "stdout",
     "output_type": "stream",
     "text": [
      "\n",
      "module_idx:  9, percent:0.8\n",
      "\n",
      " test_loss   correct     total       Acc\n"
     ]
    },
    {
     "name": "stderr",
     "output_type": "stream",
     "text": [
      "\n",
      "     0.277  9.39e+03     1e+04      93.9: 100%|██████████| 79/79 [00:01<00:00, 72.95it/s]\n"
     ]
    },
    {
     "name": "stdout",
     "output_type": "stream",
     "text": [
      "\n",
      "module_idx:  9, percent:0.85\n",
      "\n",
      " test_loss   correct     total       Acc\n"
     ]
    },
    {
     "name": "stderr",
     "output_type": "stream",
     "text": [
      "     0.277  9.39e+03     1e+04      93.9: 100%|██████████| 79/79 [00:01<00:00, 74.75it/s]"
     ]
    },
    {
     "name": "stdout",
     "output_type": "stream",
     "text": [
      "\n",
      "module_idx:  9, percent:0.9\n",
      "\n",
      " test_loss   correct     total       Acc\n"
     ]
    },
    {
     "name": "stderr",
     "output_type": "stream",
     "text": [
      "\n",
      "     0.277  9.39e+03     1e+04      93.9: 100%|██████████| 79/79 [00:01<00:00, 72.46it/s]\n"
     ]
    },
    {
     "name": "stdout",
     "output_type": "stream",
     "text": [
      "\n",
      "module_idx:  9, percent:0.95\n",
      "\n",
      " test_loss   correct     total       Acc\n"
     ]
    },
    {
     "name": "stderr",
     "output_type": "stream",
     "text": [
      "     0.277  9.39e+03     1e+04      93.9: 100%|██████████| 79/79 [00:01<00:00, 74.01it/s]"
     ]
    },
    {
     "name": "stdout",
     "output_type": "stream",
     "text": [
      "\n",
      "module_idx: 10, percent:  0\n",
      "\n",
      " test_loss   correct     total       Acc\n"
     ]
    },
    {
     "name": "stderr",
     "output_type": "stream",
     "text": [
      "\n",
      "     0.277  9.39e+03     1e+04      93.9: 100%|██████████| 79/79 [00:01<00:00, 72.03it/s]\n"
     ]
    },
    {
     "name": "stdout",
     "output_type": "stream",
     "text": [
      "\n",
      "module_idx: 10, percent:0.05\n",
      "\n",
      " test_loss   correct     total       Acc\n"
     ]
    },
    {
     "name": "stderr",
     "output_type": "stream",
     "text": [
      "     0.277  9.39e+03     1e+04      93.9: 100%|██████████| 79/79 [00:01<00:00, 73.36it/s]"
     ]
    },
    {
     "name": "stdout",
     "output_type": "stream",
     "text": [
      "\n",
      "module_idx: 10, percent:0.1\n",
      "\n",
      " test_loss   correct     total       Acc\n"
     ]
    },
    {
     "name": "stderr",
     "output_type": "stream",
     "text": [
      "\n",
      "     0.277  9.39e+03     1e+04      93.9: 100%|██████████| 79/79 [00:01<00:00, 70.98it/s]\n"
     ]
    },
    {
     "name": "stdout",
     "output_type": "stream",
     "text": [
      "\n",
      "module_idx: 10, percent:0.15\n",
      "\n",
      " test_loss   correct     total       Acc\n"
     ]
    },
    {
     "name": "stderr",
     "output_type": "stream",
     "text": [
      "     0.277  9.39e+03     1e+04      93.9: 100%|██████████| 79/79 [00:01<00:00, 70.69it/s]\n"
     ]
    },
    {
     "name": "stdout",
     "output_type": "stream",
     "text": [
      "\n",
      "module_idx: 10, percent:0.2\n",
      "\n",
      " test_loss   correct     total       Acc\n"
     ]
    },
    {
     "name": "stderr",
     "output_type": "stream",
     "text": [
      "     0.277  9.39e+03     1e+04      93.9: 100%|██████████| 79/79 [00:01<00:00, 71.07it/s]"
     ]
    },
    {
     "name": "stdout",
     "output_type": "stream",
     "text": [
      "\n",
      "module_idx: 10, percent:0.25\n",
      "\n",
      " test_loss   correct     total       Acc\n"
     ]
    },
    {
     "name": "stderr",
     "output_type": "stream",
     "text": [
      "\n",
      "     0.277  9.39e+03     1e+04      93.9: 100%|██████████| 79/79 [00:01<00:00, 70.79it/s]\n"
     ]
    },
    {
     "name": "stdout",
     "output_type": "stream",
     "text": [
      "\n",
      "module_idx: 10, percent:0.3\n",
      "\n",
      " test_loss   correct     total       Acc\n"
     ]
    },
    {
     "name": "stderr",
     "output_type": "stream",
     "text": [
      "     0.277  9.39e+03     1e+04      93.9: 100%|██████████| 79/79 [00:01<00:00, 73.68it/s]\n"
     ]
    },
    {
     "name": "stdout",
     "output_type": "stream",
     "text": [
      "\n",
      "module_idx: 10, percent:0.35\n",
      "\n",
      " test_loss   correct     total       Acc\n"
     ]
    },
    {
     "name": "stderr",
     "output_type": "stream",
     "text": [
      "     0.277  9.39e+03     1e+04      93.9: 100%|██████████| 79/79 [00:01<00:00, 72.47it/s]"
     ]
    },
    {
     "name": "stdout",
     "output_type": "stream",
     "text": [
      "\n",
      "module_idx: 10, percent:0.4\n",
      "\n",
      " test_loss   correct     total       Acc\n"
     ]
    },
    {
     "name": "stderr",
     "output_type": "stream",
     "text": [
      "\n",
      "     0.277  9.39e+03     1e+04      93.9: 100%|██████████| 79/79 [00:01<00:00, 71.95it/s]\n"
     ]
    },
    {
     "name": "stdout",
     "output_type": "stream",
     "text": [
      "\n",
      "module_idx: 10, percent:0.45\n",
      "\n",
      " test_loss   correct     total       Acc\n"
     ]
    },
    {
     "name": "stderr",
     "output_type": "stream",
     "text": [
      "     0.277  9.39e+03     1e+04      93.9: 100%|██████████| 79/79 [00:01<00:00, 74.54it/s]\n"
     ]
    },
    {
     "name": "stdout",
     "output_type": "stream",
     "text": [
      "\n",
      "module_idx: 10, percent:0.5\n",
      "\n",
      " test_loss   correct     total       Acc\n"
     ]
    },
    {
     "name": "stderr",
     "output_type": "stream",
     "text": [
      "     0.277  9.39e+03     1e+04      93.9: 100%|██████████| 79/79 [00:01<00:00, 72.81it/s]\n"
     ]
    },
    {
     "name": "stdout",
     "output_type": "stream",
     "text": [
      "\n",
      "module_idx: 10, percent:0.55\n",
      "\n",
      " test_loss   correct     total       Acc\n"
     ]
    },
    {
     "name": "stderr",
     "output_type": "stream",
     "text": [
      "     0.277  9.39e+03     1e+04      93.9: 100%|██████████| 79/79 [00:01<00:00, 75.60it/s]"
     ]
    },
    {
     "name": "stdout",
     "output_type": "stream",
     "text": [
      "\n",
      "module_idx: 10, percent:0.6\n",
      "\n",
      " test_loss   correct     total       Acc\n"
     ]
    },
    {
     "name": "stderr",
     "output_type": "stream",
     "text": [
      "\n",
      "     0.277  9.39e+03     1e+04      93.9: 100%|██████████| 79/79 [00:01<00:00, 74.07it/s]"
     ]
    },
    {
     "name": "stdout",
     "output_type": "stream",
     "text": [
      "\n",
      "module_idx: 10, percent:0.65\n",
      "\n",
      " test_loss   correct     total       Acc\n"
     ]
    },
    {
     "name": "stderr",
     "output_type": "stream",
     "text": [
      "\n",
      "     0.277  9.39e+03     1e+04      93.9: 100%|██████████| 79/79 [00:01<00:00, 73.20it/s]\n"
     ]
    },
    {
     "name": "stdout",
     "output_type": "stream",
     "text": [
      "\n",
      "module_idx: 10, percent:0.7\n",
      "\n",
      " test_loss   correct     total       Acc\n"
     ]
    },
    {
     "name": "stderr",
     "output_type": "stream",
     "text": [
      "     0.277  9.39e+03     1e+04      93.9: 100%|██████████| 79/79 [00:01<00:00, 71.79it/s]"
     ]
    },
    {
     "name": "stdout",
     "output_type": "stream",
     "text": [
      "\n",
      "module_idx: 10, percent:0.75\n",
      "\n",
      " test_loss   correct     total       Acc\n"
     ]
    },
    {
     "name": "stderr",
     "output_type": "stream",
     "text": [
      "\n",
      "     0.277  9.39e+03     1e+04      93.9: 100%|██████████| 79/79 [00:01<00:00, 69.55it/s]"
     ]
    },
    {
     "name": "stdout",
     "output_type": "stream",
     "text": [
      "\n",
      "module_idx: 10, percent:0.8\n",
      "\n",
      " test_loss   correct     total       Acc\n"
     ]
    },
    {
     "name": "stderr",
     "output_type": "stream",
     "text": [
      "\n",
      "     0.277  9.39e+03     1e+04      93.9: 100%|██████████| 79/79 [00:01<00:00, 73.32it/s]\n"
     ]
    },
    {
     "name": "stdout",
     "output_type": "stream",
     "text": [
      "\n",
      "module_idx: 10, percent:0.85\n",
      "\n",
      " test_loss   correct     total       Acc\n"
     ]
    },
    {
     "name": "stderr",
     "output_type": "stream",
     "text": [
      "     0.277  9.39e+03     1e+04      93.9: 100%|██████████| 79/79 [00:01<00:00, 72.69it/s]\n"
     ]
    },
    {
     "name": "stdout",
     "output_type": "stream",
     "text": [
      "\n",
      "module_idx: 10, percent:0.9\n",
      "\n",
      " test_loss   correct     total       Acc\n"
     ]
    },
    {
     "name": "stderr",
     "output_type": "stream",
     "text": [
      "     0.277  9.39e+03     1e+04      93.9: 100%|██████████| 79/79 [00:01<00:00, 72.71it/s]"
     ]
    },
    {
     "name": "stdout",
     "output_type": "stream",
     "text": [
      "\n",
      "module_idx: 10, percent:0.95\n",
      "\n",
      " test_loss   correct     total       Acc\n"
     ]
    },
    {
     "name": "stderr",
     "output_type": "stream",
     "text": [
      "\n",
      "     0.277  9.39e+03     1e+04      93.9: 100%|██████████| 79/79 [00:01<00:00, 72.02it/s]\n"
     ]
    },
    {
     "name": "stdout",
     "output_type": "stream",
     "text": [
      "\n",
      "module_idx: 11, percent:  0\n",
      "\n",
      " test_loss   correct     total       Acc\n"
     ]
    },
    {
     "name": "stderr",
     "output_type": "stream",
     "text": [
      "     0.277  9.39e+03     1e+04      93.9: 100%|██████████| 79/79 [00:01<00:00, 72.01it/s]"
     ]
    },
    {
     "name": "stdout",
     "output_type": "stream",
     "text": [
      "\n",
      "module_idx: 11, percent:0.05\n",
      "\n",
      " test_loss   correct     total       Acc\n"
     ]
    },
    {
     "name": "stderr",
     "output_type": "stream",
     "text": [
      "\n",
      "     0.277  9.39e+03     1e+04      93.9: 100%|██████████| 79/79 [00:01<00:00, 73.26it/s]"
     ]
    },
    {
     "name": "stdout",
     "output_type": "stream",
     "text": [
      "\n",
      "module_idx: 11, percent:0.1\n",
      "\n",
      " test_loss   correct     total       Acc\n"
     ]
    },
    {
     "name": "stderr",
     "output_type": "stream",
     "text": [
      "\n",
      "     0.277  9.39e+03     1e+04      93.9: 100%|██████████| 79/79 [00:01<00:00, 71.18it/s]\n"
     ]
    },
    {
     "name": "stdout",
     "output_type": "stream",
     "text": [
      "\n",
      "module_idx: 11, percent:0.15\n",
      "\n",
      " test_loss   correct     total       Acc\n"
     ]
    },
    {
     "name": "stderr",
     "output_type": "stream",
     "text": [
      "     0.277  9.39e+03     1e+04      93.9: 100%|██████████| 79/79 [00:01<00:00, 73.10it/s]\n"
     ]
    },
    {
     "name": "stdout",
     "output_type": "stream",
     "text": [
      "\n",
      "module_idx: 11, percent:0.2\n",
      "\n",
      " test_loss   correct     total       Acc\n"
     ]
    },
    {
     "name": "stderr",
     "output_type": "stream",
     "text": [
      "     0.277  9.39e+03     1e+04      93.9: 100%|██████████| 79/79 [00:01<00:00, 72.66it/s]\n"
     ]
    },
    {
     "name": "stdout",
     "output_type": "stream",
     "text": [
      "\n",
      "module_idx: 11, percent:0.25\n",
      "\n",
      " test_loss   correct     total       Acc\n"
     ]
    },
    {
     "name": "stderr",
     "output_type": "stream",
     "text": [
      "     0.277  9.39e+03     1e+04      93.9: 100%|██████████| 79/79 [00:01<00:00, 69.30it/s]\n"
     ]
    },
    {
     "name": "stdout",
     "output_type": "stream",
     "text": [
      "\n",
      "module_idx: 11, percent:0.3\n",
      "\n",
      " test_loss   correct     total       Acc\n"
     ]
    },
    {
     "name": "stderr",
     "output_type": "stream",
     "text": [
      "     0.277  9.39e+03     1e+04      93.9: 100%|██████████| 79/79 [00:01<00:00, 72.07it/s]"
     ]
    },
    {
     "name": "stdout",
     "output_type": "stream",
     "text": [
      "\n",
      "module_idx: 11, percent:0.35\n",
      "\n",
      " test_loss   correct     total       Acc\n"
     ]
    },
    {
     "name": "stderr",
     "output_type": "stream",
     "text": [
      "\n",
      "     0.277  9.39e+03     1e+04      93.9: 100%|██████████| 79/79 [00:01<00:00, 74.15it/s]\n"
     ]
    },
    {
     "name": "stdout",
     "output_type": "stream",
     "text": [
      "\n",
      "module_idx: 11, percent:0.4\n",
      "\n",
      " test_loss   correct     total       Acc\n"
     ]
    },
    {
     "name": "stderr",
     "output_type": "stream",
     "text": [
      "     0.277  9.39e+03     1e+04      93.9: 100%|██████████| 79/79 [00:01<00:00, 71.72it/s]"
     ]
    },
    {
     "name": "stdout",
     "output_type": "stream",
     "text": [
      "\n",
      "module_idx: 11, percent:0.45\n",
      "\n",
      " test_loss   correct     total       Acc\n"
     ]
    },
    {
     "name": "stderr",
     "output_type": "stream",
     "text": [
      "\n",
      "     0.277  9.39e+03     1e+04      93.9: 100%|██████████| 79/79 [00:01<00:00, 72.83it/s]\n"
     ]
    },
    {
     "name": "stdout",
     "output_type": "stream",
     "text": [
      "\n",
      "module_idx: 11, percent:0.5\n",
      "\n",
      " test_loss   correct     total       Acc\n"
     ]
    },
    {
     "name": "stderr",
     "output_type": "stream",
     "text": [
      "     0.277  9.39e+03     1e+04      93.9: 100%|██████████| 79/79 [00:01<00:00, 74.03it/s]"
     ]
    },
    {
     "name": "stdout",
     "output_type": "stream",
     "text": [
      "\n",
      "module_idx: 11, percent:0.55\n",
      "\n",
      " test_loss   correct     total       Acc\n"
     ]
    },
    {
     "name": "stderr",
     "output_type": "stream",
     "text": [
      "\n",
      "     0.277  9.39e+03     1e+04      93.9: 100%|██████████| 79/79 [00:01<00:00, 71.70it/s]"
     ]
    },
    {
     "name": "stdout",
     "output_type": "stream",
     "text": [
      "\n",
      "module_idx: 11, percent:0.6\n",
      "\n",
      " test_loss   correct     total       Acc\n"
     ]
    },
    {
     "name": "stderr",
     "output_type": "stream",
     "text": [
      "\n",
      "     0.277  9.39e+03     1e+04      93.9: 100%|██████████| 79/79 [00:01<00:00, 76.68it/s]"
     ]
    },
    {
     "name": "stdout",
     "output_type": "stream",
     "text": [
      "\n",
      "module_idx: 11, percent:0.65\n",
      "\n",
      " test_loss   correct     total       Acc\n"
     ]
    },
    {
     "name": "stderr",
     "output_type": "stream",
     "text": [
      "\n",
      "     0.277  9.39e+03     1e+04      93.9: 100%|██████████| 79/79 [00:01<00:00, 72.42it/s]"
     ]
    },
    {
     "name": "stdout",
     "output_type": "stream",
     "text": [
      "\n",
      "module_idx: 11, percent:0.7\n",
      "\n",
      " test_loss   correct     total       Acc\n"
     ]
    },
    {
     "name": "stderr",
     "output_type": "stream",
     "text": [
      "\n",
      "     0.277  9.39e+03     1e+04      93.9: 100%|██████████| 79/79 [00:01<00:00, 72.39it/s]\n"
     ]
    },
    {
     "name": "stdout",
     "output_type": "stream",
     "text": [
      "\n",
      "module_idx: 11, percent:0.75\n",
      "\n",
      " test_loss   correct     total       Acc\n"
     ]
    },
    {
     "name": "stderr",
     "output_type": "stream",
     "text": [
      "     0.277  9.39e+03     1e+04      93.9: 100%|██████████| 79/79 [00:01<00:00, 71.08it/s]"
     ]
    },
    {
     "name": "stdout",
     "output_type": "stream",
     "text": [
      "\n",
      "module_idx: 11, percent:0.8\n",
      "\n",
      " test_loss   correct     total       Acc\n"
     ]
    },
    {
     "name": "stderr",
     "output_type": "stream",
     "text": [
      "\n",
      "     0.277  9.39e+03     1e+04      93.9: 100%|██████████| 79/79 [00:01<00:00, 72.19it/s]"
     ]
    },
    {
     "name": "stdout",
     "output_type": "stream",
     "text": [
      "\n",
      "module_idx: 11, percent:0.85\n",
      "\n",
      " test_loss   correct     total       Acc\n"
     ]
    },
    {
     "name": "stderr",
     "output_type": "stream",
     "text": [
      "\n",
      "     0.277  9.39e+03     1e+04      93.9: 100%|██████████| 79/79 [00:01<00:00, 73.24it/s]"
     ]
    },
    {
     "name": "stdout",
     "output_type": "stream",
     "text": [
      "\n",
      "module_idx: 11, percent:0.9\n",
      "\n",
      " test_loss   correct     total       Acc\n"
     ]
    },
    {
     "name": "stderr",
     "output_type": "stream",
     "text": [
      "\n",
      "     0.277  9.38e+03     1e+04      93.8: 100%|██████████| 79/79 [00:01<00:00, 74.79it/s]\n"
     ]
    },
    {
     "name": "stdout",
     "output_type": "stream",
     "text": [
      "\n",
      "module_idx: 11, percent:0.95\n",
      "\n",
      " test_loss   correct     total       Acc\n"
     ]
    },
    {
     "name": "stderr",
     "output_type": "stream",
     "text": [
      "     0.274  9.39e+03     1e+04      93.9: 100%|██████████| 79/79 [00:01<00:00, 73.11it/s]\n"
     ]
    },
    {
     "name": "stdout",
     "output_type": "stream",
     "text": [
      "\n",
      "module_idx: 12, percent:  0\n",
      "\n",
      " test_loss   correct     total       Acc\n"
     ]
    },
    {
     "name": "stderr",
     "output_type": "stream",
     "text": [
      "     0.277  9.39e+03     1e+04      93.9: 100%|██████████| 79/79 [00:01<00:00, 72.41it/s]"
     ]
    },
    {
     "name": "stdout",
     "output_type": "stream",
     "text": [
      "\n",
      "module_idx: 12, percent:0.05\n",
      "\n",
      " test_loss   correct     total       Acc\n"
     ]
    },
    {
     "name": "stderr",
     "output_type": "stream",
     "text": [
      "\n",
      "     0.277  9.39e+03     1e+04      93.9: 100%|██████████| 79/79 [00:01<00:00, 73.31it/s]\n"
     ]
    },
    {
     "name": "stdout",
     "output_type": "stream",
     "text": [
      "\n",
      "module_idx: 12, percent:0.1\n",
      "\n",
      " test_loss   correct     total       Acc\n"
     ]
    },
    {
     "name": "stderr",
     "output_type": "stream",
     "text": [
      "     0.277  9.39e+03     1e+04      93.9: 100%|██████████| 79/79 [00:01<00:00, 74.33it/s]\n"
     ]
    },
    {
     "name": "stdout",
     "output_type": "stream",
     "text": [
      "\n",
      "module_idx: 12, percent:0.15\n",
      "\n",
      " test_loss   correct     total       Acc\n"
     ]
    },
    {
     "name": "stderr",
     "output_type": "stream",
     "text": [
      "     0.277  9.39e+03     1e+04      93.9: 100%|██████████| 79/79 [00:01<00:00, 74.32it/s]"
     ]
    },
    {
     "name": "stdout",
     "output_type": "stream",
     "text": [
      "\n",
      "module_idx: 12, percent:0.2\n",
      "\n",
      " test_loss   correct     total       Acc\n"
     ]
    },
    {
     "name": "stderr",
     "output_type": "stream",
     "text": [
      "\n",
      "     0.277  9.39e+03     1e+04      93.9: 100%|██████████| 79/79 [00:01<00:00, 70.99it/s]\n"
     ]
    },
    {
     "name": "stdout",
     "output_type": "stream",
     "text": [
      "\n",
      "module_idx: 12, percent:0.25\n",
      "\n",
      " test_loss   correct     total       Acc\n"
     ]
    },
    {
     "name": "stderr",
     "output_type": "stream",
     "text": [
      "     0.277  9.39e+03     1e+04      93.9: 100%|██████████| 79/79 [00:01<00:00, 72.78it/s]\n"
     ]
    },
    {
     "name": "stdout",
     "output_type": "stream",
     "text": [
      "\n",
      "module_idx: 12, percent:0.3\n",
      "\n",
      " test_loss   correct     total       Acc\n"
     ]
    },
    {
     "name": "stderr",
     "output_type": "stream",
     "text": [
      "     0.277  9.39e+03     1e+04      93.9: 100%|██████████| 79/79 [00:01<00:00, 73.79it/s]\n"
     ]
    },
    {
     "name": "stdout",
     "output_type": "stream",
     "text": [
      "\n",
      "module_idx: 12, percent:0.35\n",
      "\n",
      " test_loss   correct     total       Acc\n"
     ]
    },
    {
     "name": "stderr",
     "output_type": "stream",
     "text": [
      "     0.277  9.39e+03     1e+04      93.9: 100%|██████████| 79/79 [00:01<00:00, 72.23it/s]"
     ]
    },
    {
     "name": "stdout",
     "output_type": "stream",
     "text": [
      "\n",
      "module_idx: 12, percent:0.4\n",
      "\n",
      " test_loss   correct     total       Acc\n"
     ]
    },
    {
     "name": "stderr",
     "output_type": "stream",
     "text": [
      "\n",
      "     0.277  9.39e+03     1e+04      93.9: 100%|██████████| 79/79 [00:01<00:00, 72.64it/s]\n"
     ]
    },
    {
     "name": "stdout",
     "output_type": "stream",
     "text": [
      "\n",
      "module_idx: 12, percent:0.45\n",
      "\n",
      " test_loss   correct     total       Acc\n"
     ]
    },
    {
     "name": "stderr",
     "output_type": "stream",
     "text": [
      "     0.277  9.39e+03     1e+04      93.9: 100%|██████████| 79/79 [00:01<00:00, 73.10it/s]\n"
     ]
    },
    {
     "name": "stdout",
     "output_type": "stream",
     "text": [
      "\n",
      "module_idx: 12, percent:0.5\n",
      "\n",
      " test_loss   correct     total       Acc\n"
     ]
    },
    {
     "name": "stderr",
     "output_type": "stream",
     "text": [
      "     0.277  9.39e+03     1e+04      93.9: 100%|██████████| 79/79 [00:01<00:00, 72.03it/s]\n"
     ]
    },
    {
     "name": "stdout",
     "output_type": "stream",
     "text": [
      "\n",
      "module_idx: 12, percent:0.55\n",
      "\n",
      " test_loss   correct     total       Acc\n"
     ]
    },
    {
     "name": "stderr",
     "output_type": "stream",
     "text": [
      "     0.277  9.39e+03     1e+04      93.9: 100%|██████████| 79/79 [00:01<00:00, 72.19it/s]"
     ]
    },
    {
     "name": "stdout",
     "output_type": "stream",
     "text": [
      "\n",
      "module_idx: 12, percent:0.6\n",
      "\n",
      " test_loss   correct     total       Acc\n"
     ]
    },
    {
     "name": "stderr",
     "output_type": "stream",
     "text": [
      "\n",
      "     0.277  9.39e+03     1e+04      93.9: 100%|██████████| 79/79 [00:01<00:00, 75.18it/s]"
     ]
    },
    {
     "name": "stdout",
     "output_type": "stream",
     "text": [
      "\n",
      "module_idx: 12, percent:0.65\n",
      "\n",
      " test_loss   correct     total       Acc\n"
     ]
    },
    {
     "name": "stderr",
     "output_type": "stream",
     "text": [
      "\n",
      "     0.277  9.39e+03     1e+04      93.9: 100%|██████████| 79/79 [00:01<00:00, 72.64it/s]"
     ]
    },
    {
     "name": "stdout",
     "output_type": "stream",
     "text": [
      "\n",
      "module_idx: 12, percent:0.7\n",
      "\n",
      " test_loss   correct     total       Acc\n"
     ]
    },
    {
     "name": "stderr",
     "output_type": "stream",
     "text": [
      "\n",
      "     0.277  9.39e+03     1e+04      93.9: 100%|██████████| 79/79 [00:01<00:00, 72.92it/s]"
     ]
    },
    {
     "name": "stdout",
     "output_type": "stream",
     "text": [
      "\n",
      "module_idx: 12, percent:0.75\n",
      "\n",
      " test_loss   correct     total       Acc\n"
     ]
    },
    {
     "name": "stderr",
     "output_type": "stream",
     "text": [
      "\n",
      "     0.277  9.39e+03     1e+04      93.9: 100%|██████████| 79/79 [00:01<00:00, 72.50it/s]"
     ]
    },
    {
     "name": "stdout",
     "output_type": "stream",
     "text": [
      "\n",
      "module_idx: 12, percent:0.8\n",
      "\n",
      " test_loss   correct     total       Acc\n"
     ]
    },
    {
     "name": "stderr",
     "output_type": "stream",
     "text": [
      "\n",
      "     0.277  9.39e+03     1e+04      93.9: 100%|██████████| 79/79 [00:01<00:00, 71.46it/s]\n"
     ]
    },
    {
     "name": "stdout",
     "output_type": "stream",
     "text": [
      "\n",
      "module_idx: 12, percent:0.85\n",
      "\n",
      " test_loss   correct     total       Acc\n"
     ]
    },
    {
     "name": "stderr",
     "output_type": "stream",
     "text": [
      "     0.277  9.39e+03     1e+04      93.9: 100%|██████████| 79/79 [00:01<00:00, 72.15it/s]\n"
     ]
    },
    {
     "name": "stdout",
     "output_type": "stream",
     "text": [
      "\n",
      "module_idx: 12, percent:0.9\n",
      "\n",
      " test_loss   correct     total       Acc\n"
     ]
    },
    {
     "name": "stderr",
     "output_type": "stream",
     "text": [
      "     0.277  9.39e+03     1e+04      93.9: 100%|██████████| 79/79 [00:01<00:00, 71.45it/s]"
     ]
    },
    {
     "name": "stdout",
     "output_type": "stream",
     "text": [
      "\n",
      "module_idx: 12, percent:0.95\n",
      "\n",
      " test_loss   correct     total       Acc\n"
     ]
    },
    {
     "name": "stderr",
     "output_type": "stream",
     "text": [
      "\n",
      "     0.277  9.39e+03     1e+04      93.9: 100%|██████████| 79/79 [00:01<00:00, 72.84it/s]\n"
     ]
    },
    {
     "name": "stdout",
     "output_type": "stream",
     "text": [
      "module_idx   percent      real       Acc      loss\n",
      "         0         0         0     93.86    21.882\n",
      "         0      0.05  0.046875     93.86    21.882\n",
      "         0       0.1    0.0625     93.86    21.882\n",
      "         0      0.15    0.0625     93.86    21.882\n",
      "         0       0.2    0.1875     93.86    21.882\n",
      "         0      0.25      0.25     93.86    21.882\n",
      "         0       0.3   0.28125     93.86    21.882\n",
      "         0      0.35   0.34375     93.86    21.882\n",
      "         0       0.4   0.39062     93.86    21.882\n",
      "         0      0.45    0.4375     93.86    21.882\n",
      "         0       0.5       0.5     93.86    21.882\n",
      "         0      0.55   0.54688     93.86    21.882\n",
      "         0       0.6   0.59375     93.86    21.882\n",
      "         0      0.65   0.64062     93.86    21.882\n",
      "         0       0.7    0.6875     93.97    21.922\n",
      "         0      0.75      0.75     92.15    29.837\n",
      "         0       0.8   0.79688     88.84    40.209\n",
      "         0      0.85   0.84375      69.5       126\n",
      "         0       0.9   0.89062     38.67    298.29\n",
      "         0      0.95    0.9375     14.51    394.34\n",
      "         1         0         0     93.86    21.882\n",
      "         1      0.05  0.046875     93.83    22.088\n",
      "         1       0.1   0.09375     93.75    22.503\n",
      "         1      0.15   0.14062     93.56    22.947\n",
      "         1       0.2    0.1875     92.58    26.068\n",
      "         1      0.25      0.25     90.59    32.816\n",
      "         1       0.3   0.29688     84.36    54.484\n",
      "         1      0.35   0.34375     77.35    77.861\n",
      "         1       0.4   0.39062     64.76    124.45\n",
      "         1      0.45    0.4375     53.82    168.37\n",
      "         1       0.5       0.5     52.04    179.22\n",
      "         1      0.55   0.54688     33.85     256.4\n",
      "         1       0.6   0.59375     32.89    248.68\n",
      "         1      0.65   0.64062     31.11    247.43\n",
      "         1       0.7    0.6875     32.45     225.4\n",
      "         1      0.75      0.75     26.86    249.32\n",
      "         1       0.8   0.79688     17.76     341.1\n",
      "         1      0.85   0.84375      14.3    338.25\n",
      "         1       0.9   0.89062        10     489.3\n",
      "         1      0.95    0.9375        10    488.41\n",
      "         2         0         0     93.86    21.882\n",
      "         2      0.05  0.046875     93.86    21.882\n",
      "         2       0.1   0.09375     93.86    21.882\n",
      "         2      0.15   0.14844     93.94    22.057\n",
      "         2       0.2   0.19531     93.64    23.274\n",
      "         2      0.25      0.25     93.17    24.884\n",
      "         2       0.3   0.29688     91.99    29.632\n",
      "         2      0.35   0.34375        91     34.39\n",
      "         2       0.4   0.39844     89.48    40.178\n",
      "         2      0.45   0.44531        87    48.596\n",
      "         2       0.5       0.5     85.61    52.915\n",
      "         2      0.55   0.54688     83.08    63.149\n",
      "         2       0.6   0.59375     71.78    113.44\n",
      "         2      0.65   0.64844     52.14    211.73\n",
      "         2       0.7   0.69531     29.52    366.76\n",
      "         2      0.75      0.75      13.8    527.48\n",
      "         2       0.8   0.79688     10.77    554.81\n",
      "         2      0.85   0.84375     10.43    492.49\n",
      "         2       0.9   0.89844      9.49    401.19\n",
      "         2      0.95   0.94531     10.85    321.44\n",
      "         3         0         0     93.86    21.882\n",
      "         3      0.05  0.046875     93.27    24.434\n",
      "         3       0.1   0.09375     92.34    27.761\n",
      "         3      0.15   0.14844     91.17     30.96\n",
      "         3       0.2   0.19531      90.4    33.246\n",
      "         3      0.25      0.25     88.57    38.994\n",
      "         3       0.3   0.29688     87.26    41.822\n",
      "         3      0.35   0.34375     86.48    42.661\n",
      "         3       0.4   0.39844        82    56.677\n",
      "         3      0.45   0.44531     78.83    66.303\n",
      "         3       0.5       0.5     67.73    102.64\n",
      "         3      0.55   0.54688     58.77     122.7\n",
      "         3       0.6   0.59375     40.47    201.67\n",
      "         3      0.65   0.64844     28.01    239.75\n",
      "         3       0.7   0.69531      19.6    262.58\n",
      "         3      0.75      0.75     13.86    248.68\n",
      "         3       0.8   0.79688     11.59       254\n",
      "         3      0.85   0.84375     10.16    248.01\n",
      "         3       0.9   0.89844     10.17    233.93\n",
      "         3      0.95   0.94531     10.64    228.81\n",
      "         4         0         0     93.86    21.882\n",
      "         4      0.05  0.046875     93.86    21.882\n",
      "         4       0.1  0.097656     93.82    21.977\n",
      "         4      0.15   0.14844     93.71    22.405\n",
      "         4       0.2   0.19922     93.27    24.544\n",
      "         4      0.25      0.25     92.45    26.848\n",
      "         4       0.3   0.29688     91.72    29.605\n",
      "         4      0.35   0.34766     91.05    32.046\n",
      "         4       0.4   0.39844     89.66    36.409\n",
      "         4      0.45   0.44922     87.58    44.384\n",
      "         4       0.5       0.5     82.58    61.854\n",
      "         4      0.55   0.54688     78.13    78.959\n",
      "         4       0.6   0.59766     73.42    96.982\n",
      "         4      0.65   0.64844     67.24    120.25\n",
      "         4       0.7   0.69922     57.32    158.59\n",
      "         4      0.75      0.75     45.17    216.29\n",
      "         4       0.8   0.79688     34.83    258.63\n",
      "         4      0.85   0.84766     27.49    286.92\n",
      "         4       0.9   0.89844     20.42    288.89\n",
      "         4      0.95   0.94922     13.56    317.96\n",
      "         5         0         0     93.86    21.882\n",
      "         5      0.05  0.046875     93.86    21.882\n",
      "         5       0.1  0.097656     93.86    21.882\n",
      "         5      0.15   0.14844     93.86    21.882\n",
      "         5       0.2   0.19922     93.86    21.882\n",
      "         5      0.25      0.25     93.79    22.239\n",
      "         5       0.3   0.29688      93.3    23.608\n",
      "         5      0.35   0.34766     92.96    24.587\n",
      "         5       0.4   0.39844     92.12    27.399\n",
      "         5      0.45   0.44922     90.74    30.158\n",
      "         5       0.5       0.5     88.87     36.16\n",
      "         5      0.55   0.54688     87.59    39.222\n",
      "         5       0.6   0.59766     82.91    51.375\n",
      "         5      0.65   0.64844     81.14    56.089\n",
      "         5       0.7   0.69922     77.41    66.792\n",
      "         5      0.75      0.75     68.99    94.361\n",
      "         5       0.8   0.79688     61.62    112.23\n",
      "         5      0.85   0.84766     46.62    161.89\n",
      "         5       0.9   0.89844     32.25    216.89\n",
      "         5      0.95   0.94922     22.13    272.44\n",
      "         6         0         0     93.86    21.882\n",
      "         6      0.05  0.046875     93.86    21.882\n",
      "         6       0.1  0.097656     93.86    21.882\n",
      "         6      0.15   0.14844     93.86    21.882\n",
      "         6       0.2   0.19922     93.86    21.882\n",
      "         6      0.25      0.25     93.86    21.882\n",
      "         6       0.3   0.29688     93.86    21.882\n",
      "         6      0.35   0.34766     93.86    21.882\n",
      "         6       0.4   0.39844     93.86    21.882\n",
      "         6      0.45   0.44922     93.86    21.882\n",
      "         6       0.5       0.5     93.86    21.882\n",
      "         6      0.55   0.54688     93.89    22.251\n",
      "         6       0.6   0.59766     93.13     23.86\n",
      "         6      0.65   0.64844     92.52    24.546\n",
      "         6       0.7   0.69922     90.51     29.41\n",
      "         6      0.75      0.75     87.04    38.493\n",
      "         6       0.8   0.79688     76.44    65.421\n",
      "         6      0.85   0.84766     57.04    119.41\n",
      "         6       0.9   0.89844     44.56    145.45\n",
      "         6      0.95   0.94922     32.17    172.47\n",
      "         7         0         0     93.86    21.882\n",
      "         7      0.05  0.048828     93.86    21.882\n",
      "         7       0.1  0.099609     93.86    21.882\n",
      "         7      0.15   0.14844     93.86    21.882\n",
      "         7       0.2   0.19922     93.86    21.882\n",
      "         7      0.25      0.25     93.86    21.882\n",
      "         7       0.3   0.29883     93.86    21.882\n",
      "         7      0.35   0.34961     93.86    21.882\n",
      "         7       0.4   0.39844     93.86    21.882\n",
      "         7      0.45   0.44922     93.86    21.882\n",
      "         7       0.5       0.5     93.86    21.882\n",
      "         7      0.55   0.54883     93.86    21.882\n",
      "         7       0.6   0.59961     93.86    21.882\n",
      "         7      0.65   0.64844     93.86    21.882\n",
      "         7       0.7   0.69922     93.86    21.882\n",
      "         7      0.75      0.75     93.86    21.882\n",
      "         7       0.8   0.79883     93.86    21.882\n",
      "         7      0.85   0.84961     93.86    21.968\n",
      "         7       0.9   0.89844     93.51    22.655\n",
      "         7      0.95   0.94922        91    26.871\n",
      "         8         0         0     93.86    21.882\n",
      "         8      0.05  0.048828     93.86    21.882\n",
      "         8       0.1  0.099609     93.86    21.882\n",
      "         8      0.15   0.14844     93.86    21.882\n",
      "         8       0.2   0.19922     93.86    21.882\n",
      "         8      0.25      0.25     93.86    21.882\n",
      "         8       0.3   0.29883     93.86    21.882\n",
      "         8      0.35   0.34961     93.86    21.882\n",
      "         8       0.4   0.39844     93.86    21.882\n",
      "         8      0.45   0.44922     93.86    21.882\n",
      "         8       0.5       0.5     93.86    21.882\n",
      "         8      0.55   0.54883     93.86    21.882\n",
      "         8       0.6   0.59961     93.86    21.882\n",
      "         8      0.65   0.64844     93.86    21.882\n",
      "         8       0.7   0.69922     93.86    21.882\n",
      "         8      0.75      0.75     93.86    21.882\n",
      "         8       0.8   0.79883     93.86    21.882\n",
      "         8      0.85   0.84961     93.86    21.882\n",
      "         8       0.9   0.89844     93.86    21.882\n",
      "         8      0.95   0.94922     93.86    21.882\n",
      "         9         0         0     93.86    21.882\n",
      "         9      0.05  0.048828     93.86    21.882\n",
      "         9       0.1  0.099609     93.86    21.882\n",
      "         9      0.15   0.14844     93.86    21.882\n",
      "         9       0.2   0.19922     93.86    21.882\n",
      "         9      0.25      0.25     93.86    21.882\n",
      "         9       0.3   0.29883     93.86    21.882\n",
      "         9      0.35   0.34961     93.86    21.882\n",
      "         9       0.4   0.39844     93.86    21.882\n",
      "         9      0.45   0.44922     93.86    21.882\n",
      "         9       0.5       0.5     93.86    21.882\n",
      "         9      0.55   0.54883     93.86    21.882\n",
      "         9       0.6   0.59961     93.86    21.882\n",
      "         9      0.65   0.64844     93.86    21.882\n",
      "         9       0.7   0.69922     93.86    21.882\n",
      "         9      0.75      0.75     93.86    21.882\n",
      "         9       0.8   0.79883     93.86    21.882\n",
      "         9      0.85   0.84961     93.86    21.882\n",
      "         9       0.9   0.89844     93.86    21.882\n",
      "         9      0.95   0.94922     93.86    21.882\n",
      "        10         0         0     93.86    21.882\n",
      "        10      0.05  0.048828     93.86    21.882\n",
      "        10       0.1  0.099609     93.86    21.882\n",
      "        10      0.15   0.14844     93.86    21.882\n",
      "        10       0.2   0.19922     93.86    21.882\n",
      "        10      0.25      0.25     93.86    21.882\n",
      "        10       0.3   0.29883     93.86    21.882\n",
      "        10      0.35   0.34961     93.86    21.882\n",
      "        10       0.4   0.39844     93.86    21.882\n",
      "        10      0.45   0.44922     93.86    21.882\n",
      "        10       0.5       0.5     93.86    21.882\n",
      "        10      0.55   0.54883     93.86    21.882\n",
      "        10       0.6   0.59961     93.86    21.882\n",
      "        10      0.65   0.64844     93.86    21.882\n",
      "        10       0.7   0.69922     93.86    21.882\n",
      "        10      0.75      0.75     93.86    21.882\n",
      "        10       0.8   0.79883     93.86    21.882\n",
      "        10      0.85   0.84961     93.86    21.882\n",
      "        10       0.9   0.89844     93.86    21.882\n",
      "        10      0.95   0.94922     93.86    21.882\n",
      "        11         0         0     93.86    21.882\n",
      "        11      0.05  0.048828     93.86    21.882\n",
      "        11       0.1  0.099609     93.86    21.882\n",
      "        11      0.15   0.14844     93.86    21.882\n",
      "        11       0.2   0.19922     93.86    21.882\n",
      "        11      0.25      0.25     93.86    21.882\n",
      "        11       0.3   0.29883     93.86    21.882\n",
      "        11      0.35   0.34961     93.86    21.882\n",
      "        11       0.4   0.39844     93.86    21.882\n",
      "        11      0.45   0.44922     93.86    21.882\n",
      "        11       0.5       0.5     93.86    21.882\n",
      "        11      0.55   0.54883     93.86    21.882\n",
      "        11       0.6   0.59961     93.86    21.882\n",
      "        11      0.65   0.64844     93.86    21.882\n",
      "        11       0.7   0.69922     93.86    21.882\n",
      "        11      0.75      0.75     93.86    21.882\n",
      "        11       0.8   0.79883     93.86    21.882\n",
      "        11      0.85   0.84961     93.86    21.882\n",
      "        11       0.9   0.89844     93.84    21.864\n",
      "        11      0.95   0.94922     93.87    21.634\n",
      "        12         0         0     93.86    21.882\n",
      "        12      0.05  0.048828     93.86    21.882\n",
      "        12       0.1  0.099609     93.86    21.882\n",
      "        12      0.15   0.14844     93.86    21.882\n",
      "        12       0.2   0.17188     93.86    21.882\n",
      "        12      0.25      0.25     93.86    21.882\n",
      "        12       0.3   0.29883     93.86    21.882\n",
      "        12      0.35   0.34961     93.86    21.882\n",
      "        12       0.4   0.39844     93.86    21.882\n",
      "        12      0.45   0.44922     93.86    21.882\n",
      "        12       0.5       0.5     93.86    21.883\n",
      "        12      0.55   0.54883     93.86    21.883\n",
      "        12       0.6   0.59961     93.86    21.883\n",
      "        12      0.65   0.64844     93.86    21.883\n",
      "        12       0.7   0.69922     93.86    21.883\n",
      "        12      0.75      0.75     93.86    21.883\n",
      "        12       0.8   0.79883     93.86    21.887\n",
      "        12      0.85   0.84961     93.86    21.887\n",
      "        12       0.9   0.89844     93.86    21.887\n",
      "        12      0.95   0.94922     93.86    21.886\n"
     ]
    }
   ],
   "source": [
    "    import random\n",
    "    def shuffle(lis):\n",
    "        result = []\n",
    "        while lis:\n",
    "            p = random.randrange(0, len(lis))\n",
    "            result.append(lis[p])\n",
    "            lis.pop(p)\n",
    "        return result\n",
    "    \n",
    "    \n",
    "    def get_sensitivity(model, percent_list, mode='ns'):\n",
    "        # sensitivity ['module_idx', 'percent', 'real_percent', 'Acc', 'loss', 'mask']\n",
    "        sen = []\n",
    "        \n",
    "        masked_model = deepcopy(model)\n",
    "\n",
    "        origin_module_list = model.get_module_list()\n",
    "        masked_module_list = masked_model.get_module_list()\n",
    "\n",
    "        for m_idx,(m,origin_m) in enumerate(zip(masked_module_list,origin_module_list)):\n",
    "            for percent in percent_list:\n",
    "                num_filter = m['bn'].weight.data.shape[0]\n",
    "                \n",
    "                # 当前卷积模块最少要保留的输出通道数目\n",
    "                min_channel_num = int(num_filter*opt.layer_keep) if int(num_filter * opt.layer_keep) > 0 else 1\n",
    "                \n",
    "                if mode == 'random':\n",
    "                    mask = [1. if idx < min(int(num_filter*percent), min_channel_num) else 0. \\\n",
    "                            for idx in range(num_filter)]\n",
    "                    mask = shuffle(mask)\n",
    "                    \n",
    "                    mask = torch.tensor(mask).to(device)\n",
    "                elif mode == 'ns':\n",
    "                    bn = m['bn'].weight.data.abs().clone()\n",
    "                    \n",
    "                    y,i = torch.sort(bn)\n",
    "                    thre_index = int(num_filter*percent)\n",
    "                    thre = y[thre_index]\n",
    "\n",
    "                    mask = m['bn'].weight.data.abs().ge(thre)\n",
    "\n",
    "                    # 当剪枝后输出通道数目小于当前卷积模块最少要保留的输出通道数目\n",
    "                    if int(torch.sum(mask)) < min_channel_num: \n",
    "                        _, sorted_index_weights = torch.sort(weight_copy,descending=True)\n",
    "                        mask[sorted_index_weights[:min_channel_num]]=1.\n",
    "                elif mode == 'l1_norm':\n",
    "                    conv = torch.sum(m['conv'].weight.data.abs().clone(),(1,2,3))\n",
    "                    y,i = torch.sort(conv.clone())\n",
    "                    thre_index = int(num_filter*percent)\n",
    "                    thre = y[thre_index]\n",
    "                    \n",
    "                    mask = conv.ge(thre)\n",
    "                    \n",
    "                    # 当剪枝后输出通道数目小于当前卷积模块最少要保留的输出通道数目\n",
    "                    if int(torch.sum(mask)) < min_channel_num: \n",
    "                        _, sorted_index_weights = torch.sort(conv,descending=True)\n",
    "                        mask[sorted_index_weights[:min_channel_num]]=1.\n",
    "                        \n",
    "                if mode == \"l1_norm\":\n",
    "                    for i,t in enumerate(mask):\n",
    "                        if t == 0.:\n",
    "                            m['conv'].weight.data[i].copy_(torch.zeros(m['conv'].weight.data[i].size()))\n",
    "                else:\n",
    "                    m['bn'].weight.data.mul_(mask)\n",
    "                    m['bn'].bias.data.mul_(mask)\n",
    "\n",
    "                remain = int(torch.sum(mask))\n",
    "                pruned = num_filter - remain\n",
    "                real_percent = pruned/num_filter\n",
    "\n",
    "                print('\\nmodule_idx:%3g, percent:%3g'%(m_idx, percent))\n",
    "                metric = eval_model(masked_model)\n",
    "                Acc = 100.*metric[1]/metric[2]\n",
    "                loss = metric[0]\n",
    "\n",
    "                sen.append([m_idx, percent, real_percent, Acc, loss, mask])\n",
    "            \n",
    "            if mode == 'l1_norm':\n",
    "                m['conv'].weight.data.copy_(origin_m['conv'].weight.data)\n",
    "            else:\n",
    "                m['bn'].weight.data.copy_(origin_m['bn'].weight.data)\n",
    "                m['bn'].bias.data.copy_(origin_m['bn'].bias.data)\n",
    "    \n",
    "        log = ('%10s'*5)%('module_idx', 'percent', 'real', 'Acc', 'loss')\n",
    "        print(log)\n",
    "\n",
    "        for s in sen:\n",
    "            m_idx = s[0]\n",
    "            percent = s[1]\n",
    "            real = s[2]\n",
    "            Acc = s[3]\n",
    "            loss = s[4]\n",
    "\n",
    "            log = ('%10.5g'*5)%(m_idx, percent, real, Acc, loss)\n",
    "            print(log)\n",
    "            \n",
    "        return sen\n",
    "    \n",
    "    percent_list = [0., 0.05, 0.10, 0.15, 0.20, 0.25, 0.30, 0.35, 0.40, 0.45, 0.50, \\\n",
    "                    0.55, 0.60, 0.65, 0.70, 0.75, 0.80, 0.85, 0.90, 0.95]\n",
    "    l1_norm_sen = get_sensitivity(baseline_model, percent_list, 'l1_norm')\n",
    "    ns_sen = get_sensitivity(sp_model, percent_list, 'ns')"
   ]
  },
  {
   "cell_type": "code",
   "execution_count": 3,
   "metadata": {
    "collapsed": true
   },
   "outputs": [],
   "source": [
    "    os.makedirs(\"exp_VGG16/l1-norm_ns_random\")\n",
    "    l1_norm_sen_path = os.path.join(opt.saved_dir, \"l1_norm_sen.sensitivity\")\n",
    "    ns_sen_path = os.path.join(opt.saved_dir, \"ns_sen.sensitivity\")\n",
    "    \n",
    "    torch.save(l1_norm_sen, l1_norm_sen_path)\n",
    "    torch.save(ns_sen, ns_sen_path)"
   ]
  },
  {
   "cell_type": "code",
   "execution_count": 4,
   "metadata": {
    "collapsed": true
   },
   "outputs": [],
   "source": [
    "    if (l1_norm_sen is None) or (ns_sen is None):\n",
    "        l1_norm_sen_path = os.path.join(opt.saved_dir, \"l1_norm_sen.sensitivity\")\n",
    "        ns_sen_path = os.path.join(opt.saved_dir, \"ns_sen.sensitivity\")\n",
    "        \n",
    "        assert os.path.isfile(l1_norm_sen_path) and os.path.isfile(l1_norm_sen_path), \"%s or %s is not exist!!!\"%(l1_norm_sen_path, \\\n",
    "            ns_sen_path)\n",
    "        \n",
    "        percent_list = [0., 0.05, 0.10, 0.15, 0.20, 0.25, 0.30, 0.35, 0.40, 0.45, 0.50, \\\n",
    "                    0.55, 0.60, 0.65, 0.70, 0.75, 0.80, 0.85, 0.90, 0.95]\n",
    "        l1_norm_sen = torch.load(l1_norm_sen_path)\n",
    "        ns_sen = torch.load(ns_sen_path)"
   ]
  },
  {
   "cell_type": "code",
   "execution_count": 5,
   "metadata": {},
   "outputs": [
    {
     "name": "stderr",
     "output_type": "stream",
     "text": [
      "findfont: Font family ['Times New Roman'] not found. Falling back to DejaVu Sans.\n"
     ]
    },
    {
     "data": {
      "image/png": "[encoded data removed]",
      "text/plain": [
       "<Figure size 1080x720 with 1 Axes>"
      ]
     },
     "metadata": {},
     "output_type": "display_data"
    },
    {
     "data": {
      "image/png": "[encoded data removed]",
      "text/plain": [
       "<Figure size 1080x720 with 1 Axes>"
      ]
     },
     "metadata": {},
     "output_type": "display_data"
    }
   ],
   "source": [
    "    import matplotlib.pyplot as plt\n",
    "    from copy import deepcopy\n",
    "    \n",
    "    def plt_sensitivity(sen, percent_list):\n",
    "        marker_list = [ 'o',       # circle marker  \n",
    "                        'v',       # triangle_down marker  \n",
    "                        '^',       # triangle_up marker  \n",
    "                        '<',       # triangle_left marker  \n",
    "                        '>',       # triangle_right marker  \n",
    "                        '1',       # tri_down marker  \n",
    "                        '2',       # tri_up marker  \n",
    "                        '3',       # tri_left marker  \n",
    "                        '4',       # tri_right marker  \n",
    "                        's',       # square marker  \n",
    "                        'p',       # pentagon marker  \n",
    "                        '*',       # star marker  \n",
    "                        'h',       # hexagon1 marker  \n",
    "                        'H',       # hexagon2 marker  \n",
    "                        '+',       # plus marker  \n",
    "                        'x',       # x marker  \n",
    "                        'D',       # diamond marker  \n",
    "                        'd',       # thin_diamond marker  \n",
    "                        '|',       # vline marker  \n",
    "                        '_',        # hline marker \n",
    "                        '.',       # point marker\n",
    "                        ','       # pixel marker\n",
    "                      ]\n",
    "\n",
    "        x = percent_list\n",
    "\n",
    "        figure, ax = plt.subplots(figsize=(15,10))\n",
    "\n",
    "        plt.xlim(0.,1.) # 设置x轴的刻度\n",
    "        plt.ylim(0.,100.) # 设置y轴的刻度\n",
    "        plt.xticks(x) # x轴上显示哪些文字\n",
    "        plt.yticks([x for x in range(0,100,10)]) # y轴上显示哪些文字\n",
    "\n",
    "        y_list = []\n",
    "        y = []\n",
    "        for i,s in enumerate(sen):\n",
    "            y.append(s[3])\n",
    "\n",
    "            if i%(len(x)) == (len(x)-1):\n",
    "                y_list.append(deepcopy(y))\n",
    "                y.clear()\n",
    "\n",
    "        for i,y in enumerate(y_list):\n",
    "            label = \"module_idx-\" + str(i)\n",
    "            marker = marker_list[i%len(y_list)]\n",
    "\n",
    "            # label表示将要显示在图例中的文字\n",
    "            # marker表示折现上每个点的图形形状\n",
    "            # ms表示每个点的大小\n",
    "            plt.plot(x,y,label=label,marker=marker,ms=10) \n",
    "\n",
    "        plt.tick_params(labelsize=10) # 坐标轴的字体大小\n",
    "\n",
    "        font1 = { 'family' : 'Times New Roman',\n",
    "                'weight' : 'normal',\n",
    "                'size'   : 16,\n",
    "            }\n",
    "        plt.legend(prop=font1) # 设置图例\n",
    "\n",
    "        plt.xlabel('percent', font1) # X轴标题\n",
    "        plt.ylabel('Acc', font1) # Y轴标题\n",
    "        plt.title('Prune Sensitivity', font1) # 图标题\n",
    "\n",
    "        plt.grid() # 图中显示表格\n",
    "\n",
    "        # img_file=os.path.join(opt.saved_dir, \"%s_sensitivity.svg\"%opt.model_name)\n",
    "        # plt.savefig(fname=img_file,format=\"svg\")\n",
    "        plt.show()\n",
    "        \n",
    "    plt_sensitivity(l1_norm_sen, percent_list)\n",
    "    plt_sensitivity(ns_sen, percent_list)"
   ]
  },
  {
   "cell_type": "code",
   "execution_count": 6,
   "metadata": {},
   "outputs": [
    {
     "name": "stdout",
     "output_type": "stream",
     "text": [
      "l1_norm_layer_percent:\t [0.6, 0.05, 0.1, 0.0, 0.05, 0.0, 0.1, 0.45, 0.8, 0.85, 0.85, 0.85, 0.75]\n",
      "ns_layer_percent:\t [0.7, 0.05, 0.15, 0.0, 0.1, 0.25, 0.55, 0.85, 0.95, 0.95, 0.95, 0.95, 0.95]\n"
     ]
    }
   ],
   "source": [
    "    # 根据剪枝敏感性分析确定每一层的剪枝率,每一层的剪枝率要保证不会使得精度下降超过threshold\n",
    "    def layer_percent(sen, percent_list, threshold = 0.1): \n",
    "        x = percent_list\n",
    "        \n",
    "        y_list = []\n",
    "        y = []\n",
    "        for i,s in enumerate(sen):\n",
    "            y.append(s[3])\n",
    "\n",
    "            if i%(len(x)) == (len(x)-1):\n",
    "                y_list.append(deepcopy(y))\n",
    "                y.clear()\n",
    "                \n",
    "        r = []\n",
    "        for y in y_list:\n",
    "            r.append(x[0])\n",
    "            not_prune_acc = y[0]\n",
    "            for i,acc in enumerate(y[1:]):\n",
    "                if (not_prune_acc - acc) < threshold:\n",
    "                    r[-1] = x[i+1]\n",
    "                else:\n",
    "                    break\n",
    "        return r\n",
    "    \n",
    "    \n",
    "    l1_norm_layer_percent = layer_percent(l1_norm_sen, percent_list)\n",
    "    ns_layer_percent = layer_percent(ns_sen, percent_list)\n",
    "    \n",
    "    print(\"l1_norm_layer_percent:\\t\", l1_norm_layer_percent)\n",
    "    print(\"ns_layer_percent:\\t\", ns_layer_percent)"
   ]
  },
  {
   "cell_type": "code",
   "execution_count": 7,
   "metadata": {},
   "outputs": [
    {
     "name": "stdout",
     "output_type": "stream",
     "text": [
      "module_idx:  0 \t percent:0.6 \t remain:  26 \t pruned:  38 \t real_percent:0.59375\n",
      "module_idx:  1 \t percent:0.05 \t remain:  61 \t pruned:   3 \t real_percent:0.046875\n",
      "module_idx:  2 \t percent:0.1 \t remain: 116 \t pruned:  12 \t real_percent:0.09375\n",
      "module_idx:  3 \t percent:  0 \t remain: 128 \t pruned:   0 \t real_percent:   0\n",
      "module_idx:  4 \t percent:0.05 \t remain: 244 \t pruned:  12 \t real_percent:0.046875\n",
      "module_idx:  5 \t percent:  0 \t remain: 256 \t pruned:   0 \t real_percent:   0\n",
      "module_idx:  6 \t percent:0.1 \t remain: 231 \t pruned:  25 \t real_percent:0.0976562\n",
      "module_idx:  7 \t percent:0.45 \t remain: 282 \t pruned: 230 \t real_percent:0.449219\n",
      "module_idx:  8 \t percent:0.8 \t remain: 103 \t pruned: 409 \t real_percent:0.798828\n",
      "module_idx:  9 \t percent:0.85 \t remain:  77 \t pruned: 435 \t real_percent:0.849609\n",
      "module_idx: 10 \t percent:0.85 \t remain:  77 \t pruned: 435 \t real_percent:0.849609\n",
      "module_idx: 11 \t percent:0.85 \t remain:  77 \t pruned: 435 \t real_percent:0.849609\n",
      "module_idx: 12 \t percent:0.75 \t remain: 128 \t pruned: 384 \t real_percent:0.75\n",
      "total_remain:1806 \t total_pruned:2418 \t real_percent:0.572443\n",
      "\n",
      " test_loss   correct     total       Acc\n"
     ]
    },
    {
     "name": "stderr",
     "output_type": "stream",
     "text": [
      "      1.62   4.1e+03     1e+04        41: 100%|██████████| 79/79 [00:01<00:00, 72.71it/s]\n"
     ]
    },
    {
     "name": "stdout",
     "output_type": "stream",
     "text": [
      "module_idx:  0 \t percent:0.7 \t remain:  20 \t pruned:  44 \t real_percent:0.6875\n",
      "module_idx:  1 \t percent:0.05 \t remain:  61 \t pruned:   3 \t real_percent:0.046875\n",
      "module_idx:  2 \t percent:0.15 \t remain: 109 \t pruned:  19 \t real_percent:0.148438\n",
      "module_idx:  3 \t percent:  0 \t remain: 128 \t pruned:   0 \t real_percent:   0\n",
      "module_idx:  4 \t percent:0.1 \t remain: 231 \t pruned:  25 \t real_percent:0.0976562\n",
      "module_idx:  5 \t percent:0.25 \t remain: 192 \t pruned:  64 \t real_percent:0.25\n",
      "module_idx:  6 \t percent:0.55 \t remain: 116 \t pruned: 140 \t real_percent:0.546875\n",
      "module_idx:  7 \t percent:0.85 \t remain:  77 \t pruned: 435 \t real_percent:0.849609\n",
      "module_idx:  8 \t percent:0.95 \t remain:  26 \t pruned: 486 \t real_percent:0.949219\n",
      "module_idx:  9 \t percent:0.95 \t remain:  26 \t pruned: 486 \t real_percent:0.949219\n",
      "module_idx: 10 \t percent:0.95 \t remain:  26 \t pruned: 486 \t real_percent:0.949219\n",
      "module_idx: 11 \t percent:0.95 \t remain:  26 \t pruned: 486 \t real_percent:0.949219\n",
      "module_idx: 12 \t percent:0.95 \t remain:  26 \t pruned: 486 \t real_percent:0.949219\n",
      "total_remain:1064 \t total_pruned:3160 \t real_percent:0.748106\n",
      "\n",
      " test_loss   correct     total       Acc\n"
     ]
    },
    {
     "name": "stderr",
     "output_type": "stream",
     "text": [
      "     0.288  9.35e+03     1e+04      93.5: 100%|██████████| 79/79 [00:01<00:00, 73.13it/s]\n"
     ]
    }
   ],
   "source": [
    "    # 伪剪枝\n",
    "    \n",
    "    def pseudo_prune(model, layer_percent, mode):\n",
    "        masked_model = deepcopy(model)\n",
    "\n",
    "        origin_module_list = model.get_module_list()\n",
    "        masked_module_list = masked_model.get_module_list()\n",
    "        \n",
    "        cfg_remain = []\n",
    "        cfg_mask = []\n",
    "        total_remain = 0\n",
    "        total_pruned = 0\n",
    "\n",
    "        for m_idx,m in enumerate(masked_module_list):\n",
    "            percent = layer_percent[m_idx]\n",
    "            \n",
    "            num_filter = m['bn'].weight.data.shape[0]\n",
    "\n",
    "            # 当前卷积模块最少要保留的输出通道数目\n",
    "            min_channel_num = int(num_filter*opt.layer_keep) if int(num_filter * opt.layer_keep) > 0 else 1\n",
    "\n",
    "            if mode == 'random':\n",
    "                mask = [1. if idx < min(int(num_filter*percent), min_channel_num) else 0. \\\n",
    "                        for idx in range(num_filter)]\n",
    "                mask = shuffle(mask)\n",
    "\n",
    "                mask = torch.tensor(mask).to(device)\n",
    "            elif mode == 'ns':\n",
    "                bn = m['bn'].weight.data.abs().clone()\n",
    "\n",
    "                y,i = torch.sort(bn)\n",
    "                thre_index = int(num_filter*percent)\n",
    "                thre = y[thre_index]\n",
    "\n",
    "                mask = m['bn'].weight.data.abs().ge(thre)\n",
    "\n",
    "                # 当剪枝后输出通道数目小于当前卷积模块最少要保留的输出通道数目\n",
    "                if int(torch.sum(mask)) < min_channel_num: \n",
    "                    _, sorted_index_weights = torch.sort(weight_copy,descending=True)\n",
    "                    mask[sorted_index_weights[:min_channel_num]]=1.\n",
    "            elif mode == 'l1_norm':\n",
    "                conv = torch.sum(m['conv'].weight.data.abs().clone(),(1,2,3))\n",
    "                y,i = torch.sort(conv.clone())\n",
    "                thre_index = int(num_filter*percent)\n",
    "                thre = y[thre_index]\n",
    "\n",
    "                mask = conv.ge(thre)\n",
    "\n",
    "                # 当剪枝后输出通道数目小于当前卷积模块最少要保留的输出通道数目\n",
    "                if int(torch.sum(mask)) < min_channel_num: \n",
    "                    _, sorted_index_weights = torch.sort(conv,descending=True)\n",
    "                    mask[sorted_index_weights[:min_channel_num]]=1.\n",
    "\n",
    "            cfg_mask.append(mask.clone())\n",
    "            \n",
    "            if mode == \"l1_norm\":\n",
    "                for i,t in enumerate(mask):\n",
    "                    if t == 0.:\n",
    "                        m['conv'].weight.data[i].copy_(torch.zeros(m['conv'].weight.data[i].size()))\n",
    "            else:\n",
    "                m['bn'].weight.data.mul_(mask)\n",
    "                m['bn'].bias.data.mul_(mask)\n",
    "\n",
    "            remain = int(torch.sum(mask))\n",
    "            cfg_remain.append(remain)\n",
    "            \n",
    "            pruned = num_filter - remain\n",
    "            real_percent = pruned/num_filter\n",
    "            \n",
    "            total_remain += remain\n",
    "            total_pruned += pruned\n",
    "\n",
    "            print('module_idx:%3g \\t percent:%3g \\t remain:%4g \\t pruned:%4g \\t real_percent:%4g'%(m_idx, percent, remain, pruned, real_percent))\n",
    "\n",
    "        print(\"total_remain:%4g \\t total_pruned:%4g \\t real_percent:%4g\"%(total_remain, total_pruned, total_pruned/(total_remain+total_pruned)))\n",
    "        metric = eval_model(masked_model)\n",
    "        \n",
    "        return cfg_remain, cfg_mask\n",
    "        \n",
    "        \n",
    "    l1_norm_cfg_remain, l1_norm_cfg_mask = pseudo_prune(baseline_model, l1_norm_layer_percent, 'l1_norm')\n",
    "    ns_cfg_remain, ns_cfg_mask = pseudo_prune(sp_model, ns_layer_percent, 'ns')"
   ]
  },
  {
   "cell_type": "code",
   "execution_count": 8,
   "metadata": {},
   "outputs": [
    {
     "name": "stdout",
     "output_type": "stream",
     "text": [
      "[26, 61, 'M', 116, 128, 'M', 244, 256, 231, 'M', 282, 103, 77, 'M', 77, 77, 128, 'M']\n",
      "\n",
      "let's test the pruned_model:\n",
      "\n",
      " test_loss   correct     total       Acc\n"
     ]
    },
    {
     "name": "stderr",
     "output_type": "stream",
     "text": [
      "      1.67  6.32e+03     1e+04      63.2: 100%|██████████| 79/79 [00:00<00:00, 89.59it/s]\n"
     ]
    },
    {
     "name": "stdout",
     "output_type": "stream",
     "text": [
      "[20, 61, 'M', 109, 128, 'M', 231, 192, 116, 'M', 77, 26, 26, 'M', 26, 26, 26, 'M']\n",
      "\n",
      "let's test the pruned_model:\n",
      "\n",
      " test_loss   correct     total       Acc\n"
     ]
    },
    {
     "name": "stderr",
     "output_type": "stream",
     "text": [
      "     0.288  9.35e+03     1e+04      93.5: 100%|██████████| 79/79 [00:00<00:00, 92.91it/s]\n"
     ]
    }
   ],
   "source": [
    "    # 真正的剪枝\n",
    "    def real_prune(origin_model, cfg_remain, cfg_mask):\n",
    "        vgg_cfg = VGGCFG()\n",
    "        pruned_model_cfg = vgg_cfg.convert_list_to_cfg(origin_model, cfg_remain) # 剪枝后模型的cfg\n",
    "        print(pruned_model_cfg)\n",
    "        pruned_model = globals()[opt.model_name](pruned_model_cfg) # 通过cfg生成剪枝后的模型\n",
    "\n",
    "        pruned_model = pruned_model.to(device)\n",
    "\n",
    "        origin_module_list = origin_model.get_module_list() # 原始模型的module_list\n",
    "        pruned_module_list = pruned_model.get_module_list() # 剪枝后的模型的module_list\n",
    "\n",
    "        # 从origin_model中拷贝参数到pruned_model\n",
    "        for i,(m,p_m) in enumerate(zip(origin_module_list,pruned_module_list)):\n",
    "            conv = m['conv']\n",
    "            bn = m['bn']\n",
    "            p_conv = p_m['conv']\n",
    "            p_bn = p_m['bn']\n",
    "            \n",
    "            in_channel_idx = [] # 当前层剩余的输入通道(上一层的输出通道)，即剩余的filter的深度idx,即掩码为1的深度idx\n",
    "            if i == 0: # 第0个卷积前面没有层了，需要特殊考虑\n",
    "                for j in range(conv.weight.data.shape[1]):\n",
    "                    in_channel_idx.append(j)\n",
    "            else:\n",
    "                for j in range(len(cfg_mask[i-1])):\n",
    "                    if cfg_mask[i-1][j]:\n",
    "                        in_channel_idx.append(j)\n",
    "\n",
    "            out_channel_idx = [] # 当前层剩余的输出通道，即剩余的filter的idx,即掩码为1的filter的idx\n",
    "            for j in range(len(cfg_mask[i])):\n",
    "                if cfg_mask[i][j]:\n",
    "                    out_channel_idx.append(j)\n",
    "\n",
    "            # 对BN层的参数赋值\n",
    "            p_bn.weight.data.copy_(bn.weight.data[out_channel_idx])\n",
    "            p_bn.bias.data.copy_(bn.bias.data[out_channel_idx])\n",
    "            p_bn.running_mean.data.copy_(bn.running_mean.data[out_channel_idx])\n",
    "            p_bn.running_var.data.copy_(bn.running_var.data[out_channel_idx])\n",
    "\n",
    "            # 对卷积层的参数赋值\n",
    "            tmp = conv.weight.data[:,in_channel_idx,:,:]\n",
    "            p_conv.weight.data.copy_(tmp[out_channel_idx,:,:,:])\n",
    "            # very important!!!\n",
    "            if not (conv.bias is None):\n",
    "                p_conv.bias.data.copy_(conv.bias.data[out_channel_idx])\n",
    "            \n",
    "        # 全连接层的参数赋值\n",
    "        collum_idx = [] # 上一个卷积层剩余的filter数目等于当前全连接层权重矩阵的列数\n",
    "        for j in range(len(cfg_mask[-1])):\n",
    "            if cfg_mask[-1][j]:\n",
    "                collum_idx.append(j)\n",
    "        pruned_model.classifier.weight.data.copy_(origin_model.classifier.weight.data[:,collum_idx])\n",
    "        pruned_model.classifier.bias.data.copy_(origin_model.classifier.bias.data)\n",
    "\n",
    "        print(\"\\nlet's test the pruned_model:\")\n",
    "        eval_model(pruned_model) # 测试pruned_model\n",
    "        \n",
    "        return pruned_model\n",
    "        \n",
    "    l1_norm_pruned_model = real_prune(baseline_model, l1_norm_cfg_remain, l1_norm_cfg_mask)\n",
    "    ns_pruned_model = real_prune(sp_model, ns_cfg_remain, ns_cfg_mask)"
   ]
  },
  {
   "cell_type": "code",
   "execution_count": 9,
   "metadata": {},
   "outputs": [
    {
     "name": "stdout",
     "output_type": "stream",
     "text": [
      "pruned_model's cfg has been saved: exp_VGG16/l1-norm_ns_random/pruned_l1_norm_VGG16.cfg\n",
      "pruned_model's weights has been saved: exp_VGG16/l1-norm_ns_random/pruned_l1_norm_VGG16.pth\n",
      "pruned_model's cfg has been saved: exp_VGG16/l1-norm_ns_random/pruned_ns_VGG16.cfg\n",
      "pruned_model's weights has been saved: exp_VGG16/l1-norm_ns_random/pruned_ns_VGG16.pth\n"
     ]
    }
   ],
   "source": [
    "    # 保存剪枝后的模型\n",
    "    \n",
    "    if not os.path.isdir(opt.saved_dir):\n",
    "        os.mkdir(opt.saved_dir)\n",
    "    \n",
    "    def save_model(pruned_model, mode):\n",
    "        cfg_saved_path = \"pruned_%s_%s.cfg\"%(mode, opt.model_name)\n",
    "        weights_saved_path = \"pruned_%s_%s.pth\"%(mode, opt.model_name)\n",
    "\n",
    "        cfg_saved_path = os.path.join(opt.saved_dir, cfg_saved_path)\n",
    "        weights_saved_path = os.path.join(opt.saved_dir, weights_saved_path)\n",
    "\n",
    "        cfg_state = {\n",
    "            'cfg': pruned_model.cfg\n",
    "        }\n",
    "\n",
    "        weights_state = {\n",
    "            'model': pruned_model.state_dict()\n",
    "        }\n",
    "\n",
    "        torch.save(cfg_state, cfg_saved_path)\n",
    "        torch.save(weights_state, weights_saved_path)\n",
    "\n",
    "        print(f\"pruned_model's cfg has been saved: {cfg_saved_path}\")\n",
    "        print(f\"pruned_model's weights has been saved: {weights_saved_path}\")\n",
    "        \n",
    "    save_model(l1_norm_pruned_model, 'l1_norm')\n",
    "    save_model(ns_pruned_model, 'ns')"
   ]
  },
  {
   "cell_type": "code",
   "execution_count": 10,
   "metadata": {},
   "outputs": [
    {
     "name": "stdout",
     "output_type": "stream",
     "text": [
      "Namespace(batch_size=128, cfg='exp_VGG16/l1-norm_ns_random/pruned_l1_norm_VGG16.cfg', checkpoint='exp_VGG16/l1-norm_ns_random/pruned_l1_norm_VGG16.pth', checkpoint_dir='exp_VGG16/l1-norm_ns_random/finetune/l1_norm', device='', epochs=100, from_scratch=False, logdir='exp_VGG16/l1-norm_ns_random/finetune/l1_norm', lr=0.01, model_name='VGG16', nosave=False, prune=0, resume=False, s=0.001, sr=False)\n",
      "Start Tensorboard with \"tensorboard --logdir=exp_VGG16/l1-norm_ns_random/finetune/l1_norm, view at http://localhost:6006/\n",
      "Using CUDA device0 _CudaDeviceProperties(name='GeForce RTX 2080 Ti', total_memory=11019MB)\n",
      "           device1 _CudaDeviceProperties(name='GeForce RTX 2080 Ti', total_memory=11019MB)\n",
      "\n",
      "Files already downloaded and verified\n",
      "Files already downloaded and verified\n",
      "lr: 0.01\n",
      "\n",
      "     Epoch   gpu_mem      Loss   correct     total       Acc\n",
      "      0/99     1.13G     0.103  4.84e+04     5e+04      96.8: 100%|█| 391/391 [0\n",
      "\n",
      " test_loss   correct     total       Acc\n",
      "     0.411  8.82e+03     1e+04      88.2: 100%|█| 79/79 [00:00<00:00, 98.55it/s]\n",
      "lr: 0.01\n",
      "\n",
      "     Epoch   gpu_mem      Loss   correct     total       Acc\n",
      "      1/99     1.13G     0.117  4.81e+04     5e+04      96.2: 100%|█| 391/391 [0\n",
      "\n",
      " test_loss   correct     total       Acc\n",
      "     0.406  8.86e+03     1e+04      88.6: 100%|█| 79/79 [00:00<00:00, 104.71it/s\n",
      "lr: 0.01\n",
      "\n",
      "     Epoch   gpu_mem      Loss   correct     total       Acc\n",
      "      2/99     1.13G     0.114  4.81e+04     5e+04      96.2: 100%|█| 391/391 [0\n",
      "\n",
      " test_loss   correct     total       Acc\n",
      "     0.338  9.03e+03     1e+04      90.3: 100%|█| 79/79 [00:00<00:00, 98.27it/s]\n",
      "lr: 0.01\n",
      "\n",
      "     Epoch   gpu_mem      Loss   correct     total       Acc\n",
      "      3/99     1.13G     0.103  4.83e+04     5e+04      96.6: 100%|█| 391/391 [0\n",
      "\n",
      " test_loss   correct     total       Acc\n",
      "     0.323   9.1e+03     1e+04        91: 100%|█| 79/79 [00:00<00:00, 103.04it/s\n",
      "lr: 0.01\n",
      "\n",
      "     Epoch   gpu_mem      Loss   correct     total       Acc\n",
      "      4/99     1.13G    0.0941  4.85e+04     5e+04      96.9: 100%|█| 391/391 [0\n",
      "\n",
      " test_loss   correct     total       Acc\n",
      "     0.423  8.85e+03     1e+04      88.5: 100%|█| 79/79 [00:00<00:00, 99.19it/s]\n",
      "lr: 0.01\n",
      "\n",
      "     Epoch   gpu_mem      Loss   correct     total       Acc\n",
      "      5/99     1.13G    0.0897  4.85e+04     5e+04        97: 100%|█| 391/391 [0\n",
      "\n",
      " test_loss   correct     total       Acc\n",
      "     0.314  9.12e+03     1e+04      91.2: 100%|█| 79/79 [00:00<00:00, 98.23it/s]\n",
      "lr: 0.01\n",
      "\n",
      "     Epoch   gpu_mem      Loss   correct     total       Acc\n",
      "      6/99     1.13G    0.0879  4.85e+04     5e+04      97.1: 100%|█| 391/391 [0\n",
      "\n",
      " test_loss   correct     total       Acc\n",
      "     0.364  9.02e+03     1e+04      90.2: 100%|█| 79/79 [00:00<00:00, 101.28it/s\n",
      "lr: 0.01\n",
      "\n",
      "     Epoch   gpu_mem      Loss   correct     total       Acc\n",
      "      7/99     1.13G    0.0898  4.85e+04     5e+04        97: 100%|█| 391/391 [0\n",
      "\n",
      " test_loss   correct     total       Acc\n",
      "     0.317  9.11e+03     1e+04      91.1: 100%|█| 79/79 [00:00<00:00, 96.92it/s]\n",
      "lr: 0.01\n",
      "\n",
      "     Epoch   gpu_mem      Loss   correct     total       Acc\n",
      "      8/99     1.13G    0.0816  4.86e+04     5e+04      97.2: 100%|█| 391/391 [0\n",
      "\n",
      " test_loss   correct     total       Acc\n",
      "     0.315  9.14e+03     1e+04      91.4: 100%|█| 79/79 [00:00<00:00, 103.21it/s\n",
      "lr: 0.01\n",
      "\n",
      "     Epoch   gpu_mem      Loss   correct     total       Acc\n",
      "      9/99     1.13G    0.0767  4.87e+04     5e+04      97.4: 100%|█| 391/391 [0\n",
      "\n",
      " test_loss   correct     total       Acc\n",
      "     0.337  9.05e+03     1e+04      90.5: 100%|█| 79/79 [00:00<00:00, 97.36it/s]\n",
      "lr: 0.01\n",
      "\n",
      "     Epoch   gpu_mem      Loss   correct     total       Acc\n",
      "     10/99     1.13G    0.0806  4.87e+04     5e+04      97.3: 100%|█| 391/391 [0\n",
      "\n",
      " test_loss   correct     total       Acc\n",
      "     0.315  9.13e+03     1e+04      91.3: 100%|█| 79/79 [00:00<00:00, 98.94it/s]\n",
      "lr: 0.01\n",
      "\n",
      "     Epoch   gpu_mem      Loss   correct     total       Acc\n",
      "     11/99     1.13G    0.0762  4.87e+04     5e+04      97.5: 100%|█| 391/391 [0\n",
      "\n",
      " test_loss   correct     total       Acc\n",
      "     0.369  9.02e+03     1e+04      90.2: 100%|█| 79/79 [00:00<00:00, 100.91it/s\n",
      "lr: 0.01\n",
      "\n",
      "     Epoch   gpu_mem      Loss   correct     total       Acc\n",
      "     12/99     1.13G    0.0776  4.87e+04     5e+04      97.4: 100%|█| 391/391 [0\n",
      "\n",
      " test_loss   correct     total       Acc\n",
      "     0.345  9.05e+03     1e+04      90.5: 100%|█| 79/79 [00:00<00:00, 95.55it/s]\n",
      "lr: 0.01\n",
      "\n",
      "     Epoch   gpu_mem      Loss   correct     total       Acc\n",
      "     13/99     1.13G    0.0721  4.88e+04     5e+04      97.6: 100%|█| 391/391 [0\n",
      "\n",
      " test_loss   correct     total       Acc\n",
      "     0.342  9.07e+03     1e+04      90.7: 100%|█| 79/79 [00:00<00:00, 96.55it/s]\n",
      "lr: 0.01\n",
      "\n",
      "     Epoch   gpu_mem      Loss   correct     total       Acc\n",
      "     14/99     1.13G    0.0646  4.89e+04     5e+04      97.8: 100%|█| 391/391 [0\n",
      "\n",
      " test_loss   correct     total       Acc\n",
      "     0.337  9.07e+03     1e+04      90.7: 100%|█| 79/79 [00:00<00:00, 102.22it/s\n",
      "lr: 0.01\n",
      "\n",
      "     Epoch   gpu_mem      Loss   correct     total       Acc\n",
      "     15/99     1.13G    0.0744  4.87e+04     5e+04      97.5: 100%|█| 391/391 [0\n",
      "\n",
      " test_loss   correct     total       Acc\n",
      "     0.365  9.02e+03     1e+04      90.2: 100%|█| 79/79 [00:00<00:00, 97.25it/s]\n",
      "lr: 0.01\n",
      "\n",
      "     Epoch   gpu_mem      Loss   correct     total       Acc\n",
      "     16/99     1.13G    0.0674  4.89e+04     5e+04      97.7: 100%|█| 391/391 [0\n",
      "\n",
      " test_loss   correct     total       Acc\n",
      "     0.402  8.97e+03     1e+04      89.7: 100%|█| 79/79 [00:00<00:00, 99.75it/s]\n",
      "lr: 0.01\n",
      "\n",
      "     Epoch   gpu_mem      Loss   correct     total       Acc\n",
      "     17/99     1.13G      0.07  4.89e+04     5e+04      97.7: 100%|█| 391/391 [0\n",
      "\n",
      " test_loss   correct     total       Acc\n",
      "     0.339   9.1e+03     1e+04        91: 100%|█| 79/79 [00:00<00:00, 96.25it/s]\n",
      "lr: 0.01\n",
      "\n",
      "     Epoch   gpu_mem      Loss   correct     total       Acc\n",
      "     18/99     1.13G    0.0682  4.88e+04     5e+04      97.7: 100%|█| 391/391 [0\n",
      "\n",
      " test_loss   correct     total       Acc\n",
      "     0.335  9.11e+03     1e+04      91.1: 100%|█| 79/79 [00:00<00:00, 98.56it/s]\n",
      "lr: 0.01\n",
      "\n",
      "     Epoch   gpu_mem      Loss   correct     total       Acc\n",
      "     19/99     1.13G     0.067  4.89e+04     5e+04      97.7: 100%|█| 391/391 [0\n",
      "\n",
      " test_loss   correct     total       Acc\n",
      "     0.329  9.12e+03     1e+04      91.2: 100%|█| 79/79 [00:00<00:00, 100.13it/s\n",
      "lr: 0.01\n",
      "\n",
      "     Epoch   gpu_mem      Loss   correct     total       Acc\n",
      "     20/99     1.13G    0.0649  4.89e+04     5e+04      97.9: 100%|█| 391/391 [0\n",
      "\n",
      " test_loss   correct     total       Acc\n",
      "     0.377  9.04e+03     1e+04      90.4: 100%|█| 79/79 [00:00<00:00, 98.96it/s]\n",
      "lr: 0.01\n",
      "\n",
      "     Epoch   gpu_mem      Loss   correct     total       Acc\n",
      "     21/99     1.13G    0.0709  4.88e+04     5e+04      97.7: 100%|█| 391/391 [0\n",
      "\n",
      " test_loss   correct     total       Acc\n",
      "     0.326   9.1e+03     1e+04        91: 100%|█| 79/79 [00:00<00:00, 98.07it/s]\n",
      "lr: 0.01\n",
      "\n",
      "     Epoch   gpu_mem      Loss   correct     total       Acc\n",
      "     22/99     1.13G    0.0649  4.89e+04     5e+04      97.8: 100%|█| 391/391 [0\n",
      "\n",
      " test_loss   correct     total       Acc\n",
      "     0.309  9.17e+03     1e+04      91.7: 100%|█| 79/79 [00:00<00:00, 103.32it/s\n",
      "lr: 0.01\n",
      "\n",
      "     Epoch   gpu_mem      Loss   correct     total       Acc\n",
      "     23/99     1.13G    0.0656  4.89e+04     5e+04      97.7: 100%|█| 391/391 [0\n",
      "\n",
      " test_loss   correct     total       Acc\n",
      "     0.346  9.08e+03     1e+04      90.8: 100%|█| 79/79 [00:00<00:00, 101.24it/s\n",
      "lr: 0.01\n",
      "\n",
      "     Epoch   gpu_mem      Loss   correct     total       Acc\n",
      "     24/99     1.13G     0.064  4.89e+04     5e+04      97.8: 100%|█| 391/391 [0\n",
      "\n",
      " test_loss   correct     total       Acc\n",
      "     0.356  9.04e+03     1e+04      90.4: 100%|█| 79/79 [00:00<00:00, 99.34it/s]\n",
      "lr: 0.01\n",
      "\n",
      "     Epoch   gpu_mem      Loss   correct     total       Acc\n",
      "     25/99     1.13G    0.0681  4.88e+04     5e+04      97.7: 100%|█| 391/391 [0\n",
      "\n",
      " test_loss   correct     total       Acc\n",
      "     0.351  9.06e+03     1e+04      90.5: 100%|█| 79/79 [00:00<00:00, 94.31it/s]\n",
      "lr: 0.01\n",
      "\n",
      "     Epoch   gpu_mem      Loss   correct     total       Acc\n",
      "     26/99     1.13G     0.062   4.9e+04     5e+04        98: 100%|█| 391/391 [0\n",
      "\n",
      " test_loss   correct     total       Acc\n"
     ]
    },
    {
     "name": "stdout",
     "output_type": "stream",
     "text": [
      "     0.364  9.06e+03     1e+04      90.7: 100%|█| 79/79 [00:00<00:00, 96.90it/s]\n",
      "lr: 0.01\n",
      "\n",
      "     Epoch   gpu_mem      Loss   correct     total       Acc\n",
      "     27/99     1.13G    0.0668  4.89e+04     5e+04      97.7: 100%|█| 391/391 [0\n",
      "\n",
      " test_loss   correct     total       Acc\n",
      "     0.316  9.11e+03     1e+04      91.1: 100%|█| 79/79 [00:00<00:00, 97.51it/s]\n",
      "lr: 0.01\n",
      "\n",
      "     Epoch   gpu_mem      Loss   correct     total       Acc\n",
      "     28/99     1.13G    0.0615   4.9e+04     5e+04      97.9: 100%|█| 391/391 [0\n",
      "\n",
      " test_loss   correct     total       Acc\n",
      "     0.349  9.02e+03     1e+04      90.2: 100%|█| 79/79 [00:00<00:00, 97.66it/s]\n",
      "lr: 0.01\n",
      "\n",
      "     Epoch   gpu_mem      Loss   correct     total       Acc\n",
      "     29/99     1.13G    0.0611   4.9e+04     5e+04        98: 100%|█| 391/391 [0\n",
      "\n",
      " test_loss   correct     total       Acc\n",
      "     0.345  9.15e+03     1e+04      91.5: 100%|█| 79/79 [00:00<00:00, 100.63it/s\n",
      "lr: 0.01\n",
      "\n",
      "     Epoch   gpu_mem      Loss   correct     total       Acc\n",
      "     30/99     1.13G    0.0616   4.9e+04     5e+04        98: 100%|█| 391/391 [0\n",
      "\n",
      " test_loss   correct     total       Acc\n",
      "     0.389  8.97e+03     1e+04      89.7: 100%|█| 79/79 [00:00<00:00, 98.65it/s]\n",
      "lr: 0.01\n",
      "\n",
      "     Epoch   gpu_mem      Loss   correct     total       Acc\n",
      "     31/99     1.13G     0.066  4.89e+04     5e+04      97.7: 100%|█| 391/391 [0\n",
      "\n",
      " test_loss   correct     total       Acc\n",
      "     0.356  9.02e+03     1e+04      90.2: 100%|█| 79/79 [00:00<00:00, 98.24it/s]\n",
      "lr: 0.01\n",
      "\n",
      "     Epoch   gpu_mem      Loss   correct     total       Acc\n",
      "     32/99     1.13G    0.0594   4.9e+04     5e+04      98.1: 100%|█| 391/391 [0\n",
      "\n",
      " test_loss   correct     total       Acc\n",
      "     0.347  9.11e+03     1e+04      91.1: 100%|█| 79/79 [00:00<00:00, 98.22it/s]\n",
      "lr: 0.01\n",
      "\n",
      "     Epoch   gpu_mem      Loss   correct     total       Acc\n",
      "     33/99     1.13G    0.0656  4.89e+04     5e+04      97.8: 100%|█| 391/391 [0\n",
      "\n",
      " test_loss   correct     total       Acc\n",
      "     0.361  9.04e+03     1e+04      90.4: 100%|█| 79/79 [00:00<00:00, 98.88it/s]\n",
      "lr: 0.01\n",
      "\n",
      "     Epoch   gpu_mem      Loss   correct     total       Acc\n",
      "     34/99     1.13G    0.0624   4.9e+04     5e+04      97.9: 100%|█| 391/391 [0\n",
      "\n",
      " test_loss   correct     total       Acc\n",
      "     0.348  9.09e+03     1e+04      90.9: 100%|█| 79/79 [00:00<00:00, 97.80it/s]\n",
      "lr: 0.01\n",
      "\n",
      "     Epoch   gpu_mem      Loss   correct     total       Acc\n",
      "     35/99     1.13G    0.0617   4.9e+04     5e+04      97.9: 100%|█| 391/391 [0\n",
      "\n",
      " test_loss   correct     total       Acc\n",
      "     0.346  9.07e+03     1e+04      90.7: 100%|█| 79/79 [00:00<00:00, 102.51it/s\n",
      "lr: 0.01\n",
      "\n",
      "     Epoch   gpu_mem      Loss   correct     total       Acc\n",
      "     36/99     1.13G    0.0618   4.9e+04     5e+04      97.9: 100%|█| 391/391 [0\n",
      "\n",
      " test_loss   correct     total       Acc\n",
      "     0.348   9.1e+03     1e+04        91: 100%|█| 79/79 [00:00<00:00, 102.16it/s\n",
      "lr: 0.01\n",
      "\n",
      "     Epoch   gpu_mem      Loss   correct     total       Acc\n",
      "     37/99     1.13G    0.0587   4.9e+04     5e+04        98: 100%|█| 391/391 [0\n",
      "\n",
      " test_loss   correct     total       Acc\n",
      "     0.337  9.12e+03     1e+04      91.2: 100%|█| 79/79 [00:00<00:00, 97.51it/s]\n",
      "lr: 0.01\n",
      "\n",
      "     Epoch   gpu_mem      Loss   correct     total       Acc\n",
      "     38/99     1.13G    0.0594   4.9e+04     5e+04        98: 100%|█| 391/391 [0\n",
      "\n",
      " test_loss   correct     total       Acc\n",
      "     0.353  9.11e+03     1e+04      91.1: 100%|█| 79/79 [00:00<00:00, 99.95it/s]\n",
      "lr: 0.01\n",
      "\n",
      "     Epoch   gpu_mem      Loss   correct     total       Acc\n",
      "     39/99     1.13G     0.065  4.89e+04     5e+04      97.8: 100%|█| 391/391 [0\n",
      "\n",
      " test_loss   correct     total       Acc\n",
      "     0.326  9.09e+03     1e+04      90.9: 100%|█| 79/79 [00:00<00:00, 100.54it/s\n",
      "lr: 0.01\n",
      "\n",
      "     Epoch   gpu_mem      Loss   correct     total       Acc\n",
      "     40/99     1.13G    0.0619   4.9e+04     5e+04        98: 100%|█| 391/391 [0\n",
      "\n",
      " test_loss   correct     total       Acc\n",
      "     0.352  9.06e+03     1e+04      90.6: 100%|█| 79/79 [00:00<00:00, 95.86it/s]\n",
      "lr: 0.01\n",
      "\n",
      "     Epoch   gpu_mem      Loss   correct     total       Acc\n",
      "     41/99     1.13G    0.0629   4.9e+04     5e+04      97.9: 100%|█| 391/391 [0\n",
      "\n",
      " test_loss   correct     total       Acc\n",
      "     0.324  9.12e+03     1e+04      91.2: 100%|█| 79/79 [00:00<00:00, 98.30it/s]\n",
      "lr: 0.01\n",
      "\n",
      "     Epoch   gpu_mem      Loss   correct     total       Acc\n",
      "     42/99     1.13G    0.0575   4.9e+04     5e+04      98.1: 100%|█| 391/391 [0\n",
      "\n",
      " test_loss   correct     total       Acc\n",
      "     0.329  9.12e+03     1e+04      91.2: 100%|█| 79/79 [00:00<00:00, 97.49it/s]\n",
      "lr: 0.01\n",
      "\n",
      "     Epoch   gpu_mem      Loss   correct     total       Acc\n",
      "     43/99     1.13G    0.0592   4.9e+04     5e+04        98: 100%|█| 391/391 [0\n",
      "\n",
      " test_loss   correct     total       Acc\n",
      "     0.345   9.1e+03     1e+04        91: 100%|█| 79/79 [00:00<00:00, 97.72it/s]\n",
      "lr: 0.01\n",
      "\n",
      "     Epoch   gpu_mem      Loss   correct     total       Acc\n",
      "     44/99     1.13G    0.0629  4.89e+04     5e+04      97.9: 100%|█| 391/391 [0\n",
      "\n",
      " test_loss   correct     total       Acc\n",
      "     0.315  9.15e+03     1e+04      91.5: 100%|█| 79/79 [00:00<00:00, 96.71it/s]\n",
      "lr: 0.01\n",
      "\n",
      "     Epoch   gpu_mem      Loss   correct     total       Acc\n",
      "     45/99     1.13G    0.0635  4.89e+04     5e+04      97.8: 100%|█| 391/391 [0\n",
      "\n",
      " test_loss   correct     total       Acc\n",
      "     0.305  9.14e+03     1e+04      91.4: 100%|█| 79/79 [00:00<00:00, 100.67it/s\n",
      "lr: 0.01\n",
      "\n",
      "     Epoch   gpu_mem      Loss   correct     total       Acc\n",
      "     46/99     1.13G    0.0597  4.91e+04     5e+04      98.1: 100%|█| 391/391 [0\n",
      "\n",
      " test_loss   correct     total       Acc\n",
      "     0.341  9.08e+03     1e+04      90.8: 100%|█| 79/79 [00:00<00:00, 98.92it/s]\n",
      "lr: 0.01\n",
      "\n",
      "     Epoch   gpu_mem      Loss   correct     total       Acc\n",
      "     47/99     1.13G    0.0658  4.89e+04     5e+04      97.8: 100%|█| 391/391 [0\n",
      "\n",
      " test_loss   correct     total       Acc\n",
      "     0.315  9.15e+03     1e+04      91.5: 100%|█| 79/79 [00:00<00:00, 97.68it/s]\n",
      "lr: 0.01\n",
      "\n",
      "     Epoch   gpu_mem      Loss   correct     total       Acc\n",
      "     48/99     1.13G    0.0584   4.9e+04     5e+04      98.1: 100%|█| 391/391 [0\n",
      "\n",
      " test_loss   correct     total       Acc\n",
      "     0.349  9.07e+03     1e+04      90.7: 100%|█| 79/79 [00:00<00:00, 98.26it/s]\n",
      "lr: 0.01\n",
      "\n",
      "     Epoch   gpu_mem      Loss   correct     total       Acc\n",
      "     49/99     1.13G    0.0623   4.9e+04     5e+04      97.9: 100%|█| 391/391 [0\n",
      "\n",
      " test_loss   correct     total       Acc\n",
      "     0.367  9.06e+03     1e+04      90.6: 100%|█| 79/79 [00:00<00:00, 97.68it/s]\n",
      "lr: 0.01\n",
      "\n",
      "     Epoch   gpu_mem      Loss   correct     total       Acc\n",
      "     50/99     1.13G    0.0617   4.9e+04     5e+04        98: 100%|█| 391/391 [0\n",
      "\n",
      " test_loss   correct     total       Acc\n",
      "     0.373  9.05e+03     1e+04      90.5: 100%|█| 79/79 [00:00<00:00, 95.48it/s]\n",
      "lr: 0.001\n",
      "\n",
      "     Epoch   gpu_mem      Loss   correct     total       Acc\n",
      "     51/99     1.13G     0.029  4.96e+04     5e+04      99.1: 100%|█| 391/391 [0\n",
      "\n",
      " test_loss   correct     total       Acc\n",
      "     0.265   9.3e+03     1e+04        93: 100%|█| 79/79 [00:00<00:00, 97.11it/s]\n",
      "lr: 0.001\n",
      "\n",
      "     Epoch   gpu_mem      Loss   correct     total       Acc\n",
      "     52/99     1.13G    0.0148  4.98e+04     5e+04      99.6: 100%|█| 391/391 [0\n",
      "\n",
      " test_loss   correct     total       Acc\n",
      "     0.266  9.32e+03     1e+04      93.2: 100%|█| 79/79 [00:00<00:00, 96.45it/s]\n",
      "lr: 0.001\n",
      "\n",
      "     Epoch   gpu_mem      Loss   correct     total       Acc\n",
      "     53/99     1.13G    0.0118  4.98e+04     5e+04      99.7: 100%|█| 391/391 [0\n",
      "\n",
      " test_loss   correct     total       Acc\n",
      "     0.267  9.32e+03     1e+04      93.2: 100%|█| 79/79 [00:00<00:00, 98.15it/s]\n",
      "lr: 0.001\n",
      "\n",
      "     Epoch   gpu_mem      Loss   correct     total       Acc\n",
      "     54/99     1.13G   0.00978  4.99e+04     5e+04      99.7: 100%|█| 391/391 [0\n",
      "\n",
      " test_loss   correct     total       Acc\n",
      "     0.274  9.31e+03     1e+04      93.1: 100%|█| 79/79 [00:00<00:00, 96.78it/s]\n",
      "lr: 0.001\n",
      "\n",
      "     Epoch   gpu_mem      Loss   correct     total       Acc\n",
      "     55/99     1.13G    0.0074  4.99e+04     5e+04      99.8: 100%|█| 391/391 [0\n",
      "\n",
      " test_loss   correct     total       Acc\n",
      "     0.268  9.34e+03     1e+04      93.4: 100%|█| 79/79 [00:00<00:00, 101.27it/s\n",
      "lr: 0.001\n",
      "\n",
      "     Epoch   gpu_mem      Loss   correct     total       Acc\n"
     ]
    },
    {
     "name": "stdout",
     "output_type": "stream",
     "text": [
      "     56/99     1.13G   0.00728  4.99e+04     5e+04      99.8: 100%|█| 391/391 [0\n",
      "\n",
      " test_loss   correct     total       Acc\n",
      "     0.271  9.34e+03     1e+04      93.4: 100%|█| 79/79 [00:00<00:00, 95.88it/s]\n",
      "lr: 0.001\n",
      "\n",
      "     Epoch   gpu_mem      Loss   correct     total       Acc\n",
      "     57/99     1.13G   0.00651  4.99e+04     5e+04      99.8: 100%|█| 391/391 [0\n",
      "\n",
      " test_loss   correct     total       Acc\n",
      "     0.274  9.35e+03     1e+04      93.5: 100%|█| 79/79 [00:00<00:00, 96.97it/s]\n",
      "lr: 0.001\n",
      "\n",
      "     Epoch   gpu_mem      Loss   correct     total       Acc\n",
      "     58/99     1.13G   0.00539  4.99e+04     5e+04      99.9: 100%|█| 391/391 [0\n",
      "\n",
      " test_loss   correct     total       Acc\n",
      "     0.274  9.35e+03     1e+04      93.5: 100%|█| 79/79 [00:00<00:00, 97.15it/s]\n",
      "lr: 0.001\n",
      "\n",
      "     Epoch   gpu_mem      Loss   correct     total       Acc\n",
      "     59/99     1.13G   0.00512  4.99e+04     5e+04      99.9: 100%|█| 391/391 [0\n",
      "\n",
      " test_loss   correct     total       Acc\n",
      "     0.278  9.35e+03     1e+04      93.5: 100%|█| 79/79 [00:00<00:00, 97.52it/s]\n",
      "lr: 0.001\n",
      "\n",
      "     Epoch   gpu_mem      Loss   correct     total       Acc\n",
      "     60/99     1.13G   0.00504  4.99e+04     5e+04      99.9: 100%|█| 391/391 [0\n",
      "\n",
      " test_loss   correct     total       Acc\n",
      "      0.28  9.35e+03     1e+04      93.5: 100%|█| 79/79 [00:00<00:00, 95.61it/s]\n",
      "lr: 0.001\n",
      "\n",
      "     Epoch   gpu_mem      Loss   correct     total       Acc\n",
      "     61/99     1.13G   0.00493  4.99e+04     5e+04      99.9: 100%|█| 391/391 [0\n",
      "\n",
      " test_loss   correct     total       Acc\n",
      "      0.28  9.35e+03     1e+04      93.5: 100%|█| 79/79 [00:00<00:00, 97.19it/s]\n",
      "lr: 0.001\n",
      "\n",
      "     Epoch   gpu_mem      Loss   correct     total       Acc\n",
      "     62/99     1.13G   0.00366     5e+04     5e+04      99.9: 100%|█| 391/391 [0\n",
      "\n",
      " test_loss   correct     total       Acc\n",
      "     0.279  9.36e+03     1e+04      93.6: 100%|█| 79/79 [00:00<00:00, 96.23it/s]\n",
      "lr: 0.001\n",
      "\n",
      "     Epoch   gpu_mem      Loss   correct     total       Acc\n",
      "     63/99     1.13G   0.00359     5e+04     5e+04      99.9: 100%|█| 391/391 [0\n",
      "\n",
      " test_loss   correct     total       Acc\n",
      "     0.282  9.36e+03     1e+04      93.6: 100%|█| 79/79 [00:00<00:00, 94.51it/s]\n",
      "lr: 0.001\n",
      "\n",
      "     Epoch   gpu_mem      Loss   correct     total       Acc\n",
      "     64/99     1.13G   0.00469  4.99e+04     5e+04      99.9: 100%|█| 391/391 [0\n",
      "\n",
      " test_loss   correct     total       Acc\n",
      "     0.282  9.36e+03     1e+04      93.6: 100%|█| 79/79 [00:00<00:00, 95.69it/s]\n",
      "lr: 0.001\n",
      "\n",
      "     Epoch   gpu_mem      Loss   correct     total       Acc\n",
      "     65/99     1.13G   0.00342     5e+04     5e+04      99.9: 100%|█| 391/391 [0\n",
      "\n",
      " test_loss   correct     total       Acc\n",
      "     0.282  9.36e+03     1e+04      93.7: 100%|█| 79/79 [00:00<00:00, 96.32it/s]\n",
      "lr: 0.001\n",
      "\n",
      "     Epoch   gpu_mem      Loss   correct     total       Acc\n",
      "     66/99     1.13G   0.00388     5e+04     5e+04      99.9: 100%|█| 391/391 [0\n",
      "\n",
      " test_loss   correct     total       Acc\n",
      "     0.281  9.36e+03     1e+04      93.7: 100%|█| 79/79 [00:00<00:00, 96.77it/s]\n",
      "lr: 0.001\n",
      "\n",
      "     Epoch   gpu_mem      Loss   correct     total       Acc\n",
      "     67/99     1.13G   0.00341     5e+04     5e+04      99.9: 100%|█| 391/391 [0\n",
      "\n",
      " test_loss   correct     total       Acc\n",
      "     0.279  9.37e+03     1e+04      93.7: 100%|█| 79/79 [00:00<00:00, 96.85it/s]\n",
      "lr: 0.001\n",
      "\n",
      "     Epoch   gpu_mem      Loss   correct     total       Acc\n",
      "     68/99     1.13G   0.00311     5e+04     5e+04      99.9: 100%|█| 391/391 [0\n",
      "\n",
      " test_loss   correct     total       Acc\n",
      "     0.282  9.37e+03     1e+04      93.7: 100%|█| 79/79 [00:00<00:00, 97.31it/s]\n",
      "lr: 0.001\n",
      "\n",
      "     Epoch   gpu_mem      Loss   correct     total       Acc\n",
      "     69/99     1.13G   0.00287     5e+04     5e+04      99.9: 100%|█| 391/391 [0\n",
      "\n",
      " test_loss   correct     total       Acc\n",
      "     0.285  9.38e+03     1e+04      93.8: 100%|█| 79/79 [00:00<00:00, 97.94it/s]\n",
      "lr: 0.001\n",
      "\n",
      "     Epoch   gpu_mem      Loss   correct     total       Acc\n",
      "     70/99     1.13G   0.00313     5e+04     5e+04      99.9: 100%|█| 391/391 [0\n",
      "\n",
      " test_loss   correct     total       Acc\n",
      "     0.286  9.37e+03     1e+04      93.7: 100%|█| 79/79 [00:00<00:00, 97.50it/s]\n",
      "lr: 0.00010000000000000002\n",
      "\n",
      "     Epoch   gpu_mem      Loss   correct     total       Acc\n",
      "     71/99     1.13G   0.00285     5e+04     5e+04      99.9: 100%|█| 391/391 [0\n",
      "\n",
      " test_loss   correct     total       Acc\n",
      "     0.283  9.37e+03     1e+04      93.7: 100%|█| 79/79 [00:00<00:00, 96.06it/s]\n",
      "lr: 0.00010000000000000002\n",
      "\n",
      "     Epoch   gpu_mem      Loss   correct     total       Acc\n",
      "     72/99     1.13G   0.00251     5e+04     5e+04       100: 100%|█| 391/391 [0\n",
      "\n",
      " test_loss   correct     total       Acc\n",
      "     0.285  9.37e+03     1e+04      93.7: 100%|█| 79/79 [00:00<00:00, 98.35it/s]\n",
      "lr: 0.00010000000000000002\n",
      "\n",
      "     Epoch   gpu_mem      Loss   correct     total       Acc\n",
      "     73/99     1.13G    0.0023     5e+04     5e+04       100: 100%|█| 391/391 [0\n",
      "\n",
      " test_loss   correct     total       Acc\n",
      "     0.283  9.39e+03     1e+04      93.9: 100%|█| 79/79 [00:00<00:00, 98.62it/s]\n",
      "lr: 0.00010000000000000002\n",
      "\n",
      "     Epoch   gpu_mem      Loss   correct     total       Acc\n",
      "     74/99     1.13G   0.00242     5e+04     5e+04       100: 100%|█| 391/391 [0\n",
      "\n",
      " test_loss   correct     total       Acc\n",
      "     0.283  9.38e+03     1e+04      93.8: 100%|█| 79/79 [00:00<00:00, 98.56it/s]\n",
      "lr: 0.00010000000000000002\n",
      "\n",
      "     Epoch   gpu_mem      Loss   correct     total       Acc\n",
      "     75/99     1.13G    0.0027     5e+04     5e+04       100: 100%|█| 391/391 [0\n",
      "\n",
      " test_loss   correct     total       Acc\n",
      "     0.281  9.38e+03     1e+04      93.8: 100%|█| 79/79 [00:00<00:00, 96.88it/s]\n",
      "lr: 0.00010000000000000002\n",
      "\n",
      "     Epoch   gpu_mem      Loss   correct     total       Acc\n",
      "     76/99     1.13G   0.00271     5e+04     5e+04      99.9: 100%|█| 391/391 [0\n",
      "\n",
      " test_loss   correct     total       Acc\n",
      "     0.282  9.37e+03     1e+04      93.7: 100%|█| 79/79 [00:00<00:00, 100.07it/s\n",
      "lr: 0.00010000000000000002\n",
      "\n",
      "     Epoch   gpu_mem      Loss   correct     total       Acc\n",
      "     77/99     1.13G   0.00266     5e+04     5e+04       100: 100%|█| 391/391 [0\n",
      "\n",
      " test_loss   correct     total       Acc\n",
      "     0.283  9.38e+03     1e+04      93.8: 100%|█| 79/79 [00:00<00:00, 97.96it/s]\n",
      "lr: 0.00010000000000000002\n",
      "\n",
      "     Epoch   gpu_mem      Loss   correct     total       Acc\n",
      "     78/99     1.13G   0.00282     5e+04     5e+04      99.9: 100%|█| 391/391 [0\n",
      "\n",
      " test_loss   correct     total       Acc\n",
      "     0.281  9.38e+03     1e+04      93.8: 100%|█| 79/79 [00:00<00:00, 97.25it/s]\n",
      "lr: 0.00010000000000000002\n",
      "\n",
      "     Epoch   gpu_mem      Loss   correct     total       Acc\n",
      "     79/99     1.13G   0.00264     5e+04     5e+04      99.9: 100%|█| 391/391 [0\n",
      "\n",
      " test_loss   correct     total       Acc\n",
      "     0.283  9.37e+03     1e+04      93.7: 100%|█| 79/79 [00:00<00:00, 97.81it/s]\n",
      "lr: 0.00010000000000000002\n",
      "\n",
      "     Epoch   gpu_mem      Loss   correct     total       Acc\n",
      "     80/99     1.13G   0.00221     5e+04     5e+04       100: 100%|█| 391/391 [0\n",
      "\n",
      " test_loss   correct     total       Acc\n",
      "     0.281  9.38e+03     1e+04      93.8: 100%|█| 79/79 [00:00<00:00, 94.58it/s]\n",
      "lr: 0.00010000000000000002\n",
      "\n",
      "     Epoch   gpu_mem      Loss   correct     total       Acc\n",
      "     81/99     1.13G   0.00257     5e+04     5e+04       100: 100%|█| 391/391 [0\n",
      "\n",
      " test_loss   correct     total       Acc\n",
      "     0.284  9.38e+03     1e+04      93.8: 100%|█| 79/79 [00:00<00:00, 99.72it/s]\n",
      "lr: 0.00010000000000000002\n",
      "\n",
      "     Epoch   gpu_mem      Loss   correct     total       Acc\n",
      "     82/99     1.13G   0.00228     5e+04     5e+04       100: 100%|█| 391/391 [0\n",
      "\n",
      " test_loss   correct     total       Acc\n",
      "     0.282  9.37e+03     1e+04      93.7: 100%|█| 79/79 [00:00<00:00, 96.90it/s]\n",
      "lr: 0.00010000000000000002\n",
      "\n",
      "     Epoch   gpu_mem      Loss   correct     total       Acc\n",
      "     83/99     1.13G   0.00267     5e+04     5e+04      99.9: 100%|█| 391/391 [0\n",
      "\n",
      " test_loss   correct     total       Acc\n",
      "      0.28  9.38e+03     1e+04      93.8: 100%|█| 79/79 [00:00<00:00, 97.55it/s]\n",
      "lr: 0.00010000000000000002\n",
      "\n",
      "     Epoch   gpu_mem      Loss   correct     total       Acc\n",
      "     84/99     1.13G   0.00235     5e+04     5e+04       100: 100%|█| 391/391 [0\n",
      "\n",
      " test_loss   correct     total       Acc\n",
      "     0.282  9.38e+03     1e+04      93.8: 100%|█| 79/79 [00:00<00:00, 95.14it/s]\n",
      "lr: 0.00010000000000000002\n",
      "\n",
      "     Epoch   gpu_mem      Loss   correct     total       Acc\n"
     ]
    },
    {
     "name": "stdout",
     "output_type": "stream",
     "text": [
      "     85/99     1.13G   0.00231     5e+04     5e+04       100: 100%|█| 391/391 [0\n",
      "\n",
      " test_loss   correct     total       Acc\n",
      "     0.281  9.38e+03     1e+04      93.8: 100%|█| 79/79 [00:00<00:00, 100.93it/s\n",
      "lr: 0.00010000000000000002\n",
      "\n",
      "     Epoch   gpu_mem      Loss   correct     total       Acc\n",
      "     86/99     1.13G   0.00271     5e+04     5e+04      99.9: 100%|█| 391/391 [0\n",
      "\n",
      " test_loss   correct     total       Acc\n",
      "     0.281  9.38e+03     1e+04      93.8: 100%|█| 79/79 [00:00<00:00, 98.88it/s]\n",
      "lr: 0.00010000000000000002\n",
      "\n",
      "     Epoch   gpu_mem      Loss   correct     total       Acc\n",
      "     87/99     1.13G   0.00245     5e+04     5e+04       100: 100%|█| 391/391 [0\n",
      "\n",
      " test_loss   correct     total       Acc\n",
      "     0.281  9.38e+03     1e+04      93.8: 100%|█| 79/79 [00:00<00:00, 98.09it/s]\n",
      "lr: 0.00010000000000000002\n",
      "\n",
      "     Epoch   gpu_mem      Loss   correct     total       Acc\n",
      "     88/99     1.13G    0.0023     5e+04     5e+04       100: 100%|█| 391/391 [0\n",
      "\n",
      " test_loss   correct     total       Acc\n",
      "     0.282  9.37e+03     1e+04      93.7: 100%|█| 79/79 [00:00<00:00, 102.16it/s\n",
      "lr: 0.00010000000000000002\n",
      "\n",
      "     Epoch   gpu_mem      Loss   correct     total       Acc\n",
      "     89/99     1.13G   0.00247     5e+04     5e+04       100: 100%|█| 391/391 [0\n",
      "\n",
      " test_loss   correct     total       Acc\n",
      "     0.283  9.37e+03     1e+04      93.7: 100%|█| 79/79 [00:00<00:00, 97.87it/s]\n",
      "lr: 0.00010000000000000002\n",
      "\n",
      "     Epoch   gpu_mem      Loss   correct     total       Acc\n",
      "     90/99     1.13G   0.00229     5e+04     5e+04       100: 100%|█| 391/391 [0\n",
      "\n",
      " test_loss   correct     total       Acc\n",
      "     0.282  9.37e+03     1e+04      93.7: 100%|█| 79/79 [00:00<00:00, 97.06it/s]\n",
      "lr: 1.0000000000000003e-05\n",
      "\n",
      "     Epoch   gpu_mem      Loss   correct     total       Acc\n",
      "     91/99     1.13G   0.00253     5e+04     5e+04      99.9: 100%|█| 391/391 [0\n",
      "\n",
      " test_loss   correct     total       Acc\n",
      "      0.28  9.37e+03     1e+04      93.7: 100%|█| 79/79 [00:00<00:00, 99.40it/s]\n",
      "lr: 1.0000000000000003e-05\n",
      "\n",
      "     Epoch   gpu_mem      Loss   correct     total       Acc\n",
      "     92/99     1.13G   0.00239     5e+04     5e+04       100: 100%|█| 391/391 [0\n",
      "\n",
      " test_loss   correct     total       Acc\n",
      "      0.28  9.38e+03     1e+04      93.8: 100%|█| 79/79 [00:00<00:00, 98.01it/s]\n",
      "lr: 1.0000000000000003e-05\n",
      "\n",
      "     Epoch   gpu_mem      Loss   correct     total       Acc\n",
      "     93/99     1.13G   0.00247     5e+04     5e+04       100: 100%|█| 391/391 [0\n",
      "\n",
      " test_loss   correct     total       Acc\n",
      "     0.281  9.38e+03     1e+04      93.8: 100%|█| 79/79 [00:00<00:00, 96.56it/s]\n",
      "lr: 1.0000000000000003e-05\n",
      "\n",
      "     Epoch   gpu_mem      Loss   correct     total       Acc\n",
      "     94/99     1.13G   0.00224     5e+04     5e+04       100: 100%|█| 391/391 [0\n",
      "\n",
      " test_loss   correct     total       Acc\n",
      "     0.281  9.38e+03     1e+04      93.8: 100%|█| 79/79 [00:00<00:00, 94.82it/s]\n",
      "lr: 1.0000000000000003e-05\n",
      "\n",
      "     Epoch   gpu_mem      Loss   correct     total       Acc\n",
      "     95/99     1.13G   0.00268     5e+04     5e+04       100: 100%|█| 391/391 [0\n",
      "\n",
      " test_loss   correct     total       Acc\n",
      "     0.282  9.38e+03     1e+04      93.8: 100%|█| 79/79 [00:00<00:00, 102.26it/s\n",
      "lr: 1.0000000000000003e-05\n",
      "\n",
      "     Epoch   gpu_mem      Loss   correct     total       Acc\n",
      "     96/99     1.13G    0.0023     5e+04     5e+04       100: 100%|█| 391/391 [0\n",
      "\n",
      " test_loss   correct     total       Acc\n",
      "     0.281  9.38e+03     1e+04      93.8: 100%|█| 79/79 [00:00<00:00, 99.34it/s]\n",
      "lr: 1.0000000000000003e-05\n",
      "\n",
      "     Epoch   gpu_mem      Loss   correct     total       Acc\n",
      "     97/99     1.13G   0.00274     5e+04     5e+04      99.9: 100%|█| 391/391 [0\n",
      "\n",
      " test_loss   correct     total       Acc\n",
      "     0.281  9.38e+03     1e+04      93.8: 100%|█| 79/79 [00:00<00:00, 100.15it/s\n",
      "lr: 1.0000000000000003e-05\n",
      "\n",
      "     Epoch   gpu_mem      Loss   correct     total       Acc\n",
      "     98/99     1.13G   0.00247     5e+04     5e+04       100: 100%|█| 391/391 [0\n",
      "\n",
      " test_loss   correct     total       Acc\n",
      "     0.281  9.38e+03     1e+04      93.8: 100%|█| 79/79 [00:00<00:00, 96.07it/s]\n",
      "lr: 1.0000000000000003e-05\n",
      "\n",
      "     Epoch   gpu_mem      Loss   correct     total       Acc\n",
      "     99/99     1.13G   0.00241     5e+04     5e+04       100: 100%|█| 391/391 [0\n",
      "\n",
      " test_loss   correct     total       Acc\n",
      "     0.283  9.38e+03     1e+04      93.8: 100%|█| 79/79 [00:00<00:00, 104.82it/s\n"
     ]
    }
   ],
   "source": [
    "!mkdir -p exp_VGG16/l1-norm_ns_random/finetune/l1_norm\n",
    "# l1_norm finetune\n",
    "!python train.py --model-name VGG16 --cfg exp_VGG16/l1-norm_ns_random/pruned_l1_norm_VGG16.cfg \\\n",
    "    -ckpt exp_VGG16/l1-norm_ns_random/pruned_l1_norm_VGG16.pth \\\n",
    "    -ckpt-dir exp_VGG16/l1-norm_ns_random/finetune/l1_norm -log exp_VGG16/l1-norm_ns_random/finetune/l1_norm \\\n",
    "    --lr 0.01 --epochs 100"
   ]
  },
  {
   "cell_type": "code",
   "execution_count": 11,
   "metadata": {},
   "outputs": [
    {
     "name": "stdout",
     "output_type": "stream",
     "text": [
      "Namespace(batch_size=128, cfg='exp_VGG16/l1-norm_ns_random/pruned_ns_VGG16.cfg', checkpoint='exp_VGG16/l1-norm_ns_random/pruned_ns_VGG16.pth', checkpoint_dir='exp_VGG16/l1-norm_ns_random/finetune/ns', device='', epochs=100, from_scratch=False, logdir='exp_VGG16/l1-norm_ns_random/finetune/ns', lr=0.01, model_name='VGG16', nosave=False, prune=0, resume=False, s=0.001, sr=False)\n",
      "Start Tensorboard with \"tensorboard --logdir=exp_VGG16/l1-norm_ns_random/finetune/ns, view at http://localhost:6006/\n",
      "Using CUDA device0 _CudaDeviceProperties(name='GeForce RTX 2080 Ti', total_memory=11019MB)\n",
      "           device1 _CudaDeviceProperties(name='GeForce RTX 2080 Ti', total_memory=11019MB)\n",
      "\n",
      "Files already downloaded and verified\n",
      "Files already downloaded and verified\n",
      "lr: 0.01\n",
      "\n",
      "     Epoch   gpu_mem      Loss   correct     total       Acc\n",
      "      0/99    0.984G     0.372  4.38e+04     5e+04      87.7: 100%|█| 391/391 [0\n",
      "\n",
      " test_loss   correct     total       Acc\n",
      "     0.704  7.95e+03     1e+04      79.5: 100%|█| 79/79 [00:00<00:00, 103.24it/s\n",
      "lr: 0.01\n",
      "\n",
      "     Epoch   gpu_mem      Loss   correct     total       Acc\n",
      "      1/99    0.984G     0.234  4.61e+04     5e+04      92.2: 100%|█| 391/391 [0\n",
      "\n",
      " test_loss   correct     total       Acc\n",
      "     0.422  8.67e+03     1e+04      86.7: 100%|█| 79/79 [00:00<00:00, 107.05it/s\n",
      "lr: 0.01\n",
      "\n",
      "     Epoch   gpu_mem      Loss   correct     total       Acc\n",
      "      2/99    0.984G     0.201  4.66e+04     5e+04      93.3: 100%|█| 391/391 [0\n",
      "\n",
      " test_loss   correct     total       Acc\n",
      "     0.378  8.83e+03     1e+04      88.3: 100%|█| 79/79 [00:00<00:00, 105.81it/s\n",
      "lr: 0.01\n",
      "\n",
      "     Epoch   gpu_mem      Loss   correct     total       Acc\n",
      "      3/99    0.984G     0.178   4.7e+04     5e+04      94.1: 100%|█| 391/391 [0\n",
      "\n",
      " test_loss   correct     total       Acc\n",
      "     0.438  8.66e+03     1e+04      86.6: 100%|█| 79/79 [00:00<00:00, 101.62it/s\n",
      "lr: 0.01\n",
      "\n",
      "     Epoch   gpu_mem      Loss   correct     total       Acc\n",
      "      4/99    0.984G     0.165  4.72e+04     5e+04      94.3: 100%|█| 391/391 [0\n",
      "\n",
      " test_loss   correct     total       Acc\n",
      "     0.348  8.92e+03     1e+04      89.2: 100%|█| 79/79 [00:00<00:00, 102.12it/s\n",
      "lr: 0.01\n",
      "\n",
      "     Epoch   gpu_mem      Loss   correct     total       Acc\n",
      "      5/99    0.984G     0.155  4.74e+04     5e+04      94.8: 100%|█| 391/391 [0\n",
      "\n",
      " test_loss   correct     total       Acc\n",
      "     0.369  8.85e+03     1e+04      88.5: 100%|█| 79/79 [00:00<00:00, 101.94it/s\n",
      "lr: 0.01\n",
      "\n",
      "     Epoch   gpu_mem      Loss   correct     total       Acc\n",
      "      6/99    0.984G     0.146  4.76e+04     5e+04      95.1: 100%|█| 391/391 [0\n",
      "\n",
      " test_loss   correct     total       Acc\n",
      "     0.331  8.99e+03     1e+04      89.9: 100%|█| 79/79 [00:00<00:00, 102.97it/s\n",
      "lr: 0.01\n",
      "\n",
      "     Epoch   gpu_mem      Loss   correct     total       Acc\n",
      "      7/99    0.984G     0.139  4.77e+04     5e+04      95.3: 100%|█| 391/391 [0\n",
      "\n",
      " test_loss   correct     total       Acc\n",
      "     0.354  8.95e+03     1e+04      89.5: 100%|█| 79/79 [00:00<00:00, 101.24it/s\n",
      "lr: 0.01\n",
      "\n",
      "     Epoch   gpu_mem      Loss   correct     total       Acc\n",
      "      8/99    0.984G     0.129  4.78e+04     5e+04      95.6: 100%|█| 391/391 [0\n",
      "\n",
      " test_loss   correct     total       Acc\n",
      "     0.319  9.06e+03     1e+04      90.6: 100%|█| 79/79 [00:00<00:00, 108.69it/s\n",
      "lr: 0.01\n",
      "\n",
      "     Epoch   gpu_mem      Loss   correct     total       Acc\n",
      "      9/99    0.984G     0.124  4.79e+04     5e+04      95.7: 100%|█| 391/391 [0\n",
      "\n",
      " test_loss   correct     total       Acc\n",
      "      0.37  8.91e+03     1e+04      89.1: 100%|█| 79/79 [00:00<00:00, 103.67it/s\n",
      "lr: 0.01\n",
      "\n",
      "     Epoch   gpu_mem      Loss   correct     total       Acc\n",
      "     10/99    0.984G     0.124  4.79e+04     5e+04      95.9: 100%|█| 391/391 [0\n",
      "\n",
      " test_loss   correct     total       Acc\n",
      "     0.357  8.97e+03     1e+04      89.7: 100%|█| 79/79 [00:00<00:00, 101.88it/s\n",
      "lr: 0.01\n",
      "\n",
      "     Epoch   gpu_mem      Loss   correct     total       Acc\n",
      "     11/99    0.984G     0.122   4.8e+04     5e+04      95.9: 100%|█| 391/391 [0\n",
      "\n",
      " test_loss   correct     total       Acc\n",
      "      0.35  9.01e+03     1e+04      90.1: 100%|█| 79/79 [00:00<00:00, 108.21it/s\n",
      "lr: 0.01\n",
      "\n",
      "     Epoch   gpu_mem      Loss   correct     total       Acc\n",
      "     12/99    0.984G     0.113  4.81e+04     5e+04      96.2: 100%|█| 391/391 [0\n",
      "\n",
      " test_loss   correct     total       Acc\n",
      "     0.394  8.88e+03     1e+04      88.8: 100%|█| 79/79 [00:00<00:00, 107.37it/s\n",
      "lr: 0.01\n",
      "\n",
      "     Epoch   gpu_mem      Loss   correct     total       Acc\n",
      "     13/99    0.984G     0.112  4.81e+04     5e+04      96.2: 100%|█| 391/391 [0\n",
      "\n",
      " test_loss   correct     total       Acc\n",
      "     0.444  8.78e+03     1e+04      87.8: 100%|█| 79/79 [00:00<00:00, 99.96it/s]\n",
      "lr: 0.01\n",
      "\n",
      "     Epoch   gpu_mem      Loss   correct     total       Acc\n",
      "     14/99    0.984G      0.11  4.81e+04     5e+04      96.3: 100%|█| 391/391 [0\n",
      "\n",
      " test_loss   correct     total       Acc\n",
      "     0.386  8.92e+03     1e+04      89.2: 100%|█| 79/79 [00:00<00:00, 108.16it/s\n",
      "lr: 0.01\n",
      "\n",
      "     Epoch   gpu_mem      Loss   correct     total       Acc\n",
      "     15/99    0.984G     0.109  4.82e+04     5e+04      96.3: 100%|█| 391/391 [0\n",
      "\n",
      " test_loss   correct     total       Acc\n",
      "     0.342  9.01e+03     1e+04      90.1: 100%|█| 79/79 [00:00<00:00, 99.09it/s]\n",
      "lr: 0.01\n",
      "\n",
      "     Epoch   gpu_mem      Loss   correct     total       Acc\n",
      "     16/99    0.984G     0.108  4.82e+04     5e+04      96.5: 100%|█| 391/391 [0\n",
      "\n",
      " test_loss   correct     total       Acc\n",
      "     0.343  8.97e+03     1e+04      89.7: 100%|█| 79/79 [00:00<00:00, 103.72it/s\n",
      "lr: 0.01\n",
      "\n",
      "     Epoch   gpu_mem      Loss   correct     total       Acc\n",
      "     17/99    0.984G     0.104  4.82e+04     5e+04      96.4: 100%|█| 391/391 [0\n",
      "\n",
      " test_loss   correct     total       Acc\n",
      "     0.354  9.02e+03     1e+04      90.2: 100%|█| 79/79 [00:00<00:00, 107.37it/s\n",
      "lr: 0.01\n",
      "\n",
      "     Epoch   gpu_mem      Loss   correct     total       Acc\n",
      "     18/99    0.984G     0.101  4.83e+04     5e+04      96.6: 100%|█| 391/391 [0\n",
      "\n",
      " test_loss   correct     total       Acc\n",
      "     0.371  8.98e+03     1e+04      89.8: 100%|█| 79/79 [00:00<00:00, 108.39it/s\n",
      "lr: 0.01\n",
      "\n",
      "     Epoch   gpu_mem      Loss   correct     total       Acc\n",
      "     19/99    0.984G    0.0992  4.83e+04     5e+04      96.6: 100%|█| 391/391 [0\n",
      "\n",
      " test_loss   correct     total       Acc\n",
      "     0.318  9.11e+03     1e+04      91.1: 100%|█| 79/79 [00:00<00:00, 100.63it/s\n",
      "lr: 0.01\n",
      "\n",
      "     Epoch   gpu_mem      Loss   correct     total       Acc\n",
      "     20/99    0.984G       0.1  4.83e+04     5e+04      96.6: 100%|█| 391/391 [0\n",
      "\n",
      " test_loss   correct     total       Acc\n",
      "      0.32  9.04e+03     1e+04      90.4: 100%|█| 79/79 [00:00<00:00, 102.13it/s\n",
      "lr: 0.01\n",
      "\n",
      "     Epoch   gpu_mem      Loss   correct     total       Acc\n",
      "     21/99    0.984G    0.0936  4.84e+04     5e+04      96.7: 100%|█| 391/391 [0\n",
      "\n",
      " test_loss   correct     total       Acc\n",
      "      0.37  8.95e+03     1e+04      89.5: 100%|█| 79/79 [00:00<00:00, 105.17it/s\n",
      "lr: 0.01\n",
      "\n",
      "     Epoch   gpu_mem      Loss   correct     total       Acc\n",
      "     22/99    0.984G     0.102  4.83e+04     5e+04      96.6: 100%|█| 391/391 [0\n",
      "\n",
      " test_loss   correct     total       Acc\n",
      "     0.377  8.94e+03     1e+04      89.4: 100%|█| 79/79 [00:00<00:00, 99.91it/s]\n",
      "lr: 0.01\n",
      "\n",
      "     Epoch   gpu_mem      Loss   correct     total       Acc\n",
      "     23/99    0.984G    0.0926  4.85e+04     5e+04      96.9: 100%|█| 391/391 [0\n",
      "\n",
      " test_loss   correct     total       Acc\n",
      "      0.36  8.99e+03     1e+04      89.9: 100%|█| 79/79 [00:00<00:00, 99.11it/s]\n",
      "lr: 0.01\n",
      "\n",
      "     Epoch   gpu_mem      Loss   correct     total       Acc\n",
      "     24/99    0.984G    0.0934  4.85e+04     5e+04        97: 100%|█| 391/391 [0\n",
      "\n",
      " test_loss   correct     total       Acc\n",
      "      0.35  8.98e+03     1e+04      89.8: 100%|█| 79/79 [00:00<00:00, 104.32it/s\n",
      "lr: 0.01\n",
      "\n",
      "     Epoch   gpu_mem      Loss   correct     total       Acc\n",
      "     25/99    0.984G    0.0901  4.85e+04     5e+04      96.9: 100%|█| 391/391 [0\n",
      "\n",
      " test_loss   correct     total       Acc\n",
      "     0.319  9.08e+03     1e+04      90.8: 100%|█| 79/79 [00:00<00:00, 105.42it/s\n",
      "lr: 0.01\n",
      "\n",
      "     Epoch   gpu_mem      Loss   correct     total       Acc\n",
      "     26/99    0.984G    0.0909  4.85e+04     5e+04        97: 100%|█| 391/391 [0\n",
      "\n",
      " test_loss   correct     total       Acc\n",
      "     0.322   9.1e+03     1e+04        91: 100%|█| 79/79 [00:00<00:00, 100.81it/s\n",
      "lr: 0.01\n",
      "\n",
      "     Epoch   gpu_mem      Loss   correct     total       Acc\n"
     ]
    },
    {
     "name": "stdout",
     "output_type": "stream",
     "text": [
      "     27/99    0.984G    0.0912  4.85e+04     5e+04        97: 100%|█| 391/391 [0\n",
      "\n",
      " test_loss   correct     total       Acc\n",
      "     0.367  8.97e+03     1e+04      89.7: 100%|█| 79/79 [00:00<00:00, 101.09it/s\n",
      "lr: 0.01\n",
      "\n",
      "     Epoch   gpu_mem      Loss   correct     total       Acc\n",
      "     28/99    0.984G     0.095  4.84e+04     5e+04      96.8: 100%|█| 391/391 [0\n",
      "\n",
      " test_loss   correct     total       Acc\n",
      "     0.339  9.05e+03     1e+04      90.5: 100%|█| 79/79 [00:00<00:00, 102.05it/s\n",
      "lr: 0.01\n",
      "\n",
      "     Epoch   gpu_mem      Loss   correct     total       Acc\n",
      "     29/99    0.984G    0.0877  4.85e+04     5e+04      97.1: 100%|█| 391/391 [0\n",
      "\n",
      " test_loss   correct     total       Acc\n",
      "     0.377  8.94e+03     1e+04      89.4: 100%|█| 79/79 [00:00<00:00, 101.48it/s\n",
      "lr: 0.01\n",
      "\n",
      "     Epoch   gpu_mem      Loss   correct     total       Acc\n",
      "     30/99    0.984G     0.091  4.84e+04     5e+04      96.9: 100%|█| 391/391 [0\n",
      "\n",
      " test_loss   correct     total       Acc\n",
      "     0.342  8.99e+03     1e+04      89.9: 100%|█| 79/79 [00:00<00:00, 100.12it/s\n",
      "lr: 0.01\n",
      "\n",
      "     Epoch   gpu_mem      Loss   correct     total       Acc\n",
      "     31/99    0.984G     0.089  4.85e+04     5e+04      97.1: 100%|█| 391/391 [0\n",
      "\n",
      " test_loss   correct     total       Acc\n",
      "     0.355  9.02e+03     1e+04      90.2: 100%|█| 79/79 [00:00<00:00, 105.01it/s\n",
      "lr: 0.01\n",
      "\n",
      "     Epoch   gpu_mem      Loss   correct     total       Acc\n",
      "     32/99    0.984G    0.0901  4.85e+04     5e+04      96.9: 100%|█| 391/391 [0\n",
      "\n",
      " test_loss   correct     total       Acc\n",
      "     0.354     9e+03     1e+04        90: 100%|█| 79/79 [00:00<00:00, 102.41it/s\n",
      "lr: 0.01\n",
      "\n",
      "     Epoch   gpu_mem      Loss   correct     total       Acc\n",
      "     33/99    0.984G    0.0906  4.84e+04     5e+04      96.9: 100%|█| 391/391 [0\n",
      "\n",
      " test_loss   correct     total       Acc\n",
      "     0.361  8.99e+03     1e+04      89.9: 100%|█| 79/79 [00:00<00:00, 102.75it/s\n",
      "lr: 0.01\n",
      "\n",
      "     Epoch   gpu_mem      Loss   correct     total       Acc\n",
      "     34/99    0.984G    0.0874  4.85e+04     5e+04      97.1: 100%|█| 391/391 [0\n",
      "\n",
      " test_loss   correct     total       Acc\n",
      "     0.329  9.09e+03     1e+04      90.9: 100%|█| 79/79 [00:00<00:00, 104.65it/s\n",
      "lr: 0.01\n",
      "\n",
      "     Epoch   gpu_mem      Loss   correct     total       Acc\n",
      "     35/99    0.984G    0.0847  4.86e+04     5e+04      97.1: 100%|█| 391/391 [0\n",
      "\n",
      " test_loss   correct     total       Acc\n",
      "     0.332  9.09e+03     1e+04      90.9: 100%|█| 79/79 [00:00<00:00, 105.28it/s\n",
      "lr: 0.01\n",
      "\n",
      "     Epoch   gpu_mem      Loss   correct     total       Acc\n",
      "     36/99    0.984G    0.0868  4.86e+04     5e+04      97.2: 100%|█| 391/391 [0\n",
      "\n",
      " test_loss   correct     total       Acc\n",
      "     0.351  9.04e+03     1e+04      90.4: 100%|█| 79/79 [00:00<00:00, 105.13it/s\n",
      "lr: 0.01\n",
      "\n",
      "     Epoch   gpu_mem      Loss   correct     total       Acc\n",
      "     37/99    0.984G    0.0832  4.86e+04     5e+04      97.3: 100%|█| 391/391 [0\n",
      "\n",
      " test_loss   correct     total       Acc\n",
      "     0.343  9.05e+03     1e+04      90.5: 100%|█| 79/79 [00:00<00:00, 102.23it/s\n",
      "lr: 0.01\n",
      "\n",
      "     Epoch   gpu_mem      Loss   correct     total       Acc\n",
      "     38/99    0.984G    0.0848  4.85e+04     5e+04      97.1: 100%|█| 391/391 [0\n",
      "\n",
      " test_loss   correct     total       Acc\n",
      "     0.394  8.93e+03     1e+04      89.3: 100%|█| 79/79 [00:00<00:00, 99.63it/s]\n",
      "lr: 0.01\n",
      "\n",
      "     Epoch   gpu_mem      Loss   correct     total       Acc\n",
      "     39/99    0.984G    0.0844  4.86e+04     5e+04      97.2: 100%|█| 391/391 [0\n",
      "\n",
      " test_loss   correct     total       Acc\n",
      "     0.339  9.07e+03     1e+04      90.7: 100%|█| 79/79 [00:00<00:00, 104.15it/s\n",
      "lr: 0.01\n",
      "\n",
      "     Epoch   gpu_mem      Loss   correct     total       Acc\n",
      "     40/99    0.984G    0.0871  4.85e+04     5e+04        97: 100%|█| 391/391 [0\n",
      "\n",
      " test_loss   correct     total       Acc\n",
      "     0.354  9.04e+03     1e+04      90.5: 100%|█| 79/79 [00:00<00:00, 101.61it/s\n",
      "lr: 0.01\n",
      "\n",
      "     Epoch   gpu_mem      Loss   correct     total       Acc\n",
      "     41/99    0.984G    0.0814  4.86e+04     5e+04      97.2: 100%|█| 391/391 [0\n",
      "\n",
      " test_loss   correct     total       Acc\n",
      "     0.333  9.03e+03     1e+04      90.3: 100%|█| 79/79 [00:00<00:00, 100.37it/s\n",
      "lr: 0.01\n",
      "\n",
      "     Epoch   gpu_mem      Loss   correct     total       Acc\n",
      "     42/99    0.984G    0.0863  4.86e+04     5e+04      97.1: 100%|█| 391/391 [0\n",
      "\n",
      " test_loss   correct     total       Acc\n",
      "     0.325  9.08e+03     1e+04      90.8: 100%|█| 79/79 [00:00<00:00, 98.57it/s]\n",
      "lr: 0.01\n",
      "\n",
      "     Epoch   gpu_mem      Loss   correct     total       Acc\n",
      "     43/99    0.984G     0.079  4.87e+04     5e+04      97.3: 100%|█| 391/391 [0\n",
      "\n",
      " test_loss   correct     total       Acc\n",
      "     0.366  9.02e+03     1e+04      90.2: 100%|█| 79/79 [00:00<00:00, 103.68it/s\n",
      "lr: 0.01\n",
      "\n",
      "     Epoch   gpu_mem      Loss   correct     total       Acc\n",
      "     44/99    0.984G     0.088  4.85e+04     5e+04        97: 100%|█| 391/391 [0\n",
      "\n",
      " test_loss   correct     total       Acc\n",
      "     0.333  9.09e+03     1e+04      90.9: 100%|█| 79/79 [00:00<00:00, 101.50it/s\n",
      "lr: 0.01\n",
      "\n",
      "     Epoch   gpu_mem      Loss   correct     total       Acc\n",
      "     45/99    0.984G    0.0835  4.86e+04     5e+04      97.2: 100%|█| 391/391 [0\n",
      "\n",
      " test_loss   correct     total       Acc\n",
      "     0.365  8.99e+03     1e+04      89.9: 100%|█| 79/79 [00:00<00:00, 103.89it/s\n",
      "lr: 0.01\n",
      "\n",
      "     Epoch   gpu_mem      Loss   correct     total       Acc\n",
      "     46/99    0.984G    0.0817  4.86e+04     5e+04      97.2: 100%|█| 391/391 [0\n",
      "\n",
      " test_loss   correct     total       Acc\n",
      "     0.324  9.09e+03     1e+04      90.9: 100%|█| 79/79 [00:00<00:00, 106.51it/s\n",
      "lr: 0.01\n",
      "\n",
      "     Epoch   gpu_mem      Loss   correct     total       Acc\n",
      "     47/99    0.984G    0.0844  4.86e+04     5e+04      97.1: 100%|█| 391/391 [0\n",
      "\n",
      " test_loss   correct     total       Acc\n",
      "     0.333  9.08e+03     1e+04      90.8: 100%|█| 79/79 [00:00<00:00, 99.86it/s]\n",
      "lr: 0.01\n",
      "\n",
      "     Epoch   gpu_mem      Loss   correct     total       Acc\n",
      "     48/99    0.984G    0.0839  4.86e+04     5e+04      97.2: 100%|█| 391/391 [0\n",
      "\n",
      " test_loss   correct     total       Acc\n",
      "     0.338  9.05e+03     1e+04      90.5: 100%|█| 79/79 [00:00<00:00, 102.77it/s\n",
      "lr: 0.01\n",
      "\n",
      "     Epoch   gpu_mem      Loss   correct     total       Acc\n",
      "     49/99    0.984G    0.0803  4.87e+04     5e+04      97.4: 100%|█| 391/391 [0\n",
      "\n",
      " test_loss   correct     total       Acc\n",
      "      0.38  8.96e+03     1e+04      89.6: 100%|█| 79/79 [00:00<00:00, 102.79it/s\n",
      "lr: 0.01\n",
      "\n",
      "     Epoch   gpu_mem      Loss   correct     total       Acc\n",
      "     50/99    0.984G    0.0848  4.85e+04     5e+04      97.1: 100%|█| 391/391 [0\n",
      "\n",
      " test_loss   correct     total       Acc\n",
      "     0.354  9.03e+03     1e+04      90.3: 100%|█| 79/79 [00:00<00:00, 102.67it/s\n",
      "lr: 0.001\n",
      "\n",
      "     Epoch   gpu_mem      Loss   correct     total       Acc\n",
      "     51/99    0.984G    0.0413  4.93e+04     5e+04      98.7: 100%|█| 391/391 [0\n",
      "\n",
      " test_loss   correct     total       Acc\n",
      "     0.263  9.28e+03     1e+04      92.8: 100%|█| 79/79 [00:00<00:00, 105.01it/s\n",
      "lr: 0.001\n",
      "\n",
      "     Epoch   gpu_mem      Loss   correct     total       Acc\n",
      "     52/99    0.984G    0.0243  4.96e+04     5e+04      99.2: 100%|█| 391/391 [0\n",
      "\n",
      " test_loss   correct     total       Acc\n",
      "     0.259   9.3e+03     1e+04        93: 100%|█| 79/79 [00:00<00:00, 107.40it/s\n",
      "lr: 0.001\n",
      "\n",
      "     Epoch   gpu_mem      Loss   correct     total       Acc\n",
      "     53/99    0.984G    0.0203  4.97e+04     5e+04      99.4: 100%|█| 391/391 [0\n",
      "\n",
      " test_loss   correct     total       Acc\n",
      "     0.257  9.31e+03     1e+04      93.1: 100%|█| 79/79 [00:00<00:00, 106.39it/s\n",
      "lr: 0.001\n",
      "\n",
      "     Epoch   gpu_mem      Loss   correct     total       Acc\n",
      "     54/99    0.984G    0.0168  4.98e+04     5e+04      99.5: 100%|█| 391/391 [0\n",
      "\n",
      " test_loss   correct     total       Acc\n",
      "      0.26  9.31e+03     1e+04      93.1: 100%|█| 79/79 [00:00<00:00, 104.93it/s\n",
      "lr: 0.001\n",
      "\n",
      "     Epoch   gpu_mem      Loss   correct     total       Acc\n",
      "     55/99    0.984G    0.0153  4.98e+04     5e+04      99.6: 100%|█| 391/391 [0\n",
      "\n",
      " test_loss   correct     total       Acc\n",
      "     0.259  9.34e+03     1e+04      93.5: 100%|█| 79/79 [00:00<00:00, 105.34it/s\n",
      "lr: 0.001\n",
      "\n",
      "     Epoch   gpu_mem      Loss   correct     total       Acc\n",
      "     56/99    0.984G    0.0146  4.98e+04     5e+04      99.6: 100%|█| 391/391 [0\n",
      "\n",
      " test_loss   correct     total       Acc\n",
      "     0.261  9.34e+03     1e+04      93.5: 100%|█| 79/79 [00:00<00:00, 103.82it/s\n",
      "lr: 0.001\n",
      "\n",
      "     Epoch   gpu_mem      Loss   correct     total       Acc\n"
     ]
    },
    {
     "name": "stdout",
     "output_type": "stream",
     "text": [
      "     57/99    0.984G    0.0124  4.98e+04     5e+04      99.6: 100%|█| 391/391 [0\n",
      "\n",
      " test_loss   correct     total       Acc\n",
      "     0.261  9.33e+03     1e+04      93.3: 100%|█| 79/79 [00:00<00:00, 102.58it/s\n",
      "lr: 0.001\n",
      "\n",
      "     Epoch   gpu_mem      Loss   correct     total       Acc\n",
      "     58/99    0.984G    0.0125  4.98e+04     5e+04      99.6: 100%|█| 391/391 [0\n",
      "\n",
      " test_loss   correct     total       Acc\n",
      "     0.261  9.36e+03     1e+04      93.5: 100%|█| 79/79 [00:00<00:00, 107.09it/s\n",
      "lr: 0.001\n",
      "\n",
      "     Epoch   gpu_mem      Loss   correct     total       Acc\n",
      "     59/99    0.984G    0.0113  4.98e+04     5e+04      99.7: 100%|█| 391/391 [0\n",
      "\n",
      " test_loss   correct     total       Acc\n",
      "     0.265  9.34e+03     1e+04      93.4: 100%|█| 79/79 [00:00<00:00, 102.09it/s\n",
      "lr: 0.001\n",
      "\n",
      "     Epoch   gpu_mem      Loss   correct     total       Acc\n",
      "     60/99    0.984G    0.0109  4.98e+04     5e+04      99.7: 100%|█| 391/391 [0\n",
      "\n",
      " test_loss   correct     total       Acc\n",
      "     0.265  9.34e+03     1e+04      93.4: 100%|█| 79/79 [00:00<00:00, 106.50it/s\n",
      "lr: 0.001\n",
      "\n",
      "     Epoch   gpu_mem      Loss   correct     total       Acc\n",
      "     61/99    0.984G   0.00986  4.99e+04     5e+04      99.7: 100%|█| 391/391 [0\n",
      "\n",
      " test_loss   correct     total       Acc\n",
      "     0.266  9.35e+03     1e+04      93.5: 100%|█| 79/79 [00:00<00:00, 102.56it/s\n",
      "lr: 0.001\n",
      "\n",
      "     Epoch   gpu_mem      Loss   correct     total       Acc\n",
      "     62/99    0.984G    0.0095  4.99e+04     5e+04      99.7: 100%|█| 391/391 [0\n",
      "\n",
      " test_loss   correct     total       Acc\n",
      "      0.27  9.34e+03     1e+04      93.4: 100%|█| 79/79 [00:00<00:00, 105.01it/s\n",
      "lr: 0.001\n",
      "\n",
      "     Epoch   gpu_mem      Loss   correct     total       Acc\n",
      "     63/99    0.984G   0.00836  4.99e+04     5e+04      99.8: 100%|█| 391/391 [0\n",
      "\n",
      " test_loss   correct     total       Acc\n",
      "     0.268  9.35e+03     1e+04      93.5: 100%|█| 79/79 [00:00<00:00, 103.29it/s\n",
      "lr: 0.001\n",
      "\n",
      "     Epoch   gpu_mem      Loss   correct     total       Acc\n",
      "     64/99    0.984G   0.00858  4.99e+04     5e+04      99.8: 100%|█| 391/391 [0\n",
      "\n",
      " test_loss   correct     total       Acc\n",
      "     0.271  9.35e+03     1e+04      93.5: 100%|█| 79/79 [00:00<00:00, 106.11it/s\n",
      "lr: 0.001\n",
      "\n",
      "     Epoch   gpu_mem      Loss   correct     total       Acc\n",
      "     65/99    0.984G   0.00747  4.99e+04     5e+04      99.8: 100%|█| 391/391 [0\n",
      "\n",
      " test_loss   correct     total       Acc\n",
      "     0.271  9.36e+03     1e+04      93.6: 100%|█| 79/79 [00:00<00:00, 99.13it/s]\n",
      "lr: 0.001\n",
      "\n",
      "     Epoch   gpu_mem      Loss   correct     total       Acc\n",
      "     66/99    0.984G   0.00696  4.99e+04     5e+04      99.8: 100%|█| 391/391 [0\n",
      "\n",
      " test_loss   correct     total       Acc\n",
      "     0.274  9.36e+03     1e+04      93.6: 100%|█| 79/79 [00:00<00:00, 108.24it/s\n",
      "lr: 0.001\n",
      "\n",
      "     Epoch   gpu_mem      Loss   correct     total       Acc\n",
      "     67/99    0.984G   0.00717  4.99e+04     5e+04      99.8: 100%|█| 391/391 [0\n",
      "\n",
      " test_loss   correct     total       Acc\n",
      "     0.275  9.36e+03     1e+04      93.7: 100%|█| 79/79 [00:00<00:00, 107.38it/s\n",
      "lr: 0.001\n",
      "\n",
      "     Epoch   gpu_mem      Loss   correct     total       Acc\n",
      "     68/99    0.984G   0.00727  4.99e+04     5e+04      99.8: 100%|█| 391/391 [0\n",
      "\n",
      " test_loss   correct     total       Acc\n",
      "     0.276  9.36e+03     1e+04      93.6: 100%|█| 79/79 [00:00<00:00, 107.64it/s\n",
      "lr: 0.001\n",
      "\n",
      "     Epoch   gpu_mem      Loss   correct     total       Acc\n",
      "     69/99    0.984G    0.0065  4.99e+04     5e+04      99.8: 100%|█| 391/391 [0\n",
      "\n",
      " test_loss   correct     total       Acc\n",
      "      0.28  9.35e+03     1e+04      93.5: 100%|█| 79/79 [00:00<00:00, 105.51it/s\n",
      "lr: 0.001\n",
      "\n",
      "     Epoch   gpu_mem      Loss   correct     total       Acc\n",
      "     70/99    0.984G   0.00674  4.99e+04     5e+04      99.8: 100%|█| 391/391 [0\n",
      "\n",
      " test_loss   correct     total       Acc\n",
      "     0.286  9.33e+03     1e+04      93.3: 100%|█| 79/79 [00:00<00:00, 100.76it/s\n",
      "lr: 0.00010000000000000002\n",
      "\n",
      "     Epoch   gpu_mem      Loss   correct     total       Acc\n",
      "     71/99    0.984G   0.00597  4.99e+04     5e+04      99.8: 100%|█| 391/391 [0\n",
      "\n",
      " test_loss   correct     total       Acc\n",
      "     0.284  9.34e+03     1e+04      93.4: 100%|█| 79/79 [00:00<00:00, 98.90it/s]\n",
      "lr: 0.00010000000000000002\n",
      "\n",
      "     Epoch   gpu_mem      Loss   correct     total       Acc\n",
      "     72/99    0.984G   0.00637  4.99e+04     5e+04      99.8: 100%|█| 391/391 [0\n",
      "\n",
      " test_loss   correct     total       Acc\n",
      "     0.281  9.35e+03     1e+04      93.5: 100%|█| 79/79 [00:00<00:00, 100.84it/s\n",
      "lr: 0.00010000000000000002\n",
      "\n",
      "     Epoch   gpu_mem      Loss   correct     total       Acc\n",
      "     73/99    0.984G   0.00574  4.99e+04     5e+04      99.8: 100%|█| 391/391 [0\n",
      "\n",
      " test_loss   correct     total       Acc\n",
      "     0.282  9.35e+03     1e+04      93.5: 100%|█| 79/79 [00:00<00:00, 106.00it/s\n",
      "lr: 0.00010000000000000002\n",
      "\n",
      "     Epoch   gpu_mem      Loss   correct     total       Acc\n",
      "     74/99    0.984G   0.00605  4.99e+04     5e+04      99.9: 100%|█| 391/391 [0\n",
      "\n",
      " test_loss   correct     total       Acc\n",
      "     0.282  9.35e+03     1e+04      93.5: 100%|█| 79/79 [00:00<00:00, 102.48it/s\n",
      "lr: 0.00010000000000000002\n",
      "\n",
      "     Epoch   gpu_mem      Loss   correct     total       Acc\n",
      "     75/99    0.984G   0.00637  4.99e+04     5e+04      99.8: 100%|█| 391/391 [0\n",
      "\n",
      " test_loss   correct     total       Acc\n",
      "      0.28  9.36e+03     1e+04      93.6: 100%|█| 79/79 [00:00<00:00, 104.38it/s\n",
      "lr: 0.00010000000000000002\n",
      "\n",
      "     Epoch   gpu_mem      Loss   correct     total       Acc\n",
      "     76/99    0.984G   0.00578  4.99e+04     5e+04      99.8: 100%|█| 391/391 [0\n",
      "\n",
      " test_loss   correct     total       Acc\n",
      "     0.284  9.36e+03     1e+04      93.6: 100%|█| 79/79 [00:00<00:00, 100.09it/s\n",
      "lr: 0.00010000000000000002\n",
      "\n",
      "     Epoch   gpu_mem      Loss   correct     total       Acc\n",
      "     77/99    0.984G   0.00629  4.99e+04     5e+04      99.8: 100%|█| 391/391 [0\n",
      "\n",
      " test_loss   correct     total       Acc\n",
      "     0.281  9.35e+03     1e+04      93.5: 100%|█| 79/79 [00:00<00:00, 97.43it/s]\n",
      "lr: 0.00010000000000000002\n",
      "\n",
      "     Epoch   gpu_mem      Loss   correct     total       Acc\n",
      "     78/99    0.984G   0.00545  4.99e+04     5e+04      99.9: 100%|█| 391/391 [0\n",
      "\n",
      " test_loss   correct     total       Acc\n",
      "     0.282  9.36e+03     1e+04      93.6: 100%|█| 79/79 [00:00<00:00, 108.47it/s\n",
      "lr: 0.00010000000000000002\n",
      "\n",
      "     Epoch   gpu_mem      Loss   correct     total       Acc\n",
      "     79/99    0.984G   0.00528  4.99e+04     5e+04      99.9: 100%|█| 391/391 [0\n",
      "\n",
      " test_loss   correct     total       Acc\n",
      "     0.282  9.35e+03     1e+04      93.5: 100%|█| 79/79 [00:00<00:00, 107.35it/s\n",
      "lr: 0.00010000000000000002\n",
      "\n",
      "     Epoch   gpu_mem      Loss   correct     total       Acc\n",
      "     80/99    0.984G   0.00592  4.99e+04     5e+04      99.8: 100%|█| 391/391 [0\n",
      "\n",
      " test_loss   correct     total       Acc\n",
      "     0.279  9.36e+03     1e+04      93.6: 100%|█| 79/79 [00:00<00:00, 99.00it/s]\n",
      "lr: 0.00010000000000000002\n",
      "\n",
      "     Epoch   gpu_mem      Loss   correct     total       Acc\n",
      "     81/99    0.984G   0.00507  4.99e+04     5e+04      99.9: 100%|█| 391/391 [0\n",
      "\n",
      " test_loss   correct     total       Acc\n",
      "     0.278  9.36e+03     1e+04      93.6: 100%|█| 79/79 [00:00<00:00, 102.70it/s\n",
      "lr: 0.00010000000000000002\n",
      "\n",
      "     Epoch   gpu_mem      Loss   correct     total       Acc\n",
      "     82/99    0.984G   0.00531  4.99e+04     5e+04      99.9: 100%|█| 391/391 [0\n",
      "\n",
      " test_loss   correct     total       Acc\n",
      "     0.279  9.35e+03     1e+04      93.5: 100%|█| 79/79 [00:00<00:00, 102.65it/s\n",
      "lr: 0.00010000000000000002\n",
      "\n",
      "     Epoch   gpu_mem      Loss   correct     total       Acc\n",
      "     83/99    0.984G   0.00477  4.99e+04     5e+04      99.9: 100%|█| 391/391 [0\n",
      "\n",
      " test_loss   correct     total       Acc\n",
      "     0.279  9.35e+03     1e+04      93.5: 100%|█| 79/79 [00:00<00:00, 102.56it/s\n",
      "lr: 0.00010000000000000002\n",
      "\n",
      "     Epoch   gpu_mem      Loss   correct     total       Acc\n",
      "     84/99    0.984G   0.00583  4.99e+04     5e+04      99.8: 100%|█| 391/391 [0\n",
      "\n",
      " test_loss   correct     total       Acc\n",
      "     0.279  9.35e+03     1e+04      93.5: 100%|█| 79/79 [00:00<00:00, 107.38it/s\n",
      "lr: 0.00010000000000000002\n",
      "\n",
      "     Epoch   gpu_mem      Loss   correct     total       Acc\n",
      "     85/99    0.984G   0.00536  4.99e+04     5e+04      99.9: 100%|█| 391/391 [0\n",
      "\n",
      " test_loss   correct     total       Acc\n",
      "     0.282  9.35e+03     1e+04      93.5: 100%|█| 79/79 [00:00<00:00, 108.50it/s\n",
      "lr: 0.00010000000000000002\n",
      "\n",
      "     Epoch   gpu_mem      Loss   correct     total       Acc\n"
     ]
    },
    {
     "name": "stdout",
     "output_type": "stream",
     "text": [
      "     86/99    0.984G   0.00519  4.99e+04     5e+04      99.9: 100%|█| 391/391 [0\n",
      "\n",
      " test_loss   correct     total       Acc\n",
      "      0.28  9.36e+03     1e+04      93.6: 100%|█| 79/79 [00:00<00:00, 100.13it/s\n",
      "lr: 0.00010000000000000002\n",
      "\n",
      "     Epoch   gpu_mem      Loss   correct     total       Acc\n",
      "     87/99    0.984G   0.00538  4.99e+04     5e+04      99.8: 100%|█| 391/391 [0\n",
      "\n",
      " test_loss   correct     total       Acc\n",
      "     0.281  9.36e+03     1e+04      93.6: 100%|█| 79/79 [00:00<00:00, 102.79it/s\n",
      "lr: 0.00010000000000000002\n",
      "\n",
      "     Epoch   gpu_mem      Loss   correct     total       Acc\n",
      "     88/99    0.984G   0.00527  4.99e+04     5e+04      99.9: 100%|█| 391/391 [0\n",
      "\n",
      " test_loss   correct     total       Acc\n",
      "     0.279  9.36e+03     1e+04      93.6: 100%|█| 79/79 [00:00<00:00, 108.56it/s\n",
      "lr: 0.00010000000000000002\n",
      "\n",
      "     Epoch   gpu_mem      Loss   correct     total       Acc\n",
      "     89/99    0.984G   0.00503  4.99e+04     5e+04      99.9: 100%|█| 391/391 [0\n",
      "\n",
      " test_loss   correct     total       Acc\n",
      "     0.278  9.37e+03     1e+04      93.7: 100%|█| 79/79 [00:00<00:00, 98.29it/s]\n",
      "lr: 0.00010000000000000002\n",
      "\n",
      "     Epoch   gpu_mem      Loss   correct     total       Acc\n",
      "     90/99    0.984G   0.00511  4.99e+04     5e+04      99.9: 100%|█| 391/391 [0\n",
      "\n",
      " test_loss   correct     total       Acc\n",
      "      0.28  9.36e+03     1e+04      93.6: 100%|█| 79/79 [00:00<00:00, 104.25it/s\n",
      "lr: 1.0000000000000003e-05\n",
      "\n",
      "     Epoch   gpu_mem      Loss   correct     total       Acc\n",
      "     91/99    0.984G    0.0049  4.99e+04     5e+04      99.9: 100%|█| 391/391 [0\n",
      "\n",
      " test_loss   correct     total       Acc\n",
      "     0.283  9.35e+03     1e+04      93.5: 100%|█| 79/79 [00:00<00:00, 100.90it/s\n",
      "lr: 1.0000000000000003e-05\n",
      "\n",
      "     Epoch   gpu_mem      Loss   correct     total       Acc\n",
      "     92/99    0.984G   0.00498  4.99e+04     5e+04      99.9: 100%|█| 391/391 [0\n",
      "\n",
      " test_loss   correct     total       Acc\n",
      "      0.28  9.37e+03     1e+04      93.7: 100%|█| 79/79 [00:00<00:00, 101.36it/s\n",
      "lr: 1.0000000000000003e-05\n",
      "\n",
      "     Epoch   gpu_mem      Loss   correct     total       Acc\n",
      "     93/99    0.984G    0.0048  4.99e+04     5e+04      99.9: 100%|█| 391/391 [0\n",
      "\n",
      " test_loss   correct     total       Acc\n",
      "     0.281  9.36e+03     1e+04      93.6: 100%|█| 79/79 [00:00<00:00, 108.78it/s\n",
      "lr: 1.0000000000000003e-05\n",
      "\n",
      "     Epoch   gpu_mem      Loss   correct     total       Acc\n",
      "     94/99    0.984G   0.00527  4.99e+04     5e+04      99.9: 100%|█| 391/391 [0\n",
      "\n",
      " test_loss   correct     total       Acc\n",
      "      0.28  9.36e+03     1e+04      93.7: 100%|█| 79/79 [00:00<00:00, 102.27it/s\n",
      "lr: 1.0000000000000003e-05\n",
      "\n",
      "     Epoch   gpu_mem      Loss   correct     total       Acc\n",
      "     95/99    0.984G     0.005  4.99e+04     5e+04      99.9: 100%|█| 391/391 [0\n",
      "\n",
      " test_loss   correct     total       Acc\n",
      "     0.279  9.36e+03     1e+04      93.6: 100%|█| 79/79 [00:00<00:00, 104.49it/s\n",
      "lr: 1.0000000000000003e-05\n",
      "\n",
      "     Epoch   gpu_mem      Loss   correct     total       Acc\n",
      "     96/99    0.984G   0.00516  4.99e+04     5e+04      99.9: 100%|█| 391/391 [0\n",
      "\n",
      " test_loss   correct     total       Acc\n",
      "     0.283  9.35e+03     1e+04      93.5: 100%|█| 79/79 [00:00<00:00, 100.28it/s\n",
      "lr: 1.0000000000000003e-05\n",
      "\n",
      "     Epoch   gpu_mem      Loss   correct     total       Acc\n",
      "     97/99    0.984G   0.00497  4.99e+04     5e+04      99.9: 100%|█| 391/391 [0\n",
      "\n",
      " test_loss   correct     total       Acc\n",
      "     0.279  9.36e+03     1e+04      93.5: 100%|█| 79/79 [00:00<00:00, 100.28it/s\n",
      "lr: 1.0000000000000003e-05\n",
      "\n",
      "     Epoch   gpu_mem      Loss   correct     total       Acc\n",
      "     98/99    0.984G   0.00498  4.99e+04     5e+04      99.9: 100%|█| 391/391 [0\n",
      "\n",
      " test_loss   correct     total       Acc\n",
      "      0.28  9.36e+03     1e+04      93.6: 100%|█| 79/79 [00:00<00:00, 104.40it/s\n",
      "lr: 1.0000000000000003e-05\n",
      "\n",
      "     Epoch   gpu_mem      Loss   correct     total       Acc\n",
      "     99/99    0.984G   0.00519  4.99e+04     5e+04      99.9: 100%|█| 391/391 [0\n",
      "\n",
      " test_loss   correct     total       Acc\n",
      "     0.282  9.36e+03     1e+04      93.6: 100%|█| 79/79 [00:00<00:00, 101.77it/s\n"
     ]
    }
   ],
   "source": [
    "!mkdir -p exp_VGG16/l1-norm_ns_random/finetune/ns\n",
    "# ns finetune\n",
    "!python train.py --model-name VGG16 --cfg exp_VGG16/l1-norm_ns_random/pruned_ns_VGG16.cfg \\\n",
    "    -ckpt exp_VGG16/l1-norm_ns_random/pruned_ns_VGG16.pth \\\n",
    "    -ckpt-dir exp_VGG16/l1-norm_ns_random/finetune/ns -log exp_VGG16/l1-norm_ns_random/finetune/ns \\\n",
    "    --lr 0.01 --epochs 100"
   ]
  }
 ],
 "metadata": {
  "kernelspec": {
   "display_name": "Python 3",
   "language": "python",
   "name": "python3"
  },
  "language_info": {
   "codemirror_mode": {
    "name": "ipython",
    "version": 3
   },
   "file_extension": ".py",
   "mimetype": "text/x-python",
   "name": "python",
   "nbconvert_exporter": "python",
   "pygments_lexer": "ipython3",
   "version": "3.6.10"
  }
 },
 "nbformat": 4,
 "nbformat_minor": 2
}
