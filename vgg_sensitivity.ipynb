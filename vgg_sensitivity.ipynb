{
 "cells": [
  {
   "cell_type": "code",
   "execution_count": 13,
   "metadata": {},
   "outputs": [
    {
     "name": "stdout",
     "output_type": "stream",
     "text": [
      "Namespace(checkpoint='exp_VGG16/sp/checkpoint/last.pth', img_size=32, layer_keep=0.01, model_name='VGG16', saved_dir='exp_VGG16/sensitivity')\n",
      "Files already downloaded and verified\n",
      "\n",
      "let's test the original model:\n",
      "\n",
      " test_loss   correct     total       Acc\n"
     ]
    },
    {
     "name": "stderr",
     "output_type": "stream",
     "text": [
      "     0.293  9.33e+03     1e+04      93.3: 100%|██████████| 79/79 [00:01<00:00, 71.77it/s]\n"
     ]
    }
   ],
   "source": [
    "import torch\n",
    "import torch.nn as nn\n",
    "import torch.optim as optim\n",
    "import torch.nn.functional as F\n",
    "\n",
    "import torchvision\n",
    "import torchvision.transforms as transforms\n",
    "\n",
    "from tqdm import tqdm\n",
    "\n",
    "import os\n",
    "import argparse\n",
    "import numpy as np\n",
    "from copy import deepcopy\n",
    "\n",
    "from models import *\n",
    "from models.resnet import *\n",
    "from utils.datasets import * \n",
    "from utils.utils import * \n",
    "import test\n",
    "\n",
    "from terminaltables import AsciiTable\n",
    "\n",
    "if __name__ == '__main__':\n",
    "    parser = argparse.ArgumentParser()\n",
    "    parser.add_argument('--model-name', type=str, default='VGG16', help='model name')\n",
    "    parser.add_argument('--checkpoint', '-ckpt', type=str, default='VGG16/checkpoint/last.pth', help='checkpoint path')\n",
    "    parser.add_argument('--saved-dir', type=str, default='VGG16/sensitivity', help='sensitivity saved directory')\n",
    "    parser.add_argument('--layer-keep', type=float, default=0.01, help='channel keep percent per layer')\n",
    "    parser.add_argument('--img-size', type=int, default=32, help='inference size (pixels)')\n",
    "\n",
    "    opt = parser.parse_args(args=[])\n",
    "#     opt = parser.parse_args()\n",
    "\n",
    "    opt.model_name = 'VGG16'\n",
    "    opt.checkpoint = 'exp_VGG16/sp/checkpoint/last.pth'\n",
    "    opt.saved_dir = 'exp_VGG16/sensitivity'\n",
    "    \n",
    "    print(opt)\n",
    "    \n",
    "    device = torch.device(\"cuda\" if torch.cuda.is_available() else \"cpu\")\n",
    "    \n",
    "    # get original model\n",
    "    checkpoint = opt.checkpoint\n",
    "    model_name = opt.model_name\n",
    "    assert os.path.isfile(checkpoint), 'Error: no %s file found!'%checkpoint\n",
    "    if checkpoint.endswith('.pth'): # only load weights from file\n",
    "        model = globals()[opt.model_name]()\n",
    "        model.load_state_dict(torch.load(checkpoint)['model'])\n",
    "    else: # load network architecture and weights from file \n",
    "        model = torch.load(checkpoint)\n",
    "\n",
    "    model = model.to(device)\n",
    "    \n",
    "    # test dataset\n",
    "    batch_size = 128\n",
    "    nw = min([os.cpu_count(), batch_size if batch_size > 1 else 0, 8])  # number of workers\n",
    "    testloader = cifar10_test_dataset(batch_size=batch_size, nw=nw)\n",
    "    \n",
    "    eval_model = lambda model:test.test(model=model, testloader=testloader)\n",
    "    obtain_num_parameters = lambda model:sum([param.nelement() for param in model.parameters()])\n",
    "\n",
    "    print(\"\\nlet's test the original model:\")\n",
    "    origin_model_metric = eval_model(model)\n",
    "    origin_nparameters = obtain_num_parameters(model)\n",
    "    "
   ]
  },
  {
   "cell_type": "code",
   "execution_count": 14,
   "metadata": {},
   "outputs": [
    {
     "name": "stdout",
     "output_type": "stream",
     "text": [
      "\n",
      "module_idx:  0, percent:0.05\n",
      "\n",
      " test_loss   correct     total       Acc\n"
     ]
    },
    {
     "name": "stderr",
     "output_type": "stream",
     "text": [
      "     0.293  9.33e+03     1e+04      93.3: 100%|██████████| 79/79 [00:01<00:00, 71.82it/s]\n"
     ]
    },
    {
     "name": "stdout",
     "output_type": "stream",
     "text": [
      "\n",
      "module_idx:  0, percent:0.1\n",
      "\n",
      " test_loss   correct     total       Acc\n"
     ]
    },
    {
     "name": "stderr",
     "output_type": "stream",
     "text": [
      "     0.293  9.33e+03     1e+04      93.3: 100%|██████████| 79/79 [00:01<00:00, 75.05it/s]"
     ]
    },
    {
     "name": "stdout",
     "output_type": "stream",
     "text": [
      "\n",
      "module_idx:  0, percent:0.15\n",
      "\n",
      " test_loss   correct     total       Acc\n"
     ]
    },
    {
     "name": "stderr",
     "output_type": "stream",
     "text": [
      "\n",
      "     0.293  9.33e+03     1e+04      93.3: 100%|██████████| 79/79 [00:01<00:00, 76.38it/s]\n"
     ]
    },
    {
     "name": "stdout",
     "output_type": "stream",
     "text": [
      "\n",
      "module_idx:  0, percent:0.2\n",
      "\n",
      " test_loss   correct     total       Acc\n"
     ]
    },
    {
     "name": "stderr",
     "output_type": "stream",
     "text": [
      "     0.293  9.33e+03     1e+04      93.3: 100%|██████████| 79/79 [00:01<00:00, 73.68it/s]"
     ]
    },
    {
     "name": "stdout",
     "output_type": "stream",
     "text": [
      "\n",
      "module_idx:  0, percent:0.25\n",
      "\n",
      " test_loss   correct     total       Acc\n"
     ]
    },
    {
     "name": "stderr",
     "output_type": "stream",
     "text": [
      "\n",
      "     0.293  9.33e+03     1e+04      93.3: 100%|██████████| 79/79 [00:01<00:00, 72.53it/s]"
     ]
    },
    {
     "name": "stdout",
     "output_type": "stream",
     "text": [
      "\n",
      "module_idx:  0, percent:0.3\n",
      "\n",
      " test_loss   correct     total       Acc\n"
     ]
    },
    {
     "name": "stderr",
     "output_type": "stream",
     "text": [
      "\n",
      "     0.293  9.33e+03     1e+04      93.3: 100%|██████████| 79/79 [00:01<00:00, 72.35it/s]"
     ]
    },
    {
     "name": "stdout",
     "output_type": "stream",
     "text": [
      "\n",
      "module_idx:  0, percent:0.35\n",
      "\n",
      " test_loss   correct     total       Acc\n"
     ]
    },
    {
     "name": "stderr",
     "output_type": "stream",
     "text": [
      "\n",
      "     0.293  9.33e+03     1e+04      93.3: 100%|██████████| 79/79 [00:01<00:00, 75.45it/s]"
     ]
    },
    {
     "name": "stdout",
     "output_type": "stream",
     "text": [
      "\n",
      "module_idx:  0, percent:0.4\n",
      "\n",
      " test_loss   correct     total       Acc\n"
     ]
    },
    {
     "name": "stderr",
     "output_type": "stream",
     "text": [
      "\n",
      "     0.293  9.33e+03     1e+04      93.3: 100%|██████████| 79/79 [00:01<00:00, 72.83it/s]\n"
     ]
    },
    {
     "name": "stdout",
     "output_type": "stream",
     "text": [
      "\n",
      "module_idx:  0, percent:0.45\n",
      "\n",
      " test_loss   correct     total       Acc\n"
     ]
    },
    {
     "name": "stderr",
     "output_type": "stream",
     "text": [
      "     0.293  9.33e+03     1e+04      93.3: 100%|██████████| 79/79 [00:01<00:00, 76.01it/s]\n"
     ]
    },
    {
     "name": "stdout",
     "output_type": "stream",
     "text": [
      "\n",
      "module_idx:  0, percent:0.5\n",
      "\n",
      " test_loss   correct     total       Acc\n"
     ]
    },
    {
     "name": "stderr",
     "output_type": "stream",
     "text": [
      "     0.293  9.33e+03     1e+04      93.3: 100%|██████████| 79/79 [00:01<00:00, 72.91it/s]"
     ]
    },
    {
     "name": "stdout",
     "output_type": "stream",
     "text": [
      "\n",
      "module_idx:  0, percent:0.55\n",
      "\n",
      " test_loss   correct     total       Acc\n"
     ]
    },
    {
     "name": "stderr",
     "output_type": "stream",
     "text": [
      "\n",
      "     0.293  9.33e+03     1e+04      93.3: 100%|██████████| 79/79 [00:01<00:00, 72.77it/s]"
     ]
    },
    {
     "name": "stdout",
     "output_type": "stream",
     "text": [
      "\n",
      "module_idx:  0, percent:0.6\n",
      "\n",
      " test_loss   correct     total       Acc\n"
     ]
    },
    {
     "name": "stderr",
     "output_type": "stream",
     "text": [
      "\n",
      "     0.293  9.33e+03     1e+04      93.3: 100%|██████████| 79/79 [00:01<00:00, 75.09it/s]\n"
     ]
    },
    {
     "name": "stdout",
     "output_type": "stream",
     "text": [
      "\n",
      "module_idx:  0, percent:0.65\n",
      "\n",
      " test_loss   correct     total       Acc\n"
     ]
    },
    {
     "name": "stderr",
     "output_type": "stream",
     "text": [
      "     0.293  9.33e+03     1e+04      93.3: 100%|██████████| 79/79 [00:01<00:00, 76.63it/s]"
     ]
    },
    {
     "name": "stdout",
     "output_type": "stream",
     "text": [
      "\n",
      "module_idx:  0, percent:0.7\n",
      "\n",
      " test_loss   correct     total       Acc\n"
     ]
    },
    {
     "name": "stderr",
     "output_type": "stream",
     "text": [
      "\n",
      "     0.293  9.33e+03     1e+04      93.3: 100%|██████████| 79/79 [00:01<00:00, 75.38it/s]\n"
     ]
    },
    {
     "name": "stdout",
     "output_type": "stream",
     "text": [
      "\n",
      "module_idx:  0, percent:0.75\n",
      "\n",
      " test_loss   correct     total       Acc\n"
     ]
    },
    {
     "name": "stderr",
     "output_type": "stream",
     "text": [
      "     0.311  9.30e+03     1e+04        93: 100%|██████████| 79/79 [00:01<00:00, 73.96it/s]\n"
     ]
    },
    {
     "name": "stdout",
     "output_type": "stream",
     "text": [
      "\n",
      "module_idx:  0, percent:0.8\n",
      "\n",
      " test_loss   correct     total       Acc\n"
     ]
    },
    {
     "name": "stderr",
     "output_type": "stream",
     "text": [
      "     0.413  9.07e+03     1e+04      90.7: 100%|██████████| 79/79 [00:01<00:00, 76.58it/s]"
     ]
    },
    {
     "name": "stdout",
     "output_type": "stream",
     "text": [
      "\n",
      "module_idx:  0, percent:0.85\n",
      "\n",
      " test_loss   correct     total       Acc\n"
     ]
    },
    {
     "name": "stderr",
     "output_type": "stream",
     "text": [
      "\n",
      "     0.562   8.8e+03     1e+04        88: 100%|██████████| 79/79 [00:01<00:00, 76.72it/s]"
     ]
    },
    {
     "name": "stdout",
     "output_type": "stream",
     "text": [
      "\n",
      "module_idx:  0, percent:0.9\n",
      "\n",
      " test_loss   correct     total       Acc\n"
     ]
    },
    {
     "name": "stderr",
     "output_type": "stream",
     "text": [
      "\n",
      "     0.965  7.82e+03     1e+04      78.2: 100%|██████████| 79/79 [00:01<00:00, 75.12it/s]"
     ]
    },
    {
     "name": "stdout",
     "output_type": "stream",
     "text": [
      "\n",
      "module_idx:  0, percent:0.95\n",
      "\n",
      " test_loss   correct     total       Acc\n"
     ]
    },
    {
     "name": "stderr",
     "output_type": "stream",
     "text": [
      "\n",
      "      3.84  3.52e+03     1e+04      35.2: 100%|██████████| 79/79 [00:01<00:00, 72.09it/s]\n"
     ]
    },
    {
     "name": "stdout",
     "output_type": "stream",
     "text": [
      "\n",
      "module_idx:  1, percent:0.05\n",
      "\n",
      " test_loss   correct     total       Acc\n"
     ]
    },
    {
     "name": "stderr",
     "output_type": "stream",
     "text": [
      "     0.293  9.33e+03     1e+04      93.3: 100%|██████████| 79/79 [00:01<00:00, 77.58it/s]\n"
     ]
    },
    {
     "name": "stdout",
     "output_type": "stream",
     "text": [
      "\n",
      "module_idx:  1, percent:0.1\n",
      "\n",
      " test_loss   correct     total       Acc\n"
     ]
    },
    {
     "name": "stderr",
     "output_type": "stream",
     "text": [
      "     0.298  9.32e+03     1e+04      93.2: 100%|██████████| 79/79 [00:01<00:00, 75.57it/s]"
     ]
    },
    {
     "name": "stdout",
     "output_type": "stream",
     "text": [
      "\n",
      "module_idx:  1, percent:0.15\n",
      "\n",
      " test_loss   correct     total       Acc\n"
     ]
    },
    {
     "name": "stderr",
     "output_type": "stream",
     "text": [
      "\n",
      "     0.315  9.28e+03     1e+04      92.8: 100%|██████████| 79/79 [00:01<00:00, 75.21it/s]\n"
     ]
    },
    {
     "name": "stdout",
     "output_type": "stream",
     "text": [
      "\n",
      "module_idx:  1, percent:0.2\n",
      "\n",
      " test_loss   correct     total       Acc\n"
     ]
    },
    {
     "name": "stderr",
     "output_type": "stream",
     "text": [
      "     0.324  9.26e+03     1e+04      92.6: 100%|██████████| 79/79 [00:01<00:00, 73.87it/s]"
     ]
    },
    {
     "name": "stdout",
     "output_type": "stream",
     "text": [
      "\n",
      "module_idx:  1, percent:0.25\n",
      "\n",
      " test_loss   correct     total       Acc\n"
     ]
    },
    {
     "name": "stderr",
     "output_type": "stream",
     "text": [
      "\n",
      "     0.343   9.2e+03     1e+04        92: 100%|██████████| 79/79 [00:01<00:00, 77.44it/s]"
     ]
    },
    {
     "name": "stdout",
     "output_type": "stream",
     "text": [
      "\n",
      "module_idx:  1, percent:0.3\n",
      "\n",
      " test_loss   correct     total       Acc\n"
     ]
    },
    {
     "name": "stderr",
     "output_type": "stream",
     "text": [
      "\n",
      "     0.384   9.1e+03     1e+04        91: 100%|██████████| 79/79 [00:01<00:00, 77.61it/s]"
     ]
    },
    {
     "name": "stdout",
     "output_type": "stream",
     "text": [
      "\n",
      "module_idx:  1, percent:0.35\n",
      "\n",
      " test_loss   correct     total       Acc\n"
     ]
    },
    {
     "name": "stderr",
     "output_type": "stream",
     "text": [
      "\n",
      "      0.62   8.6e+03     1e+04        86: 100%|██████████| 79/79 [00:01<00:00, 74.72it/s]"
     ]
    },
    {
     "name": "stdout",
     "output_type": "stream",
     "text": [
      "\n",
      "module_idx:  1, percent:0.4\n",
      "\n",
      " test_loss   correct     total       Acc\n"
     ]
    },
    {
     "name": "stderr",
     "output_type": "stream",
     "text": [
      "\n",
      "     0.603  8.57e+03     1e+04      85.7: 100%|██████████| 79/79 [00:01<00:00, 76.61it/s]\n"
     ]
    },
    {
     "name": "stdout",
     "output_type": "stream",
     "text": [
      "\n",
      "module_idx:  1, percent:0.45\n",
      "\n",
      " test_loss   correct     total       Acc\n"
     ]
    },
    {
     "name": "stderr",
     "output_type": "stream",
     "text": [
      "     0.833  8.03e+03     1e+04      80.3: 100%|██████████| 79/79 [00:01<00:00, 75.16it/s]"
     ]
    },
    {
     "name": "stdout",
     "output_type": "stream",
     "text": [
      "\n",
      "module_idx:  1, percent:0.5\n",
      "\n",
      " test_loss   correct     total       Acc\n"
     ]
    },
    {
     "name": "stderr",
     "output_type": "stream",
     "text": [
      "\n",
      "      1.54  6.44e+03     1e+04      64.4: 100%|██████████| 79/79 [00:01<00:00, 76.12it/s]"
     ]
    },
    {
     "name": "stdout",
     "output_type": "stream",
     "text": [
      "\n",
      "module_idx:  1, percent:0.55\n",
      "\n",
      " test_loss   correct     total       Acc\n"
     ]
    },
    {
     "name": "stderr",
     "output_type": "stream",
     "text": [
      "\n",
      "      2.64  3.96e+03     1e+04      39.6: 100%|██████████| 79/79 [00:01<00:00, 73.54it/s]"
     ]
    },
    {
     "name": "stdout",
     "output_type": "stream",
     "text": [
      "\n",
      "module_idx:  1, percent:0.6\n",
      "\n",
      " test_loss   correct     total       Acc\n"
     ]
    },
    {
     "name": "stderr",
     "output_type": "stream",
     "text": [
      "\n",
      "      3.77  2.38e+03     1e+04      23.8: 100%|██████████| 79/79 [00:01<00:00, 74.81it/s]"
     ]
    },
    {
     "name": "stdout",
     "output_type": "stream",
     "text": [
      "\n",
      "module_idx:  1, percent:0.65\n",
      "\n",
      " test_loss   correct     total       Acc\n"
     ]
    },
    {
     "name": "stderr",
     "output_type": "stream",
     "text": [
      "\n",
      "      4.56  1.54e+03     1e+04      15.4: 100%|██████████| 79/79 [00:01<00:00, 75.74it/s]\n"
     ]
    },
    {
     "name": "stdout",
     "output_type": "stream",
     "text": [
      "\n",
      "module_idx:  1, percent:0.7\n",
      "\n",
      " test_loss   correct     total       Acc\n"
     ]
    },
    {
     "name": "stderr",
     "output_type": "stream",
     "text": [
      "      4.74  1.47e+03     1e+04      14.7: 100%|██████████| 79/79 [00:01<00:00, 75.32it/s]\n"
     ]
    },
    {
     "name": "stdout",
     "output_type": "stream",
     "text": [
      "\n",
      "module_idx:  1, percent:0.75\n",
      "\n",
      " test_loss   correct     total       Acc\n"
     ]
    },
    {
     "name": "stderr",
     "output_type": "stream",
     "text": [
      "      4.93  1.29e+03     1e+04      12.9: 100%|██████████| 79/79 [00:01<00:00, 74.69it/s]\n"
     ]
    },
    {
     "name": "stdout",
     "output_type": "stream",
     "text": [
      "\n",
      "module_idx:  1, percent:0.8\n",
      "\n",
      " test_loss   correct     total       Acc\n"
     ]
    },
    {
     "name": "stderr",
     "output_type": "stream",
     "text": [
      "      4.79  1.22e+03     1e+04      12.2: 100%|██████████| 79/79 [00:01<00:00, 74.80it/s]\n"
     ]
    },
    {
     "name": "stdout",
     "output_type": "stream",
     "text": [
      "\n",
      "module_idx:  1, percent:0.85\n",
      "\n",
      " test_loss   correct     total       Acc\n"
     ]
    },
    {
     "name": "stderr",
     "output_type": "stream",
     "text": [
      "      4.62  1.22e+03     1e+04      12.2: 100%|██████████| 79/79 [00:01<00:00, 74.82it/s]"
     ]
    },
    {
     "name": "stdout",
     "output_type": "stream",
     "text": [
      "\n",
      "module_idx:  1, percent:0.9\n",
      "\n",
      " test_loss   correct     total       Acc\n"
     ]
    },
    {
     "name": "stderr",
     "output_type": "stream",
     "text": [
      "\n",
      "       4.1  1.22e+03     1e+04      12.2: 100%|██████████| 79/79 [00:01<00:00, 75.25it/s]\n"
     ]
    },
    {
     "name": "stdout",
     "output_type": "stream",
     "text": [
      "\n",
      "module_idx:  1, percent:0.95\n",
      "\n",
      " test_loss   correct     total       Acc\n"
     ]
    },
    {
     "name": "stderr",
     "output_type": "stream",
     "text": [
      "       3.6  1.26e+03     1e+04      12.6: 100%|██████████| 79/79 [00:01<00:00, 74.29it/s]\n"
     ]
    },
    {
     "name": "stdout",
     "output_type": "stream",
     "text": [
      "\n",
      "module_idx:  2, percent:0.05\n",
      "\n",
      " test_loss   correct     total       Acc\n"
     ]
    },
    {
     "name": "stderr",
     "output_type": "stream",
     "text": [
      "     0.293  9.33e+03     1e+04      93.3: 100%|██████████| 79/79 [00:01<00:00, 74.14it/s]\n"
     ]
    },
    {
     "name": "stdout",
     "output_type": "stream",
     "text": [
      "\n",
      "module_idx:  2, percent:0.1\n",
      "\n",
      " test_loss   correct     total       Acc\n"
     ]
    },
    {
     "name": "stderr",
     "output_type": "stream",
     "text": [
      "     0.293  9.33e+03     1e+04      93.3: 100%|██████████| 79/79 [00:01<00:00, 74.64it/s]\n"
     ]
    },
    {
     "name": "stdout",
     "output_type": "stream",
     "text": [
      "\n",
      "module_idx:  2, percent:0.15\n",
      "\n",
      " test_loss   correct     total       Acc\n"
     ]
    },
    {
     "name": "stderr",
     "output_type": "stream",
     "text": [
      "     0.293  9.33e+03     1e+04      93.3: 100%|██████████| 79/79 [00:01<00:00, 74.73it/s]"
     ]
    },
    {
     "name": "stdout",
     "output_type": "stream",
     "text": [
      "\n",
      "module_idx:  2, percent:0.2\n",
      "\n",
      " test_loss   correct     total       Acc\n"
     ]
    },
    {
     "name": "stderr",
     "output_type": "stream",
     "text": [
      "\n",
      "     0.304  9.31e+03     1e+04      93.1: 100%|██████████| 79/79 [00:01<00:00, 75.79it/s]\n"
     ]
    },
    {
     "name": "stdout",
     "output_type": "stream",
     "text": [
      "\n",
      "module_idx:  2, percent:0.25\n",
      "\n",
      " test_loss   correct     total       Acc\n"
     ]
    },
    {
     "name": "stderr",
     "output_type": "stream",
     "text": [
      "     0.316  9.28e+03     1e+04      92.8: 100%|██████████| 79/79 [00:01<00:00, 75.41it/s]"
     ]
    },
    {
     "name": "stdout",
     "output_type": "stream",
     "text": [
      "\n",
      "module_idx:  2, percent:0.3\n",
      "\n",
      " test_loss   correct     total       Acc\n"
     ]
    },
    {
     "name": "stderr",
     "output_type": "stream",
     "text": [
      "\n",
      "     0.355  9.16e+03     1e+04      91.6: 100%|██████████| 79/79 [00:01<00:00, 75.70it/s]"
     ]
    },
    {
     "name": "stdout",
     "output_type": "stream",
     "text": [
      "\n",
      "module_idx:  2, percent:0.35\n",
      "\n",
      " test_loss   correct     total       Acc\n"
     ]
    },
    {
     "name": "stderr",
     "output_type": "stream",
     "text": [
      "\n",
      "     0.389  9.09e+03     1e+04      90.9: 100%|██████████| 79/79 [00:01<00:00, 74.80it/s]"
     ]
    },
    {
     "name": "stdout",
     "output_type": "stream",
     "text": [
      "\n",
      "module_idx:  2, percent:0.4\n",
      "\n",
      " test_loss   correct     total       Acc\n"
     ]
    },
    {
     "name": "stderr",
     "output_type": "stream",
     "text": [
      "\n",
      "      0.42  9.02e+03     1e+04      90.2: 100%|██████████| 79/79 [00:01<00:00, 75.29it/s]"
     ]
    },
    {
     "name": "stdout",
     "output_type": "stream",
     "text": [
      "\n",
      "module_idx:  2, percent:0.45\n",
      "\n",
      " test_loss   correct     total       Acc\n"
     ]
    },
    {
     "name": "stderr",
     "output_type": "stream",
     "text": [
      "\n",
      "     0.515  8.83e+03     1e+04      88.3: 100%|██████████| 79/79 [00:01<00:00, 73.03it/s]\n"
     ]
    },
    {
     "name": "stdout",
     "output_type": "stream",
     "text": [
      "\n",
      "module_idx:  2, percent:0.5\n",
      "\n",
      " test_loss   correct     total       Acc\n"
     ]
    },
    {
     "name": "stderr",
     "output_type": "stream",
     "text": [
      "     0.679  8.48e+03     1e+04      84.8: 100%|██████████| 79/79 [00:01<00:00, 73.72it/s]"
     ]
    },
    {
     "name": "stdout",
     "output_type": "stream",
     "text": [
      "\n",
      "module_idx:  2, percent:0.55\n",
      "\n",
      " test_loss   correct     total       Acc\n"
     ]
    },
    {
     "name": "stderr",
     "output_type": "stream",
     "text": [
      "\n",
      "     0.805   8.2e+03     1e+04        82: 100%|██████████| 79/79 [00:01<00:00, 71.93it/s]"
     ]
    },
    {
     "name": "stdout",
     "output_type": "stream",
     "text": [
      "\n",
      "module_idx:  2, percent:0.6\n",
      "\n",
      " test_loss   correct     total       Acc\n"
     ]
    },
    {
     "name": "stderr",
     "output_type": "stream",
     "text": [
      "\n",
      "      1.09  7.61e+03     1e+04      76.1: 100%|██████████| 79/79 [00:01<00:00, 74.64it/s]\n"
     ]
    },
    {
     "name": "stdout",
     "output_type": "stream",
     "text": [
      "\n",
      "module_idx:  2, percent:0.65\n",
      "\n",
      " test_loss   correct     total       Acc\n"
     ]
    },
    {
     "name": "stderr",
     "output_type": "stream",
     "text": [
      "      1.57  6.66e+03     1e+04      66.6: 100%|██████████| 79/79 [00:01<00:00, 73.92it/s]\n"
     ]
    },
    {
     "name": "stdout",
     "output_type": "stream",
     "text": [
      "\n",
      "module_idx:  2, percent:0.7\n",
      "\n",
      " test_loss   correct     total       Acc\n"
     ]
    },
    {
     "name": "stderr",
     "output_type": "stream",
     "text": [
      "      1.99  5.69e+03     1e+04      56.9: 100%|██████████| 79/79 [00:01<00:00, 73.40it/s]\n"
     ]
    },
    {
     "name": "stdout",
     "output_type": "stream",
     "text": [
      "\n",
      "module_idx:  2, percent:0.75\n",
      "\n",
      " test_loss   correct     total       Acc\n"
     ]
    },
    {
     "name": "stderr",
     "output_type": "stream",
     "text": [
      "      2.95  4.07e+03     1e+04      40.7: 100%|██████████| 79/79 [00:01<00:00, 72.80it/s]"
     ]
    },
    {
     "name": "stdout",
     "output_type": "stream",
     "text": [
      "\n",
      "module_idx:  2, percent:0.8\n",
      "\n",
      " test_loss   correct     total       Acc\n"
     ]
    },
    {
     "name": "stderr",
     "output_type": "stream",
     "text": [
      "\n",
      "      2.97  3.41e+03     1e+04      34.1: 100%|██████████| 79/79 [00:01<00:00, 74.12it/s]"
     ]
    },
    {
     "name": "stdout",
     "output_type": "stream",
     "text": [
      "\n",
      "module_idx:  2, percent:0.85\n",
      "\n",
      " test_loss   correct     total       Acc\n"
     ]
    },
    {
     "name": "stderr",
     "output_type": "stream",
     "text": [
      "\n",
      "      3.11   2.2e+03     1e+04        22: 100%|██████████| 79/79 [00:01<00:00, 75.23it/s]"
     ]
    },
    {
     "name": "stdout",
     "output_type": "stream",
     "text": [
      "\n",
      "module_idx:  2, percent:0.9\n",
      "\n",
      " test_loss   correct     total       Acc\n"
     ]
    },
    {
     "name": "stderr",
     "output_type": "stream",
     "text": [
      "\n",
      "      3.18  1.12e+03     1e+04      11.2: 100%|██████████| 79/79 [00:01<00:00, 74.22it/s]\n"
     ]
    },
    {
     "name": "stdout",
     "output_type": "stream",
     "text": [
      "\n",
      "module_idx:  2, percent:0.95\n",
      "\n",
      " test_loss   correct     total       Acc\n"
     ]
    },
    {
     "name": "stderr",
     "output_type": "stream",
     "text": [
      "      3.22       843     1e+04      8.43: 100%|██████████| 79/79 [00:01<00:00, 75.09it/s]"
     ]
    },
    {
     "name": "stdout",
     "output_type": "stream",
     "text": [
      "\n",
      "module_idx:  3, percent:0.05\n",
      "\n",
      " test_loss   correct     total       Acc\n"
     ]
    },
    {
     "name": "stderr",
     "output_type": "stream",
     "text": [
      "\n",
      "     0.299  9.32e+03     1e+04      93.2: 100%|██████████| 79/79 [00:01<00:00, 73.12it/s]\n"
     ]
    },
    {
     "name": "stdout",
     "output_type": "stream",
     "text": [
      "\n",
      "module_idx:  3, percent:0.1\n",
      "\n",
      " test_loss   correct     total       Acc\n"
     ]
    },
    {
     "name": "stderr",
     "output_type": "stream",
     "text": [
      "     0.331  9.24e+03     1e+04      92.4: 100%|██████████| 79/79 [00:01<00:00, 75.86it/s]\n"
     ]
    },
    {
     "name": "stdout",
     "output_type": "stream",
     "text": [
      "\n",
      "module_idx:  3, percent:0.15\n",
      "\n",
      " test_loss   correct     total       Acc\n"
     ]
    },
    {
     "name": "stderr",
     "output_type": "stream",
     "text": [
      "     0.349  9.19e+03     1e+04      91.9: 100%|██████████| 79/79 [00:01<00:00, 65.03it/s]"
     ]
    },
    {
     "name": "stdout",
     "output_type": "stream",
     "text": [
      "\n",
      "module_idx:  3, percent:0.2\n",
      "\n",
      " test_loss   correct     total       Acc\n"
     ]
    },
    {
     "name": "stderr",
     "output_type": "stream",
     "text": [
      "\n",
      "     0.354  9.17e+03     1e+04      91.7: 100%|██████████| 79/79 [00:01<00:00, 75.32it/s]"
     ]
    },
    {
     "name": "stdout",
     "output_type": "stream",
     "text": [
      "\n",
      "module_idx:  3, percent:0.25\n",
      "\n",
      " test_loss   correct     total       Acc\n"
     ]
    },
    {
     "name": "stderr",
     "output_type": "stream",
     "text": [
      "\n",
      "     0.429  8.98e+03     1e+04      89.8: 100%|██████████| 79/79 [00:01<00:00, 74.96it/s]\n"
     ]
    },
    {
     "name": "stdout",
     "output_type": "stream",
     "text": [
      "\n",
      "module_idx:  3, percent:0.3\n",
      "\n",
      " test_loss   correct     total       Acc\n"
     ]
    },
    {
     "name": "stderr",
     "output_type": "stream",
     "text": [
      "     0.521  8.76e+03     1e+04      87.6: 100%|██████████| 79/79 [00:01<00:00, 72.90it/s]"
     ]
    },
    {
     "name": "stdout",
     "output_type": "stream",
     "text": [
      "\n",
      "module_idx:  3, percent:0.35\n",
      "\n",
      " test_loss   correct     total       Acc\n"
     ]
    },
    {
     "name": "stderr",
     "output_type": "stream",
     "text": [
      "\n",
      "     0.703  8.38e+03     1e+04      83.8: 100%|██████████| 79/79 [00:01<00:00, 73.24it/s]"
     ]
    },
    {
     "name": "stdout",
     "output_type": "stream",
     "text": [
      "\n",
      "module_idx:  3, percent:0.4\n",
      "\n",
      " test_loss   correct     total       Acc\n"
     ]
    },
    {
     "name": "stderr",
     "output_type": "stream",
     "text": [
      "\n",
      "      1.08  7.55e+03     1e+04      75.5: 100%|██████████| 79/79 [00:01<00:00, 72.14it/s]"
     ]
    },
    {
     "name": "stdout",
     "output_type": "stream",
     "text": [
      "\n",
      "module_idx:  3, percent:0.45\n",
      "\n",
      " test_loss   correct     total       Acc\n"
     ]
    },
    {
     "name": "stderr",
     "output_type": "stream",
     "text": [
      "\n",
      "      1.38  6.98e+03     1e+04      69.8: 100%|██████████| 79/79 [00:01<00:00, 73.34it/s]"
     ]
    },
    {
     "name": "stdout",
     "output_type": "stream",
     "text": [
      "\n",
      "module_idx:  3, percent:0.5\n",
      "\n",
      " test_loss   correct     total       Acc\n"
     ]
    },
    {
     "name": "stderr",
     "output_type": "stream",
     "text": [
      "\n",
      "      1.74   6.3e+03     1e+04        63: 100%|██████████| 79/79 [00:01<00:00, 75.28it/s]"
     ]
    },
    {
     "name": "stdout",
     "output_type": "stream",
     "text": [
      "\n",
      "module_idx:  3, percent:0.55\n",
      "\n",
      " test_loss   correct     total       Acc\n"
     ]
    },
    {
     "name": "stderr",
     "output_type": "stream",
     "text": [
      "\n",
      "      2.02  5.72e+03     1e+04      57.2: 100%|██████████| 79/79 [00:01<00:00, 74.02it/s]"
     ]
    },
    {
     "name": "stdout",
     "output_type": "stream",
     "text": [
      "\n",
      "module_idx:  3, percent:0.6\n",
      "\n",
      " test_loss   correct     total       Acc\n"
     ]
    },
    {
     "name": "stderr",
     "output_type": "stream",
     "text": [
      "\n",
      "      2.26   5.1e+03     1e+04        51: 100%|██████████| 79/79 [00:01<00:00, 75.02it/s]"
     ]
    },
    {
     "name": "stdout",
     "output_type": "stream",
     "text": [
      "\n",
      "module_idx:  3, percent:0.65\n",
      "\n",
      " test_loss   correct     total       Acc\n"
     ]
    },
    {
     "name": "stderr",
     "output_type": "stream",
     "text": [
      "\n",
      "      2.66  4.09e+03     1e+04      40.9: 100%|██████████| 79/79 [00:01<00:00, 75.58it/s]"
     ]
    },
    {
     "name": "stdout",
     "output_type": "stream",
     "text": [
      "\n",
      "module_idx:  3, percent:0.7\n",
      "\n",
      " test_loss   correct     total       Acc\n"
     ]
    },
    {
     "name": "stderr",
     "output_type": "stream",
     "text": [
      "\n",
      "      2.78  3.33e+03     1e+04      33.3: 100%|██████████| 79/79 [00:01<00:00, 74.20it/s]"
     ]
    },
    {
     "name": "stdout",
     "output_type": "stream",
     "text": [
      "\n",
      "module_idx:  3, percent:0.75\n",
      "\n",
      " test_loss   correct     total       Acc\n"
     ]
    },
    {
     "name": "stderr",
     "output_type": "stream",
     "text": [
      "\n",
      "      3.94  1.73e+03     1e+04      17.3: 100%|██████████| 79/79 [00:01<00:00, 78.23it/s]"
     ]
    },
    {
     "name": "stdout",
     "output_type": "stream",
     "text": [
      "\n",
      "module_idx:  3, percent:0.8\n",
      "\n",
      " test_loss   correct     total       Acc\n"
     ]
    },
    {
     "name": "stderr",
     "output_type": "stream",
     "text": [
      "\n",
      "      3.59  1.53e+03     1e+04      15.3: 100%|██████████| 79/79 [00:01<00:00, 77.87it/s]"
     ]
    },
    {
     "name": "stdout",
     "output_type": "stream",
     "text": [
      "\n",
      "module_idx:  3, percent:0.85\n",
      "\n",
      " test_loss   correct     total       Acc\n"
     ]
    },
    {
     "name": "stderr",
     "output_type": "stream",
     "text": [
      "\n",
      "      3.52  1.24e+03     1e+04      12.4: 100%|██████████| 79/79 [00:01<00:00, 75.14it/s]"
     ]
    },
    {
     "name": "stdout",
     "output_type": "stream",
     "text": [
      "\n",
      "module_idx:  3, percent:0.9\n",
      "\n",
      " test_loss   correct     total       Acc\n"
     ]
    },
    {
     "name": "stderr",
     "output_type": "stream",
     "text": [
      "\n",
      "      3.26  1.06e+03     1e+04      10.6: 100%|██████████| 79/79 [00:01<00:00, 76.27it/s]"
     ]
    },
    {
     "name": "stdout",
     "output_type": "stream",
     "text": [
      "\n",
      "module_idx:  3, percent:0.95\n",
      "\n",
      " test_loss   correct     total       Acc\n"
     ]
    },
    {
     "name": "stderr",
     "output_type": "stream",
     "text": [
      "\n",
      "      3.23  1.01e+03     1e+04      10.1: 100%|██████████| 79/79 [00:01<00:00, 75.45it/s]"
     ]
    },
    {
     "name": "stdout",
     "output_type": "stream",
     "text": [
      "\n",
      "module_idx:  4, percent:0.05\n",
      "\n",
      " test_loss   correct     total       Acc\n"
     ]
    },
    {
     "name": "stderr",
     "output_type": "stream",
     "text": [
      "\n",
      "     0.296  9.32e+03     1e+04      93.2: 100%|██████████| 79/79 [00:01<00:00, 73.85it/s]"
     ]
    },
    {
     "name": "stdout",
     "output_type": "stream",
     "text": [
      "\n",
      "module_idx:  4, percent:0.1\n",
      "\n",
      " test_loss   correct     total       Acc\n"
     ]
    },
    {
     "name": "stderr",
     "output_type": "stream",
     "text": [
      "\n",
      "     0.308   9.3e+03     1e+04        93: 100%|██████████| 79/79 [00:01<00:00, 71.67it/s]\n"
     ]
    },
    {
     "name": "stdout",
     "output_type": "stream",
     "text": [
      "\n",
      "module_idx:  4, percent:0.15\n",
      "\n",
      " test_loss   correct     total       Acc\n"
     ]
    },
    {
     "name": "stderr",
     "output_type": "stream",
     "text": [
      "     0.327  9.25e+03     1e+04      92.5: 100%|██████████| 79/79 [00:01<00:00, 72.58it/s]"
     ]
    },
    {
     "name": "stdout",
     "output_type": "stream",
     "text": [
      "\n",
      "module_idx:  4, percent:0.2\n",
      "\n",
      " test_loss   correct     total       Acc\n"
     ]
    },
    {
     "name": "stderr",
     "output_type": "stream",
     "text": [
      "\n",
      "     0.354  9.18e+03     1e+04      91.8: 100%|██████████| 79/79 [00:01<00:00, 77.00it/s]"
     ]
    },
    {
     "name": "stdout",
     "output_type": "stream",
     "text": [
      "\n",
      "module_idx:  4, percent:0.25\n",
      "\n",
      " test_loss   correct     total       Acc\n"
     ]
    },
    {
     "name": "stderr",
     "output_type": "stream",
     "text": [
      "\n",
      "     0.388   9.1e+03     1e+04        91: 100%|██████████| 79/79 [00:01<00:00, 74.94it/s]"
     ]
    },
    {
     "name": "stdout",
     "output_type": "stream",
     "text": [
      "\n",
      "module_idx:  4, percent:0.3\n",
      "\n",
      " test_loss   correct     total       Acc\n"
     ]
    },
    {
     "name": "stderr",
     "output_type": "stream",
     "text": [
      "\n",
      "      0.42  9.02e+03     1e+04      90.2: 100%|██████████| 79/79 [00:01<00:00, 73.38it/s]"
     ]
    },
    {
     "name": "stdout",
     "output_type": "stream",
     "text": [
      "\n",
      "module_idx:  4, percent:0.35\n",
      "\n",
      " test_loss   correct     total       Acc\n"
     ]
    },
    {
     "name": "stderr",
     "output_type": "stream",
     "text": [
      "\n",
      "     0.509  8.82e+03     1e+04      88.2: 100%|██████████| 79/79 [00:01<00:00, 74.54it/s]"
     ]
    },
    {
     "name": "stdout",
     "output_type": "stream",
     "text": [
      "\n",
      "module_idx:  4, percent:0.4\n",
      "\n",
      " test_loss   correct     total       Acc\n"
     ]
    },
    {
     "name": "stderr",
     "output_type": "stream",
     "text": [
      "\n",
      "     0.743  8.32e+03     1e+04      83.2: 100%|██████████| 79/79 [00:01<00:00, 73.69it/s]"
     ]
    },
    {
     "name": "stdout",
     "output_type": "stream",
     "text": [
      "\n",
      "module_idx:  4, percent:0.45\n",
      "\n",
      " test_loss   correct     total       Acc\n"
     ]
    },
    {
     "name": "stderr",
     "output_type": "stream",
     "text": [
      "\n",
      "     0.783  8.14e+03     1e+04      81.4: 100%|██████████| 79/79 [00:01<00:00, 73.67it/s]"
     ]
    },
    {
     "name": "stdout",
     "output_type": "stream",
     "text": [
      "\n",
      "module_idx:  4, percent:0.5\n",
      "\n",
      " test_loss   correct     total       Acc\n"
     ]
    },
    {
     "name": "stderr",
     "output_type": "stream",
     "text": [
      "\n",
      "     0.853  7.99e+03     1e+04      79.9: 100%|██████████| 79/79 [00:01<00:00, 72.88it/s]"
     ]
    },
    {
     "name": "stdout",
     "output_type": "stream",
     "text": [
      "\n",
      "module_idx:  4, percent:0.55\n",
      "\n",
      " test_loss   correct     total       Acc\n"
     ]
    },
    {
     "name": "stderr",
     "output_type": "stream",
     "text": [
      "\n",
      "     0.855  7.91e+03     1e+04      79.1: 100%|██████████| 79/79 [00:01<00:00, 75.70it/s]"
     ]
    },
    {
     "name": "stdout",
     "output_type": "stream",
     "text": [
      "\n",
      "module_idx:  4, percent:0.6\n",
      "\n",
      " test_loss   correct     total       Acc\n"
     ]
    },
    {
     "name": "stderr",
     "output_type": "stream",
     "text": [
      "\n",
      "     0.988  7.54e+03     1e+04      75.4: 100%|██████████| 79/79 [00:01<00:00, 75.18it/s]"
     ]
    },
    {
     "name": "stdout",
     "output_type": "stream",
     "text": [
      "\n",
      "module_idx:  4, percent:0.65\n",
      "\n",
      " test_loss   correct     total       Acc\n"
     ]
    },
    {
     "name": "stderr",
     "output_type": "stream",
     "text": [
      "\n",
      "      1.48  6.48e+03     1e+04      64.8: 100%|██████████| 79/79 [00:01<00:00, 74.29it/s]"
     ]
    },
    {
     "name": "stdout",
     "output_type": "stream",
     "text": [
      "\n",
      "module_idx:  4, percent:0.7\n",
      "\n",
      " test_loss   correct     total       Acc\n"
     ]
    },
    {
     "name": "stderr",
     "output_type": "stream",
     "text": [
      "\n",
      "      1.58  6.09e+03     1e+04      60.9: 100%|██████████| 79/79 [00:01<00:00, 74.48it/s]"
     ]
    },
    {
     "name": "stdout",
     "output_type": "stream",
     "text": [
      "\n",
      "module_idx:  4, percent:0.75\n",
      "\n",
      " test_loss   correct     total       Acc\n"
     ]
    },
    {
     "name": "stderr",
     "output_type": "stream",
     "text": [
      "\n",
      "      1.81  5.57e+03     1e+04      55.7: 100%|██████████| 79/79 [00:01<00:00, 75.16it/s]"
     ]
    },
    {
     "name": "stdout",
     "output_type": "stream",
     "text": [
      "\n",
      "module_idx:  4, percent:0.8\n",
      "\n",
      " test_loss   correct     total       Acc\n"
     ]
    },
    {
     "name": "stderr",
     "output_type": "stream",
     "text": [
      "\n",
      "      1.93  5.03e+03     1e+04      50.3: 100%|██████████| 79/79 [00:01<00:00, 73.48it/s]\n"
     ]
    },
    {
     "name": "stdout",
     "output_type": "stream",
     "text": [
      "\n",
      "module_idx:  4, percent:0.85\n",
      "\n",
      " test_loss   correct     total       Acc\n"
     ]
    },
    {
     "name": "stderr",
     "output_type": "stream",
     "text": [
      "      2.57  3.56e+03     1e+04      35.5: 100%|██████████| 79/79 [00:01<00:00, 76.32it/s]"
     ]
    },
    {
     "name": "stdout",
     "output_type": "stream",
     "text": [
      "\n",
      "module_idx:  4, percent:0.9\n",
      "\n",
      " test_loss   correct     total       Acc\n"
     ]
    },
    {
     "name": "stderr",
     "output_type": "stream",
     "text": [
      "\n",
      "      3.01  2.62e+03     1e+04      26.2: 100%|██████████| 79/79 [00:01<00:00, 74.19it/s]"
     ]
    },
    {
     "name": "stdout",
     "output_type": "stream",
     "text": [
      "\n",
      "module_idx:  4, percent:0.95\n",
      "\n",
      " test_loss   correct     total       Acc\n"
     ]
    },
    {
     "name": "stderr",
     "output_type": "stream",
     "text": [
      "\n",
      "      3.34  1.77e+03     1e+04      17.7: 100%|██████████| 79/79 [00:01<00:00, 75.15it/s]"
     ]
    },
    {
     "name": "stdout",
     "output_type": "stream",
     "text": [
      "\n",
      "module_idx:  5, percent:0.05\n",
      "\n",
      " test_loss   correct     total       Acc\n"
     ]
    },
    {
     "name": "stderr",
     "output_type": "stream",
     "text": [
      "\n",
      "     0.293  9.33e+03     1e+04      93.3: 100%|██████████| 79/79 [00:01<00:00, 73.77it/s]"
     ]
    },
    {
     "name": "stdout",
     "output_type": "stream",
     "text": [
      "\n",
      "module_idx:  5, percent:0.1\n",
      "\n",
      " test_loss   correct     total       Acc\n"
     ]
    },
    {
     "name": "stderr",
     "output_type": "stream",
     "text": [
      "\n",
      "     0.293  9.33e+03     1e+04      93.3: 100%|██████████| 79/79 [00:01<00:00, 73.85it/s]"
     ]
    },
    {
     "name": "stdout",
     "output_type": "stream",
     "text": [
      "\n",
      "module_idx:  5, percent:0.15\n",
      "\n",
      " test_loss   correct     total       Acc\n"
     ]
    },
    {
     "name": "stderr",
     "output_type": "stream",
     "text": [
      "\n",
      "     0.293  9.33e+03     1e+04      93.3: 100%|██████████| 79/79 [00:01<00:00, 72.40it/s]"
     ]
    },
    {
     "name": "stdout",
     "output_type": "stream",
     "text": [
      "\n",
      "module_idx:  5, percent:0.2\n",
      "\n",
      " test_loss   correct     total       Acc\n"
     ]
    },
    {
     "name": "stderr",
     "output_type": "stream",
     "text": [
      "\n",
      "     0.293  9.34e+03     1e+04      93.3: 100%|██████████| 79/79 [00:01<00:00, 74.53it/s]"
     ]
    },
    {
     "name": "stdout",
     "output_type": "stream",
     "text": [
      "\n",
      "module_idx:  5, percent:0.25\n",
      "\n",
      " test_loss   correct     total       Acc\n"
     ]
    },
    {
     "name": "stderr",
     "output_type": "stream",
     "text": [
      "\n",
      "       0.3  9.31e+03     1e+04      93.1: 100%|██████████| 79/79 [00:01<00:00, 76.93it/s]"
     ]
    },
    {
     "name": "stdout",
     "output_type": "stream",
     "text": [
      "\n",
      "module_idx:  5, percent:0.3\n",
      "\n",
      " test_loss   correct     total       Acc\n"
     ]
    },
    {
     "name": "stderr",
     "output_type": "stream",
     "text": [
      "\n",
      "     0.308  9.28e+03     1e+04      92.8: 100%|██████████| 79/79 [00:01<00:00, 76.19it/s]"
     ]
    },
    {
     "name": "stdout",
     "output_type": "stream",
     "text": [
      "\n",
      "module_idx:  5, percent:0.35\n",
      "\n",
      " test_loss   correct     total       Acc\n"
     ]
    },
    {
     "name": "stderr",
     "output_type": "stream",
     "text": [
      "\n",
      "     0.336  9.22e+03     1e+04      92.2: 100%|██████████| 79/79 [00:01<00:00, 77.49it/s]\n"
     ]
    },
    {
     "name": "stdout",
     "output_type": "stream",
     "text": [
      "\n",
      "module_idx:  5, percent:0.4\n",
      "\n",
      " test_loss   correct     total       Acc\n"
     ]
    },
    {
     "name": "stderr",
     "output_type": "stream",
     "text": [
      "     0.366  9.17e+03     1e+04      91.7: 100%|██████████| 79/79 [00:01<00:00, 75.29it/s]"
     ]
    },
    {
     "name": "stdout",
     "output_type": "stream",
     "text": [
      "\n",
      "module_idx:  5, percent:0.45\n",
      "\n",
      " test_loss   correct     total       Acc\n"
     ]
    },
    {
     "name": "stderr",
     "output_type": "stream",
     "text": [
      "\n",
      "     0.408  9.06e+03     1e+04      90.5: 100%|██████████| 79/79 [00:01<00:00, 76.17it/s]"
     ]
    },
    {
     "name": "stdout",
     "output_type": "stream",
     "text": [
      "\n",
      "module_idx:  5, percent:0.5\n",
      "\n",
      " test_loss   correct     total       Acc\n"
     ]
    },
    {
     "name": "stderr",
     "output_type": "stream",
     "text": [
      "\n",
      "     0.453  8.93e+03     1e+04      89.3: 100%|██████████| 79/79 [00:01<00:00, 75.20it/s]"
     ]
    },
    {
     "name": "stdout",
     "output_type": "stream",
     "text": [
      "\n",
      "module_idx:  5, percent:0.55\n",
      "\n",
      " test_loss   correct     total       Acc\n"
     ]
    },
    {
     "name": "stderr",
     "output_type": "stream",
     "text": [
      "\n",
      "     0.524  8.73e+03     1e+04      87.3: 100%|██████████| 79/79 [00:01<00:00, 75.56it/s]"
     ]
    },
    {
     "name": "stdout",
     "output_type": "stream",
     "text": [
      "\n",
      "module_idx:  5, percent:0.6\n",
      "\n",
      " test_loss   correct     total       Acc\n"
     ]
    },
    {
     "name": "stderr",
     "output_type": "stream",
     "text": [
      "\n",
      "     0.528  8.69e+03     1e+04      86.9: 100%|██████████| 79/79 [00:01<00:00, 72.99it/s]"
     ]
    },
    {
     "name": "stdout",
     "output_type": "stream",
     "text": [
      "\n",
      "module_idx:  5, percent:0.65\n",
      "\n",
      " test_loss   correct     total       Acc\n"
     ]
    },
    {
     "name": "stderr",
     "output_type": "stream",
     "text": [
      "\n",
      "     0.599   8.5e+03     1e+04        85: 100%|██████████| 79/79 [00:01<00:00, 76.36it/s]\n"
     ]
    },
    {
     "name": "stdout",
     "output_type": "stream",
     "text": [
      "\n",
      "module_idx:  5, percent:0.7\n",
      "\n",
      " test_loss   correct     total       Acc\n"
     ]
    },
    {
     "name": "stderr",
     "output_type": "stream",
     "text": [
      "     0.611  8.39e+03     1e+04      83.9: 100%|██████████| 79/79 [00:01<00:00, 76.08it/s]\n"
     ]
    },
    {
     "name": "stdout",
     "output_type": "stream",
     "text": [
      "\n",
      "module_idx:  5, percent:0.75\n",
      "\n",
      " test_loss   correct     total       Acc\n"
     ]
    },
    {
     "name": "stderr",
     "output_type": "stream",
     "text": [
      "     0.904  7.63e+03     1e+04      76.3: 100%|██████████| 79/79 [00:01<00:00, 74.00it/s]"
     ]
    },
    {
     "name": "stdout",
     "output_type": "stream",
     "text": [
      "\n",
      "module_idx:  5, percent:0.8\n",
      "\n",
      " test_loss   correct     total       Acc\n"
     ]
    },
    {
     "name": "stderr",
     "output_type": "stream",
     "text": [
      "\n",
      "      1.26  6.67e+03     1e+04      66.7: 100%|██████████| 79/79 [00:01<00:00, 74.98it/s]"
     ]
    },
    {
     "name": "stdout",
     "output_type": "stream",
     "text": [
      "\n",
      "module_idx:  5, percent:0.85\n",
      "\n",
      " test_loss   correct     total       Acc\n"
     ]
    },
    {
     "name": "stderr",
     "output_type": "stream",
     "text": [
      "\n",
      "      1.85  5.22e+03     1e+04      52.2: 100%|██████████| 79/79 [00:01<00:00, 73.54it/s]\n"
     ]
    },
    {
     "name": "stdout",
     "output_type": "stream",
     "text": [
      "\n",
      "module_idx:  5, percent:0.9\n",
      "\n",
      " test_loss   correct     total       Acc\n"
     ]
    },
    {
     "name": "stderr",
     "output_type": "stream",
     "text": [
      "      2.61   3.7e+03     1e+04        37: 100%|██████████| 79/79 [00:01<00:00, 77.32it/s]"
     ]
    },
    {
     "name": "stdout",
     "output_type": "stream",
     "text": [
      "\n",
      "module_idx:  5, percent:0.95\n",
      "\n",
      " test_loss   correct     total       Acc\n"
     ]
    },
    {
     "name": "stderr",
     "output_type": "stream",
     "text": [
      "\n",
      "      3.11  2.71e+03     1e+04      27.1: 100%|██████████| 79/79 [00:01<00:00, 73.78it/s]"
     ]
    },
    {
     "name": "stdout",
     "output_type": "stream",
     "text": [
      "\n",
      "module_idx:  6, percent:0.05\n",
      "\n",
      " test_loss   correct     total       Acc\n"
     ]
    },
    {
     "name": "stderr",
     "output_type": "stream",
     "text": [
      "\n",
      "     0.293  9.33e+03     1e+04      93.3: 100%|██████████| 79/79 [00:01<00:00, 75.27it/s]"
     ]
    },
    {
     "name": "stdout",
     "output_type": "stream",
     "text": [
      "\n",
      "module_idx:  6, percent:0.1\n",
      "\n",
      " test_loss   correct     total       Acc\n"
     ]
    },
    {
     "name": "stderr",
     "output_type": "stream",
     "text": [
      "\n",
      "     0.293  9.33e+03     1e+04      93.3: 100%|██████████| 79/79 [00:01<00:00, 73.45it/s]"
     ]
    },
    {
     "name": "stdout",
     "output_type": "stream",
     "text": [
      "\n",
      "module_idx:  6, percent:0.15\n",
      "\n",
      " test_loss   correct     total       Acc\n"
     ]
    },
    {
     "name": "stderr",
     "output_type": "stream",
     "text": [
      "\n",
      "     0.293  9.33e+03     1e+04      93.3: 100%|██████████| 79/79 [00:01<00:00, 70.72it/s]"
     ]
    },
    {
     "name": "stdout",
     "output_type": "stream",
     "text": [
      "\n",
      "module_idx:  6, percent:0.2\n",
      "\n",
      " test_loss   correct     total       Acc\n"
     ]
    },
    {
     "name": "stderr",
     "output_type": "stream",
     "text": [
      "\n",
      "     0.293  9.33e+03     1e+04      93.3: 100%|██████████| 79/79 [00:01<00:00, 73.82it/s]\n"
     ]
    },
    {
     "name": "stdout",
     "output_type": "stream",
     "text": [
      "\n",
      "module_idx:  6, percent:0.25\n",
      "\n",
      " test_loss   correct     total       Acc\n"
     ]
    },
    {
     "name": "stderr",
     "output_type": "stream",
     "text": [
      "     0.293  9.33e+03     1e+04      93.3: 100%|██████████| 79/79 [00:01<00:00, 72.75it/s]"
     ]
    },
    {
     "name": "stdout",
     "output_type": "stream",
     "text": [
      "\n",
      "module_idx:  6, percent:0.3\n",
      "\n",
      " test_loss   correct     total       Acc\n"
     ]
    },
    {
     "name": "stderr",
     "output_type": "stream",
     "text": [
      "\n",
      "     0.293  9.33e+03     1e+04      93.3: 100%|██████████| 79/79 [00:01<00:00, 72.72it/s]"
     ]
    },
    {
     "name": "stdout",
     "output_type": "stream",
     "text": [
      "\n",
      "module_idx:  6, percent:0.35\n",
      "\n",
      " test_loss   correct     total       Acc\n"
     ]
    },
    {
     "name": "stderr",
     "output_type": "stream",
     "text": [
      "\n",
      "     0.293  9.33e+03     1e+04      93.3: 100%|██████████| 79/79 [00:01<00:00, 75.14it/s]\n"
     ]
    },
    {
     "name": "stdout",
     "output_type": "stream",
     "text": [
      "\n",
      "module_idx:  6, percent:0.4\n",
      "\n",
      " test_loss   correct     total       Acc\n"
     ]
    },
    {
     "name": "stderr",
     "output_type": "stream",
     "text": [
      "     0.293  9.33e+03     1e+04      93.3: 100%|██████████| 79/79 [00:01<00:00, 73.79it/s]"
     ]
    },
    {
     "name": "stdout",
     "output_type": "stream",
     "text": [
      "\n",
      "module_idx:  6, percent:0.45\n",
      "\n",
      " test_loss   correct     total       Acc\n"
     ]
    },
    {
     "name": "stderr",
     "output_type": "stream",
     "text": [
      "\n",
      "     0.293  9.33e+03     1e+04      93.3: 100%|██████████| 79/79 [00:01<00:00, 75.56it/s]"
     ]
    },
    {
     "name": "stdout",
     "output_type": "stream",
     "text": [
      "\n",
      "module_idx:  6, percent:0.5\n",
      "\n",
      " test_loss   correct     total       Acc\n"
     ]
    },
    {
     "name": "stderr",
     "output_type": "stream",
     "text": [
      "\n",
      "     0.295  9.32e+03     1e+04      93.2: 100%|██████████| 79/79 [00:01<00:00, 74.19it/s]"
     ]
    },
    {
     "name": "stdout",
     "output_type": "stream",
     "text": [
      "\n",
      "module_idx:  6, percent:0.55\n",
      "\n",
      " test_loss   correct     total       Acc\n"
     ]
    },
    {
     "name": "stderr",
     "output_type": "stream",
     "text": [
      "\n",
      "       0.3   9.3e+03     1e+04        93: 100%|██████████| 79/79 [00:01<00:00, 73.91it/s]\n"
     ]
    },
    {
     "name": "stdout",
     "output_type": "stream",
     "text": [
      "\n",
      "module_idx:  6, percent:0.6\n",
      "\n",
      " test_loss   correct     total       Acc\n"
     ]
    },
    {
     "name": "stderr",
     "output_type": "stream",
     "text": [
      "     0.296  9.23e+03     1e+04      92.3: 100%|██████████| 79/79 [00:01<00:00, 73.55it/s]\n"
     ]
    },
    {
     "name": "stdout",
     "output_type": "stream",
     "text": [
      "\n",
      "module_idx:  6, percent:0.65\n",
      "\n",
      " test_loss   correct     total       Acc\n"
     ]
    },
    {
     "name": "stderr",
     "output_type": "stream",
     "text": [
      "     0.314  9.17e+03     1e+04      91.7: 100%|██████████| 79/79 [00:01<00:00, 74.48it/s]"
     ]
    },
    {
     "name": "stdout",
     "output_type": "stream",
     "text": [
      "\n",
      "module_idx:  6, percent:0.7\n",
      "\n",
      " test_loss   correct     total       Acc\n"
     ]
    },
    {
     "name": "stderr",
     "output_type": "stream",
     "text": [
      "\n",
      "     0.345  9.05e+03     1e+04      90.5: 100%|██████████| 79/79 [00:01<00:00, 75.01it/s]"
     ]
    },
    {
     "name": "stdout",
     "output_type": "stream",
     "text": [
      "\n",
      "module_idx:  6, percent:0.75\n",
      "\n",
      " test_loss   correct     total       Acc\n"
     ]
    },
    {
     "name": "stderr",
     "output_type": "stream",
     "text": [
      "\n",
      "     0.425  8.76e+03     1e+04      87.6: 100%|██████████| 79/79 [00:01<00:00, 73.91it/s]"
     ]
    },
    {
     "name": "stdout",
     "output_type": "stream",
     "text": [
      "\n",
      "module_idx:  6, percent:0.8\n",
      "\n",
      " test_loss   correct     total       Acc\n"
     ]
    },
    {
     "name": "stderr",
     "output_type": "stream",
     "text": [
      "\n",
      "     0.516  8.45e+03     1e+04      84.5: 100%|██████████| 79/79 [00:01<00:00, 74.87it/s]\n"
     ]
    },
    {
     "name": "stdout",
     "output_type": "stream",
     "text": [
      "\n",
      "module_idx:  6, percent:0.85\n",
      "\n",
      " test_loss   correct     total       Acc\n"
     ]
    },
    {
     "name": "stderr",
     "output_type": "stream",
     "text": [
      "     0.572  8.24e+03     1e+04      82.4: 100%|██████████| 79/79 [00:01<00:00, 74.62it/s]"
     ]
    },
    {
     "name": "stdout",
     "output_type": "stream",
     "text": [
      "\n",
      "module_idx:  6, percent:0.9\n",
      "\n",
      " test_loss   correct     total       Acc\n"
     ]
    },
    {
     "name": "stderr",
     "output_type": "stream",
     "text": [
      "\n",
      "       1.2  6.15e+03     1e+04      61.5: 100%|██████████| 79/79 [00:01<00:00, 74.18it/s]"
     ]
    },
    {
     "name": "stdout",
     "output_type": "stream",
     "text": [
      "\n",
      "module_idx:  6, percent:0.95\n",
      "\n",
      " test_loss   correct     total       Acc\n"
     ]
    },
    {
     "name": "stderr",
     "output_type": "stream",
     "text": [
      "\n",
      "      1.61  4.69e+03     1e+04      46.9: 100%|██████████| 79/79 [00:01<00:00, 74.13it/s]"
     ]
    },
    {
     "name": "stdout",
     "output_type": "stream",
     "text": [
      "\n",
      "module_idx:  7, percent:0.05\n",
      "\n",
      " test_loss   correct     total       Acc\n"
     ]
    },
    {
     "name": "stderr",
     "output_type": "stream",
     "text": [
      "\n",
      "     0.293  9.33e+03     1e+04      93.3: 100%|██████████| 79/79 [00:01<00:00, 74.68it/s]\n"
     ]
    },
    {
     "name": "stdout",
     "output_type": "stream",
     "text": [
      "\n",
      "module_idx:  7, percent:0.1\n",
      "\n",
      " test_loss   correct     total       Acc\n"
     ]
    },
    {
     "name": "stderr",
     "output_type": "stream",
     "text": [
      "     0.293  9.33e+03     1e+04      93.3: 100%|██████████| 79/79 [00:01<00:00, 74.97it/s]"
     ]
    },
    {
     "name": "stdout",
     "output_type": "stream",
     "text": [
      "\n",
      "module_idx:  7, percent:0.15\n",
      "\n",
      " test_loss   correct     total       Acc\n"
     ]
    },
    {
     "name": "stderr",
     "output_type": "stream",
     "text": [
      "\n",
      "     0.293  9.33e+03     1e+04      93.3: 100%|██████████| 79/79 [00:01<00:00, 73.41it/s]"
     ]
    },
    {
     "name": "stdout",
     "output_type": "stream",
     "text": [
      "\n",
      "module_idx:  7, percent:0.2\n",
      "\n",
      " test_loss   correct     total       Acc\n"
     ]
    },
    {
     "name": "stderr",
     "output_type": "stream",
     "text": [
      "\n",
      "     0.293  9.33e+03     1e+04      93.3: 100%|██████████| 79/79 [00:01<00:00, 74.24it/s]\n"
     ]
    },
    {
     "name": "stdout",
     "output_type": "stream",
     "text": [
      "\n",
      "module_idx:  7, percent:0.25\n",
      "\n",
      " test_loss   correct     total       Acc\n"
     ]
    },
    {
     "name": "stderr",
     "output_type": "stream",
     "text": [
      "     0.293  9.33e+03     1e+04      93.3: 100%|██████████| 79/79 [00:01<00:00, 73.40it/s]"
     ]
    },
    {
     "name": "stdout",
     "output_type": "stream",
     "text": [
      "\n",
      "module_idx:  7, percent:0.3\n",
      "\n",
      " test_loss   correct     total       Acc\n"
     ]
    },
    {
     "name": "stderr",
     "output_type": "stream",
     "text": [
      "\n",
      "     0.293  9.33e+03     1e+04      93.3: 100%|██████████| 79/79 [00:01<00:00, 74.02it/s]"
     ]
    },
    {
     "name": "stdout",
     "output_type": "stream",
     "text": [
      "\n",
      "module_idx:  7, percent:0.35\n",
      "\n",
      " test_loss   correct     total       Acc\n"
     ]
    },
    {
     "name": "stderr",
     "output_type": "stream",
     "text": [
      "\n",
      "     0.293  9.33e+03     1e+04      93.3: 100%|██████████| 79/79 [00:01<00:00, 73.79it/s]"
     ]
    },
    {
     "name": "stdout",
     "output_type": "stream",
     "text": [
      "\n",
      "module_idx:  7, percent:0.4\n",
      "\n",
      " test_loss   correct     total       Acc\n"
     ]
    },
    {
     "name": "stderr",
     "output_type": "stream",
     "text": [
      "\n",
      "     0.293  9.33e+03     1e+04      93.3: 100%|██████████| 79/79 [00:01<00:00, 72.78it/s]"
     ]
    },
    {
     "name": "stdout",
     "output_type": "stream",
     "text": [
      "\n",
      "module_idx:  7, percent:0.45\n",
      "\n",
      " test_loss   correct     total       Acc\n"
     ]
    },
    {
     "name": "stderr",
     "output_type": "stream",
     "text": [
      "\n",
      "     0.293  9.33e+03     1e+04      93.3: 100%|██████████| 79/79 [00:01<00:00, 72.55it/s]"
     ]
    },
    {
     "name": "stdout",
     "output_type": "stream",
     "text": [
      "\n",
      "module_idx:  7, percent:0.5\n",
      "\n",
      " test_loss   correct     total       Acc\n"
     ]
    },
    {
     "name": "stderr",
     "output_type": "stream",
     "text": [
      "\n",
      "     0.293  9.33e+03     1e+04      93.3: 100%|██████████| 79/79 [00:01<00:00, 74.41it/s]"
     ]
    },
    {
     "name": "stdout",
     "output_type": "stream",
     "text": [
      "\n",
      "module_idx:  7, percent:0.55\n",
      "\n",
      " test_loss   correct     total       Acc\n"
     ]
    },
    {
     "name": "stderr",
     "output_type": "stream",
     "text": [
      "\n",
      "     0.293  9.33e+03     1e+04      93.3: 100%|██████████| 79/79 [00:01<00:00, 72.46it/s]"
     ]
    },
    {
     "name": "stdout",
     "output_type": "stream",
     "text": [
      "\n",
      "module_idx:  7, percent:0.6\n",
      "\n",
      " test_loss   correct     total       Acc\n"
     ]
    },
    {
     "name": "stderr",
     "output_type": "stream",
     "text": [
      "\n",
      "     0.293  9.33e+03     1e+04      93.3: 100%|██████████| 79/79 [00:01<00:00, 73.76it/s]"
     ]
    },
    {
     "name": "stdout",
     "output_type": "stream",
     "text": [
      "\n",
      "module_idx:  7, percent:0.65\n",
      "\n",
      " test_loss   correct     total       Acc\n"
     ]
    },
    {
     "name": "stderr",
     "output_type": "stream",
     "text": [
      "\n",
      "     0.293  9.33e+03     1e+04      93.3: 100%|██████████| 79/79 [00:01<00:00, 70.81it/s]"
     ]
    },
    {
     "name": "stdout",
     "output_type": "stream",
     "text": [
      "\n",
      "module_idx:  7, percent:0.7\n",
      "\n",
      " test_loss   correct     total       Acc\n"
     ]
    },
    {
     "name": "stderr",
     "output_type": "stream",
     "text": [
      "\n",
      "     0.293  9.33e+03     1e+04      93.3: 100%|██████████| 79/79 [00:01<00:00, 74.57it/s]"
     ]
    },
    {
     "name": "stdout",
     "output_type": "stream",
     "text": [
      "\n",
      "module_idx:  7, percent:0.75\n",
      "\n",
      " test_loss   correct     total       Acc\n"
     ]
    },
    {
     "name": "stderr",
     "output_type": "stream",
     "text": [
      "\n",
      "     0.293  9.33e+03     1e+04      93.3: 100%|██████████| 79/79 [00:01<00:00, 73.36it/s]"
     ]
    },
    {
     "name": "stdout",
     "output_type": "stream",
     "text": [
      "\n",
      "module_idx:  7, percent:0.8\n",
      "\n",
      " test_loss   correct     total       Acc\n"
     ]
    },
    {
     "name": "stderr",
     "output_type": "stream",
     "text": [
      "\n",
      "     0.293  9.33e+03     1e+04      93.3: 100%|██████████| 79/79 [00:01<00:00, 75.12it/s]"
     ]
    },
    {
     "name": "stdout",
     "output_type": "stream",
     "text": [
      "\n",
      "module_idx:  7, percent:0.85\n",
      "\n",
      " test_loss   correct     total       Acc\n"
     ]
    },
    {
     "name": "stderr",
     "output_type": "stream",
     "text": [
      "\n",
      "     0.292  9.32e+03     1e+04      93.2: 100%|██████████| 79/79 [00:01<00:00, 74.21it/s]"
     ]
    },
    {
     "name": "stdout",
     "output_type": "stream",
     "text": [
      "\n",
      "module_idx:  7, percent:0.9\n",
      "\n",
      " test_loss   correct     total       Acc\n"
     ]
    },
    {
     "name": "stderr",
     "output_type": "stream",
     "text": [
      "\n",
      "      0.32  9.27e+03     1e+04      92.7: 100%|██████████| 79/79 [00:01<00:00, 75.46it/s]\n"
     ]
    },
    {
     "name": "stdout",
     "output_type": "stream",
     "text": [
      "\n",
      "module_idx:  7, percent:0.95\n",
      "\n",
      " test_loss   correct     total       Acc\n"
     ]
    },
    {
     "name": "stderr",
     "output_type": "stream",
     "text": [
      "     0.581  8.45e+03     1e+04      84.5: 100%|██████████| 79/79 [00:01<00:00, 72.68it/s]"
     ]
    },
    {
     "name": "stdout",
     "output_type": "stream",
     "text": [
      "\n",
      "module_idx:  8, percent:0.05\n",
      "\n",
      " test_loss   correct     total       Acc\n"
     ]
    },
    {
     "name": "stderr",
     "output_type": "stream",
     "text": [
      "\n",
      "     0.293  9.33e+03     1e+04      93.3: 100%|██████████| 79/79 [00:01<00:00, 70.16it/s]"
     ]
    },
    {
     "name": "stdout",
     "output_type": "stream",
     "text": [
      "\n",
      "module_idx:  8, percent:0.1\n",
      "\n",
      " test_loss   correct     total       Acc\n"
     ]
    },
    {
     "name": "stderr",
     "output_type": "stream",
     "text": [
      "\n",
      "     0.293  9.33e+03     1e+04      93.3: 100%|██████████| 79/79 [00:01<00:00, 72.61it/s]\n"
     ]
    },
    {
     "name": "stdout",
     "output_type": "stream",
     "text": [
      "\n",
      "module_idx:  8, percent:0.15\n",
      "\n",
      " test_loss   correct     total       Acc\n"
     ]
    },
    {
     "name": "stderr",
     "output_type": "stream",
     "text": [
      "     0.293  9.33e+03     1e+04      93.3: 100%|██████████| 79/79 [00:01<00:00, 72.12it/s]\n"
     ]
    },
    {
     "name": "stdout",
     "output_type": "stream",
     "text": [
      "\n",
      "module_idx:  8, percent:0.2\n",
      "\n",
      " test_loss   correct     total       Acc\n"
     ]
    },
    {
     "name": "stderr",
     "output_type": "stream",
     "text": [
      "     0.293  9.33e+03     1e+04      93.3: 100%|██████████| 79/79 [00:01<00:00, 75.90it/s]"
     ]
    },
    {
     "name": "stdout",
     "output_type": "stream",
     "text": [
      "\n",
      "module_idx:  8, percent:0.25\n",
      "\n",
      " test_loss   correct     total       Acc\n"
     ]
    },
    {
     "name": "stderr",
     "output_type": "stream",
     "text": [
      "\n",
      "     0.293  9.33e+03     1e+04      93.3: 100%|██████████| 79/79 [00:01<00:00, 72.40it/s]\n"
     ]
    },
    {
     "name": "stdout",
     "output_type": "stream",
     "text": [
      "\n",
      "module_idx:  8, percent:0.3\n",
      "\n",
      " test_loss   correct     total       Acc\n"
     ]
    },
    {
     "name": "stderr",
     "output_type": "stream",
     "text": [
      "     0.293  9.33e+03     1e+04      93.3: 100%|██████████| 79/79 [00:01<00:00, 74.59it/s]\n"
     ]
    },
    {
     "name": "stdout",
     "output_type": "stream",
     "text": [
      "\n",
      "module_idx:  8, percent:0.35\n",
      "\n",
      " test_loss   correct     total       Acc\n"
     ]
    },
    {
     "name": "stderr",
     "output_type": "stream",
     "text": [
      "     0.293  9.33e+03     1e+04      93.3: 100%|██████████| 79/79 [00:01<00:00, 74.21it/s]"
     ]
    },
    {
     "name": "stdout",
     "output_type": "stream",
     "text": [
      "\n",
      "module_idx:  8, percent:0.4\n",
      "\n",
      " test_loss   correct     total       Acc\n"
     ]
    },
    {
     "name": "stderr",
     "output_type": "stream",
     "text": [
      "\n",
      "     0.293  9.33e+03     1e+04      93.3: 100%|██████████| 79/79 [00:01<00:00, 75.06it/s]\n"
     ]
    },
    {
     "name": "stdout",
     "output_type": "stream",
     "text": [
      "\n",
      "module_idx:  8, percent:0.45\n",
      "\n",
      " test_loss   correct     total       Acc\n"
     ]
    },
    {
     "name": "stderr",
     "output_type": "stream",
     "text": [
      "     0.293  9.33e+03     1e+04      93.3: 100%|██████████| 79/79 [00:01<00:00, 72.58it/s]\n"
     ]
    },
    {
     "name": "stdout",
     "output_type": "stream",
     "text": [
      "\n",
      "module_idx:  8, percent:0.5\n",
      "\n",
      " test_loss   correct     total       Acc\n"
     ]
    },
    {
     "name": "stderr",
     "output_type": "stream",
     "text": [
      "     0.293  9.33e+03     1e+04      93.3: 100%|██████████| 79/79 [00:01<00:00, 73.25it/s]"
     ]
    },
    {
     "name": "stdout",
     "output_type": "stream",
     "text": [
      "\n",
      "module_idx:  8, percent:0.55\n",
      "\n",
      " test_loss   correct     total       Acc\n"
     ]
    },
    {
     "name": "stderr",
     "output_type": "stream",
     "text": [
      "\n",
      "     0.293  9.33e+03     1e+04      93.3: 100%|██████████| 79/79 [00:01<00:00, 72.64it/s]\n"
     ]
    },
    {
     "name": "stdout",
     "output_type": "stream",
     "text": [
      "\n",
      "module_idx:  8, percent:0.6\n",
      "\n",
      " test_loss   correct     total       Acc\n"
     ]
    },
    {
     "name": "stderr",
     "output_type": "stream",
     "text": [
      "     0.293  9.33e+03     1e+04      93.3: 100%|██████████| 79/79 [00:01<00:00, 74.54it/s]\n"
     ]
    },
    {
     "name": "stdout",
     "output_type": "stream",
     "text": [
      "\n",
      "module_idx:  8, percent:0.65\n",
      "\n",
      " test_loss   correct     total       Acc\n"
     ]
    },
    {
     "name": "stderr",
     "output_type": "stream",
     "text": [
      "     0.293  9.33e+03     1e+04      93.3: 100%|██████████| 79/79 [00:01<00:00, 71.66it/s]"
     ]
    },
    {
     "name": "stdout",
     "output_type": "stream",
     "text": [
      "\n",
      "module_idx:  8, percent:0.7\n",
      "\n",
      " test_loss   correct     total       Acc\n"
     ]
    },
    {
     "name": "stderr",
     "output_type": "stream",
     "text": [
      "\n",
      "     0.293  9.33e+03     1e+04      93.3: 100%|██████████| 79/79 [00:01<00:00, 74.56it/s]"
     ]
    },
    {
     "name": "stdout",
     "output_type": "stream",
     "text": [
      "\n",
      "module_idx:  8, percent:0.75\n",
      "\n",
      " test_loss   correct     total       Acc\n"
     ]
    },
    {
     "name": "stderr",
     "output_type": "stream",
     "text": [
      "\n",
      "     0.293  9.33e+03     1e+04      93.3: 100%|██████████| 79/79 [00:01<00:00, 75.07it/s]"
     ]
    },
    {
     "name": "stdout",
     "output_type": "stream",
     "text": [
      "\n",
      "module_idx:  8, percent:0.8\n",
      "\n",
      " test_loss   correct     total       Acc\n"
     ]
    },
    {
     "name": "stderr",
     "output_type": "stream",
     "text": [
      "\n",
      "     0.293  9.33e+03     1e+04      93.3: 100%|██████████| 79/79 [00:01<00:00, 70.03it/s]"
     ]
    },
    {
     "name": "stdout",
     "output_type": "stream",
     "text": [
      "\n",
      "module_idx:  8, percent:0.85\n",
      "\n",
      " test_loss   correct     total       Acc\n"
     ]
    },
    {
     "name": "stderr",
     "output_type": "stream",
     "text": [
      "\n",
      "     0.293  9.33e+03     1e+04      93.3: 100%|██████████| 79/79 [00:01<00:00, 70.49it/s]"
     ]
    },
    {
     "name": "stdout",
     "output_type": "stream",
     "text": [
      "\n",
      "module_idx:  8, percent:0.9\n",
      "\n",
      " test_loss   correct     total       Acc\n"
     ]
    },
    {
     "name": "stderr",
     "output_type": "stream",
     "text": [
      "\n",
      "     0.293  9.33e+03     1e+04      93.3: 100%|██████████| 79/79 [00:01<00:00, 73.46it/s]"
     ]
    },
    {
     "name": "stdout",
     "output_type": "stream",
     "text": [
      "\n",
      "module_idx:  8, percent:0.95\n",
      "\n",
      " test_loss   correct     total       Acc\n"
     ]
    },
    {
     "name": "stderr",
     "output_type": "stream",
     "text": [
      "\n",
      "     0.291  9.29e+03     1e+04      92.9: 100%|██████████| 79/79 [00:01<00:00, 73.26it/s]"
     ]
    },
    {
     "name": "stdout",
     "output_type": "stream",
     "text": [
      "\n",
      "module_idx:  9, percent:0.05\n",
      "\n",
      " test_loss   correct     total       Acc\n"
     ]
    },
    {
     "name": "stderr",
     "output_type": "stream",
     "text": [
      "\n",
      "     0.293  9.33e+03     1e+04      93.3: 100%|██████████| 79/79 [00:01<00:00, 73.52it/s]\n"
     ]
    },
    {
     "name": "stdout",
     "output_type": "stream",
     "text": [
      "\n",
      "module_idx:  9, percent:0.1\n",
      "\n",
      " test_loss   correct     total       Acc\n"
     ]
    },
    {
     "name": "stderr",
     "output_type": "stream",
     "text": [
      "     0.293  9.33e+03     1e+04      93.3: 100%|██████████| 79/79 [00:01<00:00, 75.45it/s]\n"
     ]
    },
    {
     "name": "stdout",
     "output_type": "stream",
     "text": [
      "\n",
      "module_idx:  9, percent:0.15\n",
      "\n",
      " test_loss   correct     total       Acc\n"
     ]
    },
    {
     "name": "stderr",
     "output_type": "stream",
     "text": [
      "     0.293  9.33e+03     1e+04      93.3: 100%|██████████| 79/79 [00:01<00:00, 76.50it/s]"
     ]
    },
    {
     "name": "stdout",
     "output_type": "stream",
     "text": [
      "\n",
      "module_idx:  9, percent:0.2\n",
      "\n",
      " test_loss   correct     total       Acc\n"
     ]
    },
    {
     "name": "stderr",
     "output_type": "stream",
     "text": [
      "\n",
      "     0.293  9.33e+03     1e+04      93.3: 100%|██████████| 79/79 [00:01<00:00, 73.56it/s]"
     ]
    },
    {
     "name": "stdout",
     "output_type": "stream",
     "text": [
      "\n",
      "module_idx:  9, percent:0.25\n",
      "\n",
      " test_loss   correct     total       Acc\n"
     ]
    },
    {
     "name": "stderr",
     "output_type": "stream",
     "text": [
      "\n",
      "     0.293  9.33e+03     1e+04      93.3: 100%|██████████| 79/79 [00:01<00:00, 73.57it/s]"
     ]
    },
    {
     "name": "stdout",
     "output_type": "stream",
     "text": [
      "\n",
      "module_idx:  9, percent:0.3\n",
      "\n",
      " test_loss   correct     total       Acc\n"
     ]
    },
    {
     "name": "stderr",
     "output_type": "stream",
     "text": [
      "\n",
      "     0.293  9.33e+03     1e+04      93.3: 100%|██████████| 79/79 [00:01<00:00, 75.59it/s]\n"
     ]
    },
    {
     "name": "stdout",
     "output_type": "stream",
     "text": [
      "\n",
      "module_idx:  9, percent:0.35\n",
      "\n",
      " test_loss   correct     total       Acc\n"
     ]
    },
    {
     "name": "stderr",
     "output_type": "stream",
     "text": [
      "     0.293  9.33e+03     1e+04      93.3: 100%|██████████| 79/79 [00:01<00:00, 72.80it/s]\n"
     ]
    },
    {
     "name": "stdout",
     "output_type": "stream",
     "text": [
      "\n",
      "module_idx:  9, percent:0.4\n",
      "\n",
      " test_loss   correct     total       Acc\n"
     ]
    },
    {
     "name": "stderr",
     "output_type": "stream",
     "text": [
      "     0.293  9.33e+03     1e+04      93.3: 100%|██████████| 79/79 [00:01<00:00, 74.54it/s]"
     ]
    },
    {
     "name": "stdout",
     "output_type": "stream",
     "text": [
      "\n",
      "module_idx:  9, percent:0.45\n",
      "\n",
      " test_loss   correct     total       Acc\n"
     ]
    },
    {
     "name": "stderr",
     "output_type": "stream",
     "text": [
      "\n",
      "     0.293  9.33e+03     1e+04      93.3: 100%|██████████| 79/79 [00:01<00:00, 75.26it/s]"
     ]
    },
    {
     "name": "stdout",
     "output_type": "stream",
     "text": [
      "\n",
      "module_idx:  9, percent:0.5\n",
      "\n",
      " test_loss   correct     total       Acc\n"
     ]
    },
    {
     "name": "stderr",
     "output_type": "stream",
     "text": [
      "\n",
      "     0.293  9.33e+03     1e+04      93.3: 100%|██████████| 79/79 [00:01<00:00, 74.68it/s]"
     ]
    },
    {
     "name": "stdout",
     "output_type": "stream",
     "text": [
      "\n",
      "module_idx:  9, percent:0.55\n",
      "\n",
      " test_loss   correct     total       Acc\n"
     ]
    },
    {
     "name": "stderr",
     "output_type": "stream",
     "text": [
      "\n",
      "     0.293  9.33e+03     1e+04      93.3: 100%|██████████| 79/79 [00:01<00:00, 73.48it/s]\n"
     ]
    },
    {
     "name": "stdout",
     "output_type": "stream",
     "text": [
      "\n",
      "module_idx:  9, percent:0.6\n",
      "\n",
      " test_loss   correct     total       Acc\n"
     ]
    },
    {
     "name": "stderr",
     "output_type": "stream",
     "text": [
      "     0.293  9.33e+03     1e+04      93.3: 100%|██████████| 79/79 [00:01<00:00, 72.93it/s]"
     ]
    },
    {
     "name": "stdout",
     "output_type": "stream",
     "text": [
      "\n",
      "module_idx:  9, percent:0.65\n",
      "\n",
      " test_loss   correct     total       Acc\n"
     ]
    },
    {
     "name": "stderr",
     "output_type": "stream",
     "text": [
      "\n",
      "     0.293  9.33e+03     1e+04      93.3: 100%|██████████| 79/79 [00:01<00:00, 74.16it/s]"
     ]
    },
    {
     "name": "stdout",
     "output_type": "stream",
     "text": [
      "\n",
      "module_idx:  9, percent:0.7\n",
      "\n",
      " test_loss   correct     total       Acc\n"
     ]
    },
    {
     "name": "stderr",
     "output_type": "stream",
     "text": [
      "\n",
      "     0.293  9.33e+03     1e+04      93.3: 100%|██████████| 79/79 [00:01<00:00, 73.53it/s]"
     ]
    },
    {
     "name": "stdout",
     "output_type": "stream",
     "text": [
      "\n",
      "module_idx:  9, percent:0.75\n",
      "\n",
      " test_loss   correct     total       Acc\n"
     ]
    },
    {
     "name": "stderr",
     "output_type": "stream",
     "text": [
      "\n",
      "     0.293  9.33e+03     1e+04      93.3: 100%|██████████| 79/79 [00:01<00:00, 72.31it/s]"
     ]
    },
    {
     "name": "stdout",
     "output_type": "stream",
     "text": [
      "\n",
      "module_idx:  9, percent:0.8\n",
      "\n",
      " test_loss   correct     total       Acc\n"
     ]
    },
    {
     "name": "stderr",
     "output_type": "stream",
     "text": [
      "\n",
      "     0.293  9.33e+03     1e+04      93.3: 100%|██████████| 79/79 [00:01<00:00, 74.94it/s]"
     ]
    },
    {
     "name": "stdout",
     "output_type": "stream",
     "text": [
      "\n",
      "module_idx:  9, percent:0.85\n",
      "\n",
      " test_loss   correct     total       Acc\n"
     ]
    },
    {
     "name": "stderr",
     "output_type": "stream",
     "text": [
      "\n",
      "     0.293  9.33e+03     1e+04      93.3: 100%|██████████| 79/79 [00:01<00:00, 74.60it/s]\n"
     ]
    },
    {
     "name": "stdout",
     "output_type": "stream",
     "text": [
      "\n",
      "module_idx:  9, percent:0.9\n",
      "\n",
      " test_loss   correct     total       Acc\n"
     ]
    },
    {
     "name": "stderr",
     "output_type": "stream",
     "text": [
      "     0.293  9.33e+03     1e+04      93.3: 100%|██████████| 79/79 [00:01<00:00, 75.22it/s]"
     ]
    },
    {
     "name": "stdout",
     "output_type": "stream",
     "text": [
      "\n",
      "module_idx:  9, percent:0.95\n",
      "\n",
      " test_loss   correct     total       Acc\n"
     ]
    },
    {
     "name": "stderr",
     "output_type": "stream",
     "text": [
      "\n",
      "     0.324  9.29e+03     1e+04      92.9: 100%|██████████| 79/79 [00:01<00:00, 76.44it/s]"
     ]
    },
    {
     "name": "stdout",
     "output_type": "stream",
     "text": [
      "\n",
      "module_idx: 10, percent:0.05\n",
      "\n",
      " test_loss   correct     total       Acc\n"
     ]
    },
    {
     "name": "stderr",
     "output_type": "stream",
     "text": [
      "\n",
      "     0.293  9.33e+03     1e+04      93.3: 100%|██████████| 79/79 [00:01<00:00, 72.47it/s]"
     ]
    },
    {
     "name": "stdout",
     "output_type": "stream",
     "text": [
      "\n",
      "module_idx: 10, percent:0.1\n",
      "\n",
      " test_loss   correct     total       Acc\n"
     ]
    },
    {
     "name": "stderr",
     "output_type": "stream",
     "text": [
      "\n",
      "     0.293  9.33e+03     1e+04      93.3: 100%|██████████| 79/79 [00:01<00:00, 72.58it/s]\n"
     ]
    },
    {
     "name": "stdout",
     "output_type": "stream",
     "text": [
      "\n",
      "module_idx: 10, percent:0.15\n",
      "\n",
      " test_loss   correct     total       Acc\n"
     ]
    },
    {
     "name": "stderr",
     "output_type": "stream",
     "text": [
      "     0.293  9.33e+03     1e+04      93.3: 100%|██████████| 79/79 [00:01<00:00, 72.83it/s]"
     ]
    },
    {
     "name": "stdout",
     "output_type": "stream",
     "text": [
      "\n",
      "module_idx: 10, percent:0.2\n",
      "\n",
      " test_loss   correct     total       Acc\n"
     ]
    },
    {
     "name": "stderr",
     "output_type": "stream",
     "text": [
      "\n",
      "     0.293  9.33e+03     1e+04      93.3: 100%|██████████| 79/79 [00:01<00:00, 74.70it/s]"
     ]
    },
    {
     "name": "stdout",
     "output_type": "stream",
     "text": [
      "\n",
      "module_idx: 10, percent:0.25\n",
      "\n",
      " test_loss   correct     total       Acc\n"
     ]
    },
    {
     "name": "stderr",
     "output_type": "stream",
     "text": [
      "\n",
      "     0.293  9.33e+03     1e+04      93.3: 100%|██████████| 79/79 [00:01<00:00, 74.53it/s]"
     ]
    },
    {
     "name": "stdout",
     "output_type": "stream",
     "text": [
      "\n",
      "module_idx: 10, percent:0.3\n",
      "\n",
      " test_loss   correct     total       Acc\n"
     ]
    },
    {
     "name": "stderr",
     "output_type": "stream",
     "text": [
      "\n",
      "     0.293  9.33e+03     1e+04      93.3: 100%|██████████| 79/79 [00:01<00:00, 74.14it/s]"
     ]
    },
    {
     "name": "stdout",
     "output_type": "stream",
     "text": [
      "\n",
      "module_idx: 10, percent:0.35\n",
      "\n",
      " test_loss   correct     total       Acc\n"
     ]
    },
    {
     "name": "stderr",
     "output_type": "stream",
     "text": [
      "\n",
      "     0.293  9.33e+03     1e+04      93.3: 100%|██████████| 79/79 [00:01<00:00, 72.80it/s]"
     ]
    },
    {
     "name": "stdout",
     "output_type": "stream",
     "text": [
      "\n",
      "module_idx: 10, percent:0.4\n",
      "\n",
      " test_loss   correct     total       Acc\n"
     ]
    },
    {
     "name": "stderr",
     "output_type": "stream",
     "text": [
      "\n",
      "     0.293  9.33e+03     1e+04      93.3: 100%|██████████| 79/79 [00:01<00:00, 75.04it/s]\n"
     ]
    },
    {
     "name": "stdout",
     "output_type": "stream",
     "text": [
      "\n",
      "module_idx: 10, percent:0.45\n",
      "\n",
      " test_loss   correct     total       Acc\n"
     ]
    },
    {
     "name": "stderr",
     "output_type": "stream",
     "text": [
      "     0.293  9.33e+03     1e+04      93.3: 100%|██████████| 79/79 [00:01<00:00, 76.18it/s]\n"
     ]
    },
    {
     "name": "stdout",
     "output_type": "stream",
     "text": [
      "\n",
      "module_idx: 10, percent:0.5\n",
      "\n",
      " test_loss   correct     total       Acc\n"
     ]
    },
    {
     "name": "stderr",
     "output_type": "stream",
     "text": [
      "     0.293  9.33e+03     1e+04      93.3: 100%|██████████| 79/79 [00:01<00:00, 75.40it/s]"
     ]
    },
    {
     "name": "stdout",
     "output_type": "stream",
     "text": [
      "\n",
      "module_idx: 10, percent:0.55\n",
      "\n",
      " test_loss   correct     total       Acc\n"
     ]
    },
    {
     "name": "stderr",
     "output_type": "stream",
     "text": [
      "\n",
      "     0.293  9.33e+03     1e+04      93.3: 100%|██████████| 79/79 [00:01<00:00, 75.21it/s]"
     ]
    },
    {
     "name": "stdout",
     "output_type": "stream",
     "text": [
      "\n",
      "module_idx: 10, percent:0.6\n",
      "\n",
      " test_loss   correct     total       Acc\n"
     ]
    },
    {
     "name": "stderr",
     "output_type": "stream",
     "text": [
      "\n",
      "     0.293  9.33e+03     1e+04      93.3: 100%|██████████| 79/79 [00:01<00:00, 72.88it/s]\n"
     ]
    },
    {
     "name": "stdout",
     "output_type": "stream",
     "text": [
      "\n",
      "module_idx: 10, percent:0.65\n",
      "\n",
      " test_loss   correct     total       Acc\n"
     ]
    },
    {
     "name": "stderr",
     "output_type": "stream",
     "text": [
      "     0.293  9.33e+03     1e+04      93.3: 100%|██████████| 79/79 [00:01<00:00, 75.11it/s]"
     ]
    },
    {
     "name": "stdout",
     "output_type": "stream",
     "text": [
      "\n",
      "module_idx: 10, percent:0.7\n",
      "\n",
      " test_loss   correct     total       Acc\n"
     ]
    },
    {
     "name": "stderr",
     "output_type": "stream",
     "text": [
      "\n",
      "     0.293  9.33e+03     1e+04      93.3: 100%|██████████| 79/79 [00:01<00:00, 73.20it/s]\n"
     ]
    },
    {
     "name": "stdout",
     "output_type": "stream",
     "text": [
      "\n",
      "module_idx: 10, percent:0.75\n",
      "\n",
      " test_loss   correct     total       Acc\n"
     ]
    },
    {
     "name": "stderr",
     "output_type": "stream",
     "text": [
      "     0.293  9.33e+03     1e+04      93.3: 100%|██████████| 79/79 [00:01<00:00, 73.94it/s]\n"
     ]
    },
    {
     "name": "stdout",
     "output_type": "stream",
     "text": [
      "\n",
      "module_idx: 10, percent:0.8\n",
      "\n",
      " test_loss   correct     total       Acc\n"
     ]
    },
    {
     "name": "stderr",
     "output_type": "stream",
     "text": [
      "     0.293  9.33e+03     1e+04      93.3: 100%|██████████| 79/79 [00:01<00:00, 74.57it/s]"
     ]
    },
    {
     "name": "stdout",
     "output_type": "stream",
     "text": [
      "\n",
      "module_idx: 10, percent:0.85\n",
      "\n",
      " test_loss   correct     total       Acc\n"
     ]
    },
    {
     "name": "stderr",
     "output_type": "stream",
     "text": [
      "\n",
      "     0.293  9.33e+03     1e+04      93.3: 100%|██████████| 79/79 [00:01<00:00, 72.05it/s]"
     ]
    },
    {
     "name": "stdout",
     "output_type": "stream",
     "text": [
      "\n",
      "module_idx: 10, percent:0.9\n",
      "\n",
      " test_loss   correct     total       Acc\n"
     ]
    },
    {
     "name": "stderr",
     "output_type": "stream",
     "text": [
      "\n",
      "     0.293  9.33e+03     1e+04      93.3: 100%|██████████| 79/79 [00:01<00:00, 72.52it/s]\n"
     ]
    },
    {
     "name": "stdout",
     "output_type": "stream",
     "text": [
      "\n",
      "module_idx: 10, percent:0.95\n",
      "\n",
      " test_loss   correct     total       Acc\n"
     ]
    },
    {
     "name": "stderr",
     "output_type": "stream",
     "text": [
      "     0.306   9.3e+03     1e+04        93: 100%|██████████| 79/79 [00:01<00:00, 72.21it/s]"
     ]
    },
    {
     "name": "stdout",
     "output_type": "stream",
     "text": [
      "\n",
      "module_idx: 11, percent:0.05\n",
      "\n",
      " test_loss   correct     total       Acc\n"
     ]
    },
    {
     "name": "stderr",
     "output_type": "stream",
     "text": [
      "\n",
      "     0.293  9.33e+03     1e+04      93.3: 100%|██████████| 79/79 [00:01<00:00, 74.94it/s]"
     ]
    },
    {
     "name": "stdout",
     "output_type": "stream",
     "text": [
      "\n",
      "module_idx: 11, percent:0.1\n",
      "\n",
      " test_loss   correct     total       Acc\n"
     ]
    },
    {
     "name": "stderr",
     "output_type": "stream",
     "text": [
      "\n",
      "     0.293  9.33e+03     1e+04      93.3: 100%|██████████| 79/79 [00:01<00:00, 74.51it/s]\n"
     ]
    },
    {
     "name": "stdout",
     "output_type": "stream",
     "text": [
      "\n",
      "module_idx: 11, percent:0.15\n",
      "\n",
      " test_loss   correct     total       Acc\n"
     ]
    },
    {
     "name": "stderr",
     "output_type": "stream",
     "text": [
      "     0.293  9.33e+03     1e+04      93.3: 100%|██████████| 79/79 [00:01<00:00, 71.13it/s]"
     ]
    },
    {
     "name": "stdout",
     "output_type": "stream",
     "text": [
      "\n",
      "module_idx: 11, percent:0.2\n",
      "\n",
      " test_loss   correct     total       Acc\n"
     ]
    },
    {
     "name": "stderr",
     "output_type": "stream",
     "text": [
      "\n",
      "     0.293  9.33e+03     1e+04      93.3: 100%|██████████| 79/79 [00:01<00:00, 73.51it/s]"
     ]
    },
    {
     "name": "stdout",
     "output_type": "stream",
     "text": [
      "\n",
      "module_idx: 11, percent:0.25\n",
      "\n",
      " test_loss   correct     total       Acc\n"
     ]
    },
    {
     "name": "stderr",
     "output_type": "stream",
     "text": [
      "\n",
      "     0.293  9.33e+03     1e+04      93.3: 100%|██████████| 79/79 [00:01<00:00, 73.66it/s]"
     ]
    },
    {
     "name": "stdout",
     "output_type": "stream",
     "text": [
      "\n",
      "module_idx: 11, percent:0.3\n",
      "\n",
      " test_loss   correct     total       Acc\n"
     ]
    },
    {
     "name": "stderr",
     "output_type": "stream",
     "text": [
      "\n",
      "     0.293  9.33e+03     1e+04      93.3: 100%|██████████| 79/79 [00:01<00:00, 73.66it/s]"
     ]
    },
    {
     "name": "stdout",
     "output_type": "stream",
     "text": [
      "\n",
      "module_idx: 11, percent:0.35\n",
      "\n",
      " test_loss   correct     total       Acc\n"
     ]
    },
    {
     "name": "stderr",
     "output_type": "stream",
     "text": [
      "\n",
      "     0.293  9.33e+03     1e+04      93.3: 100%|██████████| 79/79 [00:01<00:00, 71.46it/s]"
     ]
    },
    {
     "name": "stdout",
     "output_type": "stream",
     "text": [
      "\n",
      "module_idx: 11, percent:0.4\n",
      "\n",
      " test_loss   correct     total       Acc\n"
     ]
    },
    {
     "name": "stderr",
     "output_type": "stream",
     "text": [
      "\n",
      "     0.293  9.33e+03     1e+04      93.3: 100%|██████████| 79/79 [00:01<00:00, 71.64it/s]"
     ]
    },
    {
     "name": "stdout",
     "output_type": "stream",
     "text": [
      "\n",
      "module_idx: 11, percent:0.45\n",
      "\n",
      " test_loss   correct     total       Acc\n"
     ]
    },
    {
     "name": "stderr",
     "output_type": "stream",
     "text": [
      "\n",
      "     0.293  9.33e+03     1e+04      93.3: 100%|██████████| 79/79 [00:01<00:00, 73.14it/s]"
     ]
    },
    {
     "name": "stdout",
     "output_type": "stream",
     "text": [
      "\n",
      "module_idx: 11, percent:0.5\n",
      "\n",
      " test_loss   correct     total       Acc\n"
     ]
    },
    {
     "name": "stderr",
     "output_type": "stream",
     "text": [
      "\n",
      "     0.293  9.33e+03     1e+04      93.3: 100%|██████████| 79/79 [00:01<00:00, 74.54it/s]"
     ]
    },
    {
     "name": "stdout",
     "output_type": "stream",
     "text": [
      "\n",
      "module_idx: 11, percent:0.55\n",
      "\n",
      " test_loss   correct     total       Acc\n"
     ]
    },
    {
     "name": "stderr",
     "output_type": "stream",
     "text": [
      "\n",
      "     0.293  9.33e+03     1e+04      93.3: 100%|██████████| 79/79 [00:01<00:00, 74.15it/s]"
     ]
    },
    {
     "name": "stdout",
     "output_type": "stream",
     "text": [
      "\n",
      "module_idx: 11, percent:0.6\n",
      "\n",
      " test_loss   correct     total       Acc\n"
     ]
    },
    {
     "name": "stderr",
     "output_type": "stream",
     "text": [
      "\n",
      "     0.293  9.33e+03     1e+04      93.3: 100%|██████████| 79/79 [00:01<00:00, 74.05it/s]"
     ]
    },
    {
     "name": "stdout",
     "output_type": "stream",
     "text": [
      "\n",
      "module_idx: 11, percent:0.65\n",
      "\n",
      " test_loss   correct     total       Acc\n"
     ]
    },
    {
     "name": "stderr",
     "output_type": "stream",
     "text": [
      "\n",
      "     0.293  9.33e+03     1e+04      93.3: 100%|██████████| 79/79 [00:01<00:00, 71.76it/s]\n"
     ]
    },
    {
     "name": "stdout",
     "output_type": "stream",
     "text": [
      "\n",
      "module_idx: 11, percent:0.7\n",
      "\n",
      " test_loss   correct     total       Acc\n"
     ]
    },
    {
     "name": "stderr",
     "output_type": "stream",
     "text": [
      "     0.293  9.33e+03     1e+04      93.3: 100%|██████████| 79/79 [00:01<00:00, 73.25it/s]"
     ]
    },
    {
     "name": "stdout",
     "output_type": "stream",
     "text": [
      "\n",
      "module_idx: 11, percent:0.75\n",
      "\n",
      " test_loss   correct     total       Acc\n"
     ]
    },
    {
     "name": "stderr",
     "output_type": "stream",
     "text": [
      "\n",
      "     0.293  9.33e+03     1e+04      93.3: 100%|██████████| 79/79 [00:01<00:00, 75.84it/s]"
     ]
    },
    {
     "name": "stdout",
     "output_type": "stream",
     "text": [
      "\n",
      "module_idx: 11, percent:0.8\n",
      "\n",
      " test_loss   correct     total       Acc\n"
     ]
    },
    {
     "name": "stderr",
     "output_type": "stream",
     "text": [
      "\n",
      "     0.293  9.33e+03     1e+04      93.3: 100%|██████████| 79/79 [00:01<00:00, 74.68it/s]"
     ]
    },
    {
     "name": "stdout",
     "output_type": "stream",
     "text": [
      "\n",
      "module_idx: 11, percent:0.85\n",
      "\n",
      " test_loss   correct     total       Acc\n"
     ]
    },
    {
     "name": "stderr",
     "output_type": "stream",
     "text": [
      "\n",
      "     0.293  9.33e+03     1e+04      93.3: 100%|██████████| 79/79 [00:01<00:00, 74.18it/s]"
     ]
    },
    {
     "name": "stdout",
     "output_type": "stream",
     "text": [
      "\n",
      "module_idx: 11, percent:0.9\n",
      "\n",
      " test_loss   correct     total       Acc\n"
     ]
    },
    {
     "name": "stderr",
     "output_type": "stream",
     "text": [
      "\n",
      "     0.293  9.33e+03     1e+04      93.3: 100%|██████████| 79/79 [00:01<00:00, 72.44it/s]"
     ]
    },
    {
     "name": "stdout",
     "output_type": "stream",
     "text": [
      "\n",
      "module_idx: 11, percent:0.95\n",
      "\n",
      " test_loss   correct     total       Acc\n"
     ]
    },
    {
     "name": "stderr",
     "output_type": "stream",
     "text": [
      "\n",
      "     0.271  9.34e+03     1e+04      93.4: 100%|██████████| 79/79 [00:01<00:00, 75.08it/s]"
     ]
    },
    {
     "name": "stdout",
     "output_type": "stream",
     "text": [
      "\n",
      "module_idx: 12, percent:0.05\n",
      "\n",
      " test_loss   correct     total       Acc\n"
     ]
    },
    {
     "name": "stderr",
     "output_type": "stream",
     "text": [
      "\n",
      "     0.293  9.33e+03     1e+04      93.3: 100%|██████████| 79/79 [00:01<00:00, 73.81it/s]\n"
     ]
    },
    {
     "name": "stdout",
     "output_type": "stream",
     "text": [
      "\n",
      "module_idx: 12, percent:0.1\n",
      "\n",
      " test_loss   correct     total       Acc\n"
     ]
    },
    {
     "name": "stderr",
     "output_type": "stream",
     "text": [
      "     0.293  9.34e+03     1e+04      93.3: 100%|██████████| 79/79 [00:01<00:00, 71.47it/s]\n"
     ]
    },
    {
     "name": "stdout",
     "output_type": "stream",
     "text": [
      "\n",
      "module_idx: 12, percent:0.15\n",
      "\n",
      " test_loss   correct     total       Acc\n"
     ]
    },
    {
     "name": "stderr",
     "output_type": "stream",
     "text": [
      "     0.293  9.34e+03     1e+04      93.3: 100%|██████████| 79/79 [00:01<00:00, 71.00it/s]"
     ]
    },
    {
     "name": "stdout",
     "output_type": "stream",
     "text": [
      "\n",
      "module_idx: 12, percent:0.2\n",
      "\n",
      " test_loss   correct     total       Acc\n"
     ]
    },
    {
     "name": "stderr",
     "output_type": "stream",
     "text": [
      "\n",
      "     0.293  9.34e+03     1e+04      93.3: 100%|██████████| 79/79 [00:01<00:00, 72.88it/s]"
     ]
    },
    {
     "name": "stdout",
     "output_type": "stream",
     "text": [
      "\n",
      "module_idx: 12, percent:0.25\n",
      "\n",
      " test_loss   correct     total       Acc\n"
     ]
    },
    {
     "name": "stderr",
     "output_type": "stream",
     "text": [
      "\n",
      "     0.293  9.33e+03     1e+04      93.3: 100%|██████████| 79/79 [00:01<00:00, 73.34it/s]"
     ]
    },
    {
     "name": "stdout",
     "output_type": "stream",
     "text": [
      "\n",
      "module_idx: 12, percent:0.3\n",
      "\n",
      " test_loss   correct     total       Acc\n"
     ]
    },
    {
     "name": "stderr",
     "output_type": "stream",
     "text": [
      "\n",
      "     0.293  9.33e+03     1e+04      93.3: 100%|██████████| 79/79 [00:01<00:00, 76.66it/s]"
     ]
    },
    {
     "name": "stdout",
     "output_type": "stream",
     "text": [
      "\n",
      "module_idx: 12, percent:0.35\n",
      "\n",
      " test_loss   correct     total       Acc\n"
     ]
    },
    {
     "name": "stderr",
     "output_type": "stream",
     "text": [
      "\n",
      "     0.293  9.33e+03     1e+04      93.3: 100%|██████████| 79/79 [00:01<00:00, 73.34it/s]"
     ]
    },
    {
     "name": "stdout",
     "output_type": "stream",
     "text": [
      "\n",
      "module_idx: 12, percent:0.4\n",
      "\n",
      " test_loss   correct     total       Acc\n"
     ]
    },
    {
     "name": "stderr",
     "output_type": "stream",
     "text": [
      "\n",
      "     0.293  9.33e+03     1e+04      93.3: 100%|██████████| 79/79 [00:01<00:00, 75.27it/s]"
     ]
    },
    {
     "name": "stdout",
     "output_type": "stream",
     "text": [
      "\n",
      "module_idx: 12, percent:0.45\n",
      "\n",
      " test_loss   correct     total       Acc\n"
     ]
    },
    {
     "name": "stderr",
     "output_type": "stream",
     "text": [
      "\n",
      "     0.293  9.33e+03     1e+04      93.3: 100%|██████████| 79/79 [00:01<00:00, 74.80it/s]"
     ]
    },
    {
     "name": "stdout",
     "output_type": "stream",
     "text": [
      "\n",
      "module_idx: 12, percent:0.5\n",
      "\n",
      " test_loss   correct     total       Acc\n"
     ]
    },
    {
     "name": "stderr",
     "output_type": "stream",
     "text": [
      "\n",
      "     0.293  9.33e+03     1e+04      93.3: 100%|██████████| 79/79 [00:01<00:00, 73.18it/s]"
     ]
    },
    {
     "name": "stdout",
     "output_type": "stream",
     "text": [
      "\n",
      "module_idx: 12, percent:0.55\n",
      "\n",
      " test_loss   correct     total       Acc\n"
     ]
    },
    {
     "name": "stderr",
     "output_type": "stream",
     "text": [
      "\n",
      "     0.293  9.33e+03     1e+04      93.3: 100%|██████████| 79/79 [00:01<00:00, 75.05it/s]"
     ]
    },
    {
     "name": "stdout",
     "output_type": "stream",
     "text": [
      "\n",
      "module_idx: 12, percent:0.6\n",
      "\n",
      " test_loss   correct     total       Acc\n"
     ]
    },
    {
     "name": "stderr",
     "output_type": "stream",
     "text": [
      "\n",
      "     0.293  9.33e+03     1e+04      93.3: 100%|██████████| 79/79 [00:01<00:00, 71.81it/s]"
     ]
    },
    {
     "name": "stdout",
     "output_type": "stream",
     "text": [
      "\n",
      "module_idx: 12, percent:0.65\n",
      "\n",
      " test_loss   correct     total       Acc\n"
     ]
    },
    {
     "name": "stderr",
     "output_type": "stream",
     "text": [
      "\n",
      "     0.293  9.33e+03     1e+04      93.3: 100%|██████████| 79/79 [00:01<00:00, 72.10it/s]\n"
     ]
    },
    {
     "name": "stdout",
     "output_type": "stream",
     "text": [
      "\n",
      "module_idx: 12, percent:0.7\n",
      "\n",
      " test_loss   correct     total       Acc\n"
     ]
    },
    {
     "name": "stderr",
     "output_type": "stream",
     "text": [
      "     0.293  9.33e+03     1e+04      93.3: 100%|██████████| 79/79 [00:01<00:00, 71.75it/s]"
     ]
    },
    {
     "name": "stdout",
     "output_type": "stream",
     "text": [
      "\n",
      "module_idx: 12, percent:0.75\n",
      "\n",
      " test_loss   correct     total       Acc\n"
     ]
    },
    {
     "name": "stderr",
     "output_type": "stream",
     "text": [
      "\n",
      "     0.293  9.33e+03     1e+04      93.3: 100%|██████████| 79/79 [00:01<00:00, 73.35it/s]"
     ]
    },
    {
     "name": "stdout",
     "output_type": "stream",
     "text": [
      "\n",
      "module_idx: 12, percent:0.8\n",
      "\n",
      " test_loss   correct     total       Acc\n"
     ]
    },
    {
     "name": "stderr",
     "output_type": "stream",
     "text": [
      "\n",
      "     0.293  9.33e+03     1e+04      93.3: 100%|██████████| 79/79 [00:01<00:00, 75.13it/s]"
     ]
    },
    {
     "name": "stdout",
     "output_type": "stream",
     "text": [
      "\n",
      "module_idx: 12, percent:0.85\n",
      "\n",
      " test_loss   correct     total       Acc\n"
     ]
    },
    {
     "name": "stderr",
     "output_type": "stream",
     "text": [
      "\n",
      "     0.293  9.33e+03     1e+04      93.3: 100%|██████████| 79/79 [00:01<00:00, 75.12it/s]\n"
     ]
    },
    {
     "name": "stdout",
     "output_type": "stream",
     "text": [
      "\n",
      "module_idx: 12, percent:0.9\n",
      "\n",
      " test_loss   correct     total       Acc\n"
     ]
    },
    {
     "name": "stderr",
     "output_type": "stream",
     "text": [
      "     0.293  9.33e+03     1e+04      93.3: 100%|██████████| 79/79 [00:01<00:00, 75.73it/s]"
     ]
    },
    {
     "name": "stdout",
     "output_type": "stream",
     "text": [
      "\n",
      "module_idx: 12, percent:0.95\n",
      "\n",
      " test_loss   correct     total       Acc\n"
     ]
    },
    {
     "name": "stderr",
     "output_type": "stream",
     "text": [
      "\n",
      "     0.291  9.33e+03     1e+04      93.3: 100%|██████████| 79/79 [00:01<00:00, 76.30it/s]\n"
     ]
    },
    {
     "name": "stdout",
     "output_type": "stream",
     "text": [
      "module_idx   percent      real       Acc      loss\n",
      "         0      0.05  0.046875     93.34    23.133\n",
      "         0       0.1   0.09375     93.34    23.133\n",
      "         0      0.15   0.14062     93.34    23.133\n",
      "         0       0.2    0.1875     93.34    23.133\n",
      "         0      0.25      0.25     93.34    23.133\n",
      "         0       0.3   0.29688     93.34    23.133\n",
      "         0      0.35   0.34375     93.34    23.133\n",
      "         0       0.4   0.39062     93.34    23.133\n",
      "         0      0.45    0.4375     93.34    23.133\n",
      "         0       0.5       0.5     93.34    23.133\n",
      "         0      0.55   0.54688     93.34    23.133\n",
      "         0       0.6   0.59375     93.34    23.133\n",
      "         0      0.65   0.64062     93.34    23.133\n",
      "         0       0.7    0.6875     93.28    23.169\n",
      "         0      0.75      0.75     93.05    24.583\n",
      "         0       0.8   0.79688     90.74    32.598\n",
      "         0      0.85   0.84375     87.99    44.423\n",
      "         0       0.9   0.89062      78.2    76.274\n",
      "         0      0.95    0.9375     35.21    303.03\n",
      "         1      0.05  0.046875     93.34    23.133\n",
      "         1       0.1   0.09375     93.17    23.529\n",
      "         1      0.15   0.14062      92.8    24.915\n",
      "         1       0.2    0.1875     92.62    25.575\n",
      "         1      0.25      0.25        92    27.104\n",
      "         1       0.3   0.29688     90.98    30.328\n",
      "         1      0.35   0.34375     85.99    48.995\n",
      "         1       0.4   0.39062     85.74    47.663\n",
      "         1      0.45    0.4375     80.31    65.802\n",
      "         1       0.5       0.5     64.36    121.57\n",
      "         1      0.55   0.54688      39.6    208.32\n",
      "         1       0.6   0.59375     23.81    297.69\n",
      "         1      0.65   0.64062     15.42    360.17\n",
      "         1       0.7    0.6875     14.68    374.81\n",
      "         1      0.75      0.75     12.89    389.35\n",
      "         1       0.8   0.79688     12.23    378.35\n",
      "         1      0.85   0.84375     12.21     364.8\n",
      "         1       0.9   0.89062     12.16    323.73\n",
      "         1      0.95    0.9375      12.6    284.78\n",
      "         2      0.05  0.046875     93.34    23.133\n",
      "         2       0.1   0.09375     93.34    23.133\n",
      "         2      0.15   0.14844     93.34    23.182\n",
      "         2       0.2   0.19531     93.13    24.042\n",
      "         2      0.25      0.25     92.78    24.951\n",
      "         2       0.3   0.29688     91.56    28.012\n",
      "         2      0.35   0.34375     90.87    30.699\n",
      "         2       0.4   0.39844     90.24    33.209\n",
      "         2      0.45   0.44531     88.34    40.721\n",
      "         2       0.5       0.5     84.78    53.611\n",
      "         2      0.55   0.54688     82.02    63.615\n",
      "         2       0.6   0.59375     76.09    85.864\n",
      "         2      0.65   0.64844     66.64    123.79\n",
      "         2       0.7   0.69531     56.91    157.57\n",
      "         2      0.75      0.75     40.66    232.78\n",
      "         2       0.8   0.79688     34.06    234.83\n",
      "         2      0.85   0.84375     22.04    245.49\n",
      "         2       0.9   0.89844     11.15       251\n",
      "         2      0.95   0.94531      8.43    254.09\n",
      "         3      0.05  0.046875     93.21    23.582\n",
      "         3       0.1   0.09375     92.37    26.176\n",
      "         3      0.15   0.14844     91.92    27.583\n",
      "         3       0.2   0.19531      91.7    27.927\n",
      "         3      0.25      0.25     89.82    33.877\n",
      "         3       0.3   0.29688     87.63     41.15\n",
      "         3      0.35   0.34375     83.84    55.543\n",
      "         3       0.4   0.39844     75.46    85.421\n",
      "         3      0.45   0.44531     69.75     108.9\n",
      "         3       0.5       0.5        63     137.5\n",
      "         3      0.55   0.54688     57.18    159.38\n",
      "         3       0.6   0.59375     50.99    178.44\n",
      "         3      0.65   0.64844     40.91     210.4\n",
      "         3       0.7   0.69531     33.28    219.84\n",
      "         3      0.75      0.75     17.26    311.48\n",
      "         3       0.8   0.79688     15.29    283.97\n",
      "         3      0.85   0.84375     12.42    278.35\n",
      "         3       0.9   0.89844     10.62    257.76\n",
      "         3      0.95   0.94531     10.08    255.02\n",
      "         4      0.05  0.046875     93.17    23.398\n",
      "         4       0.1  0.097656     93.01    24.313\n",
      "         4      0.15   0.14844     92.52    25.844\n",
      "         4       0.2   0.19922     91.85    27.991\n",
      "         4      0.25      0.25        91    30.672\n",
      "         4       0.3   0.29688     90.23     33.19\n",
      "         4      0.35   0.34766     88.25    40.232\n",
      "         4       0.4   0.39844     83.21    58.688\n",
      "         4      0.45   0.44922     81.38    61.843\n",
      "         4       0.5       0.5     79.93     67.35\n",
      "         4      0.55   0.54688      79.1    67.572\n",
      "         4       0.6   0.59766     75.36    78.018\n",
      "         4      0.65   0.64844     64.78    116.79\n",
      "         4       0.7   0.69922     60.93    124.51\n",
      "         4      0.75      0.75     55.71    142.98\n",
      "         4       0.8   0.79688     50.31    152.19\n",
      "         4      0.85   0.84766     35.55    202.99\n",
      "         4       0.9   0.89844     26.17    237.43\n",
      "         4      0.95   0.94922     17.69    264.14\n",
      "         5      0.05  0.046875     93.34    23.133\n",
      "         5       0.1  0.097656     93.34    23.133\n",
      "         5      0.15   0.14844     93.34    23.133\n",
      "         5       0.2   0.19922     93.35    23.149\n",
      "         5      0.25      0.25     93.14    23.713\n",
      "         5       0.3   0.29688     92.84    24.319\n",
      "         5      0.35   0.34766     92.24    26.582\n",
      "         5       0.4   0.39844     91.69     28.91\n",
      "         5      0.45   0.44922     90.55    32.269\n",
      "         5       0.5       0.5     89.33    35.809\n",
      "         5      0.55   0.54688     87.34    41.367\n",
      "         5       0.6   0.59766     86.86    41.747\n",
      "         5      0.65   0.64844     85.04    47.347\n",
      "         5       0.7   0.69922     83.93    48.294\n",
      "         5      0.75      0.75     76.31    71.403\n",
      "         5       0.8   0.79688     66.72    99.535\n",
      "         5      0.85   0.84766     52.16     146.5\n",
      "         5       0.9   0.89844     36.98    205.86\n",
      "         5      0.95   0.94922     27.09    245.75\n",
      "         6      0.05  0.046875     93.34    23.133\n",
      "         6       0.1  0.097656     93.34    23.133\n",
      "         6      0.15   0.14844     93.34    23.133\n",
      "         6       0.2   0.19922     93.34    23.133\n",
      "         6      0.25      0.25     93.34    23.133\n",
      "         6       0.3   0.29688     93.34    23.133\n",
      "         6      0.35   0.34766     93.34    23.133\n",
      "         6       0.4   0.39844     93.34    23.133\n",
      "         6      0.45   0.44922     93.34    23.133\n",
      "         6       0.5       0.5     93.25    23.294\n",
      "         6      0.55   0.54688     92.96    23.727\n",
      "         6       0.6   0.59766     92.33    23.361\n",
      "         6      0.65   0.64844     91.73    24.782\n",
      "         6       0.7   0.69922     90.53    27.268\n",
      "         6      0.75      0.75     87.58    33.557\n",
      "         6       0.8   0.79688     84.49    40.788\n",
      "         6      0.85   0.84766     82.36    45.191\n",
      "         6       0.9   0.89844      61.5    95.152\n",
      "         6      0.95   0.94922     46.86    127.08\n",
      "         7      0.05  0.048828     93.34    23.133\n",
      "         7       0.1  0.099609     93.34    23.133\n",
      "         7      0.15   0.14844     93.34    23.133\n",
      "         7       0.2   0.19922     93.34    23.133\n",
      "         7      0.25      0.25     93.34    23.133\n",
      "         7       0.3   0.29883     93.34    23.133\n",
      "         7      0.35   0.34961     93.34    23.133\n",
      "         7       0.4   0.39844     93.34    23.133\n",
      "         7      0.45   0.44922     93.34    23.133\n",
      "         7       0.5       0.5     93.34    23.133\n",
      "         7      0.55   0.54883     93.34    23.133\n",
      "         7       0.6   0.59961     93.34    23.133\n",
      "         7      0.65   0.64844     93.34    23.133\n",
      "         7       0.7   0.69922     93.34    23.133\n",
      "         7      0.75      0.75     93.34    23.133\n",
      "         7       0.8   0.79883     93.34    23.133\n",
      "         7      0.85   0.84961     93.23    23.045\n",
      "         7       0.9   0.89844     92.72    25.249\n",
      "         7      0.95   0.94922     84.48     45.89\n",
      "         8      0.05  0.048828     93.34    23.133\n",
      "         8       0.1  0.099609     93.34    23.133\n",
      "         8      0.15   0.14844     93.34    23.133\n",
      "         8       0.2   0.19922     93.34    23.133\n",
      "         8      0.25      0.25     93.34    23.133\n",
      "         8       0.3   0.29883     93.34    23.133\n",
      "         8      0.35   0.34961     93.34    23.133\n",
      "         8       0.4   0.39844     93.34    23.133\n",
      "         8      0.45   0.44922     93.34    23.133\n",
      "         8       0.5       0.5     93.34    23.133\n",
      "         8      0.55   0.54883     93.34    23.133\n",
      "         8       0.6   0.59961     93.34    23.133\n",
      "         8      0.65   0.64844     93.34    23.133\n",
      "         8       0.7   0.69922     93.34    23.133\n",
      "         8      0.75      0.75     93.34    23.133\n",
      "         8       0.8   0.79883     93.34    23.133\n",
      "         8      0.85   0.84961     93.34    23.133\n",
      "         8       0.9   0.89844     93.34    23.133\n",
      "         8      0.95   0.94922     92.93    22.967\n",
      "         9      0.05  0.048828     93.34    23.133\n",
      "         9       0.1  0.099609     93.34    23.133\n",
      "         9      0.15   0.14844     93.34    23.133\n",
      "         9       0.2   0.19922     93.34    23.133\n",
      "         9      0.25      0.25     93.34    23.133\n",
      "         9       0.3   0.29883     93.34    23.133\n",
      "         9      0.35   0.34961     93.34    23.133\n",
      "         9       0.4   0.39844     93.34    23.133\n",
      "         9      0.45   0.44922     93.34    23.133\n",
      "         9       0.5       0.5     93.34    23.133\n",
      "         9      0.55   0.54883     93.34    23.133\n",
      "         9       0.6   0.59961     93.34    23.133\n",
      "         9      0.65   0.64844     93.34    23.133\n",
      "         9       0.7   0.69922     93.34    23.133\n",
      "         9      0.75      0.75     93.34    23.133\n",
      "         9       0.8   0.79883     93.34    23.133\n",
      "         9      0.85   0.84961     93.34    23.133\n",
      "         9       0.9   0.89844     93.34    23.133\n",
      "         9      0.95   0.94922     92.94    25.569\n",
      "        10      0.05  0.048828     93.34    23.133\n",
      "        10       0.1  0.099609     93.34    23.133\n",
      "        10      0.15   0.14844     93.34    23.133\n",
      "        10       0.2   0.19922     93.34    23.133\n",
      "        10      0.25      0.25     93.34    23.133\n",
      "        10       0.3   0.29883     93.34    23.133\n",
      "        10      0.35   0.34961     93.34    23.133\n",
      "        10       0.4   0.39844     93.34    23.133\n",
      "        10      0.45   0.44922     93.34    23.133\n",
      "        10       0.5       0.5     93.34    23.133\n",
      "        10      0.55   0.54883     93.34    23.133\n",
      "        10       0.6   0.59961     93.34    23.133\n",
      "        10      0.65   0.64844     93.34    23.133\n",
      "        10       0.7   0.69922     93.34    23.133\n",
      "        10      0.75      0.75     93.34    23.133\n",
      "        10       0.8   0.79883     93.34    23.131\n",
      "        10      0.85   0.84961     93.34    23.131\n",
      "        10       0.9   0.89844     93.34    23.131\n",
      "        10      0.95   0.94922     92.99    24.151\n",
      "        11      0.05  0.048828     93.34    23.133\n",
      "        11       0.1  0.099609     93.34    23.133\n",
      "        11      0.15   0.14844     93.34    23.133\n",
      "        11       0.2   0.19922     93.34    23.133\n",
      "        11      0.25      0.25     93.34    23.133\n",
      "        11       0.3   0.29883     93.34    23.133\n",
      "        11      0.35   0.34961     93.34    23.133\n",
      "        11       0.4   0.39844     93.34    23.133\n",
      "        11      0.45   0.44922     93.34    23.133\n",
      "        11       0.5       0.5     93.34    23.133\n",
      "        11      0.55   0.54883     93.34    23.133\n",
      "        11       0.6   0.59961     93.34    23.133\n",
      "        11      0.65   0.64844     93.34    23.133\n",
      "        11       0.7   0.69922     93.34    23.133\n",
      "        11      0.75      0.75     93.34    23.133\n",
      "        11       0.8   0.79883     93.34    23.133\n",
      "        11      0.85   0.84961     93.34    23.131\n",
      "        11       0.9   0.89844     93.34    23.131\n",
      "        11      0.95   0.94922     93.38    21.444\n",
      "        12      0.05  0.048828     93.34    23.133\n",
      "        12       0.1  0.099609     93.35    23.136\n",
      "        12      0.15   0.14844     93.35    23.138\n",
      "        12       0.2   0.19922     93.35    23.134\n",
      "        12      0.25      0.25     93.33    23.134\n",
      "        12       0.3   0.29883     93.34    23.134\n",
      "        12      0.35   0.34961     93.33    23.135\n",
      "        12       0.4   0.39844     93.33    23.137\n",
      "        12      0.45   0.44922     93.32    23.137\n",
      "        12       0.5       0.5     93.32    23.138\n",
      "        12      0.55   0.54883     93.32    23.138\n",
      "        12       0.6   0.59961     93.32    23.138\n",
      "        12      0.65   0.64844     93.32    23.139\n",
      "        12       0.7   0.69922     93.33    23.139\n",
      "        12      0.75      0.75     93.33    23.139\n",
      "        12       0.8   0.79883     93.32    23.138\n",
      "        12      0.85   0.84961     93.32    23.138\n",
      "        12       0.9   0.89844     93.32    23.138\n",
      "        12      0.95   0.94922      93.3    22.999\n"
     ]
    }
   ],
   "source": [
    "    # sensitivity ['module_idx', 'percent', 'real_percent', 'Acc', 'loss', 'mask']\n",
    "    sen = []\n",
    "    \n",
    "    percent_list = [0.05, 0.10, 0.15, 0.20, 0.25, 0.30, 0.35, 0.40, 0.45, 0.50, \\\n",
    "                    0.55, 0.60, 0.65, 0.70, 0.75, 0.80, 0.85, 0.90, 0.95]\n",
    "    \n",
    "    masked_model = deepcopy(model)\n",
    "    \n",
    "    origin_module_list = model.get_module_list()\n",
    "    masked_module_list = masked_model.get_module_list()\n",
    "\n",
    "    for m_idx,(m,origin_m) in enumerate(zip(masked_module_list,origin_module_list)):\n",
    "        for percent in percent_list:\n",
    "            num_filter = m['bn'].weight.data.shape[0]\n",
    "            bn = m['bn'].weight.data.abs().clone()\n",
    "            \n",
    "            y,i = torch.sort(bn)\n",
    "            thre_index = int(num_filter * percent)\n",
    "            thre = y[thre_index]\n",
    "            \n",
    "            # 当前卷积模块最少要保留的输出通道数目\n",
    "            min_channel_num = int(num_filter * opt.layer_keep) if int(num_filter * opt.layer_keep) > 0 else 1\n",
    "            \n",
    "            mask = m['bn'].weight.data.abs().ge(thre)\n",
    "            \n",
    "            if int(torch.sum(mask)) < min_channel_num: # 当剪枝后输出通道数目小于当前卷积模块最少要保留的输出通道数目\n",
    "                _, sorted_index_weights = torch.sort(weight_copy,descending=True)\n",
    "                mask[sorted_index_weights[:min_channel_num]]=1. \n",
    "            \n",
    "            m['bn'].weight.data.mul_(mask)\n",
    "            m['bn'].bias.data.mul_(mask)\n",
    "            \n",
    "            remain = int(torch.sum(mask))\n",
    "            pruned = num_filter - remain\n",
    "            real_percent = pruned/num_filter\n",
    "            \n",
    "            print('\\nmodule_idx:%3g, percent:%3g'%(m_idx, percent))\n",
    "            metric = eval_model(masked_model)\n",
    "            Acc = 100.*metric[1]/metric[2]\n",
    "            loss = metric[0]\n",
    "            \n",
    "            sen.append([m_idx, percent, real_percent, Acc, loss, mask])\n",
    "            \n",
    "        m['bn'].weight.data.copy_(origin_m['bn'].weight.data)\n",
    "        m['bn'].bias.data.copy_(origin_m['bn'].bias.data)\n",
    "    \n",
    "    log = ('%10s'*5)%('module_idx', 'percent', 'real', 'Acc', 'loss')\n",
    "    print(log)\n",
    "    \n",
    "    for s in sen:\n",
    "        m_idx = s[0]\n",
    "        percent = s[1]\n",
    "        real = s[2]\n",
    "        Acc = s[3]\n",
    "        loss = s[4]\n",
    "        \n",
    "        log = ('%10.5g'*5)%(m_idx, percent, real, Acc, loss)\n",
    "        \n",
    "        print(log)\n",
    "        \n"
   ]
  },
  {
   "cell_type": "code",
   "execution_count": 16,
   "metadata": {},
   "outputs": [
    {
     "name": "stdout",
     "output_type": "stream",
     "text": [
      "sensitivity has been saved: exp_VGG16/sensitivity/VGG16.sensitivity\n"
     ]
    }
   ],
   "source": [
    "    if not os.path.isdir(opt.saved_dir):\n",
    "        os.mkdir(opt.saved_dir)\n",
    "    sen_saved_path = '%s.sensitivity'%(opt.model_name)\n",
    "    sen_saved_path = os.path.join(opt.saved_dir, sen_saved_path)\n",
    "    \n",
    "    sen_state = {\n",
    "        'model_name':opt.model_name,\n",
    "        'sensitivity':sen\n",
    "    }\n",
    "    \n",
    "    torch.save(sen_state, sen_saved_path)\n",
    "    \n",
    "    print(f\"sensitivity has been saved: {sen_saved_path}\")"
   ]
  },
  {
   "cell_type": "code",
   "execution_count": 74,
   "metadata": {},
   "outputs": [
    {
     "data": {
      "image/png": "[encoded data removed]",
      "text/plain": [
       "<Figure size 1080x720 with 1 Axes>"
      ]
     },
     "metadata": {},
     "output_type": "display_data"
    }
   ],
   "source": [
    "    import matplotlib.pyplot as plt\n",
    "    from copy import deepcopy\n",
    "    \n",
    "    marker_list = [ 'o',       # circle marker  \n",
    "                    'v',       # triangle_down marker  \n",
    "                    '^',       # triangle_up marker  \n",
    "                    '<',       # triangle_left marker  \n",
    "                    '>',       # triangle_right marker  \n",
    "                    '1',       # tri_down marker  \n",
    "                    '2',       # tri_up marker  \n",
    "                    '3',       # tri_left marker  \n",
    "                    '4',       # tri_right marker  \n",
    "                    's',       # square marker  \n",
    "                    'p',       # pentagon marker  \n",
    "                    '*',       # star marker  \n",
    "                    'h',       # hexagon1 marker  \n",
    "                    'H',       # hexagon2 marker  \n",
    "                    '+',       # plus marker  \n",
    "                    'x',       # x marker  \n",
    "                    'D',       # diamond marker  \n",
    "                    'd',       # thin_diamond marker  \n",
    "                    '|',       # vline marker  \n",
    "                    '_',        # hline marker \n",
    "                    '.',       # point marker\n",
    "                    ','       # pixel marker\n",
    "                  ]\n",
    "    \n",
    "    x = percent_list\n",
    "    \n",
    "    figure, ax = plt.subplots(figsize=(15,10))\n",
    "\n",
    "    plt.xlim(0.,1.) # 设置x轴的刻度\n",
    "    plt.ylim(0.,100.) # 设置y轴的刻度\n",
    "    plt.xticks(x) # x轴上显示哪些文字\n",
    "    plt.yticks([x for x in range(0,100,10)]) # y轴上显示哪些文字\n",
    "    \n",
    "    y_list = []\n",
    "    y = []\n",
    "    for i,s in enumerate(sen):\n",
    "        y.append(s[3])\n",
    "        \n",
    "        if i%(len(x)) == (len(x)-1):\n",
    "            y_list.append(deepcopy(y))\n",
    "            y.clear()\n",
    "    \n",
    "    for i,y in enumerate(y_list):\n",
    "        label = \"module_idx-\" + str(i)\n",
    "        marker = marker_list[i%len(y_list)]\n",
    "        \n",
    "        # label表示将要显示在图例中的文字\n",
    "        # marker表示折现上每个点的图形形状\n",
    "        # ms表示每个点的大小\n",
    "        plt.plot(x,y,label=label,marker=marker,ms=10) \n",
    "\n",
    "    plt.tick_params(labelsize=10) # 坐标轴的字体大小\n",
    "    \n",
    "    font1 = { 'family' : 'Times New Roman',\n",
    "            'weight' : 'normal',\n",
    "            'size'   : 16,\n",
    "        }\n",
    "    plt.legend(prop=font1) # 设置图例\n",
    "    \n",
    "    plt.xlabel('percent', font1) # X轴标题\n",
    "    plt.ylabel('Acc', font1) # Y轴标题\n",
    "    plt.title('Prune Sensitivity', font1) # 图标题\n",
    "    \n",
    "    plt.grid() # 图中显示表格\n",
    "        \n",
    "#     img_file=os.path.join(opt.saved_dir, \"%s_sensitivity.svg\"%opt.model_name)\n",
    "#     plt.savefig(fname=img_file,format=\"svg\")\n",
    "    plt.show()"
   ]
  }
 ],
 "metadata": {
  "kernelspec": {
   "display_name": "Python 3",
   "language": "python",
   "name": "python3"
  },
  "language_info": {
   "codemirror_mode": {
    "name": "ipython",
    "version": 3
   },
   "file_extension": ".py",
   "mimetype": "text/x-python",
   "name": "python",
   "nbconvert_exporter": "python",
   "pygments_lexer": "ipython3",
   "version": "3.6.10"
  }
 },
 "nbformat": 4,
 "nbformat_minor": 2
}
